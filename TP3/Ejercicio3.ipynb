{
  "nbformat": 4,
  "nbformat_minor": 0,
  "metadata": {
    "colab": {
      "provenance": []
    },
    "kernelspec": {
      "name": "python3",
      "display_name": "Python 3"
    },
    "language_info": {
      "name": "python"
    }
  },
  "cells": [
    {
      "cell_type": "markdown",
      "source": [
        "\n",
        "\n",
        "*   Crear sus propios vectores con Gensim basado en lo visto en clase con otro dataset.\n",
        "*   Probar términos de interés y explicar similitudes en el espacio de embeddings (sacar conclusiones entre palabras similitudes y diferencias).\n",
        "*   Graficarlos.\n",
        "*   Obtener conclusiones."
      ],
      "metadata": {
        "id": "mDZzx6NfjoTP"
      }
    },
    {
      "cell_type": "code",
      "execution_count": 31,
      "metadata": {
        "id": "WuWUhQYbjNYE"
      },
      "outputs": [],
      "source": [
        "# Imports\n",
        "import pandas as pd\n",
        "import matplotlib.pyplot as plt\n",
        "import seaborn as sns\n",
        "from io import StringIO\n",
        "\n",
        "import multiprocessing\n",
        "from gensim.models import Word2Vec\n",
        "from keras.preprocessing.text import text_to_word_sequence\n",
        "from gensim.models.callbacks import CallbackAny2Vec\n",
        "\n",
        "from sklearn.decomposition import IncrementalPCA\n",
        "from sklearn.manifold import TSNE\n",
        "import numpy as np\n",
        "\n",
        "import plotly.graph_objects as go\n",
        "import plotly.express as px\n",
        "\n",
        "from urllib import request"
      ]
    },
    {
      "cell_type": "code",
      "source": [
        "# URL The Project Gutenberg eBook of The Time Machine, by H. G. Wells\n",
        "url = \"https://www.gutenberg.org/files/35/35-0.txt\"\n",
        "\n",
        "# Variable para almacenar el libro\n",
        "texts = []\n",
        "\n",
        "# Comienzo y final del libro (puedes ajustar estos valores según el formato del libro en el enlace)\n",
        "start = \"*** START OF THIS PROJECT GUTENBERG EBOOK COSMOS ***\"\n",
        "end = \"*** END OF THIS PROJECT GUTENBERG EBOOK COSMOS ***\"\n",
        "\n",
        "# Recuperar el contenido del libro\n",
        "response = request.urlopen(url)\n",
        "raw = response.read()\n",
        "text = raw.decode(\"utf-8-sig\")\n",
        "\n",
        "# Extraer el contenido entre las secciones de inicio y final\n",
        "text = text[text.find(start) + len(start):text.find(end)]\n",
        "\n",
        "# Agregar el contenido del libro a la lista de textos\n",
        "texts.append(text)"
      ],
      "metadata": {
        "id": "gmp3aaoKmDo2"
      },
      "execution_count": 32,
      "outputs": []
    },
    {
      "cell_type": "code",
      "source": [
        "#Convierto la variable string en un dataframe\n",
        "df = pd.read_csv(StringIO(text), sep='/n', header=None)\n",
        "df.head()"
      ],
      "metadata": {
        "colab": {
          "base_uri": "https://localhost:8080/",
          "height": 300
        },
        "id": "jagjd0fIoWLA",
        "outputId": "483342d8-7c01-4012-ce74-c25e059c8a41"
      },
      "execution_count": 33,
      "outputs": [
        {
          "output_type": "stream",
          "name": "stderr",
          "text": [
            "<ipython-input-33-381d4eb0c6d3>:2: ParserWarning:\n",
            "\n",
            "Falling back to the 'python' engine because the 'c' engine does not support regex separators (separators > 1 char and different from '\\s+' are interpreted as regex); you can avoid this warning by specifying engine='python'.\n",
            "\n"
          ]
        },
        {
          "output_type": "execute_result",
          "data": {
            "text/plain": [
              "                                                   0\n",
              "0                                        H. G. Wells\n",
              "1  This eBook is for the use of anyone anywhere i...\n",
              "2  most other parts of the world at no cost and w...\n",
              "3  whatsoever. You may copy it, give it away or r...\n",
              "4  of the Project Gutenberg License included with..."
            ],
            "text/html": [
              "\n",
              "\n",
              "  <div id=\"df-0d9f43ce-c843-42a8-9a02-465164b146b5\">\n",
              "    <div class=\"colab-df-container\">\n",
              "      <div>\n",
              "<style scoped>\n",
              "    .dataframe tbody tr th:only-of-type {\n",
              "        vertical-align: middle;\n",
              "    }\n",
              "\n",
              "    .dataframe tbody tr th {\n",
              "        vertical-align: top;\n",
              "    }\n",
              "\n",
              "    .dataframe thead th {\n",
              "        text-align: right;\n",
              "    }\n",
              "</style>\n",
              "<table border=\"1\" class=\"dataframe\">\n",
              "  <thead>\n",
              "    <tr style=\"text-align: right;\">\n",
              "      <th></th>\n",
              "      <th>0</th>\n",
              "    </tr>\n",
              "  </thead>\n",
              "  <tbody>\n",
              "    <tr>\n",
              "      <th>0</th>\n",
              "      <td>H. G. Wells</td>\n",
              "    </tr>\n",
              "    <tr>\n",
              "      <th>1</th>\n",
              "      <td>This eBook is for the use of anyone anywhere i...</td>\n",
              "    </tr>\n",
              "    <tr>\n",
              "      <th>2</th>\n",
              "      <td>most other parts of the world at no cost and w...</td>\n",
              "    </tr>\n",
              "    <tr>\n",
              "      <th>3</th>\n",
              "      <td>whatsoever. You may copy it, give it away or r...</td>\n",
              "    </tr>\n",
              "    <tr>\n",
              "      <th>4</th>\n",
              "      <td>of the Project Gutenberg License included with...</td>\n",
              "    </tr>\n",
              "  </tbody>\n",
              "</table>\n",
              "</div>\n",
              "      <button class=\"colab-df-convert\" onclick=\"convertToInteractive('df-0d9f43ce-c843-42a8-9a02-465164b146b5')\"\n",
              "              title=\"Convert this dataframe to an interactive table.\"\n",
              "              style=\"display:none;\">\n",
              "\n",
              "  <svg xmlns=\"http://www.w3.org/2000/svg\" height=\"24px\"viewBox=\"0 0 24 24\"\n",
              "       width=\"24px\">\n",
              "    <path d=\"M0 0h24v24H0V0z\" fill=\"none\"/>\n",
              "    <path d=\"M18.56 5.44l.94 2.06.94-2.06 2.06-.94-2.06-.94-.94-2.06-.94 2.06-2.06.94zm-11 1L8.5 8.5l.94-2.06 2.06-.94-2.06-.94L8.5 2.5l-.94 2.06-2.06.94zm10 10l.94 2.06.94-2.06 2.06-.94-2.06-.94-.94-2.06-.94 2.06-2.06.94z\"/><path d=\"M17.41 7.96l-1.37-1.37c-.4-.4-.92-.59-1.43-.59-.52 0-1.04.2-1.43.59L10.3 9.45l-7.72 7.72c-.78.78-.78 2.05 0 2.83L4 21.41c.39.39.9.59 1.41.59.51 0 1.02-.2 1.41-.59l7.78-7.78 2.81-2.81c.8-.78.8-2.07 0-2.86zM5.41 20L4 18.59l7.72-7.72 1.47 1.35L5.41 20z\"/>\n",
              "  </svg>\n",
              "      </button>\n",
              "\n",
              "\n",
              "\n",
              "    <div id=\"df-e7567f58-491c-44b1-993c-43ec010d07f6\">\n",
              "      <button class=\"colab-df-quickchart\" onclick=\"quickchart('df-e7567f58-491c-44b1-993c-43ec010d07f6')\"\n",
              "              title=\"Suggest charts.\"\n",
              "              style=\"display:none;\">\n",
              "\n",
              "<svg xmlns=\"http://www.w3.org/2000/svg\" height=\"24px\"viewBox=\"0 0 24 24\"\n",
              "     width=\"24px\">\n",
              "    <g>\n",
              "        <path d=\"M19 3H5c-1.1 0-2 .9-2 2v14c0 1.1.9 2 2 2h14c1.1 0 2-.9 2-2V5c0-1.1-.9-2-2-2zM9 17H7v-7h2v7zm4 0h-2V7h2v10zm4 0h-2v-4h2v4z\"/>\n",
              "    </g>\n",
              "</svg>\n",
              "      </button>\n",
              "    </div>\n",
              "\n",
              "<style>\n",
              "  .colab-df-quickchart {\n",
              "    background-color: #E8F0FE;\n",
              "    border: none;\n",
              "    border-radius: 50%;\n",
              "    cursor: pointer;\n",
              "    display: none;\n",
              "    fill: #1967D2;\n",
              "    height: 32px;\n",
              "    padding: 0 0 0 0;\n",
              "    width: 32px;\n",
              "  }\n",
              "\n",
              "  .colab-df-quickchart:hover {\n",
              "    background-color: #E2EBFA;\n",
              "    box-shadow: 0px 1px 2px rgba(60, 64, 67, 0.3), 0px 1px 3px 1px rgba(60, 64, 67, 0.15);\n",
              "    fill: #174EA6;\n",
              "  }\n",
              "\n",
              "  [theme=dark] .colab-df-quickchart {\n",
              "    background-color: #3B4455;\n",
              "    fill: #D2E3FC;\n",
              "  }\n",
              "\n",
              "  [theme=dark] .colab-df-quickchart:hover {\n",
              "    background-color: #434B5C;\n",
              "    box-shadow: 0px 1px 3px 1px rgba(0, 0, 0, 0.15);\n",
              "    filter: drop-shadow(0px 1px 2px rgba(0, 0, 0, 0.3));\n",
              "    fill: #FFFFFF;\n",
              "  }\n",
              "</style>\n",
              "\n",
              "    <script>\n",
              "      async function quickchart(key) {\n",
              "        const containerElement = document.querySelector('#' + key);\n",
              "        const charts = await google.colab.kernel.invokeFunction(\n",
              "            'suggestCharts', [key], {});\n",
              "      }\n",
              "    </script>\n",
              "\n",
              "      <script>\n",
              "\n",
              "function displayQuickchartButton(domScope) {\n",
              "  let quickchartButtonEl =\n",
              "    domScope.querySelector('#df-e7567f58-491c-44b1-993c-43ec010d07f6 button.colab-df-quickchart');\n",
              "  quickchartButtonEl.style.display =\n",
              "    google.colab.kernel.accessAllowed ? 'block' : 'none';\n",
              "}\n",
              "\n",
              "        displayQuickchartButton(document);\n",
              "      </script>\n",
              "      <style>\n",
              "    .colab-df-container {\n",
              "      display:flex;\n",
              "      flex-wrap:wrap;\n",
              "      gap: 12px;\n",
              "    }\n",
              "\n",
              "    .colab-df-convert {\n",
              "      background-color: #E8F0FE;\n",
              "      border: none;\n",
              "      border-radius: 50%;\n",
              "      cursor: pointer;\n",
              "      display: none;\n",
              "      fill: #1967D2;\n",
              "      height: 32px;\n",
              "      padding: 0 0 0 0;\n",
              "      width: 32px;\n",
              "    }\n",
              "\n",
              "    .colab-df-convert:hover {\n",
              "      background-color: #E2EBFA;\n",
              "      box-shadow: 0px 1px 2px rgba(60, 64, 67, 0.3), 0px 1px 3px 1px rgba(60, 64, 67, 0.15);\n",
              "      fill: #174EA6;\n",
              "    }\n",
              "\n",
              "    [theme=dark] .colab-df-convert {\n",
              "      background-color: #3B4455;\n",
              "      fill: #D2E3FC;\n",
              "    }\n",
              "\n",
              "    [theme=dark] .colab-df-convert:hover {\n",
              "      background-color: #434B5C;\n",
              "      box-shadow: 0px 1px 3px 1px rgba(0, 0, 0, 0.15);\n",
              "      filter: drop-shadow(0px 1px 2px rgba(0, 0, 0, 0.3));\n",
              "      fill: #FFFFFF;\n",
              "    }\n",
              "  </style>\n",
              "\n",
              "      <script>\n",
              "        const buttonEl =\n",
              "          document.querySelector('#df-0d9f43ce-c843-42a8-9a02-465164b146b5 button.colab-df-convert');\n",
              "        buttonEl.style.display =\n",
              "          google.colab.kernel.accessAllowed ? 'block' : 'none';\n",
              "\n",
              "        async function convertToInteractive(key) {\n",
              "          const element = document.querySelector('#df-0d9f43ce-c843-42a8-9a02-465164b146b5');\n",
              "          const dataTable =\n",
              "            await google.colab.kernel.invokeFunction('convertToInteractive',\n",
              "                                                     [key], {});\n",
              "          if (!dataTable) return;\n",
              "\n",
              "          const docLinkHtml = 'Like what you see? Visit the ' +\n",
              "            '<a target=\"_blank\" href=https://colab.research.google.com/notebooks/data_table.ipynb>data table notebook</a>'\n",
              "            + ' to learn more about interactive tables.';\n",
              "          element.innerHTML = '';\n",
              "          dataTable['output_type'] = 'display_data';\n",
              "          await google.colab.output.renderOutput(dataTable, element);\n",
              "          const docLink = document.createElement('div');\n",
              "          docLink.innerHTML = docLinkHtml;\n",
              "          element.appendChild(docLink);\n",
              "        }\n",
              "      </script>\n",
              "    </div>\n",
              "  </div>\n"
            ]
          },
          "metadata": {},
          "execution_count": 33
        }
      ]
    },
    {
      "cell_type": "markdown",
      "source": [
        "1. Preprocesamiento"
      ],
      "metadata": {
        "id": "uwEdVyXQone3"
      }
    },
    {
      "cell_type": "code",
      "source": [
        "sentence_tokens = []\n",
        "# Recorrer todas las filas y transformar las oraciones\n",
        "# en una secuencia de palabras (esto podría realizarse con NLTK o spaCy también)\n",
        "for _, row in df[:None].iterrows():\n",
        "    sentence_tokens.append(text_to_word_sequence(row[0]))\n",
        "\n",
        "# Demos un vistazo\n",
        "sentence_tokens[:10]"
      ],
      "metadata": {
        "colab": {
          "base_uri": "https://localhost:8080/"
        },
        "id": "m73eypuxoih3",
        "outputId": "ae6b00c0-f9a2-49ac-ebe5-8a1bb1c9d3f0"
      },
      "execution_count": 34,
      "outputs": [
        {
          "output_type": "execute_result",
          "data": {
            "text/plain": [
              "[['h', 'g', 'wells'],\n",
              " ['this',\n",
              "  'ebook',\n",
              "  'is',\n",
              "  'for',\n",
              "  'the',\n",
              "  'use',\n",
              "  'of',\n",
              "  'anyone',\n",
              "  'anywhere',\n",
              "  'in',\n",
              "  'the',\n",
              "  'united',\n",
              "  'states',\n",
              "  'and'],\n",
              " ['most',\n",
              "  'other',\n",
              "  'parts',\n",
              "  'of',\n",
              "  'the',\n",
              "  'world',\n",
              "  'at',\n",
              "  'no',\n",
              "  'cost',\n",
              "  'and',\n",
              "  'with',\n",
              "  'almost',\n",
              "  'no',\n",
              "  'restrictions'],\n",
              " ['whatsoever',\n",
              "  'you',\n",
              "  'may',\n",
              "  'copy',\n",
              "  'it',\n",
              "  'give',\n",
              "  'it',\n",
              "  'away',\n",
              "  'or',\n",
              "  're',\n",
              "  'use',\n",
              "  'it',\n",
              "  'under',\n",
              "  'the',\n",
              "  'terms'],\n",
              " ['of',\n",
              "  'the',\n",
              "  'project',\n",
              "  'gutenberg',\n",
              "  'license',\n",
              "  'included',\n",
              "  'with',\n",
              "  'this',\n",
              "  'ebook',\n",
              "  'or',\n",
              "  'online',\n",
              "  'at'],\n",
              " ['www',\n",
              "  'gutenberg',\n",
              "  'org',\n",
              "  'if',\n",
              "  'you',\n",
              "  'are',\n",
              "  'not',\n",
              "  'located',\n",
              "  'in',\n",
              "  'the',\n",
              "  'united',\n",
              "  'states',\n",
              "  'you'],\n",
              " ['will',\n",
              "  'have',\n",
              "  'to',\n",
              "  'check',\n",
              "  'the',\n",
              "  'laws',\n",
              "  'of',\n",
              "  'the',\n",
              "  'country',\n",
              "  'where',\n",
              "  'you',\n",
              "  'are',\n",
              "  'located',\n",
              "  'before'],\n",
              " ['using', 'this', 'ebook'],\n",
              " ['title', 'the', 'time', 'machine'],\n",
              " ['author', 'h', 'g', 'wells']]"
            ]
          },
          "metadata": {},
          "execution_count": 34
        }
      ]
    },
    {
      "cell_type": "markdown",
      "source": [
        "2 - Crear los vectores (word2vec)"
      ],
      "metadata": {
        "id": "g4eUUgXSqUMh"
      }
    },
    {
      "cell_type": "code",
      "source": [
        "# Durante el entrenamiento gensim por defecto no informa el \"loss\" en cada época\n",
        "# Sobrecargamos el callback para poder tener esta información\n",
        "class callback(CallbackAny2Vec):\n",
        "    \"\"\"\n",
        "    Callback to print loss after each epoch\n",
        "    \"\"\"\n",
        "    def __init__(self):\n",
        "        self.epoch = 0\n",
        "\n",
        "    def on_epoch_end(self, model):\n",
        "        loss = model.get_latest_training_loss()\n",
        "        if self.epoch == 0:\n",
        "            print('Loss after epoch {}: {}'.format(self.epoch, loss))\n",
        "        else:\n",
        "            print('Loss after epoch {}: {}'.format(self.epoch, loss- self.loss_previous_step))\n",
        "        self.epoch += 1\n",
        "        self.loss_previous_step = loss"
      ],
      "metadata": {
        "id": "JSrQsRRxqNF6"
      },
      "execution_count": 35,
      "outputs": []
    },
    {
      "cell_type": "code",
      "source": [
        "# Crearmos el modelo generador de vectores\n",
        "# En este caso utilizaremos la estructura modelo Skipgram\n",
        "w2v_model = Word2Vec(min_count=5,    # frecuencia mínima de palabra para incluirla en el vocabulario\n",
        "                     window=2,       # cant de palabras antes y desp de la predicha\n",
        "                     vector_size=300,       # dimensionalidad de los vectores\n",
        "                     negative=20,    # cantidad de negative samples... 0 es no se usa\n",
        "                     workers=1,      # si tienen más cores pueden cambiar este valor\n",
        "                     sg=1)           # modelo 0:CBOW  1:skipgram"
      ],
      "metadata": {
        "id": "QzlDClbyqWdc"
      },
      "execution_count": 36,
      "outputs": []
    },
    {
      "cell_type": "code",
      "source": [
        "# Obtener el vocabulario con los tokens\n",
        "w2v_model.build_vocab(sentence_tokens)"
      ],
      "metadata": {
        "id": "JaiOPr4sqZPU"
      },
      "execution_count": 37,
      "outputs": []
    },
    {
      "cell_type": "code",
      "source": [
        "# Cantidad de filas/docs encontradas en el corpus\n",
        "print(\"Cantidad de docs en el corpus:\", w2v_model.corpus_count)\n"
      ],
      "metadata": {
        "colab": {
          "base_uri": "https://localhost:8080/"
        },
        "id": "keFD3Iz9qe3j",
        "outputId": "fba0c7e1-7c76-4ee8-f30f-b8b9b37fada3"
      },
      "execution_count": 38,
      "outputs": [
        {
          "output_type": "stream",
          "name": "stdout",
          "text": [
            "Cantidad de docs en el corpus: 3093\n"
          ]
        }
      ]
    },
    {
      "cell_type": "code",
      "source": [
        "# Cantidad de words encontradas en el corpus\n",
        "print(\"Cantidad de words distintas en el corpus:\", len(w2v_model.wv.index_to_key))"
      ],
      "metadata": {
        "colab": {
          "base_uri": "https://localhost:8080/"
        },
        "id": "I5c2nAvvqgI7",
        "outputId": "a7ed958c-03dc-44b6-e6e1-84e18b068cb8"
      },
      "execution_count": 39,
      "outputs": [
        {
          "output_type": "stream",
          "name": "stdout",
          "text": [
            "Cantidad de words distintas en el corpus: 933\n"
          ]
        }
      ]
    },
    {
      "cell_type": "markdown",
      "source": [
        "3 - Entrenar el modelo generador"
      ],
      "metadata": {
        "id": "Yit5jd2sqk-3"
      }
    },
    {
      "cell_type": "code",
      "source": [
        "# Entrenamos el modelo generador de vectores\n",
        "# Utilizamos nuestro callback\n",
        "w2v_model.train(sentence_tokens,\n",
        "                 total_examples=w2v_model.corpus_count,\n",
        "                 epochs=100,\n",
        "                 compute_loss = True,\n",
        "                 callbacks=[callback()]\n",
        "                 )"
      ],
      "metadata": {
        "colab": {
          "base_uri": "https://localhost:8080/"
        },
        "id": "n931ADCVqjLI",
        "outputId": "97372e8c-8b81-453c-ddfe-f4b69ebca079"
      },
      "execution_count": 40,
      "outputs": [
        {
          "output_type": "stream",
          "name": "stdout",
          "text": [
            "Loss after epoch 0: 273250.875\n",
            "Loss after epoch 1: 176282.65625\n",
            "Loss after epoch 2: 175940.46875\n",
            "Loss after epoch 3: 178162.3125\n",
            "Loss after epoch 4: 177262.8125\n",
            "Loss after epoch 5: 163673.125\n",
            "Loss after epoch 6: 151947.5\n",
            "Loss after epoch 7: 151498.0\n",
            "Loss after epoch 8: 149773.375\n",
            "Loss after epoch 9: 149076.375\n",
            "Loss after epoch 10: 146905.125\n",
            "Loss after epoch 11: 145136.0\n",
            "Loss after epoch 12: 134105.625\n",
            "Loss after epoch 13: 126401.0\n",
            "Loss after epoch 14: 125224.25\n",
            "Loss after epoch 15: 124085.75\n",
            "Loss after epoch 16: 123375.0\n",
            "Loss after epoch 17: 122413.75\n",
            "Loss after epoch 18: 121619.5\n",
            "Loss after epoch 19: 121554.75\n",
            "Loss after epoch 20: 120563.0\n",
            "Loss after epoch 21: 118897.5\n",
            "Loss after epoch 22: 118825.25\n",
            "Loss after epoch 23: 116990.75\n",
            "Loss after epoch 24: 116614.0\n",
            "Loss after epoch 25: 115259.5\n",
            "Loss after epoch 26: 114737.0\n",
            "Loss after epoch 27: 116215.75\n",
            "Loss after epoch 28: 113962.0\n",
            "Loss after epoch 29: 113166.0\n",
            "Loss after epoch 30: 104776.5\n",
            "Loss after epoch 31: 105601.5\n",
            "Loss after epoch 32: 103958.0\n",
            "Loss after epoch 33: 104384.0\n",
            "Loss after epoch 34: 104048.0\n",
            "Loss after epoch 35: 102943.5\n",
            "Loss after epoch 36: 102864.0\n",
            "Loss after epoch 37: 102518.0\n",
            "Loss after epoch 38: 101419.0\n",
            "Loss after epoch 39: 100722.0\n",
            "Loss after epoch 40: 101740.5\n",
            "Loss after epoch 41: 101015.0\n",
            "Loss after epoch 42: 100839.0\n",
            "Loss after epoch 43: 100617.0\n",
            "Loss after epoch 44: 100343.0\n",
            "Loss after epoch 45: 99509.0\n",
            "Loss after epoch 46: 98923.0\n",
            "Loss after epoch 47: 98361.0\n",
            "Loss after epoch 48: 98031.0\n",
            "Loss after epoch 49: 98629.5\n",
            "Loss after epoch 50: 98210.0\n",
            "Loss after epoch 51: 98124.5\n",
            "Loss after epoch 52: 98657.5\n",
            "Loss after epoch 53: 98002.0\n",
            "Loss after epoch 54: 97994.0\n",
            "Loss after epoch 55: 96998.0\n",
            "Loss after epoch 56: 97707.0\n",
            "Loss after epoch 57: 97895.5\n",
            "Loss after epoch 58: 97075.0\n",
            "Loss after epoch 59: 96429.0\n",
            "Loss after epoch 60: 96263.0\n",
            "Loss after epoch 61: 96515.5\n",
            "Loss after epoch 62: 96537.5\n",
            "Loss after epoch 63: 95762.0\n",
            "Loss after epoch 64: 96750.5\n",
            "Loss after epoch 65: 96642.5\n",
            "Loss after epoch 66: 94685.5\n",
            "Loss after epoch 67: 96277.0\n",
            "Loss after epoch 68: 95156.5\n",
            "Loss after epoch 69: 95184.5\n",
            "Loss after epoch 70: 96189.5\n",
            "Loss after epoch 71: 94311.5\n",
            "Loss after epoch 72: 88956.5\n",
            "Loss after epoch 73: 87475.0\n",
            "Loss after epoch 74: 87828.0\n",
            "Loss after epoch 75: 88015.0\n",
            "Loss after epoch 76: 88401.0\n",
            "Loss after epoch 77: 86250.0\n",
            "Loss after epoch 78: 87736.0\n",
            "Loss after epoch 79: 87557.0\n",
            "Loss after epoch 80: 86465.0\n",
            "Loss after epoch 81: 86878.0\n",
            "Loss after epoch 82: 87072.0\n",
            "Loss after epoch 83: 86324.0\n",
            "Loss after epoch 84: 86320.0\n",
            "Loss after epoch 85: 86029.0\n",
            "Loss after epoch 86: 85686.0\n",
            "Loss after epoch 87: 85874.0\n",
            "Loss after epoch 88: 85166.0\n",
            "Loss after epoch 89: 85166.0\n",
            "Loss after epoch 90: 85482.0\n",
            "Loss after epoch 91: 85051.0\n",
            "Loss after epoch 92: 85819.0\n",
            "Loss after epoch 93: 85514.0\n",
            "Loss after epoch 94: 85239.0\n",
            "Loss after epoch 95: 85274.0\n",
            "Loss after epoch 96: 85618.0\n",
            "Loss after epoch 97: 86313.0\n",
            "Loss after epoch 98: 85118.0\n",
            "Loss after epoch 99: 84300.0\n"
          ]
        },
        {
          "output_type": "execute_result",
          "data": {
            "text/plain": [
              "(1873688, 3601200)"
            ]
          },
          "metadata": {},
          "execution_count": 40
        }
      ]
    },
    {
      "cell_type": "markdown",
      "source": [
        "4 - Ensayar"
      ],
      "metadata": {
        "id": "OOYW82-NqqOZ"
      }
    },
    {
      "cell_type": "code",
      "source": [
        "# Palabras que MÁS se relacionan con...:\n",
        "w2v_model.wv.most_similar(positive=[\"machine\"], topn=10)"
      ],
      "metadata": {
        "colab": {
          "base_uri": "https://localhost:8080/"
        },
        "id": "Xk2nBZB4qoeO",
        "outputId": "ee200654-9541-44c6-afe8-138798ceb644"
      },
      "execution_count": 41,
      "outputs": [
        {
          "output_type": "execute_result",
          "data": {
            "text/plain": [
              "[('traveller’s', 0.40276095271110535),\n",
              " ('travelled', 0.37951239943504333),\n",
              " ('dimension', 0.37936460971832275),\n",
              " ('turf', 0.37289392948150635),\n",
              " ('table', 0.3714753985404968),\n",
              " ('time', 0.3691021502017975),\n",
              " ('“then', 0.36843374371528625),\n",
              " ('traveller', 0.36836114525794983),\n",
              " ('smiled', 0.3664730489253998),\n",
              " ('started', 0.3613404333591461)]"
            ]
          },
          "metadata": {},
          "execution_count": 41
        }
      ]
    },
    {
      "cell_type": "markdown",
      "source": [
        "Vemos que las palabras que mas se relacionan con machine resultan aquellas asociadas a \"viajar\" o  \"descripciones\" de un viaje (dado que el libro trata sobre viajes en el tiempo)."
      ],
      "metadata": {
        "id": "-WYsMTtXsOCl"
      }
    },
    {
      "cell_type": "code",
      "source": [
        "# Palabras que MENOS se relacionan con...:\n",
        "w2v_model.wv.most_similar(negative=[\"future\"], topn=10)"
      ],
      "metadata": {
        "colab": {
          "base_uri": "https://localhost:8080/"
        },
        "id": "sjBVghEEqur_",
        "outputId": "242b794a-af86-4538-cd19-89ae601dc9c8"
      },
      "execution_count": 42,
      "outputs": [
        {
          "output_type": "execute_result",
          "data": {
            "text/plain": [
              "[('hastily', 0.0404074527323246),\n",
              " ('hung', 0.03188358247280121),\n",
              " ('seen', 0.0028626732528209686),\n",
              " ('corner', -0.006959770806133747),\n",
              " ('perhaps', -0.008442910388112068),\n",
              " ('neck', -0.009268327616155148),\n",
              " ('hail', -0.01040793489664793),\n",
              " ('as', -0.017580727115273476),\n",
              " ('further', -0.01838574931025505),\n",
              " ('lit', -0.02278711088001728)]"
            ]
          },
          "metadata": {},
          "execution_count": 42
        }
      ]
    },
    {
      "cell_type": "markdown",
      "source": [
        "Estas palabras no se relacionan con futuro, no describen nada de él ni acompañan la palabra de ninguna manera."
      ],
      "metadata": {
        "id": "7YbcSfCzs_Je"
      }
    },
    {
      "cell_type": "code",
      "source": [
        "# Palabras que MÁS se relacionan con...:\n",
        "w2v_model.wv.most_similar(positive=[\"species\"], topn=5)"
      ],
      "metadata": {
        "colab": {
          "base_uri": "https://localhost:8080/"
        },
        "id": "wkGyEdNFqyE8",
        "outputId": "133b477d-36e7-408d-cfbe-3e615fa72f7c"
      },
      "execution_count": 43,
      "outputs": [
        {
          "output_type": "execute_result",
          "data": {
            "text/plain": [
              "[('truth', 0.49664443731307983),\n",
              " ('hundred', 0.4960326850414276),\n",
              " ('dimensions', 0.4877045154571533),\n",
              " ('decay', 0.4811885356903076),\n",
              " ('disappeared', 0.47853463888168335)]"
            ]
          },
          "metadata": {},
          "execution_count": 43
        }
      ]
    },
    {
      "cell_type": "markdown",
      "source": [
        "Volvemos a encontrar una relación que resulta mas descriptiva asociada con \"species\""
      ],
      "metadata": {
        "id": "msQHEl9FtHJ_"
      }
    },
    {
      "cell_type": "markdown",
      "source": [
        "5 - Visualizar agrupación de vectores"
      ],
      "metadata": {
        "id": "Xo1u4zZGq0pd"
      }
    },
    {
      "cell_type": "code",
      "source": [
        "def reduce_dimensions(model):\n",
        "    num_dimensions = 2\n",
        "\n",
        "    vectors = np.asarray(model.wv.vectors)\n",
        "    labels = np.asarray(model.wv.index_to_key)\n",
        "\n",
        "    tsne = TSNE(n_components=num_dimensions, random_state=0)\n",
        "    vectors = tsne.fit_transform(vectors)\n",
        "\n",
        "    x_vals = [v[0] for v in vectors]\n",
        "    y_vals = [v[1] for v in vectors]\n",
        "    return x_vals, y_vals, labels"
      ],
      "metadata": {
        "id": "k23tkPlkq1pq"
      },
      "execution_count": 44,
      "outputs": []
    },
    {
      "cell_type": "code",
      "source": [
        "# Graficar los embedddings en 2D\n",
        "import plotly.graph_objects as go\n",
        "import plotly.express as px\n",
        "\n",
        "x_vals, y_vals, labels = reduce_dimensions(w2v_model)\n",
        "\n",
        "MAX_WORDS=200\n",
        "fig = px.scatter(x=x_vals[:MAX_WORDS], y=y_vals[:MAX_WORDS], text=labels[:MAX_WORDS])\n",
        "fig.show(renderer=\"colab\") # esto para plotly en colab"
      ],
      "metadata": {
        "colab": {
          "base_uri": "https://localhost:8080/",
          "height": 542
        },
        "id": "a1xwPsB9q5xO",
        "outputId": "bb5c0051-68e7-40c2-ada9-9166bf858740"
      },
      "execution_count": 45,
      "outputs": [
        {
          "output_type": "display_data",
          "data": {
            "text/html": [
              "<html>\n",
              "<head><meta charset=\"utf-8\" /></head>\n",
              "<body>\n",
              "    <div>            <script src=\"https://cdnjs.cloudflare.com/ajax/libs/mathjax/2.7.5/MathJax.js?config=TeX-AMS-MML_SVG\"></script><script type=\"text/javascript\">if (window.MathJax && window.MathJax.Hub && window.MathJax.Hub.Config) {window.MathJax.Hub.Config({SVG: {font: \"STIX-Web\"}});}</script>                <script type=\"text/javascript\">window.PlotlyConfig = {MathJaxConfig: 'local'};</script>\n",
              "        <script charset=\"utf-8\" src=\"https://cdn.plot.ly/plotly-2.24.1.min.js\"></script>                <div id=\"285061d9-ffd3-4c43-b7bb-25dc2eb79e7d\" class=\"plotly-graph-div\" style=\"height:525px; width:100%;\"></div>            <script type=\"text/javascript\">                                    window.PLOTLYENV=window.PLOTLYENV || {};                                    if (document.getElementById(\"285061d9-ffd3-4c43-b7bb-25dc2eb79e7d\")) {                    Plotly.newPlot(                        \"285061d9-ffd3-4c43-b7bb-25dc2eb79e7d\",                        [{\"hovertemplate\":\"x=%{x}\\u003cbr\\u003ey=%{y}\\u003cbr\\u003etext=%{text}\\u003cextra\\u003e\\u003c\\u002fextra\\u003e\",\"legendgroup\":\"\",\"marker\":{\"color\":\"#636efa\",\"symbol\":\"circle\"},\"mode\":\"markers+text\",\"name\":\"\",\"orientation\":\"v\",\"showlegend\":false,\"text\":[\"the\",\"and\",\"of\",\"i\",\"a\",\"to\",\"in\",\"was\",\"that\",\"my\",\"it\",\"had\",\"me\",\"as\",\"with\",\"at\",\"for\",\"time\",\"you\",\"this\",\"but\",\"\\u201d\",\"or\",\"were\",\"on\",\"not\",\"from\",\"all\",\"his\",\"have\",\"then\",\"by\",\"is\",\"he\",\"they\",\"there\",\"little\",\"upon\",\"be\",\"one\",\"into\",\"came\",\"so\",\"no\",\"gutenberg\",\"some\",\"could\",\"machine\",\"their\",\"an\",\"said\",\"which\",\"saw\",\"we\",\"project\",\"down\",\"them\",\"very\",\"these\",\"about\",\"been\",\"her\",\"out\",\"any\",\"up\",\"like\",\"now\",\"seemed\",\"its\",\"what\",\"man\",\"are\",\"if\",\"thing\",\"white\",\"more\",\"again\",\"must\",\"our\",\"would\",\"traveller\",\"when\",\"tm\",\"felt\",\"work\",\"thought\",\"\\u201ci\",\"other\",\"before\",\"over\",\"myself\",\"still\",\"through\",\"even\",\"first\",\"went\",\"hand\",\"see\",\"only\",\"people\",\"towards\",\"last\",\"may\",\"found\",\"1\",\"too\",\"how\",\"will\",\"weena\",\"she\",\"great\",\"here\",\"light\",\"did\",\"morlocks\",\"began\",\"him\",\"way\",\"back\",\"away\",\"same\",\"do\",\"such\",\"under\",\"face\",\"night\",\"than\",\"world\",\"after\",\"round\",\"us\",\"another\",\"eyes\",\"might\",\"long\",\"think\",\"made\",\"put\",\"things\",\"mind\",\"own\",\"sky\",\"among\",\"looked\",\"perhaps\",\"most\",\"took\",\"strange\",\"against\",\"works\",\"day\",\"yet\",\"come\",\"where\",\"old\",\"new\",\"well\",\"moment\",\"fire\",\"black\",\"who\",\"darkness\",\"off\",\"can\",\"sun\",\"two\",\"know\",\"green\",\"once\",\"electronic\",\"hands\",\"presently\",\"place\",\"enough\",\"left\",\"grew\",\"full\",\"red\",\"end\",\"got\",\"should\",\"dark\",\"part\",\"sphinx\",\"stood\",\"fear\",\"much\",\"terms\",\"medical\",\"future\",\"space\",\"three\",\"almost\",\"air\",\"above\",\"psychologist\",\"make\",\"e\",\"head\",\"tried\"],\"x\":[-1.0916590690612793,-1.2111998796463013,-0.949110746383667,-1.1754515171051025,-1.1246464252471924,-1.2563883066177368,-0.3822668492794037,-1.271960735321045,-0.8479023575782776,-1.0111751556396484,-1.6423364877700806,-0.5011592507362366,-2.184541702270508,-2.1486897468566895,-12.87477970123291,1.4668636322021484,-0.1681601107120514,4.6125617027282715,7.7439799308776855,0.5412651300430298,10.640360832214355,8.65157413482666,4.0345869064331055,-7.521186351776123,-1.3174989223480225,9.061678886413574,-0.37033817172050476,-0.28784364461898804,-0.8830206394195557,2.5615580081939697,4.427435398101807,11.4475736618042,9.76788330078125,5.597688674926758,-2.289612293243408,-6.638484001159668,-5.703335762023926,4.654048442840576,-2.290971040725708,5.508930206298828,-5.185912609100342,-7.252662181854248,-6.179830074310303,2.714019536972046,2.3503541946411133,-5.398161888122559,1.7486636638641357,3.681913375854492,-5.910145282745361,-2.9369590282440186,8.600869178771973,10.518333435058594,-0.264054536819458,9.495711326599121,2.390385150909424,-3.3837409019470215,-6.536025524139404,-12.406062126159668,-2.531911611557007,2.0235557556152344,-0.2734273076057434,-14.933212280273438,-0.42102327942848206,5.52747917175293,4.16512393951416,13.861054420471191,4.277142524719238,-12.910172462463379,15.153051376342773,6.541294574737549,-5.390411376953125,5.599740982055664,-0.6251700520515442,9.443662643432617,5.987873077392578,3.1772871017456055,6.377448558807373,-6.16048002243042,2.9243035316467285,-4.41677188873291,4.542795658111572,-4.518729209899902,1.8785480260849,-4.075094223022461,1.5727078914642334,4.015261650085449,-14.677458763122559,11.383331298828125,7.439803600311279,-0.5884222984313965,-2.4035093784332275,12.39982795715332,-1.5860692262649536,10.765726089477539,1.3495450019836426,-2.7501723766326904,4.293363571166992,3.95735764503479,11.329471588134766,-8.024632453918457,-9.885525703430176,3.0943217277526855,6.301372528076172,-0.6880601644515991,5.027477264404297,6.8646111488342285,9.907001495361328,6.003835678100586,-3.0420196056365967,-6.373456001281738,7.8578925132751465,9.664816856384277,-14.32934284210205,8.296320915222168,-9.304609298706055,0.7505571246147156,-16.749135971069336,-1.7869555950164795,-3.6530702114105225,-7.2050886154174805,-8.120155334472656,6.767186164855957,5.172023773193359,-2.361361265182495,-8.40947151184082,0.8601715564727783,7.08304500579834,0.9814550876617432,8.488508224487305,2.7802939414978027,5.147027015686035,-4.464478969573975,-5.331639289855957,-10.420817375183105,6.534843921661377,8.225154876708984,1.2833751440048218,-4.217088222503662,13.537504196166992,-2.0564403533935547,6.68115758895874,-10.769371032714844,-15.628766059875488,4.861100673675537,-7.827439308166504,5.278359889984131,7.857607841491699,-8.969402313232422,-12.896125793457031,2.226541519165039,-12.939970970153809,-3.0230135917663574,-1.862970232963562,12.041815757751465,12.41517448425293,-6.528094291687012,7.55205774307251,13.153172492980957,-4.156553268432617,-12.718695640563965,-5.830305576324463,0.38835278153419495,-16.787395477294922,0.6691682934761047,3.4572057723999023,-6.954303741455078,7.102996826171875,-2.4749104976654053,4.966794490814209,2.1175408363342285,3.186608076095581,-7.912434101104736,10.867980003356934,7.2845048904418945,-0.7817171812057495,-9.393417358398438,2.7310736179351807,-11.49682903289795,-11.214693069458008,1.1605778932571411,8.171426773071289,-11.715218544006348,-1.013384461402893,-1.6273280382156372,-5.775099754333496,-9.904647827148438,11.343615531921387,3.3566153049468994,-5.828404903411865,-0.9827560782432556,12.908885955810547,-6.484941005706787,-4.8640031814575195,-4.271851539611816,-11.323102951049805,9.793776512145996,7.557251453399658,5.71068811416626,-4.9953532218933105,-0.022648921236395836],\"xaxis\":\"x\",\"y\":[1.4423502683639526,1.3839143514633179,1.3451037406921387,1.386190414428711,1.5833349227905273,0.9653027653694153,1.5828857421875,1.6750227212905884,1.0888032913208008,2.0403337478637695,1.2278261184692383,-3.930807113647461,1.8271887302398682,0.7840136885643005,-8.95749568939209,7.708078861236572,0.7036500573158264,5.583526134490967,-6.299685478210449,0.9060686230659485,-0.34710270166397095,8.670487403869629,-14.417491912841797,-2.600069522857666,0.2849580645561218,-6.247949600219727,-0.44352197647094727,-1.5109683275222778,6.656559467315674,-4.352543354034424,9.188343048095703,-10.781412124633789,-10.532411575317383,8.684274673461914,-5.7567057609558105,-6.032913684844971,4.645381450653076,1.5320396423339844,-1.2843974828720093,3.2181050777435303,3.998931407928467,8.41447925567627,3.0656015872955322,-6.400552272796631,-14.581253051757812,-3.7444117069244385,-4.118365287780762,6.0132293701171875,-0.9271003007888794,-10.70130443572998,8.71122932434082,1.0455721616744995,8.215583801269531,-2.116326093673706,-13.550063133239746,9.875082015991211,-1.9739717245101929,3.330036163330078,-4.630970478057861,-18.465442657470703,-4.755311012268066,-4.527463436126709,10.4119234085083,-14.321606636047363,14.599403381347656,-1.0089902877807617,-0.8948876261711121,-2.2409234046936035,0.7757968306541443,-1.9280531406402588,1.343327283859253,-8.840991020202637,-10.990419387817383,-0.7586416006088257,15.689672470092773,13.512795448303223,11.02053165435791,-14.348079681396484,-1.6645020246505737,-7.5800933837890625,6.058074474334717,-13.940591812133789,-14.111455917358398,-1.4884357452392578,-12.573543548583984,-2.267778158187866,-6.4640069007873535,-14.922696113586426,12.297624588012695,6.437561988830566,7.168856620788574,3.8661413192749023,-18.13911247253418,-3.122688055038452,3.6684489250183105,8.992124557495117,10.639507293701172,-8.706485748291016,-7.178268909454346,-6.891133785247803,3.17014741897583,10.046011924743652,-13.971994400024414,17.991682052612305,-15.805108070373535,1.8712365627288818,-8.66539478302002,-9.857070922851562,7.615160942077637,-0.11748548597097397,2.020538091659546,4.967100143432617,-2.951742172241211,-0.851064920425415,-5.845024585723877,7.222825050354004,1.5128130912780762,-9.496241569519043,0.6921418905258179,-0.7297800779342651,9.004178047180176,-15.001569747924805,-1.2590018510818481,-13.4971342086792,3.5974960327148438,12.107646942138672,-10.564008712768555,-2.8319387435913086,6.786069393157959,7.701772689819336,1.7133702039718628,3.148540735244751,-3.1846964359283447,-9.599655151367188,-0.5917268395423889,-2.416520595550537,5.341055870056152,7.003957271575928,-4.77226448059082,4.481376647949219,-3.594557762145996,7.485452651977539,8.341374397277832,7.451726913452148,-9.208205223083496,-2.3724565505981445,10.320887565612793,-3.525606870651245,8.620495796203613,-12.926936149597168,6.857281684875488,-9.458878517150879,-2.5487375259399414,-3.7064385414123535,-0.7101162672042847,-6.78004264831543,0.3330327570438385,5.945643901824951,14.3076753616333,9.99953556060791,-5.34330940246582,7.489398002624512,5.6190643310546875,-15.743326187133789,1.9170985221862793,-11.179949760437012,-5.569493770599365,18.058008193969727,4.1929931640625,-13.036004066467285,16.7987060546875,0.392821729183197,2.8294386863708496,-2.8488104343414307,8.058799743652344,5.679019451141357,-12.09710693359375,7.177092552185059,-2.579850435256958,8.57884693145752,-8.240165710449219,1.8460335731506348,-12.974320411682129,15.372516632080078,13.948446273803711,-11.734848976135254,-5.14549446105957,-12.99114990234375,1.3274219036102295,-14.772294044494629,1.7588847875595093,-7.704202651977539,-6.258377552032471,-2.3976361751556396,13.010560035705566,7.115164756774902,-5.048544406890869,-15.55271053314209,6.51668119430542,4.923956394195557],\"yaxis\":\"y\",\"type\":\"scatter\"}],                        {\"template\":{\"data\":{\"histogram2dcontour\":[{\"type\":\"histogram2dcontour\",\"colorbar\":{\"outlinewidth\":0,\"ticks\":\"\"},\"colorscale\":[[0.0,\"#0d0887\"],[0.1111111111111111,\"#46039f\"],[0.2222222222222222,\"#7201a8\"],[0.3333333333333333,\"#9c179e\"],[0.4444444444444444,\"#bd3786\"],[0.5555555555555556,\"#d8576b\"],[0.6666666666666666,\"#ed7953\"],[0.7777777777777778,\"#fb9f3a\"],[0.8888888888888888,\"#fdca26\"],[1.0,\"#f0f921\"]]}],\"choropleth\":[{\"type\":\"choropleth\",\"colorbar\":{\"outlinewidth\":0,\"ticks\":\"\"}}],\"histogram2d\":[{\"type\":\"histogram2d\",\"colorbar\":{\"outlinewidth\":0,\"ticks\":\"\"},\"colorscale\":[[0.0,\"#0d0887\"],[0.1111111111111111,\"#46039f\"],[0.2222222222222222,\"#7201a8\"],[0.3333333333333333,\"#9c179e\"],[0.4444444444444444,\"#bd3786\"],[0.5555555555555556,\"#d8576b\"],[0.6666666666666666,\"#ed7953\"],[0.7777777777777778,\"#fb9f3a\"],[0.8888888888888888,\"#fdca26\"],[1.0,\"#f0f921\"]]}],\"heatmap\":[{\"type\":\"heatmap\",\"colorbar\":{\"outlinewidth\":0,\"ticks\":\"\"},\"colorscale\":[[0.0,\"#0d0887\"],[0.1111111111111111,\"#46039f\"],[0.2222222222222222,\"#7201a8\"],[0.3333333333333333,\"#9c179e\"],[0.4444444444444444,\"#bd3786\"],[0.5555555555555556,\"#d8576b\"],[0.6666666666666666,\"#ed7953\"],[0.7777777777777778,\"#fb9f3a\"],[0.8888888888888888,\"#fdca26\"],[1.0,\"#f0f921\"]]}],\"heatmapgl\":[{\"type\":\"heatmapgl\",\"colorbar\":{\"outlinewidth\":0,\"ticks\":\"\"},\"colorscale\":[[0.0,\"#0d0887\"],[0.1111111111111111,\"#46039f\"],[0.2222222222222222,\"#7201a8\"],[0.3333333333333333,\"#9c179e\"],[0.4444444444444444,\"#bd3786\"],[0.5555555555555556,\"#d8576b\"],[0.6666666666666666,\"#ed7953\"],[0.7777777777777778,\"#fb9f3a\"],[0.8888888888888888,\"#fdca26\"],[1.0,\"#f0f921\"]]}],\"contourcarpet\":[{\"type\":\"contourcarpet\",\"colorbar\":{\"outlinewidth\":0,\"ticks\":\"\"}}],\"contour\":[{\"type\":\"contour\",\"colorbar\":{\"outlinewidth\":0,\"ticks\":\"\"},\"colorscale\":[[0.0,\"#0d0887\"],[0.1111111111111111,\"#46039f\"],[0.2222222222222222,\"#7201a8\"],[0.3333333333333333,\"#9c179e\"],[0.4444444444444444,\"#bd3786\"],[0.5555555555555556,\"#d8576b\"],[0.6666666666666666,\"#ed7953\"],[0.7777777777777778,\"#fb9f3a\"],[0.8888888888888888,\"#fdca26\"],[1.0,\"#f0f921\"]]}],\"surface\":[{\"type\":\"surface\",\"colorbar\":{\"outlinewidth\":0,\"ticks\":\"\"},\"colorscale\":[[0.0,\"#0d0887\"],[0.1111111111111111,\"#46039f\"],[0.2222222222222222,\"#7201a8\"],[0.3333333333333333,\"#9c179e\"],[0.4444444444444444,\"#bd3786\"],[0.5555555555555556,\"#d8576b\"],[0.6666666666666666,\"#ed7953\"],[0.7777777777777778,\"#fb9f3a\"],[0.8888888888888888,\"#fdca26\"],[1.0,\"#f0f921\"]]}],\"mesh3d\":[{\"type\":\"mesh3d\",\"colorbar\":{\"outlinewidth\":0,\"ticks\":\"\"}}],\"scatter\":[{\"fillpattern\":{\"fillmode\":\"overlay\",\"size\":10,\"solidity\":0.2},\"type\":\"scatter\"}],\"parcoords\":[{\"type\":\"parcoords\",\"line\":{\"colorbar\":{\"outlinewidth\":0,\"ticks\":\"\"}}}],\"scatterpolargl\":[{\"type\":\"scatterpolargl\",\"marker\":{\"colorbar\":{\"outlinewidth\":0,\"ticks\":\"\"}}}],\"bar\":[{\"error_x\":{\"color\":\"#2a3f5f\"},\"error_y\":{\"color\":\"#2a3f5f\"},\"marker\":{\"line\":{\"color\":\"#E5ECF6\",\"width\":0.5},\"pattern\":{\"fillmode\":\"overlay\",\"size\":10,\"solidity\":0.2}},\"type\":\"bar\"}],\"scattergeo\":[{\"type\":\"scattergeo\",\"marker\":{\"colorbar\":{\"outlinewidth\":0,\"ticks\":\"\"}}}],\"scatterpolar\":[{\"type\":\"scatterpolar\",\"marker\":{\"colorbar\":{\"outlinewidth\":0,\"ticks\":\"\"}}}],\"histogram\":[{\"marker\":{\"pattern\":{\"fillmode\":\"overlay\",\"size\":10,\"solidity\":0.2}},\"type\":\"histogram\"}],\"scattergl\":[{\"type\":\"scattergl\",\"marker\":{\"colorbar\":{\"outlinewidth\":0,\"ticks\":\"\"}}}],\"scatter3d\":[{\"type\":\"scatter3d\",\"line\":{\"colorbar\":{\"outlinewidth\":0,\"ticks\":\"\"}},\"marker\":{\"colorbar\":{\"outlinewidth\":0,\"ticks\":\"\"}}}],\"scattermapbox\":[{\"type\":\"scattermapbox\",\"marker\":{\"colorbar\":{\"outlinewidth\":0,\"ticks\":\"\"}}}],\"scatterternary\":[{\"type\":\"scatterternary\",\"marker\":{\"colorbar\":{\"outlinewidth\":0,\"ticks\":\"\"}}}],\"scattercarpet\":[{\"type\":\"scattercarpet\",\"marker\":{\"colorbar\":{\"outlinewidth\":0,\"ticks\":\"\"}}}],\"carpet\":[{\"aaxis\":{\"endlinecolor\":\"#2a3f5f\",\"gridcolor\":\"white\",\"linecolor\":\"white\",\"minorgridcolor\":\"white\",\"startlinecolor\":\"#2a3f5f\"},\"baxis\":{\"endlinecolor\":\"#2a3f5f\",\"gridcolor\":\"white\",\"linecolor\":\"white\",\"minorgridcolor\":\"white\",\"startlinecolor\":\"#2a3f5f\"},\"type\":\"carpet\"}],\"table\":[{\"cells\":{\"fill\":{\"color\":\"#EBF0F8\"},\"line\":{\"color\":\"white\"}},\"header\":{\"fill\":{\"color\":\"#C8D4E3\"},\"line\":{\"color\":\"white\"}},\"type\":\"table\"}],\"barpolar\":[{\"marker\":{\"line\":{\"color\":\"#E5ECF6\",\"width\":0.5},\"pattern\":{\"fillmode\":\"overlay\",\"size\":10,\"solidity\":0.2}},\"type\":\"barpolar\"}],\"pie\":[{\"automargin\":true,\"type\":\"pie\"}]},\"layout\":{\"autotypenumbers\":\"strict\",\"colorway\":[\"#636efa\",\"#EF553B\",\"#00cc96\",\"#ab63fa\",\"#FFA15A\",\"#19d3f3\",\"#FF6692\",\"#B6E880\",\"#FF97FF\",\"#FECB52\"],\"font\":{\"color\":\"#2a3f5f\"},\"hovermode\":\"closest\",\"hoverlabel\":{\"align\":\"left\"},\"paper_bgcolor\":\"white\",\"plot_bgcolor\":\"#E5ECF6\",\"polar\":{\"bgcolor\":\"#E5ECF6\",\"angularaxis\":{\"gridcolor\":\"white\",\"linecolor\":\"white\",\"ticks\":\"\"},\"radialaxis\":{\"gridcolor\":\"white\",\"linecolor\":\"white\",\"ticks\":\"\"}},\"ternary\":{\"bgcolor\":\"#E5ECF6\",\"aaxis\":{\"gridcolor\":\"white\",\"linecolor\":\"white\",\"ticks\":\"\"},\"baxis\":{\"gridcolor\":\"white\",\"linecolor\":\"white\",\"ticks\":\"\"},\"caxis\":{\"gridcolor\":\"white\",\"linecolor\":\"white\",\"ticks\":\"\"}},\"coloraxis\":{\"colorbar\":{\"outlinewidth\":0,\"ticks\":\"\"}},\"colorscale\":{\"sequential\":[[0.0,\"#0d0887\"],[0.1111111111111111,\"#46039f\"],[0.2222222222222222,\"#7201a8\"],[0.3333333333333333,\"#9c179e\"],[0.4444444444444444,\"#bd3786\"],[0.5555555555555556,\"#d8576b\"],[0.6666666666666666,\"#ed7953\"],[0.7777777777777778,\"#fb9f3a\"],[0.8888888888888888,\"#fdca26\"],[1.0,\"#f0f921\"]],\"sequentialminus\":[[0.0,\"#0d0887\"],[0.1111111111111111,\"#46039f\"],[0.2222222222222222,\"#7201a8\"],[0.3333333333333333,\"#9c179e\"],[0.4444444444444444,\"#bd3786\"],[0.5555555555555556,\"#d8576b\"],[0.6666666666666666,\"#ed7953\"],[0.7777777777777778,\"#fb9f3a\"],[0.8888888888888888,\"#fdca26\"],[1.0,\"#f0f921\"]],\"diverging\":[[0,\"#8e0152\"],[0.1,\"#c51b7d\"],[0.2,\"#de77ae\"],[0.3,\"#f1b6da\"],[0.4,\"#fde0ef\"],[0.5,\"#f7f7f7\"],[0.6,\"#e6f5d0\"],[0.7,\"#b8e186\"],[0.8,\"#7fbc41\"],[0.9,\"#4d9221\"],[1,\"#276419\"]]},\"xaxis\":{\"gridcolor\":\"white\",\"linecolor\":\"white\",\"ticks\":\"\",\"title\":{\"standoff\":15},\"zerolinecolor\":\"white\",\"automargin\":true,\"zerolinewidth\":2},\"yaxis\":{\"gridcolor\":\"white\",\"linecolor\":\"white\",\"ticks\":\"\",\"title\":{\"standoff\":15},\"zerolinecolor\":\"white\",\"automargin\":true,\"zerolinewidth\":2},\"scene\":{\"xaxis\":{\"backgroundcolor\":\"#E5ECF6\",\"gridcolor\":\"white\",\"linecolor\":\"white\",\"showbackground\":true,\"ticks\":\"\",\"zerolinecolor\":\"white\",\"gridwidth\":2},\"yaxis\":{\"backgroundcolor\":\"#E5ECF6\",\"gridcolor\":\"white\",\"linecolor\":\"white\",\"showbackground\":true,\"ticks\":\"\",\"zerolinecolor\":\"white\",\"gridwidth\":2},\"zaxis\":{\"backgroundcolor\":\"#E5ECF6\",\"gridcolor\":\"white\",\"linecolor\":\"white\",\"showbackground\":true,\"ticks\":\"\",\"zerolinecolor\":\"white\",\"gridwidth\":2}},\"shapedefaults\":{\"line\":{\"color\":\"#2a3f5f\"}},\"annotationdefaults\":{\"arrowcolor\":\"#2a3f5f\",\"arrowhead\":0,\"arrowwidth\":1},\"geo\":{\"bgcolor\":\"white\",\"landcolor\":\"#E5ECF6\",\"subunitcolor\":\"white\",\"showland\":true,\"showlakes\":true,\"lakecolor\":\"white\"},\"title\":{\"x\":0.05},\"mapbox\":{\"style\":\"light\"}}},\"xaxis\":{\"anchor\":\"y\",\"domain\":[0.0,1.0],\"title\":{\"text\":\"x\"}},\"yaxis\":{\"anchor\":\"x\",\"domain\":[0.0,1.0],\"title\":{\"text\":\"y\"}},\"legend\":{\"tracegroupgap\":0},\"margin\":{\"t\":60}},                        {\"responsive\": true}                    ).then(function(){\n",
              "                            \n",
              "var gd = document.getElementById('285061d9-ffd3-4c43-b7bb-25dc2eb79e7d');\n",
              "var x = new MutationObserver(function (mutations, observer) {{\n",
              "        var display = window.getComputedStyle(gd).display;\n",
              "        if (!display || display === 'none') {{\n",
              "            console.log([gd, 'removed!']);\n",
              "            Plotly.purge(gd);\n",
              "            observer.disconnect();\n",
              "        }}\n",
              "}});\n",
              "\n",
              "// Listen for the removal of the full notebook cells\n",
              "var notebookContainer = gd.closest('#notebook-container');\n",
              "if (notebookContainer) {{\n",
              "    x.observe(notebookContainer, {childList: true});\n",
              "}}\n",
              "\n",
              "// Listen for the clearing of the current output cell\n",
              "var outputEl = gd.closest('.output');\n",
              "if (outputEl) {{\n",
              "    x.observe(outputEl, {childList: true});\n",
              "}}\n",
              "\n",
              "                        })                };                            </script>        </div>\n",
              "</body>\n",
              "</html>"
            ]
          },
          "metadata": {}
        }
      ]
    },
    {
      "cell_type": "markdown",
      "source": [
        "En el gráfico vemos la agrupación y distribución de las palabras, las mas relacionadas forman grupos, y en este libro las palabras mas relacionadas son aquellas que funcionan como conectores o descriptores de las palabras principales que centran los grupos."
      ],
      "metadata": {
        "id": "rs-jigGeti9c"
      }
    }
  ]
}