{
  "cells": [
    {
      "cell_type": "markdown",
      "metadata": {
        "id": "pfa39F4lsLf3"
      },
      "source": [
        "<img src=\"https://github.com/hernancontigiani/ceia_memorias_especializacion/raw/master/Figures/logoFIUBA.jpg\" width=\"500\" align=\"center\">\n",
        "\n",
        "\n",
        "# Procesamiento de lenguaje natural\n",
        "## LSTM Bot QA"
      ]
    },
    {
      "cell_type": "markdown",
      "metadata": {
        "id": "ZqO0PRcFsPTe"
      },
      "source": [
        "### Datos\n",
        "El objecto es utilizar datos disponibles del challenge ConvAI2 (Conversational Intelligence Challenge 2) de conversaciones en inglés. Se construirá un BOT para responder a preguntas del usuario (QA).\\\n",
        "[LINK](http://convai.io/data/)"
      ]
    },
    {
      "cell_type": "code",
      "execution_count": 1,
      "metadata": {
        "id": "cq3YXak9sGHd"
      },
      "outputs": [],
      "source": [
        "\n",
        "import numpy as np\n",
        "import pandas as pd\n",
        "import tensorflow as tf\n",
        "import re\n",
        "from keras.preprocessing.text import one_hot\n",
        "from keras.utils import pad_sequences\n",
        "from keras.models import Sequential\n",
        "from keras.layers import Activation, Dropout, Dense\n",
        "from keras.layers import Flatten, LSTM, SimpleRNN\n",
        "from keras.models import Model\n",
        "from keras.layers import Embedding\n",
        "from sklearn.model_selection import train_test_split\n",
        "from keras.preprocessing.text import Tokenizer\n",
        "from keras.layers import Input"
      ]
    },
    {
      "cell_type": "code",
      "execution_count": 2,
      "metadata": {
        "id": "RHNkUaPp6aYq",
        "colab": {
          "base_uri": "https://localhost:8080/"
        },
        "outputId": "ada3f503-217b-462a-815a-04b5b8386bd8"
      },
      "outputs": [
        {
          "output_type": "stream",
          "name": "stderr",
          "text": [
            "Downloading...\n",
            "From: https://drive.google.com/uc?id=1awUxYwImF84MIT5-jCaYAPe2QwSgS1hN&export=download\n",
            "To: /content/data_volunteers.json\n",
            "100%|██████████| 2.58M/2.58M [00:00<00:00, 100MB/s]\n"
          ]
        }
      ],
      "source": [
        "# dataset\n",
        "import os\n",
        "import gdown\n",
        "if os.access('data_volunteers.json', os.F_OK) is False:\n",
        "    url = 'https://drive.google.com/uc?id=1awUxYwImF84MIT5-jCaYAPe2QwSgS1hN&export=download'\n",
        "    output = 'data_volunteers.json'\n",
        "    gdown.download(url, output, quiet=False)\n",
        "else:\n",
        "    print(\"El dataset ya se encuentra descargado\")"
      ]
    },
    {
      "cell_type": "code",
      "execution_count": 3,
      "metadata": {
        "id": "WZy1-wgG-Rp7"
      },
      "outputs": [],
      "source": [
        "# dataset_file\n",
        "import json\n",
        "\n",
        "text_file = \"data_volunteers.json\"\n",
        "with open(text_file) as f:\n",
        "    data = json.load(f) # la variable data será un diccionario"
      ]
    },
    {
      "cell_type": "code",
      "execution_count": 4,
      "metadata": {
        "id": "ue5qd54S-eew",
        "colab": {
          "base_uri": "https://localhost:8080/"
        },
        "outputId": "6ba05d25-be60-4471-cf93-75c4962f2b29"
      },
      "outputs": [
        {
          "output_type": "execute_result",
          "data": {
            "text/plain": [
              "dict_keys(['dialog', 'start_time', 'end_time', 'bot_profile', 'user_profile', 'eval_score', 'profile_match', 'participant1_id', 'participant2_id'])"
            ]
          },
          "metadata": {},
          "execution_count": 4
        }
      ],
      "source": [
        "# Observar los campos disponibles en cada linea del dataset\n",
        "data[0].keys()"
      ]
    },
    {
      "cell_type": "code",
      "execution_count": 5,
      "metadata": {
        "id": "jHBRAXPl-3dz",
        "colab": {
          "base_uri": "https://localhost:8080/"
        },
        "outputId": "8c3d00dc-88da-4fc0-c102-b4b5444d2667"
      },
      "outputs": [
        {
          "output_type": "stream",
          "name": "stdout",
          "text": [
            "Cantidad de rows utilizadas: 6033\n"
          ]
        }
      ],
      "source": [
        "chat_in = []\n",
        "chat_out = []\n",
        "\n",
        "input_sentences = []\n",
        "output_sentences = []\n",
        "output_sentences_inputs = []\n",
        "max_len = 30\n",
        "\n",
        "def clean_text(txt):\n",
        "    txt = txt.lower()\n",
        "    txt.replace(\"\\'d\", \" had\")\n",
        "    txt.replace(\"\\'s\", \" is\")\n",
        "    txt.replace(\"\\'m\", \" am\")\n",
        "    txt.replace(\"don't\", \"do not\")\n",
        "    txt = re.sub(r'\\W+', ' ', txt)\n",
        "\n",
        "    return txt\n",
        "\n",
        "for line in data:\n",
        "    for i in range(len(line['dialog'])-1):\n",
        "        # Preguntas y respuestas\n",
        "        chat_in = clean_text(line['dialog'][i]['text'])\n",
        "        chat_out = clean_text(line['dialog'][i+1]['text'])\n",
        "\n",
        "        if len(chat_in) >= max_len or len(chat_out) >= max_len:\n",
        "            continue\n",
        "\n",
        "        input_sentence, output = chat_in, chat_out\n",
        "\n",
        "        # output sentence (decoder_output) tiene <eos>\n",
        "        output_sentence = output + ' <eos>'\n",
        "        # output sentence input (decoder_input) tiene <sos>\n",
        "        output_sentence_input = '<sos> ' + output\n",
        "\n",
        "        input_sentences.append(input_sentence)\n",
        "        output_sentences.append(output_sentence)\n",
        "        output_sentences_inputs.append(output_sentence_input)\n",
        "\n",
        "print(\"Cantidad de rows utilizadas:\", len(input_sentences))"
      ]
    },
    {
      "cell_type": "code",
      "execution_count": 6,
      "metadata": {
        "id": "07L1qj8pC_l6",
        "colab": {
          "base_uri": "https://localhost:8080/"
        },
        "outputId": "e173ae0a-50ed-4322-a579-a839e9942fc8"
      },
      "outputs": [
        {
          "output_type": "execute_result",
          "data": {
            "text/plain": [
              "('hi how are you ', 'not bad and you  <eos>', '<sos> not bad and you ')"
            ]
          },
          "metadata": {},
          "execution_count": 6
        }
      ],
      "source": [
        "input_sentences[1], output_sentences[1], output_sentences_inputs[1]"
      ]
    },
    {
      "cell_type": "markdown",
      "metadata": {
        "id": "8P-ynUNP5xp6"
      },
      "source": [
        "### 2 - Preprocesamiento"
      ]
    },
    {
      "cell_type": "markdown",
      "metadata": {
        "id": "Dp8ItIzlT9Y7"
      },
      "source": [
        "Buscamos obtener `word2idx`, `max_input_len`, `max_out_len`, `num_words_output`"
      ]
    },
    {
      "cell_type": "code",
      "execution_count": 7,
      "metadata": {
        "id": "USCFmSQNT9Y7"
      },
      "outputs": [],
      "source": [
        "# Establecemos un máximo de vocabulario\n",
        "MAX_VOCAB_SIZE = 8000"
      ]
    },
    {
      "cell_type": "code",
      "execution_count": 8,
      "metadata": {
        "colab": {
          "base_uri": "https://localhost:8080/"
        },
        "id": "mkKn8GzDT9Y8",
        "outputId": "c24e2e5b-a307-43ad-b6b0-f133e39eeef0"
      },
      "outputs": [
        {
          "output_type": "stream",
          "name": "stdout",
          "text": [
            "Palabras en el vocabulario: 2157\n",
            "Sentencia de entrada más larga: 9\n",
            "Sentencia de salida más larga: 10\n"
          ]
        }
      ],
      "source": [
        "# Definimos el número máximo de palabras a utilizar\n",
        "from keras.preprocessing.text import Tokenizer\n",
        "\n",
        "# Filtramos con una expresion regular todos los caracteres especiales\n",
        "tokenizer = Tokenizer(num_words=MAX_VOCAB_SIZE, filters='!\"#$%&()*+,-./:;=¿?@[\\\\]^_`{|}~\\t\\n')\n",
        "tokenizer.fit_on_texts([\"<sos>\", \"<eos>\"] + input_sentences + output_sentences)\n",
        "\n",
        "input_integer_seq = tokenizer.texts_to_sequences(input_sentences)\n",
        "output_integer_seq = tokenizer.texts_to_sequences(output_sentences)\n",
        "output_input_integer_seq = tokenizer.texts_to_sequences(output_sentences_inputs)\n",
        "\n",
        "word2idx = tokenizer.word_index\n",
        "max_input_len = max(len(sen) for sen in input_integer_seq)\n",
        "max_out_len = max(len(sen) for sen in output_integer_seq)\n",
        "\n",
        "# Numero de palabras +1 para incluir la palabra desconocida\n",
        "num_words_output = min(len(word2idx) + 1, MAX_VOCAB_SIZE)\n",
        "\n",
        "print(\"Palabras en el vocabulario:\", len(word2idx))\n",
        "print(\"Sentencia de entrada más larga:\", max_input_len)\n",
        "print(\"Sentencia de salida más larga:\", max_out_len)"
      ]
    },
    {
      "cell_type": "code",
      "execution_count": 9,
      "metadata": {
        "colab": {
          "base_uri": "https://localhost:8080/"
        },
        "id": "Gv1UICEXT9Y8",
        "outputId": "8d9302e9-c31c-43e5-e2d7-7c0b159b965f"
      },
      "outputs": [
        {
          "output_type": "stream",
          "name": "stdout",
          "text": [
            "Rows del dataset: 6033\n",
            "shape del encoder_input_sequences: (6033, 9)\n",
            "shape del decoder_input_sequences: (6033, 10)\n"
          ]
        }
      ],
      "source": [
        "# Hacemos el padding del encoder al comienzo y al final\n",
        "encoder_input_sequences = pad_sequences(input_integer_seq,\n",
        "                                        maxlen = max_input_len)\n",
        "\n",
        "decoder_input_sequences = pad_sequences(output_input_integer_seq,\n",
        "                                        maxlen = max_out_len,\n",
        "                                        padding='post')\n",
        "\n",
        "print(\"Rows del dataset:\", len(input_integer_seq))\n",
        "print(\"shape del encoder_input_sequences:\", encoder_input_sequences.shape)\n",
        "print(\"shape del decoder_input_sequences:\", decoder_input_sequences.shape)"
      ]
    },
    {
      "cell_type": "code",
      "execution_count": 10,
      "metadata": {
        "colab": {
          "base_uri": "https://localhost:8080/"
        },
        "id": "nkcAdJd8T9Y9",
        "outputId": "4aa08db2-0ecd-43d3-9c7d-306bd8659362"
      },
      "outputs": [
        {
          "output_type": "stream",
          "name": "stdout",
          "text": [
            "Shape de la salida del decoder: (6033, 10, 2158)\n"
          ]
        }
      ],
      "source": [
        "from keras.utils import to_categorical\n",
        "\n",
        "# Hacemos el padding de la secuencia de salida y luego el one hot encoding\n",
        "decoder_output_sequences = pad_sequences(output_integer_seq,\n",
        "                                         maxlen = max_out_len,\n",
        "                                         padding='post')\n",
        "\n",
        "decoder_targets = to_categorical(decoder_output_sequences, num_classes = num_words_output)\n",
        "print(f'Shape de la salida del decoder: {decoder_targets.shape}')"
      ]
    },
    {
      "cell_type": "markdown",
      "metadata": {
        "id": "_CJIsLBbj6rg"
      },
      "source": [
        "### 3 - Preparar los embeddings"
      ]
    },
    {
      "cell_type": "code",
      "source": [
        "# Descargar los embeddings desde un gogle drive (es la forma más rápida)\n",
        "# NOTA: No hay garantía de que estos links perduren, en caso de que no estén\n",
        "# disponibles descargar de la página oficial como se explica en el siguiente bloque\n",
        "!curl -L -o 'fasttext.pkl' 'https://drive.google.com/u/0/uc?id=1Qi1r-u5lsEsNqRSxLrpNOqQ3B_ufltCa&export=download&confirm=t'\n"
      ],
      "metadata": {
        "colab": {
          "base_uri": "https://localhost:8080/"
        },
        "id": "ZQvyloCUViGL",
        "outputId": "c2881c00-a5cd-4492-f083-0ca8fcd62c23"
      },
      "execution_count": 11,
      "outputs": [
        {
          "output_type": "stream",
          "name": "stdout",
          "text": [
            "  % Total    % Received % Xferd  Average Speed   Time    Time     Time  Current\n",
            "                                 Dload  Upload   Total   Spent    Left  Speed\n",
            "\r  0     0    0     0    0     0      0      0 --:--:-- --:--:-- --:--:--     0\r  0     0    0     0    0     0      0      0 --:--:-- --:--:-- --:--:--     0\n",
            "  0     0    0     0    0     0      0      0 --:--:-- --:--:-- --:--:--     0\n",
            "100 2746M  100 2746M    0     0   113M      0  0:00:24  0:00:24 --:--:--  104M\n"
          ]
        }
      ]
    },
    {
      "cell_type": "code",
      "execution_count": 12,
      "metadata": {
        "id": "7ZVBV_88T9Y9"
      },
      "outputs": [],
      "source": [
        "import logging\n",
        "import os\n",
        "from pathlib import Path\n",
        "from io import StringIO\n",
        "import pickle\n",
        "\n",
        "class WordsEmbeddings(object):\n",
        "    logger = logging.getLogger(__name__)\n",
        "\n",
        "    def __init__(self):\n",
        "        # load the embeddings\n",
        "        words_embedding_pkl = Path(self.PKL_PATH)\n",
        "        if not words_embedding_pkl.is_file():\n",
        "            words_embedding_txt = Path(self.WORD_TO_VEC_MODEL_TXT_PATH)\n",
        "            assert words_embedding_txt.is_file(), 'Words embedding not available'\n",
        "            embeddings = self.convert_model_to_pickle()\n",
        "        else:\n",
        "            embeddings = self.load_model_from_pickle()\n",
        "        self.embeddings = embeddings\n",
        "        # build the vocabulary hashmap\n",
        "        index = np.arange(self.embeddings.shape[0])\n",
        "        # Dicctionarios para traducir de embedding a IDX de la palabra\n",
        "        self.word2idx = dict(zip(self.embeddings['word'], index))\n",
        "        self.idx2word = dict(zip(index, self.embeddings['word']))\n",
        "\n",
        "    def get_words_embeddings(self, words):\n",
        "        words_idxs = self.words2idxs(words)\n",
        "        return self.embeddings[words_idxs]['embedding']\n",
        "\n",
        "    def words2idxs(self, words):\n",
        "        return np.array([self.word2idx.get(word, -1) for word in words])\n",
        "\n",
        "    def idxs2words(self, idxs):\n",
        "        return np.array([self.idx2word.get(idx, '-1') for idx in idxs])\n",
        "\n",
        "    def load_model_from_pickle(self):\n",
        "        self.logger.debug(\n",
        "            'loading words embeddings from pickle {}'.format(\n",
        "                self.PKL_PATH\n",
        "            )\n",
        "        )\n",
        "        max_bytes = 2**28 - 1 # 256MB\n",
        "        bytes_in = bytearray(0)\n",
        "        input_size = os.path.getsize(self.PKL_PATH)\n",
        "        with open(self.PKL_PATH, 'rb') as f_in:\n",
        "            for _ in range(0, input_size, max_bytes):\n",
        "                bytes_in += f_in.read(max_bytes)\n",
        "        embeddings = pickle.loads(bytes_in)\n",
        "        self.logger.debug('words embeddings loaded')\n",
        "        return embeddings\n",
        "\n",
        "    def convert_model_to_pickle(self):\n",
        "        # create a numpy strctured array:\n",
        "        # word     embedding\n",
        "        # U50      np.float32[]\n",
        "        # word_1   a, b, c\n",
        "        # word_2   d, e, f\n",
        "        # ...\n",
        "        # word_n   g, h, i\n",
        "        self.logger.debug(\n",
        "            'converting and loading words embeddings from text file {}'.format(\n",
        "                self.WORD_TO_VEC_MODEL_TXT_PATH\n",
        "            )\n",
        "        )\n",
        "        structure = [('word', np.dtype('U' + str(self.WORD_MAX_SIZE))),\n",
        "                     ('embedding', np.float32, (self.N_FEATURES,))]\n",
        "        structure = np.dtype(structure)\n",
        "        # load numpy array from disk using a generator\n",
        "        with open(self.WORD_TO_VEC_MODEL_TXT_PATH, encoding=\"utf8\") as words_embeddings_txt:\n",
        "            embeddings_gen = (\n",
        "                (line.split()[0], line.split()[1:]) for line in words_embeddings_txt\n",
        "                if len(line.split()[1:]) == self.N_FEATURES\n",
        "            )\n",
        "            embeddings = np.fromiter(embeddings_gen, structure)\n",
        "        # add a null embedding\n",
        "        null_embedding = np.array(\n",
        "            [('null_embedding', np.zeros((self.N_FEATURES,), dtype=np.float32))],\n",
        "            dtype=structure\n",
        "        )\n",
        "        embeddings = np.concatenate([embeddings, null_embedding])\n",
        "        # dump numpy array to disk using pickle\n",
        "        max_bytes = 2**28 - 1 # # 256MB\n",
        "        bytes_out = pickle.dumps(embeddings, protocol=pickle.HIGHEST_PROTOCOL)\n",
        "        with open(self.PKL_PATH, 'wb') as f_out:\n",
        "            for idx in range(0, len(bytes_out), max_bytes):\n",
        "                f_out.write(bytes_out[idx:idx+max_bytes])\n",
        "        self.logger.debug('words embeddings loaded')\n",
        "        return embeddings\n",
        "\n",
        "\n",
        "class GloveEmbeddings(WordsEmbeddings):\n",
        "    WORD_TO_VEC_MODEL_TXT_PATH = 'glove.twitter.27B.50d.txt'\n",
        "    PKL_PATH = 'gloveembedding.pkl'\n",
        "    N_FEATURES = 50\n",
        "    WORD_MAX_SIZE = 60\n",
        "\n",
        "class FasttextEmbeddings(WordsEmbeddings):\n",
        "    WORD_TO_VEC_MODEL_TXT_PATH = 'cc.en.300.vec'\n",
        "    PKL_PATH = 'fasttext.pkl'\n",
        "    N_FEATURES = 300\n",
        "    WORD_MAX_SIZE = 60"
      ]
    },
    {
      "cell_type": "code",
      "execution_count": 13,
      "metadata": {
        "id": "6-jjV3JMT9Y-"
      },
      "outputs": [],
      "source": [
        "model_embeddings = FasttextEmbeddings()"
      ]
    },
    {
      "cell_type": "code",
      "execution_count": 14,
      "metadata": {
        "colab": {
          "base_uri": "https://localhost:8080/"
        },
        "id": "fpBJZAjaT9Y-",
        "outputId": "e7b072fb-8ab1-4162-80d0-fffd2a76e24d"
      },
      "outputs": [
        {
          "output_type": "stream",
          "name": "stdout",
          "text": [
            "Cantidad de word embeddings nulos: 1\n",
            "Dimensión de la matriz de embeddings: (2157, 300)\n"
          ]
        }
      ],
      "source": [
        "# Embedding matrix de las secuencias\n",
        "embed_dim = model_embeddings.N_FEATURES\n",
        "words_not_found = []\n",
        "\n",
        "nb_words = min(MAX_VOCAB_SIZE, len(word2idx))\n",
        "embedding_matrix = np.zeros((nb_words, embed_dim))\n",
        "for word, i in word2idx.items():\n",
        "    if i >= nb_words:\n",
        "        continue\n",
        "    embedding_vector = model_embeddings.get_words_embeddings(word)[0]\n",
        "    if (embedding_vector is not None) and len(embedding_vector) > 0:\n",
        "        embedding_matrix[i] = embedding_vector\n",
        "    else:\n",
        "        # words not found in embedding index will be all-zeros.\n",
        "        words_not_found.append(word)\n",
        "\n",
        "print('Cantidad de word embeddings nulos:', np.sum(np.sum(embedding_matrix**2, axis=1) == 0))\n",
        "print(f'Dimensión de la matriz de embeddings: {embedding_matrix.shape}')"
      ]
    },
    {
      "cell_type": "markdown",
      "metadata": {
        "id": "3vKbhjtIwPgM"
      },
      "source": [
        "### 4 - Entrenar el modelo"
      ]
    },
    {
      "cell_type": "code",
      "execution_count": 15,
      "metadata": {
        "colab": {
          "base_uri": "https://localhost:8080/"
        },
        "id": "1PnwGzFKT9Y_",
        "outputId": "47a8b425-0d4e-4151-8d84-5a742a2e754f"
      },
      "outputs": [
        {
          "output_type": "stream",
          "name": "stdout",
          "text": [
            "Model: \"model\"\n",
            "__________________________________________________________________________________________________\n",
            " Layer (type)                   Output Shape         Param #     Connected to                     \n",
            "==================================================================================================\n",
            " input_1 (InputLayer)           [(None, 9)]          0           []                               \n",
            "                                                                                                  \n",
            " input_2 (InputLayer)           [(None, 10)]         0           []                               \n",
            "                                                                                                  \n",
            " embedding (Embedding)          (None, 9, 300)       647100      ['input_1[0][0]']                \n",
            "                                                                                                  \n",
            " embedding_1 (Embedding)        (None, 10, 256)      552448      ['input_2[0][0]']                \n",
            "                                                                                                  \n",
            " lstm (LSTM)                    [(None, 256),        570368      ['embedding[0][0]']              \n",
            "                                 (None, 256),                                                     \n",
            "                                 (None, 256)]                                                     \n",
            "                                                                                                  \n",
            " lstm_1 (LSTM)                  [(None, 10, 256),    525312      ['embedding_1[0][0]',            \n",
            "                                 (None, 256),                     'lstm[0][1]',                   \n",
            "                                 (None, 256)]                     'lstm[0][2]']                   \n",
            "                                                                                                  \n",
            " dropout (Dropout)              (None, 10, 256)      0           ['lstm_1[0][0]']                 \n",
            "                                                                                                  \n",
            " dense (Dense)                  (None, 10, 2158)     554606      ['dropout[0][0]']                \n",
            "                                                                                                  \n",
            "==================================================================================================\n",
            "Total params: 2,849,834\n",
            "Trainable params: 2,202,734\n",
            "Non-trainable params: 647,100\n",
            "__________________________________________________________________________________________________\n"
          ]
        }
      ],
      "source": [
        "# Esquema encoder-decoder utilizando los datos generados\n",
        "\n",
        "from keras.models import Model\n",
        "from keras.layers import Input, LSTM, Dense\n",
        "\n",
        "n_units = 256\n",
        "encoder_inputs = Input(shape=(max_input_len)) # Encoder de entrenamiento\n",
        "\n",
        "# Parámetros de la capa de Embedding:\n",
        "# input_dim (definido en tokenizador),\n",
        "# output_dim (dimension embeddings),\n",
        "# input_length (tamaño máximo de la secuencia de entrada),\n",
        "# weight (matriz embeddings)\n",
        "# trainable\n",
        "encoder_embedding_layer = Embedding(input_dim = nb_words, output_dim = embed_dim, input_length = max_input_len, weights = [embedding_matrix], trainable = False)\n",
        "encoder_inputs_x = encoder_embedding_layer(encoder_inputs)\n",
        "encoder = LSTM(n_units, return_state=True)\n",
        "encoder_outputs, state_h, state_c = encoder(encoder_inputs_x)\n",
        "encoder_states = [state_h, state_c]\n",
        "\n",
        "# Decoder de entrenamiento\n",
        "decoder_inputs = Input(shape=(max_out_len))\n",
        "decoder_embedding_layer = Embedding(input_dim = num_words_output, output_dim = n_units, input_length = max_out_len)\n",
        "decoder_inputs_x = decoder_embedding_layer(decoder_inputs)\n",
        "decoder_lstm = LSTM(n_units, return_sequences=True, return_state=True)\n",
        "decoder_outputs, _, _ = decoder_lstm(decoder_inputs_x, initial_state=encoder_states)\n",
        "decoder_outputs = Dropout(0.2)(decoder_outputs)\n",
        "\n",
        "# activation softmax\n",
        "# adam optimizer\n",
        "decoder_dense = Dense(num_words_output, activation='softmax')\n",
        "decoder_outputs = decoder_dense(decoder_outputs)\n",
        "model = Model([encoder_inputs, decoder_inputs], decoder_outputs)\n",
        "\n",
        "model.compile(loss='categorical_crossentropy', optimizer=\"Adam\", metrics=['accuracy'])\n",
        "model.summary()"
      ]
    },
    {
      "cell_type": "code",
      "execution_count": 16,
      "metadata": {
        "id": "HjJR4BhZT9Y_"
      },
      "outputs": [],
      "source": [
        "encoder_model = Model(encoder_inputs, encoder_states)"
      ]
    },
    {
      "cell_type": "code",
      "execution_count": 17,
      "metadata": {
        "id": "VSUpIesoT9ZA"
      },
      "outputs": [],
      "source": [
        "# Inference decoder\n",
        "decoder_state_input_h = Input(shape=(n_units,))\n",
        "decoder_state_input_c = Input(shape=(n_units,))\n",
        "decoder_states_inputs = [decoder_state_input_h, decoder_state_input_c]\n",
        "\n",
        "# En cada predicción habra una única palabra de entrada, que proviene como realimentación\n",
        "decoder_inputs_single = Input(shape=(1,))\n",
        "decoder_inputs_single_x = decoder_embedding_layer(decoder_inputs_single)\n",
        "decoder_outputs, state_h, state_c = decoder_lstm(decoder_inputs_single_x, initial_state=decoder_states_inputs)\n",
        "decoder_states = [state_h, state_c]\n",
        "decoder_outputs = Dropout(0.2)(decoder_outputs)\n",
        "decoder_outputs = decoder_dense(decoder_outputs)\n",
        "decoder_model = Model([decoder_inputs_single] + decoder_states_inputs, [decoder_outputs] + decoder_states)"
      ]
    },
    {
      "cell_type": "code",
      "execution_count": 18,
      "metadata": {
        "colab": {
          "base_uri": "https://localhost:8080/"
        },
        "id": "sIua1mZFT9ZA",
        "outputId": "0ecc9bc7-c8fd-4d3e-8251-fb6ccaf44008"
      },
      "outputs": [
        {
          "output_type": "stream",
          "name": "stdout",
          "text": [
            "Epoch 1/50\n",
            "151/151 [==============================] - 20s 64ms/step - loss: 2.6920 - accuracy: 0.5623 - val_loss: 2.1446 - val_accuracy: 0.6495\n",
            "Epoch 2/50\n",
            "151/151 [==============================] - 3s 18ms/step - loss: 1.8523 - accuracy: 0.6741 - val_loss: 1.8943 - val_accuracy: 0.6925\n",
            "Epoch 3/50\n",
            "151/151 [==============================] - 2s 12ms/step - loss: 1.5947 - accuracy: 0.7173 - val_loss: 1.7728 - val_accuracy: 0.7099\n",
            "Epoch 4/50\n",
            "151/151 [==============================] - 2s 12ms/step - loss: 1.4621 - accuracy: 0.7341 - val_loss: 1.7156 - val_accuracy: 0.7154\n",
            "Epoch 5/50\n",
            "151/151 [==============================] - 2s 12ms/step - loss: 1.3801 - accuracy: 0.7413 - val_loss: 1.6835 - val_accuracy: 0.7152\n",
            "Epoch 6/50\n",
            "151/151 [==============================] - 2s 13ms/step - loss: 1.3142 - accuracy: 0.7475 - val_loss: 1.6578 - val_accuracy: 0.7207\n",
            "Epoch 7/50\n",
            "151/151 [==============================] - 2s 11ms/step - loss: 1.2614 - accuracy: 0.7536 - val_loss: 1.6403 - val_accuracy: 0.7258\n",
            "Epoch 8/50\n",
            "151/151 [==============================] - 3s 17ms/step - loss: 1.2172 - accuracy: 0.7579 - val_loss: 1.6285 - val_accuracy: 0.7289\n",
            "Epoch 9/50\n",
            "151/151 [==============================] - 2s 11ms/step - loss: 1.1763 - accuracy: 0.7631 - val_loss: 1.6268 - val_accuracy: 0.7297\n",
            "Epoch 10/50\n",
            "151/151 [==============================] - 2s 12ms/step - loss: 1.1432 - accuracy: 0.7673 - val_loss: 1.6257 - val_accuracy: 0.7348\n",
            "Epoch 11/50\n",
            "151/151 [==============================] - 2s 12ms/step - loss: 1.1125 - accuracy: 0.7686 - val_loss: 1.6223 - val_accuracy: 0.7335\n",
            "Epoch 12/50\n",
            "151/151 [==============================] - 2s 10ms/step - loss: 1.0829 - accuracy: 0.7715 - val_loss: 1.6229 - val_accuracy: 0.7349\n",
            "Epoch 13/50\n",
            "151/151 [==============================] - 2s 11ms/step - loss: 1.0568 - accuracy: 0.7739 - val_loss: 1.6246 - val_accuracy: 0.7370\n",
            "Epoch 14/50\n",
            "151/151 [==============================] - 2s 12ms/step - loss: 1.0300 - accuracy: 0.7778 - val_loss: 1.6289 - val_accuracy: 0.7363\n",
            "Epoch 15/50\n",
            "151/151 [==============================] - 2s 16ms/step - loss: 1.0048 - accuracy: 0.7802 - val_loss: 1.6311 - val_accuracy: 0.7391\n",
            "Epoch 16/50\n",
            "151/151 [==============================] - 2s 12ms/step - loss: 0.9822 - accuracy: 0.7835 - val_loss: 1.6315 - val_accuracy: 0.7395\n",
            "Epoch 17/50\n",
            "151/151 [==============================] - 2s 11ms/step - loss: 0.9608 - accuracy: 0.7869 - val_loss: 1.6378 - val_accuracy: 0.7377\n",
            "Epoch 18/50\n",
            "151/151 [==============================] - 2s 10ms/step - loss: 0.9373 - accuracy: 0.7892 - val_loss: 1.6425 - val_accuracy: 0.7396\n",
            "Epoch 19/50\n",
            "151/151 [==============================] - 2s 10ms/step - loss: 0.9183 - accuracy: 0.7928 - val_loss: 1.6509 - val_accuracy: 0.7389\n",
            "Epoch 20/50\n",
            "151/151 [==============================] - 2s 11ms/step - loss: 0.8990 - accuracy: 0.7955 - val_loss: 1.6556 - val_accuracy: 0.7404\n",
            "Epoch 21/50\n",
            "151/151 [==============================] - 2s 12ms/step - loss: 0.8815 - accuracy: 0.7975 - val_loss: 1.6611 - val_accuracy: 0.7389\n",
            "Epoch 22/50\n",
            "151/151 [==============================] - 2s 14ms/step - loss: 0.8608 - accuracy: 0.8019 - val_loss: 1.6689 - val_accuracy: 0.7398\n",
            "Epoch 23/50\n",
            "151/151 [==============================] - 2s 11ms/step - loss: 0.8447 - accuracy: 0.8055 - val_loss: 1.6764 - val_accuracy: 0.7403\n",
            "Epoch 24/50\n",
            "151/151 [==============================] - 2s 11ms/step - loss: 0.8295 - accuracy: 0.8063 - val_loss: 1.6861 - val_accuracy: 0.7393\n",
            "Epoch 25/50\n",
            "151/151 [==============================] - 2s 11ms/step - loss: 0.8153 - accuracy: 0.8084 - val_loss: 1.6946 - val_accuracy: 0.7400\n",
            "Epoch 26/50\n",
            "151/151 [==============================] - 2s 12ms/step - loss: 0.8018 - accuracy: 0.8103 - val_loss: 1.7037 - val_accuracy: 0.7379\n",
            "Epoch 27/50\n",
            "151/151 [==============================] - 2s 12ms/step - loss: 0.7869 - accuracy: 0.8125 - val_loss: 1.7136 - val_accuracy: 0.7382\n",
            "Epoch 28/50\n",
            "151/151 [==============================] - 3s 17ms/step - loss: 0.7733 - accuracy: 0.8154 - val_loss: 1.7249 - val_accuracy: 0.7375\n",
            "Epoch 29/50\n",
            "151/151 [==============================] - 2s 13ms/step - loss: 0.7608 - accuracy: 0.8164 - val_loss: 1.7239 - val_accuracy: 0.7365\n",
            "Epoch 30/50\n",
            "151/151 [==============================] - 2s 12ms/step - loss: 0.7465 - accuracy: 0.8197 - val_loss: 1.7287 - val_accuracy: 0.7390\n",
            "Epoch 31/50\n",
            "151/151 [==============================] - 2s 11ms/step - loss: 0.7363 - accuracy: 0.8210 - val_loss: 1.7432 - val_accuracy: 0.7392\n",
            "Epoch 32/50\n",
            "151/151 [==============================] - 2s 13ms/step - loss: 0.7245 - accuracy: 0.8235 - val_loss: 1.7508 - val_accuracy: 0.7404\n",
            "Epoch 33/50\n",
            "151/151 [==============================] - 3s 17ms/step - loss: 0.7128 - accuracy: 0.8243 - val_loss: 1.7528 - val_accuracy: 0.7378\n",
            "Epoch 34/50\n",
            "151/151 [==============================] - 2s 13ms/step - loss: 0.7014 - accuracy: 0.8266 - val_loss: 1.7728 - val_accuracy: 0.7377\n",
            "Epoch 35/50\n",
            "151/151 [==============================] - 2s 13ms/step - loss: 0.6913 - accuracy: 0.8280 - val_loss: 1.7787 - val_accuracy: 0.7401\n",
            "Epoch 36/50\n",
            "151/151 [==============================] - 2s 10ms/step - loss: 0.6801 - accuracy: 0.8301 - val_loss: 1.7888 - val_accuracy: 0.7365\n",
            "Epoch 37/50\n",
            "151/151 [==============================] - 2s 12ms/step - loss: 0.6698 - accuracy: 0.8321 - val_loss: 1.8010 - val_accuracy: 0.7385\n",
            "Epoch 38/50\n",
            "151/151 [==============================] - 2s 10ms/step - loss: 0.6611 - accuracy: 0.8338 - val_loss: 1.8074 - val_accuracy: 0.7345\n",
            "Epoch 39/50\n",
            "151/151 [==============================] - 2s 10ms/step - loss: 0.6517 - accuracy: 0.8360 - val_loss: 1.8157 - val_accuracy: 0.7373\n",
            "Epoch 40/50\n",
            "151/151 [==============================] - 2s 11ms/step - loss: 0.6395 - accuracy: 0.8379 - val_loss: 1.8322 - val_accuracy: 0.7354\n",
            "Epoch 41/50\n",
            "151/151 [==============================] - 2s 11ms/step - loss: 0.6328 - accuracy: 0.8388 - val_loss: 1.8471 - val_accuracy: 0.7367\n",
            "Epoch 42/50\n",
            "151/151 [==============================] - 2s 14ms/step - loss: 0.6212 - accuracy: 0.8415 - val_loss: 1.8618 - val_accuracy: 0.7375\n",
            "Epoch 43/50\n",
            "151/151 [==============================] - 2s 10ms/step - loss: 0.6119 - accuracy: 0.8426 - val_loss: 1.8599 - val_accuracy: 0.7361\n",
            "Epoch 44/50\n",
            "151/151 [==============================] - 1s 10ms/step - loss: 0.6037 - accuracy: 0.8441 - val_loss: 1.8710 - val_accuracy: 0.7362\n",
            "Epoch 45/50\n",
            "151/151 [==============================] - 2s 12ms/step - loss: 0.5973 - accuracy: 0.8443 - val_loss: 1.8790 - val_accuracy: 0.7379\n",
            "Epoch 46/50\n",
            "151/151 [==============================] - 2s 12ms/step - loss: 0.5859 - accuracy: 0.8480 - val_loss: 1.8968 - val_accuracy: 0.7374\n",
            "Epoch 47/50\n",
            "151/151 [==============================] - 2s 10ms/step - loss: 0.5786 - accuracy: 0.8489 - val_loss: 1.9005 - val_accuracy: 0.7368\n",
            "Epoch 48/50\n",
            "151/151 [==============================] - 2s 12ms/step - loss: 0.5695 - accuracy: 0.8499 - val_loss: 1.9147 - val_accuracy: 0.7347\n",
            "Epoch 49/50\n",
            "151/151 [==============================] - 2s 14ms/step - loss: 0.5626 - accuracy: 0.8520 - val_loss: 1.9163 - val_accuracy: 0.7357\n",
            "Epoch 50/50\n",
            "151/151 [==============================] - 2s 11ms/step - loss: 0.5545 - accuracy: 0.8529 - val_loss: 1.9329 - val_accuracy: 0.7344\n"
          ]
        }
      ],
      "source": [
        "hist = model.fit([encoder_input_sequences, decoder_input_sequences],decoder_targets,epochs=50, validation_split=0.2)"
      ]
    },
    {
      "cell_type": "code",
      "execution_count": 19,
      "metadata": {
        "colab": {
          "base_uri": "https://localhost:8080/",
          "height": 472
        },
        "id": "U93St1nWT9ZA",
        "outputId": "7edef658-a1d0-4120-800d-e16b09f94ad5"
      },
      "outputs": [
        {
          "output_type": "display_data",
          "data": {
            "text/plain": [
              "<Figure size 640x480 with 1 Axes>"
            ],
            "image/png": "[encoded data removed]"
          },
          "metadata": {}
        }
      ],
      "source": [
        "import matplotlib.pyplot as plt\n",
        "import seaborn as sns\n",
        "\n",
        "# Accuracy\n",
        "blues_palette = sns.color_palette(\"Blues\")\n",
        "epoch_count = range(1, len(hist.history['accuracy']) + 1)\n",
        "sns.lineplot(x=epoch_count, y=hist.history['accuracy'], label='Train', color=blues_palette[3])\n",
        "sns.lineplot(x=epoch_count, y=hist.history['val_accuracy'], label='Valid', color=blues_palette[5])\n",
        "plt.ylabel('Accuracy')\n",
        "plt.xlabel('Epochs')\n",
        "plt.title('Accuracy vs. Epochs')\n",
        "plt.show()"
      ]
    },
    {
      "cell_type": "code",
      "execution_count": 20,
      "metadata": {
        "colab": {
          "base_uri": "https://localhost:8080/",
          "height": 472
        },
        "id": "7lBLMA1-T9ZA",
        "outputId": "f9b391fc-6d57-4067-b8b1-50899d22efdf"
      },
      "outputs": [
        {
          "output_type": "display_data",
          "data": {
            "text/plain": [
              "<Figure size 640x480 with 1 Axes>"
            ],
            "image/png": "[encoded data removed]"
          },
          "metadata": {}
        }
      ],
      "source": [
        "# Loss function\n",
        "epoch_count = range(1, len(hist.history[\"loss\"]) + 1)\n",
        "sns.lineplot(x=epoch_count, y=hist.history[\"loss\"], label=\"Train\", color=blues_palette[3])\n",
        "sns.lineplot(x=epoch_count, y=hist.history[\"val_loss\"], label=\"Valid\", color=blues_palette[5])\n",
        "plt.ylabel('Categorical cross-entropy')\n",
        "plt.xlabel('Epochs')\n",
        "plt.title('Categorical cross-entropy vs. Epochs')\n",
        "plt.show()"
      ]
    },
    {
      "cell_type": "markdown",
      "metadata": {
        "id": "Zbwn0ekDy_s2"
      },
      "source": [
        "### 5 - Inferencia"
      ]
    },
    {
      "cell_type": "code",
      "execution_count": 21,
      "metadata": {
        "id": "ZZVwElZOT9ZB"
      },
      "outputs": [],
      "source": [
        "idx2word = {v:k for k, v in word2idx.items()}"
      ]
    },
    {
      "cell_type": "code",
      "execution_count": 22,
      "metadata": {
        "id": "iNMdzlXGT9ZB"
      },
      "outputs": [],
      "source": [
        "idx2word = {v:k for k, v in word2idx.items()}"
      ]
    },
    {
      "cell_type": "code",
      "execution_count": 23,
      "metadata": {
        "id": "9Wzb_TCiT9ZB"
      },
      "outputs": [],
      "source": [
        "def get_bot_answer(input_seq):\n",
        "    int_seq = tokenizer.texts_to_sequences([input_seq])[0]\n",
        "    input_seq = pad_sequences([int_seq], maxlen=max_input_len)\n",
        "\n",
        "    # Se transforma la sequencia de entrada a los estados \"h\" y \"c\" de la LSTM\n",
        "    # para enviar la primera vez al decoder\n",
        "    states_value = encoder_model.predict(input_seq)\n",
        "\n",
        "    # Se inicializa la secuencia de entrada al decoder como \"<sos>\"\n",
        "    target_seq = np.zeros((1, 1))\n",
        "    target_seq[0, 0] = word2idx['<sos>']\n",
        "\n",
        "    # Se obtiene el índice que finaliza la inferencia\n",
        "    eos = word2idx['<eos>']\n",
        "\n",
        "    output_sentence = []\n",
        "    for _ in range(max_out_len):\n",
        "        # Predicción del próximo elemento\n",
        "        output_tokens, h, c = decoder_model.predict([target_seq] + states_value)\n",
        "        idx = np.argmax(output_tokens[0, 0, :])\n",
        "\n",
        "        # Si es \"end of sentece <eos>\" se acaba\n",
        "        if eos == idx:\n",
        "            break\n",
        "\n",
        "        # Transformar idx a palabra\n",
        "        word = ''\n",
        "        if idx > 0:\n",
        "            word = idx2word[idx]\n",
        "            output_sentence.append(word)\n",
        "\n",
        "        # Actualizar los estados dada la última predicción\n",
        "        states_value = [h, c]\n",
        "\n",
        "        # Actualizar secuencia de entrada con la salida (re-alimentación)\n",
        "        target_seq[0, 0] = idx\n",
        "\n",
        "    return ' '.join(output_sentence)"
      ]
    },
    {
      "cell_type": "code",
      "execution_count": 24,
      "metadata": {
        "id": "HtQA6Vh9T9ZC"
      },
      "outputs": [],
      "source": [
        "import sys\n",
        "\n",
        "def start_chat():\n",
        "  print(\"Welcome to the ChatBot.\\n (Please type 'quit' to exit)\")\n",
        "  while True:\n",
        "    # Pido input al usuario\n",
        "    message = input(\"\")\n",
        "    print(\"USER:\", message)\n",
        "    if message.lower() == 'quit':\n",
        "      break\n",
        "\n",
        "    if len(message) > 0:\n",
        "      # Para evitar imprimir el progreso de los pasos durante la inferencia\n",
        "      original_stdout = sys.stdout\n",
        "      sys.stdout = open('nul', 'w')\n",
        "      # Infiero respuesta\n",
        "      answer = get_bot_answer(message)\n",
        "      sys.stdout.close()\n",
        "      sys.stdout = original_stdout\n",
        "      print(\"BOT:\", answer)"
      ]
    },
    {
      "cell_type": "code",
      "execution_count": 25,
      "metadata": {
        "colab": {
          "base_uri": "https://localhost:8080/"
        },
        "id": "dhVHgqSlT9ZD",
        "outputId": "5c1718c0-7314-42e3-80bc-9831b964a62c"
      },
      "outputs": [
        {
          "output_type": "stream",
          "name": "stdout",
          "text": [
            "Welcome to the ChatBot.\n",
            " (Please type 'quit' to exit)\n",
            "Hello!\n",
            "USER: Hello!\n",
            "BOT: hello how are you\n",
            "Fine and you?\n",
            "USER: Fine and you?\n",
            "BOT: i am not sure what you mean\n",
            "You play something?\n",
            "USER: You play something?\n",
            "BOT: i am not sure what you mean\n",
            "Can you play?\n",
            "USER: Can you play?\n",
            "BOT: i am not sure what you mean\n",
            "you play?\n",
            "USER: you play?\n",
            "BOT: i love to go to the beach\n",
            "Nice\n",
            "USER: Nice\n",
            "BOT: what do you do for a living\n",
            "I'am a programmer\n",
            "USER: I'am a programmer\n",
            "BOT: i love to go to the beach\n",
            "By\n",
            "USER: By\n",
            "BOT: i hope you have a good day\n",
            "quit\n",
            "USER: quit\n"
          ]
        }
      ],
      "source": [
        "start_chat()"
      ]
    },
    {
      "cell_type": "code",
      "execution_count": 26,
      "metadata": {
        "colab": {
          "base_uri": "https://localhost:8080/"
        },
        "id": "GtXP7vC9T9ZD",
        "outputId": "468aef73-e8b4-4ab1-a407-8c7c962fca78"
      },
      "outputs": [
        {
          "output_type": "stream",
          "name": "stdout",
          "text": [
            "Welcome to the ChatBot.\n",
            " (Please type 'quit' to exit)\n",
            "HI\n",
            "USER: HI\n",
            "BOT: hello how are you\n",
            "Fine, where are you from?\n",
            "USER: Fine, where are you from?\n",
            "BOT: i am from the united states\n",
            "You like to walk?\n",
            "USER: You like to walk?\n",
            "BOT: i like to go to the beach\n",
            "by\n",
            "USER: by\n",
            "BOT: i hope you have a good day\n",
            "quit\n",
            "USER: quit\n"
          ]
        }
      ],
      "source": [
        "start_chat()"
      ]
    },
    {
      "cell_type": "code",
      "execution_count": 27,
      "metadata": {
        "colab": {
          "base_uri": "https://localhost:8080/"
        },
        "id": "lpjK0JQ0T9ZE",
        "outputId": "93fad93a-c509-45fb-803f-74538fc75085"
      },
      "outputs": [
        {
          "output_type": "stream",
          "name": "stdout",
          "text": [
            "Welcome to the ChatBot.\n",
            " (Please type 'quit' to exit)\n",
            "Hello\n",
            "USER: Hello\n",
            "BOT: hello how are you\n",
            "Very good\n",
            "USER: Very good\n",
            "BOT: what do you do for a living\n",
            "play games\n",
            "USER: play games\n",
            "BOT: what do you do for a living\n",
            "i play games\n",
            "USER: i play games\n",
            "BOT: what do you do for a living\n",
            "studing\n",
            "USER: studing\n",
            "BOT: i love to read\n",
            "What are you?\n",
            "USER: What are you?\n",
            "BOT: i am not sure what you mean\n",
            "By\n",
            "USER: By\n",
            "BOT: i hope you have a good day\n",
            "Quit\n",
            "USER: Quit\n"
          ]
        }
      ],
      "source": [
        "start_chat()"
      ]
    },
    {
      "cell_type": "markdown",
      "metadata": {
        "id": "ANeDt9-ST9ZE"
      },
      "source": [
        "### 6 - Conclusión"
      ]
    },
    {
      "cell_type": "markdown",
      "metadata": {
        "id": "nwSC2JstT9ZE"
      },
      "source": [
        "El bot de conversación se comportó bastante bien ante una conversación muy simple. Sus respuestas se adecuan y en algunas ocaciones no supo interpretar la conversación. De todas maneras parece poder responder solo preguntas muy directas y especificas, posiblemente por la falta de vocabulario o entrenamiento.\n",
        "\n",
        "Se podrian obtener mejores resultados con una muestra de datos mayor para tener una fuente mas rica de vocabularios y posibles respuestas a mas interacciones. También podria ajustarse en mejor medida el entrenamiento del modelo siempre y cuando no tienda a memorizar resultados.\n",
        "\n",
        "En ocaciones siempre responde con lo mismo, lo que de alguna manera estaria memorizando respuestas."
      ]
    }
  ],
  "metadata": {
    "accelerator": "GPU",
    "colab": {
      "provenance": []
    },
    "kernelspec": {
      "display_name": "Python 3.10.7 64-bit",
      "language": "python",
      "name": "python3"
    },
    "language_info": {
      "codemirror_mode": {
        "name": "ipython",
        "version": 3
      },
      "file_extension": ".py",
      "mimetype": "text/x-python",
      "name": "python",
      "nbconvert_exporter": "python",
      "pygments_lexer": "ipython3",
      "version": "3.10.7"
    },
    "vscode": {
      "interpreter": {
        "hash": "e371205f210a962933891fb768393d0bb46a1077adb2f652d434f3dc01a259b4"
      }
    }
  },
  "nbformat": 4,
  "nbformat_minor": 0
}