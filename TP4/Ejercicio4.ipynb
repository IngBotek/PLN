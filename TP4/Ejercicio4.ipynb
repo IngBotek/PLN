{
  "cells": [
    {
      "cell_type": "markdown",
      "metadata": {
        "id": "g3yeJGnCYxuF"
      },
      "source": [
        "<img src=\"https://github.com/hernancontigiani/ceia_memorias_especializacion/raw/master/Figures/logoFIUBA.jpg\" width=\"500\" align=\"center\">\n",
        "\n",
        "\n",
        "# Procesamiento de lenguaje natural\n",
        "## Predicción de próxima palabra"
      ]
    },
    {
      "cell_type": "markdown",
      "metadata": {
        "id": "Iv5PEwGzZA9-"
      },
      "source": [
        "### Objetivo\n",
        "El objetivo es utilizar documentos / corpus para crear embeddings de palabras basado en ese contexto utilizando la layer Embedding de Keras. Se utilizará esos embeddings junto con layers LSTM para predeccir la próxima posible palabra."
      ]
    },
    {
      "cell_type": "code",
      "source": [
        "from google.colab import drive\n",
        "drive.mount('/content/drive')"
      ],
      "metadata": {
        "colab": {
          "base_uri": "https://localhost:8080/"
        },
        "id": "VA2aJZZ5waCq",
        "outputId": "215acd29-6843-4384-957e-6c740b4373c6"
      },
      "execution_count": 124,
      "outputs": [
        {
          "output_type": "stream",
          "name": "stdout",
          "text": [
            "Drive already mounted at /content/drive; to attempt to forcibly remount, call drive.mount(\"/content/drive\", force_remount=True).\n"
          ]
        }
      ]
    },
    {
      "cell_type": "code",
      "execution_count": 125,
      "metadata": {
        "id": "Y-QdFbHZYj7C"
      },
      "outputs": [],
      "source": [
        "import random\n",
        "import io\n",
        "import pickle\n",
        "\n",
        "import numpy as np\n",
        "import pandas as pd\n",
        "\n",
        "from tensorflow import keras\n",
        "from tensorflow.keras import layers\n",
        "from keras.utils.np_utils import to_categorical\n",
        "from keras.models import Sequential\n",
        "from keras.layers import Dense, LSTM, Embedding, Dropout"
      ]
    },
    {
      "cell_type": "markdown",
      "metadata": {
        "id": "xTvXlEKQZdqx"
      },
      "source": [
        "### Datos\n",
        "Utilizaremos como dataset canciones de bandas de habla inglés."
      ]
    },
    {
      "cell_type": "code",
      "execution_count": 126,
      "metadata": {
        "id": "IkdPfrQJZdB5"
      },
      "outputs": [],
      "source": [
        "import os\n",
        "import platform\n",
        "\n",
        "if os.access('torch_helpers.py', os.F_OK) is False:\n",
        "    if platform.system() == 'Windows':\n",
        "        !curl !wget https://raw.githubusercontent.com/FIUBA-Posgrado-Inteligencia-Artificial/procesamiento_lenguaje_natural/main/scripts/torch_helpers.py > torch_helpers.py\n",
        "    else:\n",
        "        !wget torch_helpers.py https://raw.githubusercontent.com/FIUBA-Posgrado-Inteligencia-Artificial/procesamiento_lenguaje_natural/main/scripts/torch_helpers.py"
      ]
    },
    {
      "cell_type": "code",
      "source": [
        "import sys\n",
        "sys.path.append('/content/torch_helpers.py')"
      ],
      "metadata": {
        "id": "GJ967VbSwdlf"
      },
      "execution_count": 127,
      "outputs": []
    },
    {
      "cell_type": "code",
      "execution_count": 128,
      "metadata": {
        "id": "6j-3nQ4lZjfb"
      },
      "outputs": [],
      "source": [
        "from urllib import request\n",
        "\n",
        "# URL The Project Gutenberg eBook of The Time Machine, by H. G. Wells\n",
        "url = \"https://www.gutenberg.org/files/35/35-0.txt\"\n",
        "\n",
        "# Variable para almacenar el libro\n",
        "texts = []\n",
        "\n",
        "# Recuperar el contenido del libro\n",
        "response = request.urlopen(url)\n",
        "raw = response.read()\n",
        "text = raw.decode(\"utf-8-sig\")"
      ]
    },
    {
      "cell_type": "code",
      "execution_count": 129,
      "metadata": {
        "id": "Gb39v3PaZmRH",
        "colab": {
          "base_uri": "https://localhost:8080/",
          "height": 206
        },
        "outputId": "c57a344c-5bc4-44c7-b31d-f65d6e92f011"
      },
      "outputs": [
        {
          "output_type": "execute_result",
          "data": {
            "text/plain": [
              "                                             Oracion\n",
              "0  The Project Gutenberg eBook of The Time Machin...\n",
              "1                                                  G\n",
              "2   Wells\\r\\n\\r\\nThis eBook is for the use of any...\n",
              "3   You may copy it, give it away or re-use it un...\n",
              "4                                          gutenberg"
            ],
            "text/html": [
              "\n",
              "  <div id=\"df-a5eb933e-1092-4e5c-bce1-57a5c4bfc522\" class=\"colab-df-container\">\n",
              "    <div>\n",
              "<style scoped>\n",
              "    .dataframe tbody tr th:only-of-type {\n",
              "        vertical-align: middle;\n",
              "    }\n",
              "\n",
              "    .dataframe tbody tr th {\n",
              "        vertical-align: top;\n",
              "    }\n",
              "\n",
              "    .dataframe thead th {\n",
              "        text-align: right;\n",
              "    }\n",
              "</style>\n",
              "<table border=\"1\" class=\"dataframe\">\n",
              "  <thead>\n",
              "    <tr style=\"text-align: right;\">\n",
              "      <th></th>\n",
              "      <th>Oracion</th>\n",
              "    </tr>\n",
              "  </thead>\n",
              "  <tbody>\n",
              "    <tr>\n",
              "      <th>0</th>\n",
              "      <td>The Project Gutenberg eBook of The Time Machin...</td>\n",
              "    </tr>\n",
              "    <tr>\n",
              "      <th>1</th>\n",
              "      <td>G</td>\n",
              "    </tr>\n",
              "    <tr>\n",
              "      <th>2</th>\n",
              "      <td>Wells\\r\\n\\r\\nThis eBook is for the use of any...</td>\n",
              "    </tr>\n",
              "    <tr>\n",
              "      <th>3</th>\n",
              "      <td>You may copy it, give it away or re-use it un...</td>\n",
              "    </tr>\n",
              "    <tr>\n",
              "      <th>4</th>\n",
              "      <td>gutenberg</td>\n",
              "    </tr>\n",
              "  </tbody>\n",
              "</table>\n",
              "</div>\n",
              "    <div class=\"colab-df-buttons\">\n",
              "\n",
              "  <div class=\"colab-df-container\">\n",
              "    <button class=\"colab-df-convert\" onclick=\"convertToInteractive('df-a5eb933e-1092-4e5c-bce1-57a5c4bfc522')\"\n",
              "            title=\"Convert this dataframe to an interactive table.\"\n",
              "            style=\"display:none;\">\n",
              "\n",
              "  <svg xmlns=\"http://www.w3.org/2000/svg\" height=\"24px\" viewBox=\"0 -960 960 960\">\n",
              "    <path d=\"M120-120v-720h720v720H120Zm60-500h600v-160H180v160Zm220 220h160v-160H400v160Zm0 220h160v-160H400v160ZM180-400h160v-160H180v160Zm440 0h160v-160H620v160ZM180-180h160v-160H180v160Zm440 0h160v-160H620v160Z\"/>\n",
              "  </svg>\n",
              "    </button>\n",
              "\n",
              "  <style>\n",
              "    .colab-df-container {\n",
              "      display:flex;\n",
              "      gap: 12px;\n",
              "    }\n",
              "\n",
              "    .colab-df-convert {\n",
              "      background-color: #E8F0FE;\n",
              "      border: none;\n",
              "      border-radius: 50%;\n",
              "      cursor: pointer;\n",
              "      display: none;\n",
              "      fill: #1967D2;\n",
              "      height: 32px;\n",
              "      padding: 0 0 0 0;\n",
              "      width: 32px;\n",
              "    }\n",
              "\n",
              "    .colab-df-convert:hover {\n",
              "      background-color: #E2EBFA;\n",
              "      box-shadow: 0px 1px 2px rgba(60, 64, 67, 0.3), 0px 1px 3px 1px rgba(60, 64, 67, 0.15);\n",
              "      fill: #174EA6;\n",
              "    }\n",
              "\n",
              "    .colab-df-buttons div {\n",
              "      margin-bottom: 4px;\n",
              "    }\n",
              "\n",
              "    [theme=dark] .colab-df-convert {\n",
              "      background-color: #3B4455;\n",
              "      fill: #D2E3FC;\n",
              "    }\n",
              "\n",
              "    [theme=dark] .colab-df-convert:hover {\n",
              "      background-color: #434B5C;\n",
              "      box-shadow: 0px 1px 3px 1px rgba(0, 0, 0, 0.15);\n",
              "      filter: drop-shadow(0px 1px 2px rgba(0, 0, 0, 0.3));\n",
              "      fill: #FFFFFF;\n",
              "    }\n",
              "  </style>\n",
              "\n",
              "    <script>\n",
              "      const buttonEl =\n",
              "        document.querySelector('#df-a5eb933e-1092-4e5c-bce1-57a5c4bfc522 button.colab-df-convert');\n",
              "      buttonEl.style.display =\n",
              "        google.colab.kernel.accessAllowed ? 'block' : 'none';\n",
              "\n",
              "      async function convertToInteractive(key) {\n",
              "        const element = document.querySelector('#df-a5eb933e-1092-4e5c-bce1-57a5c4bfc522');\n",
              "        const dataTable =\n",
              "          await google.colab.kernel.invokeFunction('convertToInteractive',\n",
              "                                                    [key], {});\n",
              "        if (!dataTable) return;\n",
              "\n",
              "        const docLinkHtml = 'Like what you see? Visit the ' +\n",
              "          '<a target=\"_blank\" href=https://colab.research.google.com/notebooks/data_table.ipynb>data table notebook</a>'\n",
              "          + ' to learn more about interactive tables.';\n",
              "        element.innerHTML = '';\n",
              "        dataTable['output_type'] = 'display_data';\n",
              "        await google.colab.output.renderOutput(dataTable, element);\n",
              "        const docLink = document.createElement('div');\n",
              "        docLink.innerHTML = docLinkHtml;\n",
              "        element.appendChild(docLink);\n",
              "      }\n",
              "    </script>\n",
              "  </div>\n",
              "\n",
              "\n",
              "<div id=\"df-8afc2235-5d08-438b-832d-23b5e597a6f2\">\n",
              "  <button class=\"colab-df-quickchart\" onclick=\"quickchart('df-8afc2235-5d08-438b-832d-23b5e597a6f2')\"\n",
              "            title=\"Suggest charts.\"\n",
              "            style=\"display:none;\">\n",
              "\n",
              "<svg xmlns=\"http://www.w3.org/2000/svg\" height=\"24px\"viewBox=\"0 0 24 24\"\n",
              "     width=\"24px\">\n",
              "    <g>\n",
              "        <path d=\"M19 3H5c-1.1 0-2 .9-2 2v14c0 1.1.9 2 2 2h14c1.1 0 2-.9 2-2V5c0-1.1-.9-2-2-2zM9 17H7v-7h2v7zm4 0h-2V7h2v10zm4 0h-2v-4h2v4z\"/>\n",
              "    </g>\n",
              "</svg>\n",
              "  </button>\n",
              "\n",
              "<style>\n",
              "  .colab-df-quickchart {\n",
              "    background-color: #E8F0FE;\n",
              "    border: none;\n",
              "    border-radius: 50%;\n",
              "    cursor: pointer;\n",
              "    display: none;\n",
              "    fill: #1967D2;\n",
              "    height: 32px;\n",
              "    padding: 0 0 0 0;\n",
              "    width: 32px;\n",
              "  }\n",
              "\n",
              "  .colab-df-quickchart:hover {\n",
              "    background-color: #E2EBFA;\n",
              "    box-shadow: 0px 1px 2px rgba(60, 64, 67, 0.3), 0px 1px 3px 1px rgba(60, 64, 67, 0.15);\n",
              "    fill: #174EA6;\n",
              "  }\n",
              "\n",
              "  [theme=dark] .colab-df-quickchart {\n",
              "    background-color: #3B4455;\n",
              "    fill: #D2E3FC;\n",
              "  }\n",
              "\n",
              "  [theme=dark] .colab-df-quickchart:hover {\n",
              "    background-color: #434B5C;\n",
              "    box-shadow: 0px 1px 3px 1px rgba(0, 0, 0, 0.15);\n",
              "    filter: drop-shadow(0px 1px 2px rgba(0, 0, 0, 0.3));\n",
              "    fill: #FFFFFF;\n",
              "  }\n",
              "</style>\n",
              "\n",
              "  <script>\n",
              "    async function quickchart(key) {\n",
              "      const charts = await google.colab.kernel.invokeFunction(\n",
              "          'suggestCharts', [key], {});\n",
              "    }\n",
              "    (() => {\n",
              "      let quickchartButtonEl =\n",
              "        document.querySelector('#df-8afc2235-5d08-438b-832d-23b5e597a6f2 button');\n",
              "      quickchartButtonEl.style.display =\n",
              "        google.colab.kernel.accessAllowed ? 'block' : 'none';\n",
              "    })();\n",
              "  </script>\n",
              "</div>\n",
              "    </div>\n",
              "  </div>\n"
            ]
          },
          "metadata": {},
          "execution_count": 129
        }
      ],
      "source": [
        "# Separo el texto en oraciones, las cuales se separan mediante un punto ('.')\n",
        "sentences = text.split('.')\n",
        "\n",
        "# Creo un dataframe que contiene las oraciones\n",
        "df = pd.DataFrame({'Oracion': sentences})\n",
        "\n",
        "df.head()"
      ]
    },
    {
      "cell_type": "code",
      "execution_count": 130,
      "metadata": {
        "id": "riT898QlZnmF",
        "colab": {
          "base_uri": "https://localhost:8080/"
        },
        "outputId": "70bf482c-13f4-4c09-c2f3-9fb1d4d3b9f1"
      },
      "outputs": [
        {
          "output_type": "stream",
          "name": "stdout",
          "text": [
            "Cantidad de documentos: 2031\n"
          ]
        }
      ],
      "source": [
        "print(\"Cantidad de documentos:\", df.shape[0])"
      ]
    },
    {
      "cell_type": "markdown",
      "metadata": {
        "id": "RDoouHp7Zp6D"
      },
      "source": [
        "### 1 - Ejemplo de Preprocesamiento\n",
        "- Hay que transformar las oraciones en tokens.\n",
        "- Dichas oraciones hay que ajustarlas al tamaño fijo de nuestra sentencia de entrada al modelo.\n",
        "- Hay que separar las palabras objetivos (target) que el modelo debe predecir en cada sentencia armada."
      ]
    },
    {
      "cell_type": "code",
      "execution_count": 131,
      "metadata": {
        "id": "m5FeTaGvbDbw"
      },
      "outputs": [],
      "source": [
        "from keras.preprocessing.text import Tokenizer # equivalente a ltokenizer de nltk\n",
        "from keras.preprocessing.text import text_to_word_sequence # equivalente a word_tokenize de nltk\n",
        "from keras.utils import pad_sequences # se utilizará para padding\n",
        "\n",
        "# largo de la secuencia, incluye seq input + word output\n",
        "train_len = 4"
      ]
    },
    {
      "cell_type": "code",
      "execution_count": 132,
      "metadata": {
        "id": "Zf3O7eK6ZpP8"
      },
      "outputs": [],
      "source": [
        "import re\n",
        "\n",
        "# Preprocesamiento: filtro números, espacios en blanco consecutivos y caractéres especiales\n",
        "book = [re.sub(r'[^a-zA-z.!?/\\\"\\'\\s]', ' ', sentence) for sentence in df['Oracion']]\n",
        "book = [re.sub(r'\\s+', ' ', sentence) for sentence in book]\n",
        "book = [re.sub(r'[\\_\\[\\]]', '',sentence) for sentence in book]\n",
        "book = [sentence.lower() for sentence in book]"
      ]
    },
    {
      "cell_type": "code",
      "source": [
        "# Recorrer todas las filas y transformar las oraciones\n",
        "# en secuencias de palabras\n",
        "sentence_tokens = []\n",
        "# Entran oraciones y salen vectores de N posiciones (tokens)\n",
        "sentence_tokens = [text_to_word_sequence(sentence) for sentence in book]\n",
        "# Analizo como tokeniza la oración numero 2000\n",
        "sentence_tokens[2000]"
      ],
      "metadata": {
        "colab": {
          "base_uri": "https://localhost:8080/"
        },
        "id": "gxcoahYSxI_r",
        "outputId": "cac5fdf1-06fb-4d23-dde2-d28293bfef6a"
      },
      "execution_count": 133,
      "outputs": [
        {
          "output_type": "execute_result",
          "data": {
            "text/plain": [
              "['email',\n",
              " 'contact',\n",
              " 'links',\n",
              " 'and',\n",
              " 'up',\n",
              " 'to',\n",
              " 'date',\n",
              " 'contact',\n",
              " 'information',\n",
              " 'can',\n",
              " 'be',\n",
              " 'found',\n",
              " 'at',\n",
              " 'the',\n",
              " \"foundation's\",\n",
              " 'website',\n",
              " 'and',\n",
              " 'official',\n",
              " 'page',\n",
              " 'at',\n",
              " 'www']"
            ]
          },
          "metadata": {},
          "execution_count": 133
        }
      ]
    },
    {
      "cell_type": "code",
      "source": [
        "# Largo de la secuencia: incluye seq input + word output\n",
        "train_len = 4\n",
        "\n",
        "# Desfasaje de palabras según el train_len\n",
        "text_sequences = []\n",
        "\n",
        "for sentence in sentence_tokens:\n",
        "    if len(sentence) >= train_len:\n",
        "        for i in range(train_len, len(sentence) + 1):\n",
        "            seq = sentence[i - train_len : i]\n",
        "            text_sequences.append(seq)\n",
        "\n",
        "print(f'Cantidad de secuencias: {len(text_sequences)}')"
      ],
      "metadata": {
        "colab": {
          "base_uri": "https://localhost:8080/"
        },
        "id": "2w9WtkoQxK19",
        "outputId": "9081523a-3b72-4e2c-c4af-4929eb55804f"
      },
      "execution_count": 134,
      "outputs": [
        {
          "output_type": "stream",
          "name": "stdout",
          "text": [
            "Cantidad de secuencias: 30263\n"
          ]
        }
      ]
    },
    {
      "cell_type": "code",
      "source": [
        "# Demos un vistazo a nuestros vectores para entrenar el modelo\n",
        "text_sequences[1500:2000]"
      ],
      "metadata": {
        "colab": {
          "base_uri": "https://localhost:8080/"
        },
        "id": "SWmIAMDhxPlk",
        "outputId": "77f665ba-ad73-42e2-c997-1d056db8cb34"
      },
      "execution_count": 135,
      "outputs": [
        {
          "output_type": "execute_result",
          "data": {
            "text/plain": [
              "[['see', 'your', 'experiment', 'anyhow'],\n",
              " ['your', 'experiment', 'anyhow', 'said'],\n",
              " ['experiment', 'anyhow', 'said', 'the'],\n",
              " ['anyhow', 'said', 'the', 'psychologist'],\n",
              " ['said', 'the', 'psychologist', 'though'],\n",
              " ['the', 'psychologist', 'though', 'it'],\n",
              " ['psychologist', 'though', 'it', 's'],\n",
              " ['though', 'it', 's', 'all'],\n",
              " ['it', 's', 'all', 'humbug'],\n",
              " ['s', 'all', 'humbug', 'you'],\n",
              " ['all', 'humbug', 'you', 'know'],\n",
              " ['the', 'time', 'traveller', 'smiled'],\n",
              " ['time', 'traveller', 'smiled', 'round'],\n",
              " ['traveller', 'smiled', 'round', 'at'],\n",
              " ['smiled', 'round', 'at', 'us'],\n",
              " ['then', 'still', 'smiling', 'faintly'],\n",
              " ['still', 'smiling', 'faintly', 'and'],\n",
              " ['smiling', 'faintly', 'and', 'with'],\n",
              " ['faintly', 'and', 'with', 'his'],\n",
              " ['and', 'with', 'his', 'hands'],\n",
              " ['with', 'his', 'hands', 'deep'],\n",
              " ['his', 'hands', 'deep', 'in'],\n",
              " ['hands', 'deep', 'in', 'his'],\n",
              " ['deep', 'in', 'his', 'trousers'],\n",
              " ['in', 'his', 'trousers', 'pockets'],\n",
              " ['his', 'trousers', 'pockets', 'he'],\n",
              " ['trousers', 'pockets', 'he', 'walked'],\n",
              " ['pockets', 'he', 'walked', 'slowly'],\n",
              " ['he', 'walked', 'slowly', 'out'],\n",
              " ['walked', 'slowly', 'out', 'of'],\n",
              " ['slowly', 'out', 'of', 'the'],\n",
              " ['out', 'of', 'the', 'room'],\n",
              " ['of', 'the', 'room', 'and'],\n",
              " ['the', 'room', 'and', 'we'],\n",
              " ['room', 'and', 'we', 'heard'],\n",
              " ['and', 'we', 'heard', 'his'],\n",
              " ['we', 'heard', 'his', 'slippers'],\n",
              " ['heard', 'his', 'slippers', 'shuffling'],\n",
              " ['his', 'slippers', 'shuffling', 'down'],\n",
              " ['slippers', 'shuffling', 'down', 'the'],\n",
              " ['shuffling', 'down', 'the', 'long'],\n",
              " ['down', 'the', 'long', 'passage'],\n",
              " ['the', 'long', 'passage', 'to'],\n",
              " ['long', 'passage', 'to', 'his'],\n",
              " ['passage', 'to', 'his', 'laboratory'],\n",
              " ['the', 'psychologist', 'looked', 'at'],\n",
              " ['psychologist', 'looked', 'at', 'us'],\n",
              " ['i', 'wonder', 'what', 'he'],\n",
              " ['wonder', 'what', 'he', 's'],\n",
              " ['what', 'he', 's', 'got'],\n",
              " ['he', 's', 'got', 'some'],\n",
              " ['s', 'got', 'some', 'sleight'],\n",
              " ['got', 'some', 'sleight', 'of'],\n",
              " ['some', 'sleight', 'of', 'hand'],\n",
              " ['sleight', 'of', 'hand', 'trick'],\n",
              " ['of', 'hand', 'trick', 'or'],\n",
              " ['hand', 'trick', 'or', 'other'],\n",
              " ['trick', 'or', 'other', 'said'],\n",
              " ['or', 'other', 'said', 'the'],\n",
              " ['other', 'said', 'the', 'medical'],\n",
              " ['said', 'the', 'medical', 'man'],\n",
              " ['the', 'medical', 'man', 'and'],\n",
              " ['medical', 'man', 'and', 'filby'],\n",
              " ['man', 'and', 'filby', 'tried'],\n",
              " ['and', 'filby', 'tried', 'to'],\n",
              " ['filby', 'tried', 'to', 'tell'],\n",
              " ['tried', 'to', 'tell', 'us'],\n",
              " ['to', 'tell', 'us', 'about'],\n",
              " ['tell', 'us', 'about', 'a'],\n",
              " ['us', 'about', 'a', 'conjuror'],\n",
              " ['about', 'a', 'conjuror', 'he'],\n",
              " ['a', 'conjuror', 'he', 'had'],\n",
              " ['conjuror', 'he', 'had', 'seen'],\n",
              " ['he', 'had', 'seen', 'at'],\n",
              " ['had', 'seen', 'at', 'burslem'],\n",
              " ['seen', 'at', 'burslem', 'but'],\n",
              " ['at', 'burslem', 'but', 'before'],\n",
              " ['burslem', 'but', 'before', 'he'],\n",
              " ['but', 'before', 'he', 'had'],\n",
              " ['before', 'he', 'had', 'finished'],\n",
              " ['he', 'had', 'finished', 'his'],\n",
              " ['had', 'finished', 'his', 'preface'],\n",
              " ['finished', 'his', 'preface', 'the'],\n",
              " ['his', 'preface', 'the', 'time'],\n",
              " ['preface', 'the', 'time', 'traveller'],\n",
              " ['the', 'time', 'traveller', 'came'],\n",
              " ['time', 'traveller', 'came', 'back'],\n",
              " ['traveller', 'came', 'back', 'and'],\n",
              " ['came', 'back', 'and', 'filby'],\n",
              " ['back', 'and', 'filby', 's'],\n",
              " ['and', 'filby', 's', 'anecdote'],\n",
              " ['filby', 's', 'anecdote', 'collapsed'],\n",
              " ['the', 'machine', 'the', 'thing'],\n",
              " ['machine', 'the', 'thing', 'the'],\n",
              " ['the', 'thing', 'the', 'time'],\n",
              " ['thing', 'the', 'time', 'traveller'],\n",
              " ['the', 'time', 'traveller', 'held'],\n",
              " ['time', 'traveller', 'held', 'in'],\n",
              " ['traveller', 'held', 'in', 'his'],\n",
              " ['held', 'in', 'his', 'hand'],\n",
              " ['in', 'his', 'hand', 'was'],\n",
              " ['his', 'hand', 'was', 'a'],\n",
              " ['hand', 'was', 'a', 'glittering'],\n",
              " ['was', 'a', 'glittering', 'metallic'],\n",
              " ['a', 'glittering', 'metallic', 'framework'],\n",
              " ['glittering', 'metallic', 'framework', 'scarcely'],\n",
              " ['metallic', 'framework', 'scarcely', 'larger'],\n",
              " ['framework', 'scarcely', 'larger', 'than'],\n",
              " ['scarcely', 'larger', 'than', 'a'],\n",
              " ['larger', 'than', 'a', 'small'],\n",
              " ['than', 'a', 'small', 'clock'],\n",
              " ['a', 'small', 'clock', 'and'],\n",
              " ['small', 'clock', 'and', 'very'],\n",
              " ['clock', 'and', 'very', 'delicately'],\n",
              " ['and', 'very', 'delicately', 'made'],\n",
              " ['there', 'was', 'ivory', 'in'],\n",
              " ['was', 'ivory', 'in', 'it'],\n",
              " ['ivory', 'in', 'it', 'and'],\n",
              " ['in', 'it', 'and', 'some'],\n",
              " ['it', 'and', 'some', 'transparent'],\n",
              " ['and', 'some', 'transparent', 'crystalline'],\n",
              " ['some', 'transparent', 'crystalline', 'substance'],\n",
              " ['and', 'now', 'i', 'must'],\n",
              " ['now', 'i', 'must', 'be'],\n",
              " ['i', 'must', 'be', 'explicit'],\n",
              " ['must', 'be', 'explicit', 'for'],\n",
              " ['be', 'explicit', 'for', 'this'],\n",
              " ['explicit', 'for', 'this', 'that'],\n",
              " ['for', 'this', 'that', 'follows'],\n",
              " ['this', 'that', 'follows', 'unless'],\n",
              " ['that', 'follows', 'unless', 'his'],\n",
              " ['follows', 'unless', 'his', 'explanation'],\n",
              " ['unless', 'his', 'explanation', 'is'],\n",
              " ['his', 'explanation', 'is', 'to'],\n",
              " ['explanation', 'is', 'to', 'be'],\n",
              " ['is', 'to', 'be', 'accepted'],\n",
              " ['to', 'be', 'accepted', 'is'],\n",
              " ['be', 'accepted', 'is', 'an'],\n",
              " ['accepted', 'is', 'an', 'absolutely'],\n",
              " ['is', 'an', 'absolutely', 'unaccountable'],\n",
              " ['an', 'absolutely', 'unaccountable', 'thing'],\n",
              " ['he', 'took', 'one', 'of'],\n",
              " ['took', 'one', 'of', 'the'],\n",
              " ['one', 'of', 'the', 'small'],\n",
              " ['of', 'the', 'small', 'octagonal'],\n",
              " ['the', 'small', 'octagonal', 'tables'],\n",
              " ['small', 'octagonal', 'tables', 'that'],\n",
              " ['octagonal', 'tables', 'that', 'were'],\n",
              " ['tables', 'that', 'were', 'scattered'],\n",
              " ['that', 'were', 'scattered', 'about'],\n",
              " ['were', 'scattered', 'about', 'the'],\n",
              " ['scattered', 'about', 'the', 'room'],\n",
              " ['about', 'the', 'room', 'and'],\n",
              " ['the', 'room', 'and', 'set'],\n",
              " ['room', 'and', 'set', 'it'],\n",
              " ['and', 'set', 'it', 'in'],\n",
              " ['set', 'it', 'in', 'front'],\n",
              " ['it', 'in', 'front', 'of'],\n",
              " ['in', 'front', 'of', 'the'],\n",
              " ['front', 'of', 'the', 'fire'],\n",
              " ['of', 'the', 'fire', 'with'],\n",
              " ['the', 'fire', 'with', 'two'],\n",
              " ['fire', 'with', 'two', 'legs'],\n",
              " ['with', 'two', 'legs', 'on'],\n",
              " ['two', 'legs', 'on', 'the'],\n",
              " ['legs', 'on', 'the', 'hearthrug'],\n",
              " ['on', 'this', 'table', 'he'],\n",
              " ['this', 'table', 'he', 'placed'],\n",
              " ['table', 'he', 'placed', 'the'],\n",
              " ['he', 'placed', 'the', 'mechanism'],\n",
              " ['then', 'he', 'drew', 'up'],\n",
              " ['he', 'drew', 'up', 'a'],\n",
              " ['drew', 'up', 'a', 'chair'],\n",
              " ['up', 'a', 'chair', 'and'],\n",
              " ['a', 'chair', 'and', 'sat'],\n",
              " ['chair', 'and', 'sat', 'down'],\n",
              " ['the', 'only', 'other', 'object'],\n",
              " ['only', 'other', 'object', 'on'],\n",
              " ['other', 'object', 'on', 'the'],\n",
              " ['object', 'on', 'the', 'table'],\n",
              " ['on', 'the', 'table', 'was'],\n",
              " ['the', 'table', 'was', 'a'],\n",
              " ['table', 'was', 'a', 'small'],\n",
              " ['was', 'a', 'small', 'shaded'],\n",
              " ['a', 'small', 'shaded', 'lamp'],\n",
              " ['small', 'shaded', 'lamp', 'the'],\n",
              " ['shaded', 'lamp', 'the', 'bright'],\n",
              " ['lamp', 'the', 'bright', 'light'],\n",
              " ['the', 'bright', 'light', 'of'],\n",
              " ['bright', 'light', 'of', 'which'],\n",
              " ['light', 'of', 'which', 'fell'],\n",
              " ['of', 'which', 'fell', 'upon'],\n",
              " ['which', 'fell', 'upon', 'the'],\n",
              " ['fell', 'upon', 'the', 'model'],\n",
              " ['there', 'were', 'also', 'perhaps'],\n",
              " ['were', 'also', 'perhaps', 'a'],\n",
              " ['also', 'perhaps', 'a', 'dozen'],\n",
              " ['perhaps', 'a', 'dozen', 'candles'],\n",
              " ['a', 'dozen', 'candles', 'about'],\n",
              " ['dozen', 'candles', 'about', 'two'],\n",
              " ['candles', 'about', 'two', 'in'],\n",
              " ['about', 'two', 'in', 'brass'],\n",
              " ['two', 'in', 'brass', 'candlesticks'],\n",
              " ['in', 'brass', 'candlesticks', 'upon'],\n",
              " ['brass', 'candlesticks', 'upon', 'the'],\n",
              " ['candlesticks', 'upon', 'the', 'mantel'],\n",
              " ['upon', 'the', 'mantel', 'and'],\n",
              " ['the', 'mantel', 'and', 'several'],\n",
              " ['mantel', 'and', 'several', 'in'],\n",
              " ['and', 'several', 'in', 'sconces'],\n",
              " ['several', 'in', 'sconces', 'so'],\n",
              " ['in', 'sconces', 'so', 'that'],\n",
              " ['sconces', 'so', 'that', 'the'],\n",
              " ['so', 'that', 'the', 'room'],\n",
              " ['that', 'the', 'room', 'was'],\n",
              " ['the', 'room', 'was', 'brilliantly'],\n",
              " ['room', 'was', 'brilliantly', 'illuminated'],\n",
              " ['i', 'sat', 'in', 'a'],\n",
              " ['sat', 'in', 'a', 'low'],\n",
              " ['in', 'a', 'low', 'arm'],\n",
              " ['a', 'low', 'arm', 'chair'],\n",
              " ['low', 'arm', 'chair', 'nearest'],\n",
              " ['arm', 'chair', 'nearest', 'the'],\n",
              " ['chair', 'nearest', 'the', 'fire'],\n",
              " ['nearest', 'the', 'fire', 'and'],\n",
              " ['the', 'fire', 'and', 'i'],\n",
              " ['fire', 'and', 'i', 'drew'],\n",
              " ['and', 'i', 'drew', 'this'],\n",
              " ['i', 'drew', 'this', 'forward'],\n",
              " ['drew', 'this', 'forward', 'so'],\n",
              " ['this', 'forward', 'so', 'as'],\n",
              " ['forward', 'so', 'as', 'to'],\n",
              " ['so', 'as', 'to', 'be'],\n",
              " ['as', 'to', 'be', 'almost'],\n",
              " ['to', 'be', 'almost', 'between'],\n",
              " ['be', 'almost', 'between', 'the'],\n",
              " ['almost', 'between', 'the', 'time'],\n",
              " ['between', 'the', 'time', 'traveller'],\n",
              " ['the', 'time', 'traveller', 'and'],\n",
              " ['time', 'traveller', 'and', 'the'],\n",
              " ['traveller', 'and', 'the', 'fireplace'],\n",
              " ['filby', 'sat', 'behind', 'him'],\n",
              " ['sat', 'behind', 'him', 'looking'],\n",
              " ['behind', 'him', 'looking', 'over'],\n",
              " ['him', 'looking', 'over', 'his'],\n",
              " ['looking', 'over', 'his', 'shoulder'],\n",
              " ['the', 'medical', 'man', 'and'],\n",
              " ['medical', 'man', 'and', 'the'],\n",
              " ['man', 'and', 'the', 'provincial'],\n",
              " ['and', 'the', 'provincial', 'mayor'],\n",
              " ['the', 'provincial', 'mayor', 'watched'],\n",
              " ['provincial', 'mayor', 'watched', 'him'],\n",
              " ['mayor', 'watched', 'him', 'in'],\n",
              " ['watched', 'him', 'in', 'profile'],\n",
              " ['him', 'in', 'profile', 'from'],\n",
              " ['in', 'profile', 'from', 'the'],\n",
              " ['profile', 'from', 'the', 'right'],\n",
              " ['from', 'the', 'right', 'the'],\n",
              " ['the', 'right', 'the', 'psychologist'],\n",
              " ['right', 'the', 'psychologist', 'from'],\n",
              " ['the', 'psychologist', 'from', 'the'],\n",
              " ['psychologist', 'from', 'the', 'left'],\n",
              " ['the', 'very', 'young', 'man'],\n",
              " ['very', 'young', 'man', 'stood'],\n",
              " ['young', 'man', 'stood', 'behind'],\n",
              " ['man', 'stood', 'behind', 'the'],\n",
              " ['stood', 'behind', 'the', 'psychologist'],\n",
              " ['we', 'were', 'all', 'on'],\n",
              " ['were', 'all', 'on', 'the'],\n",
              " ['all', 'on', 'the', 'alert'],\n",
              " ['it', 'appears', 'incredible', 'to'],\n",
              " ['appears', 'incredible', 'to', 'me'],\n",
              " ['incredible', 'to', 'me', 'that'],\n",
              " ['to', 'me', 'that', 'any'],\n",
              " ['me', 'that', 'any', 'kind'],\n",
              " ['that', 'any', 'kind', 'of'],\n",
              " ['any', 'kind', 'of', 'trick'],\n",
              " ['kind', 'of', 'trick', 'however'],\n",
              " ['of', 'trick', 'however', 'subtly'],\n",
              " ['trick', 'however', 'subtly', 'conceived'],\n",
              " ['however', 'subtly', 'conceived', 'and'],\n",
              " ['subtly', 'conceived', 'and', 'however'],\n",
              " ['conceived', 'and', 'however', 'adroitly'],\n",
              " ['and', 'however', 'adroitly', 'done'],\n",
              " ['however', 'adroitly', 'done', 'could'],\n",
              " ['adroitly', 'done', 'could', 'have'],\n",
              " ['done', 'could', 'have', 'been'],\n",
              " ['could', 'have', 'been', 'played'],\n",
              " ['have', 'been', 'played', 'upon'],\n",
              " ['been', 'played', 'upon', 'us'],\n",
              " ['played', 'upon', 'us', 'under'],\n",
              " ['upon', 'us', 'under', 'these'],\n",
              " ['us', 'under', 'these', 'conditions'],\n",
              " ['the', 'time', 'traveller', 'looked'],\n",
              " ['time', 'traveller', 'looked', 'at'],\n",
              " ['traveller', 'looked', 'at', 'us'],\n",
              " ['looked', 'at', 'us', 'and'],\n",
              " ['at', 'us', 'and', 'then'],\n",
              " ['us', 'and', 'then', 'at'],\n",
              " ['and', 'then', 'at', 'the'],\n",
              " ['then', 'at', 'the', 'mechanism'],\n",
              " ['well', 'said', 'the', 'psychologist'],\n",
              " ['this', 'little', 'affair', 'said'],\n",
              " ['little', 'affair', 'said', 'the'],\n",
              " ['affair', 'said', 'the', 'time'],\n",
              " ['said', 'the', 'time', 'traveller'],\n",
              " ['the', 'time', 'traveller', 'resting'],\n",
              " ['time', 'traveller', 'resting', 'his'],\n",
              " ['traveller', 'resting', 'his', 'elbows'],\n",
              " ['resting', 'his', 'elbows', 'upon'],\n",
              " ['his', 'elbows', 'upon', 'the'],\n",
              " ['elbows', 'upon', 'the', 'table'],\n",
              " ['upon', 'the', 'table', 'and'],\n",
              " ['the', 'table', 'and', 'pressing'],\n",
              " ['table', 'and', 'pressing', 'his'],\n",
              " ['and', 'pressing', 'his', 'hands'],\n",
              " ['pressing', 'his', 'hands', 'together'],\n",
              " ['his', 'hands', 'together', 'above'],\n",
              " ['hands', 'together', 'above', 'the'],\n",
              " ['together', 'above', 'the', 'apparatus'],\n",
              " ['above', 'the', 'apparatus', 'is'],\n",
              " ['the', 'apparatus', 'is', 'only'],\n",
              " ['apparatus', 'is', 'only', 'a'],\n",
              " ['is', 'only', 'a', 'model'],\n",
              " ['it', 'is', 'my', 'plan'],\n",
              " ['is', 'my', 'plan', 'for'],\n",
              " ['my', 'plan', 'for', 'a'],\n",
              " ['plan', 'for', 'a', 'machine'],\n",
              " ['for', 'a', 'machine', 'to'],\n",
              " ['a', 'machine', 'to', 'travel'],\n",
              " ['machine', 'to', 'travel', 'through'],\n",
              " ['to', 'travel', 'through', 'time'],\n",
              " ['you', 'will', 'notice', 'that'],\n",
              " ['will', 'notice', 'that', 'it'],\n",
              " ['notice', 'that', 'it', 'looks'],\n",
              " ['that', 'it', 'looks', 'singularly'],\n",
              " ['it', 'looks', 'singularly', 'askew'],\n",
              " ['looks', 'singularly', 'askew', 'and'],\n",
              " ['singularly', 'askew', 'and', 'that'],\n",
              " ['askew', 'and', 'that', 'there'],\n",
              " ['and', 'that', 'there', 'is'],\n",
              " ['that', 'there', 'is', 'an'],\n",
              " ['there', 'is', 'an', 'odd'],\n",
              " ['is', 'an', 'odd', 'twinkling'],\n",
              " ['an', 'odd', 'twinkling', 'appearance'],\n",
              " ['odd', 'twinkling', 'appearance', 'about'],\n",
              " ['twinkling', 'appearance', 'about', 'this'],\n",
              " ['appearance', 'about', 'this', 'bar'],\n",
              " ['about', 'this', 'bar', 'as'],\n",
              " ['this', 'bar', 'as', 'though'],\n",
              " ['bar', 'as', 'though', 'it'],\n",
              " ['as', 'though', 'it', 'was'],\n",
              " ['though', 'it', 'was', 'in'],\n",
              " ['it', 'was', 'in', 'some'],\n",
              " ['was', 'in', 'some', 'way'],\n",
              " ['in', 'some', 'way', 'unreal'],\n",
              " ['he', 'pointed', 'to', 'the'],\n",
              " ['pointed', 'to', 'the', 'part'],\n",
              " ['to', 'the', 'part', 'with'],\n",
              " ['the', 'part', 'with', 'his'],\n",
              " ['part', 'with', 'his', 'finger'],\n",
              " ['also', 'here', 'is', 'one'],\n",
              " ['here', 'is', 'one', 'little'],\n",
              " ['is', 'one', 'little', 'white'],\n",
              " ['one', 'little', 'white', 'lever'],\n",
              " ['little', 'white', 'lever', 'and'],\n",
              " ['white', 'lever', 'and', 'here'],\n",
              " ['lever', 'and', 'here', 'is'],\n",
              " ['and', 'here', 'is', 'another'],\n",
              " ['the', 'medical', 'man', 'got'],\n",
              " ['medical', 'man', 'got', 'up'],\n",
              " ['man', 'got', 'up', 'out'],\n",
              " ['got', 'up', 'out', 'of'],\n",
              " ['up', 'out', 'of', 'his'],\n",
              " ['out', 'of', 'his', 'chair'],\n",
              " ['of', 'his', 'chair', 'and'],\n",
              " ['his', 'chair', 'and', 'peered'],\n",
              " ['chair', 'and', 'peered', 'into'],\n",
              " ['and', 'peered', 'into', 'the'],\n",
              " ['peered', 'into', 'the', 'thing'],\n",
              " ['it', 's', 'beautifully', 'made'],\n",
              " ['s', 'beautifully', 'made', 'he'],\n",
              " ['beautifully', 'made', 'he', 'said'],\n",
              " ['it', 'took', 'two', 'years'],\n",
              " ['took', 'two', 'years', 'to'],\n",
              " ['two', 'years', 'to', 'make'],\n",
              " ['years', 'to', 'make', 'retorted'],\n",
              " ['to', 'make', 'retorted', 'the'],\n",
              " ['make', 'retorted', 'the', 'time'],\n",
              " ['retorted', 'the', 'time', 'traveller'],\n",
              " ['then', 'when', 'we', 'had'],\n",
              " ['when', 'we', 'had', 'all'],\n",
              " ['we', 'had', 'all', 'imitated'],\n",
              " ['had', 'all', 'imitated', 'the'],\n",
              " ['all', 'imitated', 'the', 'action'],\n",
              " ['imitated', 'the', 'action', 'of'],\n",
              " ['the', 'action', 'of', 'the'],\n",
              " ['action', 'of', 'the', 'medical'],\n",
              " ['of', 'the', 'medical', 'man'],\n",
              " ['the', 'medical', 'man', 'he'],\n",
              " ['medical', 'man', 'he', 'said'],\n",
              " ['man', 'he', 'said', 'now'],\n",
              " ['he', 'said', 'now', 'i'],\n",
              " ['said', 'now', 'i', 'want'],\n",
              " ['now', 'i', 'want', 'you'],\n",
              " ['i', 'want', 'you', 'clearly'],\n",
              " ['want', 'you', 'clearly', 'to'],\n",
              " ['you', 'clearly', 'to', 'understand'],\n",
              " ['clearly', 'to', 'understand', 'that'],\n",
              " ['to', 'understand', 'that', 'this'],\n",
              " ['understand', 'that', 'this', 'lever'],\n",
              " ['that', 'this', 'lever', 'being'],\n",
              " ['this', 'lever', 'being', 'pressed'],\n",
              " ['lever', 'being', 'pressed', 'over'],\n",
              " ['being', 'pressed', 'over', 'sends'],\n",
              " ['pressed', 'over', 'sends', 'the'],\n",
              " ['over', 'sends', 'the', 'machine'],\n",
              " ['sends', 'the', 'machine', 'gliding'],\n",
              " ['the', 'machine', 'gliding', 'into'],\n",
              " ['machine', 'gliding', 'into', 'the'],\n",
              " ['gliding', 'into', 'the', 'future'],\n",
              " ['into', 'the', 'future', 'and'],\n",
              " ['the', 'future', 'and', 'this'],\n",
              " ['future', 'and', 'this', 'other'],\n",
              " ['and', 'this', 'other', 'reverses'],\n",
              " ['this', 'other', 'reverses', 'the'],\n",
              " ['other', 'reverses', 'the', 'motion'],\n",
              " ['this', 'saddle', 'represents', 'the'],\n",
              " ['saddle', 'represents', 'the', 'seat'],\n",
              " ['represents', 'the', 'seat', 'of'],\n",
              " ['the', 'seat', 'of', 'a'],\n",
              " ['seat', 'of', 'a', 'time'],\n",
              " ['of', 'a', 'time', 'traveller'],\n",
              " ['presently', 'i', 'am', 'going'],\n",
              " ['i', 'am', 'going', 'to'],\n",
              " ['am', 'going', 'to', 'press'],\n",
              " ['going', 'to', 'press', 'the'],\n",
              " ['to', 'press', 'the', 'lever'],\n",
              " ['press', 'the', 'lever', 'and'],\n",
              " ['the', 'lever', 'and', 'off'],\n",
              " ['lever', 'and', 'off', 'the'],\n",
              " ['and', 'off', 'the', 'machine'],\n",
              " ['off', 'the', 'machine', 'will'],\n",
              " ['the', 'machine', 'will', 'go'],\n",
              " ['it', 'will', 'vanish', 'pass'],\n",
              " ['will', 'vanish', 'pass', 'into'],\n",
              " ['vanish', 'pass', 'into', 'future'],\n",
              " ['pass', 'into', 'future', 'time'],\n",
              " ['into', 'future', 'time', 'and'],\n",
              " ['future', 'time', 'and', 'disappear'],\n",
              " ['have', 'a', 'good', 'look'],\n",
              " ['a', 'good', 'look', 'at'],\n",
              " ['good', 'look', 'at', 'the'],\n",
              " ['look', 'at', 'the', 'thing'],\n",
              " ['look', 'at', 'the', 'table'],\n",
              " ['at', 'the', 'table', 'too'],\n",
              " ['the', 'table', 'too', 'and'],\n",
              " ['table', 'too', 'and', 'satisfy'],\n",
              " ['too', 'and', 'satisfy', 'yourselves'],\n",
              " ['and', 'satisfy', 'yourselves', 'there'],\n",
              " ['satisfy', 'yourselves', 'there', 'is'],\n",
              " ['yourselves', 'there', 'is', 'no'],\n",
              " ['there', 'is', 'no', 'trickery'],\n",
              " ['i', 'don', 't', 'want'],\n",
              " ['don', 't', 'want', 'to'],\n",
              " ['t', 'want', 'to', 'waste'],\n",
              " ['want', 'to', 'waste', 'this'],\n",
              " ['to', 'waste', 'this', 'model'],\n",
              " ['waste', 'this', 'model', 'and'],\n",
              " ['this', 'model', 'and', 'then'],\n",
              " ['model', 'and', 'then', 'be'],\n",
              " ['and', 'then', 'be', 'told'],\n",
              " ['then', 'be', 'told', 'i'],\n",
              " ['be', 'told', 'i', 'm'],\n",
              " ['told', 'i', 'm', 'a'],\n",
              " ['i', 'm', 'a', 'quack'],\n",
              " ['there', 'was', 'a', 'minute'],\n",
              " ['was', 'a', 'minute', 's'],\n",
              " ['a', 'minute', 's', 'pause'],\n",
              " ['minute', 's', 'pause', 'perhaps'],\n",
              " ['the', 'psychologist', 'seemed', 'about'],\n",
              " ['psychologist', 'seemed', 'about', 'to'],\n",
              " ['seemed', 'about', 'to', 'speak'],\n",
              " ['about', 'to', 'speak', 'to'],\n",
              " ['to', 'speak', 'to', 'me'],\n",
              " ['speak', 'to', 'me', 'but'],\n",
              " ['to', 'me', 'but', 'changed'],\n",
              " ['me', 'but', 'changed', 'his'],\n",
              " ['but', 'changed', 'his', 'mind'],\n",
              " ['then', 'the', 'time', 'traveller'],\n",
              " ['the', 'time', 'traveller', 'put'],\n",
              " ['time', 'traveller', 'put', 'forth'],\n",
              " ['traveller', 'put', 'forth', 'his'],\n",
              " ['put', 'forth', 'his', 'finger'],\n",
              " ['forth', 'his', 'finger', 'towards'],\n",
              " ['his', 'finger', 'towards', 'the'],\n",
              " ['finger', 'towards', 'the', 'lever'],\n",
              " ['no', 'he', 'said', 'suddenly'],\n",
              " ['lend', 'me', 'your', 'hand'],\n",
              " ['and', 'turning', 'to', 'the']]"
            ]
          },
          "metadata": {},
          "execution_count": 135
        }
      ]
    },
    {
      "cell_type": "markdown",
      "metadata": {
        "id": "4B0gHnKVa4W_"
      },
      "source": [
        "1.2 - Crear los vectores de palabras (word2vec)\n",
        "\n",
        "Ahora necesitamos pasarlos a números para que lo entienda la red y separar input de output.\n",
        "- El Input seran integers (word2vec)\n",
        "- Mientras que el output será one hot encodeado (labels) del tamaño del vocabulario"
      ]
    },
    {
      "cell_type": "code",
      "execution_count": 136,
      "metadata": {
        "id": "fkPNvXeQcS0U"
      },
      "outputs": [],
      "source": [
        "tok = Tokenizer()\n",
        "# El tokenizer \"aprende\" las palabras que se usaran\n",
        "# Se construye (fit) una vez por proyecto, se aplica N veces (tal cual un encoder)\n",
        "# El token 0 es reservado y no es asignado, esta sutileza nos dará un pequeño\n",
        "# problema al momento de hacer la codificación OHE, pero es sencillo de resolver\n",
        "tok.fit_on_texts(text_sequences)\n",
        "\n",
        "# Convertimos las palabras a números\n",
        "# entran palabras -> salen números\n",
        "sequences = np.array(tok.texts_to_sequences(text_sequences))"
      ]
    },
    {
      "cell_type": "code",
      "execution_count": 137,
      "metadata": {
        "id": "4SIc44IocyQb",
        "colab": {
          "base_uri": "https://localhost:8080/"
        },
        "outputId": "c52f48e4-b5d3-40f7-8095-3b31d2397213"
      },
      "outputs": [
        {
          "output_type": "execute_result",
          "data": {
            "text/plain": [
              "array([[   1,   44,   45,  321],\n",
              "       [  44,   45,  321,    2],\n",
              "       [  45,  321,    2,    1],\n",
              "       ...,\n",
              "       [4196,    6,  573,   57],\n",
              "       [   6,  573,   57,  169],\n",
              "       [ 573,   57,  169,  596]])"
            ]
          },
          "metadata": {},
          "execution_count": 137
        }
      ],
      "source": [
        "# Ahora sequences tiene los números \"ID\", largo 4\n",
        "sequences"
      ]
    },
    {
      "cell_type": "code",
      "execution_count": 138,
      "metadata": {
        "id": "3ro81yCQc1oX",
        "colab": {
          "base_uri": "https://localhost:8080/"
        },
        "outputId": "90e5861c-e5fa-4a07-bb63-113bca510419"
      },
      "outputs": [
        {
          "output_type": "stream",
          "name": "stdout",
          "text": [
            "30263\n"
          ]
        }
      ],
      "source": [
        "# Cantidad de casos (doc) de entrada\n",
        "print(tok.document_count)"
      ]
    },
    {
      "cell_type": "code",
      "execution_count": 139,
      "metadata": {
        "id": "nzAWNfroc4u1",
        "colab": {
          "base_uri": "https://localhost:8080/"
        },
        "outputId": "9316845c-3656-4fc8-a1b0-36e2822ce297"
      },
      "outputs": [
        {
          "output_type": "stream",
          "name": "stdout",
          "text": [
            "4939\n"
          ]
        }
      ],
      "source": [
        "# Cantidad de veces que aparece cada palabra\n",
        "print(len(tok.word_counts))"
      ]
    },
    {
      "cell_type": "code",
      "execution_count": 140,
      "metadata": {
        "id": "spTBxmFQc6h8",
        "colab": {
          "base_uri": "https://localhost:8080/"
        },
        "outputId": "7077ba90-779c-4d55-d437-08b4f9033b6d"
      },
      "outputs": [
        {
          "output_type": "stream",
          "name": "stdout",
          "text": [
            "{'the': 1, 'of': 2, 'and': 3, 'i': 4, 'a': 5, 'to': 6, 'in': 7, 'was': 8, 'that': 9, 'my': 10, 'it': 11, 'had': 12, 'as': 13, 'with': 14, 'me': 15, 'for': 16, 'at': 17, 'time': 18, 'this': 19, 'you': 20, 'or': 21, 'but': 22, 'on': 23, 'were': 24, 'from': 25, 'not': 26, 'have': 27, 'by': 28, 'all': 29, 'his': 30, 'is': 31, 'into': 32, 'be': 33, 'upon': 34, 'little': 35, 'one': 36, 'they': 37, 'came': 38, 'which': 39, 'there': 40, 'so': 41, 'no': 42, 'some': 43, 'project': 44, 'gutenberg': 45, 'he': 46, 'an': 47, 'their': 48, 'could': 49, 'saw': 50, 'down': 51, 'machine': 52, 'then': 53, 'any': 54, 'we': 55, 'them': 56, 'about': 57, 'up': 58, 'very': 59, 'out': 60, 'what': 61, 'said': 62, 'been': 63, 'like': 64, 'these': 65, 'now': 66, 'her': 67, 'its': 68, 'seemed': 69, 'are': 70, 's': 71, 'man': 72, 'would': 73, 'white': 74, 'thing': 75, 'again': 76, 'must': 77, 'more': 78, 'if': 79, 'tm': 80, 'traveller': 81, 'when': 82, 'our': 83, 'over': 84, 'work': 85, 'other': 86, 'thought': 87, 'hand': 88, 'how': 89, 'still': 90, 'before': 91, 'felt': 92, 'through': 93, 'even': 94, 'people': 95, 'went': 96, 'morlocks': 97, 'myself': 98, 'only': 99, 'too': 100, 'found': 101, 'will': 102, 'see': 103, 'towards': 104, 'weena': 105, 'first': 106, 'may': 107, 'great': 108, 'last': 109, 'under': 110, 'light': 111, 'she': 112, 'began': 113, 'did': 114, 'than': 115, 'same': 116, 'such': 117, 'back': 118, 'perhaps': 119, 'world': 120, 'away': 121, 'night': 122, 'way': 123, 'think': 124, 'where': 125, 'after': 126, 'long': 127, 'another': 128, 'round': 129, 'made': 130, 'among': 131, 'face': 132, 'put': 133, 'own': 134, 'him': 135, 'do': 136, 'most': 137, 'against': 138, 'us': 139, 'day': 140, 'old': 141, 'might': 142, 'works': 143, 'who': 144, 'things': 145, 'well': 146, 'come': 147, 'here': 148, 'strange': 149, 'off': 150, 'black': 151, 'sun': 152, 'green': 153, 'eyes': 154, 'electronic': 155, 'looked': 156, 'took': 157, 'two': 158, 'mind': 159, 'full': 160, 'sky': 161, 'fire': 162, 'almost': 163, 'can': 164, 'moment': 165, 'know': 166, 'hands': 167, 'darkness': 168, 'new': 169, 'place': 170, 'terms': 171, 't': 172, 'part': 173, 'red': 174, 'space': 175, 'end': 176, 'make': 177, 'much': 178, 'three': 179, 'grew': 180, 'should': 181, 'dark': 182, 'set': 183, 'has': 184, 'got': 185, 'enough': 186, 'across': 187, 'without': 188, 'left': 189, 'above': 190, 'presently': 191, 'sphinx': 192, 'along': 193, 'looking': 194, 'get': 195, 'stood': 196, 'fear': 197, 'once': 198, 'use': 199, 'far': 200, 'foundation': 201, 'kind': 202, 'head': 203, 'future': 204, 'gallery': 205, 'certain': 206, 'while': 207, 'though': 208, 'half': 209, 'feeling': 210, 'minute': 211, 'human': 212, 'feet': 213, 'until': 214, 'sat': 215, 'heard': 216, 'say': 217, 'medical': 218, 'seen': 219, 'air': 220, 'soon': 221, 'earth': 222, 'already': 223, 'days': 224, 'tried': 225, 'cannot': 226, 'never': 227, 'yet': 228, 'flowers': 229, 'those': 230, 'go': 231, 'right': 232, 'years': 233, 'look': 234, 'turned': 235, 'hill': 236, 'psychologist': 237, 'agreement': 238, 'states': 239, 'past': 240, 'license': 241, 'rather': 242, 'between': 243, 'matches': 244, 'palace': 245, 'big': 246, 'bronze': 247, 'mere': 248, 'suddenly': 249, 'ran': 250, 'creatures': 251, 'ground': 252, 'fell': 253, 'something': 254, 'behind': 255, 'find': 256, 'laboratory': 257, 'bright': 258, 'lever': 259, 'less': 260, 'indeed': 261, 'united': 262, 'four': 263, 'match': 264, 'large': 265, 'your': 266, 'editor': 267, 'running': 268, 'copyright': 269, 'soft': 270, 'being': 271, 'just': 272, 'gone': 273, 'table': 274, 'literary': 275, 'each': 276, 'small': 277, 'moon': 278, 'age': 279, 'story': 280, 'morning': 281, 'followed': 282, 'door': 283, 'feel': 284, 'dimensions': 285, 'rose': 286, 'move': 287, 'life': 288, 'coming': 289, 'hall': 290, 'told': 291, 'lay': 292, 'knew': 293, 'however': 294, 'lamp': 295, 'side': 296, 'men': 297, 'odd': 298, 'hundred': 299, 'nothing': 300, 'ever': 301, 'huge': 302, 'struck': 303, 'donations': 304, 'understand': 305, 'bushes': 306, 'archive': 307, 'travelling': 308, 'whole': 309, 'room': 310, 'second': 311, 'since': 312, 'every': 313, 'dim': 314, 'vast': 315, 'why': 316, 'forth': 317, 'next': 318, 'beautiful': 319, 'lit': 320, 'ebook': 321, 'copy': 322, 'don': 323, 'going': 324, 'dust': 325, 'wood': 326, 'because': 327, 'tell': 328, 'growing': 329, 'eight': 330, 'altogether': 331, 'clear': 332, 'trademark': 333, 'porcelain': 334, 'course': 335, 'line': 336, 'figure': 337, 'times': 338, 'open': 339, 'creature': 340, 'pale': 341, 'dinner': 342, 'filby': 343, 'glass': 344, 'few': 345, 'sea': 346, 'sudden': 347, 'good': 348, 'sense': 349, 'queer': 350, 'bars': 351, 'access': 352, 'passed': 353, 'silent': 354, 'appeared': 355, 'nature': 356, 'conditions': 357, 'travelled': 358, 'evening': 359, 'sound': 360, 'thick': 361, 'broken': 362, 'judged': 363, 'strong': 364, 'including': 365, 'clearly': 366, 'simply': 367, 'others': 368, 'quite': 369, 'exactly': 370, 'am': 371, 'animal': 372, 'doubt': 373, 'met': 374, 'house': 375, 'creeping': 376, 'comfort': 377, 'arms': 378, 'grey': 379, 'really': 380, 'except': 381, 'state': 382, 'done': 383, 'larger': 384, 'absolutely': 385, 'standing': 386, 'either': 387, 'happened': 388, 'pocket': 389, 'many': 390, 'near': 391, 'within': 392, 'idea': 393, 'save': 394, 'means': 395, 'vanished': 396, 'watch': 397, 'opened': 398, 'faint': 399, 'peculiar': 400, 'hung': 401, 'memory': 402, 'camphor': 403, 'return': 404, 'caught': 405, 'always': 406, 'several': 407, 'gave': 408, 'buildings': 409, 'intellectual': 410, 'number': 411, 'ruins': 412, 'associated': 413, 'slower': 414, 'wells': 415, 'instance': 416, 'moving': 417, 'possibly': 418, 'believe': 419, 'nearly': 420, 'remember': 421, 'pedestal': 422, 'blackness': 423, 'refund': 424, 'length': 425, 'telling': 426, 'walked': 427, 'itself': 428, 'colour': 429, 'swiftly': 430, 'lost': 431, 'security': 432, 'perfect': 433, 'daylight': 434, 'further': 435, 'follow': 436, 'travel': 437, 'let': 438, 'bar': 439, 'below': 440, 'suppose': 441, 'brown': 442, 'cut': 443, 'stopped': 444, 'trees': 445, 'humanity': 446, 'thousand': 447, 'children': 448, 'imagine': 449, 'necessity': 450, 'physical': 451, 'social': 452, 'agree': 453, 'give': 454, 'shone': 455, 'free': 456, 'better': 457, 'horrible': 458, 'stars': 459, 'drove': 460, 'remote': 461, 'loose': 462, 'received': 463, 'iron': 464, 'fee': 465, 'laws': 466, 'need': 467, 'nor': 468, 'forward': 469, 'hope': 470, 'beside': 471, 'question': 472, 'assured': 473, 'pretty': 474, 'determined': 475, 'least': 476, 'form': 477, 'abundant': 478, 'doors': 479, 'south': 480, 'located': 481, 'country': 482, 'explanation': 483, 'shall': 484, 'explain': 485, 'sure': 486, 'freely': 487, 'leave': 488, 'together': 489, 'point': 490, 'shadows': 491, 'mouth': 492, 'noticed': 493, 'sleep': 494, 'splendid': 495, 'levers': 496, 'foot': 497, 'metal': 498, 'trying': 499, 'taken': 500, 'water': 501, 'distributing': 502, 'copies': 503, 'sunset': 504, 'hard': 505, 'different': 506, 'arm': 507, 'stared': 508, 'plain': 509, 'take': 510, 'change': 511, 'building': 512, 'triumph': 513, 'underworld': 514, 'eloi': 515, 'anything': 516, 'high': 517, 'journalist': 518, 'seem': 519, 'meat': 520, 'thinking': 521, 'rest': 522, 'rising': 523, 'blue': 524, 'lawn': 525, 'tree': 526, 'race': 527, 'floor': 528, 'seated': 529, 'help': 530, 'strength': 531, 'anyone': 532, 'real': 533, 'became': 534, 'dimension': 535, 'surface': 536, 'certainly': 537, 'stop': 538, 'attention': 539, 'interest': 540, 'slowly': 541, 'motion': 542, 'moved': 543, 'hesitated': 544, 'pushed': 545, 'rare': 546, 'shadow': 547, 'short': 548, 'fancy': 549, 'fancied': 550, 'river': 551, 'valley': 552, 'view': 553, 'alone': 554, 'thousands': 555, 'dream': 556, 'silver': 557, 'accepted': 558, 'natural': 559, 'fact': 560, 'trace': 561, 'trick': 562, 'held': 563, 'chair': 564, 'also': 565, 'shoulder': 566, 'sounds': 567, 'showed': 568, 'eye': 569, 'late': 570, 'seven': 571, 'wanted': 572, 'hear': 573, 'faces': 574, 'waiting': 575, 'apparently': 576, 'longer': 577, 'absolute': 578, 'stone': 579, 'used': 580, 'following': 581, 'effort': 582, 'entered': 583, 'slow': 584, 'plants': 585, 'signs': 586, 'during': 587, 'intelligence': 588, 'sleeping': 589, 'narrow': 590, 'stir': 591, 'protected': 592, 'returned': 593, 'familiar': 594, 'distribute': 595, 'ebooks': 596, 'distribution': 597, 'provide': 598, 'date': 599, 'golden': 600, 'making': 601, 'efforts': 602, 'become': 603, 'ivory': 604, 'model': 605, 'incredible': 606, 'faster': 607, 'puzzled': 608, 'comes': 609, 'blood': 610, 'home': 611, 'worn': 612, 'convey': 613, 'unknown': 614, 'breathing': 615, 'figures': 616, 'straight': 617, 'danger': 618, 'general': 619, 'tired': 620, 'needs': 621, 'animals': 622, 'cold': 623, 'theory': 624, 'glare': 625, 'shaft': 626, 'box': 627, 'permission': 628, 'paid': 629, 'using': 630, 'person': 631, 'fourth': 632, 'wrong': 633, 'case': 634, 'drew': 635, 'want': 636, 'm': 637, 'spoke': 638, 'flickering': 639, 'none': 640, 'somehow': 641, 'read': 642, 'started': 643, 'kept': 644, 'instead': 645, 'windows': 646, 'fruit': 647, 'corner': 648, 'watching': 649, 'discovered': 650, 'distance': 651, 'grow': 652, 'problem': 653, 'sometimes': 654, 'fallen': 655, 'hastily': 656, 'motionless': 657, 'tax': 658, 'parts': 659, 'language': 660, 'direction': 661, 'beginning': 662, 'hold': 663, 'getting': 664, 'front': 665, 'impression': 666, 'laughing': 667, 'dance': 668, 'paper': 669, 'warm': 670, 'hot': 671, 'lived': 672, 'ears': 673, 'fall': 674, 'twilight': 675, 'hillside': 676, 'shivered': 677, 'nearer': 678, 'reminded': 679, 'slope': 680, 'west': 681, 'slept': 682, 'mystery': 683, 'heat': 684, 'underground': 685, 'charge': 686, 'comply': 687, 'information': 688, 'start': 689, 'mankind': 690, 'convenient': 691, 'speak': 692, 'does': 693, 'particularly': 694, 'present': 695, 'velocity': 696, 'wild': 697, 'brass': 698, 'watched': 699, 'saddle': 700, 'waste': 701, 'laughed': 702, 'common': 703, 'led': 704, 'holding': 705, 'confusion': 706, 'considerable': 707, 'quiet': 708, 'intense': 709, 'till': 710, 'both': 711, 'displayed': 712, 'reached': 713, 'afraid': 714, 'early': 715, 'civilisation': 716, 'smoke': 717, 'touched': 718, 'shape': 719, 'distinct': 720, 'violently': 721, 'beauty': 722, 'sight': 723, 'staggered': 724, 'mass': 725, 'lower': 726, 'spite': 727, 'planet': 728, 'living': 729, 'yellow': 730, 'decay': 731, 'increasing': 732, 'energy': 733, 'folly': 734, 'whose': 735, 'circumstances': 736, 'poor': 737, 'keep': 738, 'machinery': 739, 'best': 740, 'carry': 741, 'fingers': 742, 'species': 743, 'killing': 744, 'grass': 745, 'phrase': 746, 'medium': 747, 'replacement': 748, 'matter': 749, 'carefully': 750, 'thickness': 751, 'young': 752, 'slight': 753, 'foolish': 754, 'evidently': 755, 'account': 756, 'pass': 757, 'thursday': 758, 'doorway': 759, 'ceased': 760, 'helpless': 761, 'fast': 762, 'possible': 763, 'hail': 764, 'turf': 765, 'beyond': 766, 'clad': 767, 'sweet': 768, 'neck': 769, 'knowledge': 770, 'heaps': 771, 'particular': 772, 'masses': 773, 'close': 774, 'secure': 775, 'steadily': 776, 'leaving': 777, 'current': 778, 'hither': 779, 'pleasant': 780, 'restless': 781, 'panels': 782, 'safe': 783, 'edge': 784, 'forest': 785, 'provided': 786, 'law': 787, 'burnt': 788, 'paradox': 789, 'mean': 790, 'having': 791, 'object': 792, 'difference': 793, 'words': 794, 'pause': 795, 'gently': 796, 'vague': 797, 'cried': 798, 'deep': 799, 'metallic': 800, 'notice': 801, 'pointed': 802, 'pressed': 803, 'changed': 804, 'interval': 805, 'simple': 806, 'word': 807, 'business': 808, 'smoking': 809, 'writing': 810, 'ten': 811, 'thud': 812, 'hazy': 813, 'suggestion': 814, 'everything': 815, 'confidence': 816, 'import': 817, 'cries': 818, 'limited': 819, 'fate': 820, 'north': 821, 'horror': 822, 'beach': 823, 'eastward': 824, 'body': 825, 'tendency': 826, 'ago': 827, 'lips': 828, 'recognised': 829, 'suggested': 830, 'mechanism': 831, 'individual': 832, 'wind': 833, 'perceived': 834, 'll': 835, 'brighter': 836, 'easy': 837, 'fair': 838, 'occurred': 839, 'incontinently': 840, 'carried': 841, 'inhuman': 842, 'wall': 843, 'voices': 844, 'heads': 845, 'flinging': 846, 'later': 847, 'name': 848, 'crest': 849, 'horizon': 850, 'thither': 851, 'support': 852, 'covered': 853, 'reflection': 854, 'outside': 855, 'flashed': 856, 'begin': 857, 'hair': 858, 'wait': 859, 'call': 860, 'latter': 861, 'passing': 862, 'miles': 863, 'savage': 864, 'reason': 865, 'money': 866, 'discover': 867, 'passage': 868, 'unless': 869, 'tables': 870, 'legs': 871, 'seat': 872, 'breath': 873, 'indistinct': 874, 'bare': 875, 'asked': 876, 'broad': 877, 'sheets': 878, 'perfectly': 879, 'whom': 880, 'five': 881, 'smile': 882, 'remembered': 883, 'doing': 884, 'clothes': 885, 'remained': 886, 'machines': 887, 'falling': 888, 'teeth': 889, 'garden': 890, 'headlong': 891, 'pace': 892, 'painful': 893, 'glimpse': 894, 'spread': 895, 'rise': 896, 'year': 897, 'dread': 898, 'possession': 899, 'built': 900, 'profound': 901, 'blow': 902, 'resolved': 903, 'innumerable': 904, 'sides': 905, 'passion': 906, 'foul': 907, 'shining': 908, 'rich': 909, 'emerged': 910, 'harsh': 911, 'ease': 912, 'forgotten': 913, 'gesture': 914, 'fro': 915, 'crowd': 916, 'deserted': 917, 'grotesque': 918, 'generations': 919, 'ways': 920, 'places': 921, 'cattle': 922, 'speedily': 923, 'calm': 924, 'experience': 925, 'houses': 926, 'balanced': 927, 'rarely': 928, 'palaces': 929, 'destroy': 930, 'fight': 931, 'balance': 932, 'blundering': 933, 'crept': 934, 'groping': 935, 'block': 936, 'presence': 937, 'peering': 938, 'often': 939, 'central': 940, 'afternoon': 941, 'nights': 942, 'habit': 943, 'live': 944, 'westward': 945, 'star': 946, 'burning': 947, 'heel': 948, 'shoes': 949, 'array': 950, 'salt': 951, 'crawling': 952, 'copying': 953, 'mission': 954, 'displaying': 955, 'status': 956, 'distributed': 957, 'posted': 958, 'providing': 959, 'owner': 960, 'volunteers': 961, 'brightly': 962, 'expect': 963, 'proceeded': 964, 'cigar': 965, 'smiled': 966, 'show': 967, 'himself': 968, 'wonder': 969, 'flame': 970, 'pipe': 971, 'facing': 972, 'surprise': 973, 'coat': 974, 'brought': 975, 'true': 976, 'murmur': 977, 'flung': 978, 'scarce': 979, 'contact': 980, 'purple': 981, 'dancing': 982, 'hour': 983, 'tall': 984, 'learn': 985, 'ruinous': 986, 'heap': 987, 'walls': 988, 'disappeared': 989, 'truth': 990, 'heart': 991, 'dreaded': 992, 'blaze': 993, 'refuge': 994, 'morlock': 995, 'sticks': 996, 'editions': 997, 'format': 998, 'check': 999, 'trap': 1000, 'provincial': 1001, 'difficulty': 1002, 'smiling': 1003, 'scarcely': 1004, 'clock': 1005, 'singularly': 1006, 'blown': 1007, 'ghost': 1008, 'serious': 1009, 'complete': 1010, 'absence': 1011, 'spirit': 1012, 'skull': 1013, 'extreme': 1014, 'unpleasant': 1015, 'risk': 1016, 'possibility': 1017, 'inevitable': 1018, 'hitherto': 1019, 'art': 1020, 'delicate': 1021, 'naturally': 1022, 'fruits': 1023, 'bye': 1024, 'setting': 1025, 'thames': 1026, 'mile': 1027, 'population': 1028, 'gradually': 1029, 'weak': 1030, 'removed': 1031, 'ill': 1032, 'land': 1033, 'obtain': 1034, 'london': 1035, 'confess': 1036, 'merely': 1037, 'clambering': 1038, 'upperworld': 1039, 'compliance': 1040, 'online': 1041, 'character': 1042, 'admit': 1043, 'mayor': 1044, 'movement': 1045, 'freedom': 1046, 'laughter': 1047, 'substance': 1048, 'low': 1049, 'remarked': 1050, 'plausible': 1051, 'bench': 1052, 'touch': 1053, 'week': 1054, 'curiosity': 1055, 'startled': 1056, 'agreed': 1057, 'voice': 1058, 'actual': 1059, 'putting': 1060, 'today': 1061, 'starting': 1062, 'stopping': 1063, 'sensations': 1064, 'dials': 1065, 'greatly': 1066, 'frail': 1067, 'features': 1068, 'abruptly': 1069, 'mine': 1070, 'struggle': 1071, 'sunlight': 1072, 'east': 1073, 'child': 1074, 'terror': 1075, 'loss': 1076, 'trouble': 1077, 'ghosts': 1078, 'ruin': 1079, 'sideways': 1080, 'flight': 1081, 'preserved': 1082, 'order': 1083, 'examined': 1084, 'strike': 1085, 'pattering': 1086, 'approached': 1087, 'immediate': 1088, 'section': 1089, 'creating': 1090, 'collection': 1091, 'holder': 1092, 'website': 1093, 'damages': 1094, 'cost': 1095, 're': 1096, 'english': 1097, 'usually': 1098, 'reasonable': 1099, 'existence': 1100, 'breadth': 1101, 'flesh': 1102, 'meant': 1103, 'society': 1104, 'manner': 1105, 'twenty': 1106, 'weather': 1107, 'staring': 1108, 'uniform': 1109, 'minded': 1110, 'able': 1111, 'drift': 1112, 'experiment': 1113, 'dozen': 1114, 'candles': 1115, 'mantel': 1116, 'apparatus': 1117, 'turning': 1118, 'seriously': 1119, 'subtle': 1120, 'friday': 1121, 'constant': 1122, 've': 1123, 'previous': 1124, 'blank': 1125, 'dusty': 1126, 'dull': 1127, 'hoped': 1128, 'interpretation': 1129, 'recover': 1130, 'friend': 1131, 'devoted': 1132, 'appetite': 1133, 'lying': 1134, 'circle': 1135, 'knees': 1136, 'cracked': 1137, 'rail': 1138, 'gripped': 1139, 'eddying': 1140, 'leaping': 1141, 'circling': 1142, 'wonderful': 1143, 'swayed': 1144, 'swaying': 1145, 'fresh': 1146, 'finding': 1147, 'reaching': 1148, 'explosion': 1149, 'surrounded': 1150, 'beating': 1151, 'colossal': 1152, 'marble': 1153, 'swept': 1154, 'garments': 1155, 'group': 1156, 'graceful': 1157, 'exquisite': 1158, 'sharp': 1159, 'thin': 1160, 'limbs': 1161, 'rushed': 1162, 'profoundly': 1163, 'partially': 1164, 'extremely': 1165, 'dining': 1166, 'amount': 1167, 'score': 1168, 'ended': 1169, 'friendly': 1170, 'bound': 1171, 'remains': 1172, 'structure': 1173, 'realised': 1174, 'sexes': 1175, 'woman': 1176, 'family': 1177, 'force': 1178, 'violence': 1179, 'powers': 1180, 'rust': 1181, 'moss': 1182, 'cast': 1183, 'horizontal': 1184, 'outcome': 1185, 'process': 1186, 'everywhere': 1187, 'survive': 1188, 'self': 1189, 'refined': 1190, 'wasting': 1191, 'die': 1192, 'chill': 1193, 'throat': 1194, 'hidden': 1195, 'exact': 1196, 'method': 1197, 'slipped': 1198, 'noises': 1199, 'wore': 1200, 'fairly': 1201, 'patient': 1202, 'probably': 1203, 'hiding': 1204, 'wondering': 1205, 'failed': 1206, 'flakes': 1207, 'slopes': 1208, 'hasty': 1209, 'guesses': 1210, 'expense': 1211, 'hills': 1212, 'rain': 1213, 'flaring': 1214, 'sees': 1215, 'learnt': 1216, 'company': 1217, 'gap': 1218, 'rescue': 1219, 'delight': 1220, 'childish': 1221, 'affection': 1222, 'passionate': 1223, 'sombre': 1224, 'hotter': 1225, 'assume': 1226, 'spots': 1227, 'steadfastly': 1228, 'dropped': 1229, 'bleached': 1230, 'overworlders': 1231, 'frame': 1232, 'largely': 1233, 'widening': 1234, 'deeper': 1235, 'due': 1236, 'closing': 1237, 'adapted': 1238, 'pay': 1239, 'size': 1240, 'museum': 1241, 'boldly': 1242, 'farther': 1243, 'push': 1244, 'projecting': 1245, 'throb': 1246, 'dimness': 1247, 'smell': 1248, 'grasped': 1249, 'thirty': 1250, 'pit': 1251, 'receive': 1252, 'weapon': 1253, 'tight': 1254, 'traces': 1255, 'pieces': 1256, 'smashed': 1257, 'crowbar': 1258, 'flames': 1259, 'property': 1260, 'meet': 1261, 'complying': 1262, 'derivative': 1263, 'entity': 1264, 'paragraph': 1265, 'public': 1266, 'performing': 1267, 'fees': 1268, 'official': 1269, 'user': 1270, 'defective': 1271, 'liability': 1272, 'warranties': 1273, 'limitation': 1274, 'anywhere': 1275, 'points': 1276, 'geometry': 1277, 'cube': 1278, 'curious': 1279, 'vividly': 1280, 'verification': 1281, 'battle': 1282, 'theories': 1283, 'scattered': 1284, 'placed': 1285, 'appearance': 1286, 'damned': 1287, 'corridor': 1288, 'suspected': 1289, 'rang': 1290, 'besides': 1291, 'expression': 1292, 'drawn': 1293, 'closed': 1294, 'resumed': 1295, 'quietly': 1296, 'express': 1297, 'downward': 1298, 'hopping': 1299, 'vapour': 1300, 'appear': 1301, 'cloud': 1302, 'circular': 1303, 'oddly': 1304, 'step': 1305, 'pink': 1306, 'type': 1307, 'cheek': 1308, 'lack': 1309, 'distant': 1310, 'summit': 1311, 'granite': 1312, 'corroded': 1313, 'makes': 1314, 'pain': 1315, 'numbers': 1316, 'tangle': 1317, 'strides': 1318, 'touching': 1319, 'careful': 1320, 'examination': 1321, 'missed': 1322, 'path': 1323, 'movements': 1324, 'specimens': 1325, 'bathing': 1326, 'centre': 1327, 'rate': 1328, 'problems': 1329, 'dawn': 1330, 'colourless': 1331, 'monster': 1332, 'increased': 1333, 'overworld': 1334, 'aristocracy': 1335, 'burst': 1336, 'descent': 1337, 'stayed': 1338, 'keeping': 1339, 'understood': 1340, 'surprised': 1341, 'cases': 1342, 'sorry': 1343, 'permitted': 1344, 'sweeping': 1345, 'crab': 1346, 'paying': 1347, 'defect': 1348, 'www': 1349, 'ideas': 1350, 'mathematical': 1351, 'remarkable': 1352, 'continued': 1353, 'dimensional': 1354, 'proper': 1355, 'mental': 1356, 'weary': 1357, 'journey': 1358, 'visible': 1359, 'therewith': 1360, 'easily': 1361, 'daily': 1362, 'dazzled': 1363, 'flickered': 1364, 'glance': 1365, 'tattered': 1366, 'dare': 1367, 'clumsy': 1368, 'o': 1369, 'afterwards': 1370, 'bent': 1371, 'sensation': 1372, 'imminent': 1373, 'dashed': 1374, 'succession': 1375, 'band': 1376, 'registered': 1377, 'shapes': 1378, 'dimly': 1379, 'frenzy': 1380, 'hardly': 1381, 'roof': 1382, 'meaning': 1383, 'pinkish': 1384, 'agriculture': 1385, 'science': 1386, 'attained': 1387, 'active': 1388, 'require': 1389, 'equipped': 1390, 'reach': 1391, 'moonlit': 1392, 'empty': 1393, 'exhausted': 1394, 'arrival': 1395, 'addition': 1396, 'tale': 1397, 'fashion': 1398, 'drifting': 1399, 'main': 1400, 'beneath': 1401, 'called': 1402, 'shouted': 1403, 'blinking': 1404, 'mechanical': 1405, 'judge': 1406, 'breeze': 1407, 'vestiges': 1408, 'sloping': 1409, 'brutes': 1410, 'hillock': 1411, 'links': 1412, 'requirements': 1413, 'disclaimer': 1414, 'written': 1415, 'included': 1416, 'returns': 1417, 'solid': 1418, 'finger': 1419, 'backward': 1420, 'cheerfully': 1421, 'appreciate': 1422, 'tonight': 1423, 'taking': 1424, 'incredulous': 1425, 'solemnly': 1426, 'known': 1427, 'doctor': 1428, 'bell': 1429, 'noise': 1430, 'faded': 1431, 'suffering': 1432, 'else': 1433, 'raised': 1434, 'inadequacy': 1435, 'noted': 1436, 'seeing': 1437, 'fainter': 1438, 'excessively': 1439, 'luminous': 1440, 'landscape': 1441, 'sitting': 1442, 'wet': 1443, 'disease': 1444, 'dreadful': 1445, 'seized': 1446, 'shafts': 1447, 'thunderstorm': 1448, 'retreat': 1449, 'approaching': 1450, 'blossom': 1451, 'created': 1452, 'effect': 1453, 'gestures': 1454, 'inclined': 1455, 'fatigued': 1456, 'examining': 1457, 'leaves': 1458, 'destined': 1459, 'engaged': 1460, 'effected': 1461, 'cause': 1462, 'dangers': 1463, 'mastered': 1464, 'descend': 1465, 'stirring': 1466, 'fist': 1467, 'twigs': 1468, 'moonlight': 1469, 'impossible': 1470, 'excitement': 1471, 'subterranean': 1472, 'ventilation': 1473, 'conclusion': 1474, 'imagination': 1475, 'inaccessible': 1476, 'amid': 1477, 'appliances': 1478, 'pillars': 1479, 'clue': 1480, 'presented': 1481, 'desolate': 1482, 'halted': 1483, 'obscurity': 1484, 'upper': 1485, 'hooks': 1486, 'feared': 1487, 'clung': 1488, 'tunnel': 1489, 'lie': 1490, 'escape': 1491, 'ones': 1492, 'wandered': 1493, 'millions': 1494, 'stems': 1495, 'beat': 1496, 'reddish': 1497, 'marked': 1498, 'royalties': 1499, 'applicable': 1500, 'donate': 1501, 'expounding': 1502, 'atmosphere': 1503, 'lean': 1504, 'accept': 1505, 'neither': 1506, 'directions': 1507, 'incline': 1508, 'planes': 1509, 'former': 1510, 'consciousness': 1511, 'spasmodic': 1512, 'overlooked': 1513, 'talk': 1514, 'spoken': 1515, 'reference': 1516, 'angles': 1517, 'month': 1518, 'flat': 1519, 'represent': 1520, 'fifteen': 1521, 'seventeen': 1522, 'sections': 1523, 'representations': 1524, 'fixed': 1525, 'required': 1526, 'generally': 1527, 'therefore': 1528, 'regarded': 1529, 'gravitation': 1530, 'fifty': 1531, 'staying': 1532, 'ultimately': 1533, 'experimental': 1534, 'verify': 1535, 'ahead': 1536, 'talked': 1537, 'faintly': 1538, 'finished': 1539, 'glittering': 1540, 'explicit': 1541, 'nearest': 1542, 'played': 1543, 'resting': 1544, 'askew': 1545, 'vanish': 1546, 'satisfy': 1547, 'sent': 1548, 'swung': 1549, 'recovered': 1550, 'reminiscence': 1551, 'tobacco': 1552, 'jar': 1553, 'stooping': 1554, 'helped': 1555, 'indicated': 1556, 'bit': 1557, 'spinning': 1558, 'beheld': 1559, 'nickel': 1560, 'filed': 1561, 'drawings': 1562, 'believed': 1563, 'clever': 1564, 'explained': 1565, 'mistake': 1566, 'judgment': 1567, 'utter': 1568, 'similar': 1569, 'laid': 1570, 'guests': 1571, 'note': 1572, 'lead': 1573, 'shy': 1574, 'speculation': 1575, 'ingenious': 1576, 'wider': 1577, 'smeared': 1578, 'healed': 1579, 'haggard': 1580, 'silence': 1581, 'champagne': 1582, 'gathering': 1583, 'completely': 1584, 'servants': 1585, 'fork': 1586, 'modest': 1587, 'rolling': 1588, 'heaping': 1589, 'reports': 1590, 'saying': 1591, 'middle': 1592, 'lot': 1593, 'stick': 1594, 'convulsively': 1595, 'questions': 1596, 'ink': 1597, 'lighted': 1598, 'incomplete': 1599, 'tap': 1600, 'destroyed': 1601, 'brilliant': 1602, 'stands': 1603, 'changing': 1604, 'raced': 1605, 'solstice': 1606, 'snow': 1607, 'brief': 1608, 'confused': 1609, 'series': 1610, 'impressions': 1611, 'architecture': 1612, 'richer': 1613, 'remain': 1614, 'slipping': 1615, 'molecule': 1616, 'intimate': 1617, 'reaction': 1618, 'prolonged': 1619, 'fool': 1620, 'rhododendron': 1621, 'carved': 1622, 'wings': 1623, 'chanced': 1624, 'curtain': 1625, 'promise': 1626, 'grown': 1627, 'smote': 1628, 'aside': 1629, 'courage': 1630, 'curiously': 1631, 'opening': 1632, 'robes': 1633, 'leading': 1634, 'distinguish': 1635, 'bearing': 1636, 'sign': 1637, 'shook': 1638, 'pointing': 1639, 'tentacles': 1640, 'warn': 1641, 'faintest': 1642, 'cooing': 1643, 'anticipated': 1644, 'disappointment': 1645, 'vivid': 1646, 'carrying': 1647, 'melodious': 1648, 'astonishment': 1649, 'confident': 1650, 'irresistible': 1651, 'variegated': 1652, 'ph': 1653, 'nician': 1654, 'decorations': 1655, 'nineteenth': 1656, 'century': 1657, 'coloured': 1658, 'blocks': 1659, 'slabs': 1660, 'polished': 1661, 'orange': 1662, 'stalks': 1663, 'openings': 1664, 'surveyed': 1665, 'pattern': 1666, 'curtains': 1667, 'nevertheless': 1668, 'couple': 1669, 'strict': 1670, 'sheep': 1671, 'delightful': 1672, 'attempt': 1673, 'chatter': 1674, 'amidst': 1675, 'doses': 1676, 'indolent': 1677, 'eager': 1678, 'beginnings': 1679, 'sunlit': 1680, 'laugh': 1681, 'scene': 1682, 'glow': 1683, 'entirely': 1684, 'condition': 1685, 'derelict': 1686, 'stranger': 1687, 'greenery': 1688, 'heels': 1689, 'resemblance': 1690, 'necessities': 1691, 'offspring': 1692, 'efficient': 1693, 'musing': 1694, 'attracted': 1695, 'cupola': 1696, 'existing': 1697, 'walking': 1698, 'adventure': 1699, 'recognise': 1700, 'rests': 1701, 'gold': 1702, 'proprietary': 1703, 'evidences': 1704, 'shaped': 1705, 'realise': 1706, 'deliberately': 1707, 'operations': 1708, 'weed': 1709, 'wholesome': 1710, 'intelligent': 1711, 'co': 1712, 'fungi': 1713, 'affected': 1714, 'clothed': 1715, 'advertisement': 1716, 'guessed': 1717, 'increase': 1718, 'inevitably': 1719, 'errors': 1720, 'arise': 1721, 'therein': 1722, 'fierce': 1723, 'jealousy': 1724, 'tenderness': 1725, 'necessary': 1726, 'survival': 1727, 'love': 1728, 'power': 1729, 'solitary': 1730, 'beasts': 1731, 'harmony': 1732, 'flourish': 1733, 'takes': 1734, 'died': 1735, 'keen': 1736, 'grindstone': 1737, 'owl': 1738, 'leprous': 1739, 'minutes': 1740, 'furiously': 1741, 'shelter': 1742, 'produced': 1743, 'anguish': 1744, 'shaking': 1745, 'revive': 1746, 'crying': 1747, 'fatigue': 1748, 'wretchedness': 1749, 'anger': 1750, 'leaked': 1751, 'tools': 1752, 'futile': 1753, 'impulse': 1754, 'blind': 1755, 'care': 1756, 'hammering': 1757, 'gusty': 1758, 'hours': 1759, 'complicated': 1760, 'gates': 1761, 'concern': 1762, 'progress': 1763, 'explorations': 1764, 'undulating': 1765, 'serenity': 1766, 'gleam': 1767, 'steady': 1768, 'scrap': 1769, 'fluttering': 1770, 'towers': 1771, 'flicker': 1772, 'negro': 1773, 'railway': 1774, 'wide': 1775, 'sensible': 1776, 'unseen': 1777, 'contributed': 1778, 'automatic': 1779, 'organisation': 1780, 'crematoria': 1781, 'range': 1782, 'remark': 1783, 'aged': 1784, 'satisfaction': 1785, 'complex': 1786, 'vestige': 1787, 'inscription': 1788, 'excellent': 1789, 'visit': 1790, 'exploration': 1791, 'display': 1792, 'calling': 1793, 'gathered': 1794, 'greyish': 1795, 'dying': 1796, 'pallor': 1797, 'inky': 1798, 'scanned': 1799, 'ape': 1800, 'eastern': 1801, 'notion': 1802, 'hence': 1803, 'occur': 1804, 'renewed': 1805, 'inner': 1806, 'seeking': 1807, 'extent': 1808, 'advanced': 1809, 'pile': 1810, 'whether': 1811, 'sole': 1812, 'descendants': 1813, 'obscene': 1814, 'nocturnal': 1815, 'ages': 1816, 'suspect': 1817, 'solution': 1818, 'sport': 1819, 'revolution': 1820, 'sliding': 1821, 'ventilating': 1822, 'hint': 1823, 'witness': 1824, 'evident': 1825, 'artificial': 1826, 'splitting': 1827, 'gradual': 1828, 'practically': 1829, 'exclusive': 1830, 'education': 1831, 'gulf': 1832, 'higher': 1833, 'educational': 1834, 'class': 1835, 'promotion': 1836, 'pleasure': 1837, 'refused': 1838, 'permanent': 1839, 'working': 1840, 'modification': 1841, 'quarter': 1842, 'clamber': 1843, 'regarding': 1844, 'piece': 1845, 'kissing': 1846, 'parapet': 1847, 'leak': 1848, 'cramped': 1849, 'weight': 1850, 'quick': 1851, 'aperture': 1852, 'disc': 1853, 'trembling': 1854, 'hum': 1855, 'striking': 1856, 'glared': 1857, 'heavy': 1858, 'lurking': 1859, 'wriggling': 1860, 'run': 1861, 'disengaged': 1862, 'ignorance': 1863, 'protection': 1864, 'deadly': 1865, 'element': 1866, 'ancient': 1867, 'departed': 1868, 'impressed': 1869, 'thrust': 1870, 'brother': 1871, 'recall': 1872, 'pinnacles': 1873, 'occasionally': 1874, 'jacket': 1875, 'withered': 1876, 'unlike': 1877, 'dusk': 1878, 'expectation': 1879, 'ant': 1880, 'darker': 1881, 'spreading': 1882, 'branches': 1883, 'excitements': 1884, 'glad': 1885, 'constellations': 1886, 'forty': 1887, 'feeble': 1888, 'food': 1889, 'rats': 1890, 'preserve': 1891, 'watchword': 1892, 'degradation': 1893, 'claim': 1894, 'perforce': 1895, 'contrivance': 1896, 'persuasion': 1897, 'turfy': 1898, 'proved': 1899, 'bones': 1900, 'pal': 1901, 'fossils': 1902, 'staved': 1903, 'nine': 1904, 'receded': 1905, 'library': 1906, 'aisle': 1907, 'puzzles': 1908, 'stand': 1909, 'mace': 1910, 'sufficient': 1911, 'suffer': 1912, 'charred': 1913, 'print': 1914, 'performed': 1915, 'escaped': 1916, 'promised': 1917, 'calculated': 1918, 'curved': 1919, 'accustomed': 1920, 'crackling': 1921, 'lump': 1922, 'dry': 1923, 'foliage': 1924, 'slumbrous': 1925, 'death': 1926, 'pulled': 1927, 'monstrous': 1928, 'blows': 1929, 'starlight': 1930, 'subsiding': 1931, 'awful': 1932, 'ashes': 1933, 'lonely': 1934, 'viewed': 1935, 'variety': 1936, 'abominable': 1937, 'given': 1938, 'dome': 1939, 'glowing': 1940, 'intensely': 1941, 'eternal': 1942, 'margin': 1943, 'incrustation': 1944, 'claws': 1945, 'ungainly': 1946, 'duller': 1947, 'million': 1948, 'isn': 1949, 'squat': 1950, 'lunch': 1951, 'richardson': 1952, 'mutual': 1953, 'file': 1954, 'files': 1955, 'formats': 1956, 'owns': 1957, 'protect': 1958, 'printed': 1959, 'promoting': 1960, 'available': 1961, 'redistributing': 1962, 'obtaining': 1963, 'domain': 1964, 'based': 1965, 'references': 1966, 'concerning': 1967, 'prominently': 1968, 'copied': 1969, 'contain': 1970, 'additional': 1971, 'vanilla': 1972, 'ascii': 1973, 'payments': 1974, 'prepare': 1975, 'receipt': 1976, 'computer': 1977, 'costs': 1978, 'expenses': 1979, 'breach': 1980, 'lieu': 1981, 'electronically': 1982, 'implied': 1983, 'c': 1984, 'readable': 1985, 'widest': 1986, 'exempt': 1987, \"foundation's\": 1988, 'solicit': 1989, 'contents': 1990, 'shock': 1991, 'vision': 1992, 'marking': 1993, 'ask': 1994, 'overlook': 1995, 'moves': 1996, 'philosophical': 1997, 'scientific': 1998, 'mercury': 1999, 'instant': 2000, 'greek': 2001, 'pockets': 2002, 'transparent': 2003, 'twinkling': 2004, 'tomorrow': 2005, 'rock': 2006, 'shown': 2007, 'possibilities': 2008, 'naming': 2009, 'pity': 2010, 'cry': 2011, 'ghastly': 2012, 'chin': 2013, 'expecting': 2014, 'filled': 2015, 'behaviour': 2016, 'limping': 2017, 'dressed': 2018, 'usual': 2019, 'refrain': 2020, 'truly': 2021, 'expected': 2022, 'immediately': 2023, 'intellect': 2024, 'greyness': 2025, 'unable': 2026, 'columns': 2027, 'birch': 2028, 'whirled': 2029, 'attitude': 2030, 'indescribably': 2031, 'smothered': 2032, 'themselves': 2033, 'material': 2034, 'especially': 2035, 'perceive': 2036, 'grasp': 2037, 'substantives': 2038, 'continually': 2039, 'incapable': 2040, 'rested': 2041, 'institution': 2042, 'logical': 2043, 'premium': 2044, 'medicine': 2045, 'conquest': 2046, 'artistic': 2047, 'checks': 2048, 'fears': 2049, 'clutching': 2050, 'breaking': 2051, 'bawling': 2052, 'god': 2053, 'freshness': 2054, 'desire': 2055, 'jest': 2056, 'inside': 2057, 'wish': 2058, 'dragging': 2059, 'system': 2060, 'difficult': 2061, 'lacked': 2062, 'rubbing': 2063, 'gratitude': 2064, 'chiefly': 2065, 'distress': 2066, 'enter': 2067, 'tumult': 2068, 'generation': 2069, 'indefinite': 2070, 'search': 2071, 'spider': 2072, 'pursued': 2073, 'distressed': 2074, 'vaguely': 2075, 'caves': 2076, 'universal': 2077, 'proceeding': 2078, 'dreamed': 2079, 'shrinking': 2080, 'agony': 2081, 'stretched': 2082, 'frightfully': 2083, 'economise': 2084, 'blindness': 2085, 'nausea': 2086, 'frightful': 2087, 'swam': 2088, 'possessed': 2089, 'purpose': 2090, 'darkling': 2091, 'break': 2092, 'bring': 2093, 'valves': 2094, 'sulphur': 2095, 'shrivelled': 2096, 'cartridges': 2097, 'tongues': 2098, 'fumbled': 2099, 'backs': 2100, 'stooped': 2101, 'slid': 2102, 'fix': 2103, 'rocks': 2104, 'slime': 2105, 'eclipse': 2106, 'sick': 2107, 'choose': 2108, 'concept': 2109, 'please': 2110, 'sentence': 2111, 'specified': 2112, 'accordance': 2113, 'updated': 2114, 'invention': 2115, 'animated': 2116, 'caressed': 2117, 'taught': 2118, 'unreal': 2119, 'yes': 2120, 'transitory': 2121, 'results': 2122, 'vertical': 2123, 'discovery': 2124, 'jump': 2125, 'turn': 2126, 'ancestors': 2127, 'crystalline': 2128, 'brilliantly': 2129, 'illuminated': 2130, 'appears': 2131, 'plan': 2132, 'lighting': 2133, 'reassured': 2134, 'quartz': 2135, 'd': 2136, 'seems': 2137, 'painfully': 2138, 'comfortable': 2139, 'staircase': 2140, 'pair': 2141, 'conversation': 2142, 'frankly': 2143, 'eat': 2144, 'uncomfortable': 2145, 'sheer': 2146, 'plates': 2147, 'workshop': 2148, 'supposed': 2149, 'merged': 2150, 'arch': 2151, 'fluctuating': 2152, 'rudimentary': 2153, 'flow': 2154, 'occupied': 2155, 'gust': 2156, 'hissing': 2157, 'distinctly': 2158, 'crouching': 2159, 'readjust': 2160, 'mount': 2161, 'fragile': 2162, 'tongue': 2163, 'nodded': 2164, 'countless': 2165, 'fretted': 2166, 'extinction': 2167, 'costume': 2168, 'evil': 2169, 'wane': 2170, 'consequence': 2171, 'greater': 2172, 'breeding': 2173, 'toil': 2174, 'aloud': 2175, 'worst': 2176, 'clenched': 2177, 'unexpected': 2178, 'despair': 2179, 'woke': 2180, 'wasted': 2181, 'struggled': 2182, 'overturned': 2183, 'spent': 2184, 'avoided': 2185, 'sentences': 2186, 'contained': 2187, 'decadent': 2188, 'shallow': 2189, 'lesson': 2190, 'wondered': 2191, 'fellow': 2192, 'terribly': 2193, 'horribly': 2194, 'climbing': 2195, 'unstable': 2196, 'unbroken': 2197, 'rayless': 2198, 'clutched': 2199, 'enemy': 2200, 'hypothesis': 2201, 'differently': 2202, 'restrained': 2203, 'non': 2204, 'gives': 2205, 'widespread': 2206, 'vegetation': 2207, 'clinging': 2208, 'moaning': 2209, 'dial': 2210, 'damaged': 2211, 'u': 2212, 'royalty': 2213, 'equipment': 2214, 'warranty': 2215, 'legal': 2216, 'page': 2217, 'introduction': 2218, 'vii': 2219, 'flushed': 2220, 'forefinger': 2221, 'exist': 2222, 'lives': 2223, 'yesterday': 2224, 'upward': 2225, 'grave': 2226, 'civilised': 2227, 'brain': 2228, 'collapsed': 2229, 'framework': 2230, 'disappear': 2231, 'interminable': 2232, 'voyage': 2233, 'jumped': 2234, 'objections': 2235, 'edition': 2236, 'china': 2237, 'candle': 2238, 'disordered': 2239, 'lameness': 2240, 'plate': 2241, 'suit': 2242, 'meeting': 2243, 'won': 2244, 'bed': 2245, 'quality': 2246, 'suicide': 2247, 'nightmare': 2248, 'dreams': 2249, 'speed': 2250, 'belt': 2251, 'mist': 2252, 'whatever': 2253, 'result': 2254, 'forthwith': 2255, 'thunder': 2256, 'hailstones': 2257, 'rhododendrons': 2258, 'thinner': 2259, 'verdigris': 2260, 'directed': 2261, 'shoulders': 2262, 'sandals': 2263, 'prettiness': 2264, 'hesitating': 2265, 'mysterious': 2266, 'speech': 2267, 'cushions': 2268, 'eating': 2269, 'portal': 2270, 'aluminium': 2271, 'determine': 2272, 'flash': 2273, 'speculations': 2274, 'top': 2275, 'field': 2276, 'diseases': 2277, 'stay': 2278, 'devotion': 2279, 'weakness': 2280, 'war': 2281, 'devised': 2282, 'diminished': 2283, 'instinctively': 2284, 'answered': 2285, 'dismay': 2286, 'knuckles': 2287, 'misery': 2288, 'overnight': 2289, 'emotion': 2290, 'footprints': 2291, 'hollow': 2292, 'vigil': 2293, 'hopeless': 2294, 'threw': 2295, 'third': 2296, 'apprehension': 2297, 'troubled': 2298, 'awakened': 2299, 'palps': 2300, 'unfamiliar': 2301, 'masonry': 2302, 'glaring': 2303, 'pillar': 2304, 'retreated': 2305, 'sunshine': 2306, 'industry': 2307, 'labour': 2308, 'constituted': 2309, 'tears': 2310, 'vermin': 2311, 'yards': 2312, 'louder': 2313, 'oppressive': 2314, 'swinging': 2315, 'necessarily': 2316, 'ourselves': 2317, 'safety': 2318, 'faintness': 2319, 'insensible': 2320, 'arrived': 2321, 'futility': 2322, 'apace': 2323, 'terrors': 2324, 'lame': 2325, 'hugely': 2326, 'stillness': 2327, 'contrive': 2328, 'skeleton': 2329, 'extinct': 2330, 'confirmed': 2331, 'decaying': 2332, 'testified': 2333, 'eagerly': 2334, 'original': 2335, 'sealed': 2336, 'waned': 2337, 'woods': 2338, 'calamity': 2339, 'approach': 2340, 'dead': 2341, 'web': 2342, 'hawthorn': 2343, 'awake': 2344, 'committed': 2345, 'permanency': 2346, 'scramble': 2347, 'hillocks': 2348, 'monsters': 2349, 'disk': 2350, 'shared': 2351, 'research': 2352, 'damage': 2353, 'computers': 2354, 'federal': 2355, 'contributions': 2356, 'email': 2357, 'restrictions': 2358, 'july': 2359, 'recently': 2360, 'october': 2361, 'encoding': 2362, 'utf': 2363, 'ii': 2364, 'iii': 2365, 'iv': 2366, 'v': 2367, 'vi': 2368, 'viii': 2369, 'ix': 2370, 'x': 2371, 'xi': 2372, 'xii': 2373, 'xiii': 2374, 'xiv': 2375, 'xv': 2376, 'xvi': 2377, 'recondite': 2378, 'twinkled': 2379, 'radiance': 2380, 'incandescent': 2381, 'lights': 2382, 'lilies': 2383, 'bubbles': 2384, 'chairs': 2385, 'patents': 2386, 'embraced': 2387, 'submitted': 2388, 'luxurious': 2389, 'runs': 2390, 'gracefully': 2391, 'lazily': 2392, 'admired': 2393, 'earnestness': 2394, 'controvert': 2395, 'school': 2396, 'founded': 2397, 'argumentative': 2398, 'nil': 2399, 'extension': 2400, 'infirmity': 2401, 'draw': 2402, 'distinction': 2403, 'happens': 2404, 'intermittently': 2405, 'relight': 2406, 'extensively': 2407, 'mathematicians': 2408, 'definable': 2409, 'asking': 2410, 'construct': 2411, 'professor': 2412, 'york': 2413, 'similarly': 2414, 'models': 2415, 'master': 2416, 'perspective': 2417, 'murmured': 2418, 'knitting': 2419, 'brows': 2420, 'lapsed': 2421, 'introspective': 2422, 'brightening': 2423, 'portrait': 2424, 'dimensioned': 2425, 'assimilation': 2426, 'popular': 2427, 'diagram': 2428, 'shows': 2429, 'traced': 2430, 'conclude': 2431, 'coal': 2432, 'balloons': 2433, 'jumping': 2434, 'inequalities': 2435, 'easier': 2436, 'immaterial': 2437, 'cradle': 2438, 'germ': 2439, 'recalling': 2440, 'incident': 2441, 'occurrence': 2442, 'absent': 2443, 'six': 2444, 'balloon': 2445, 'accelerate': 2446, 'oh': 2447, 'argument': 2448, 'investigations': 2449, 'inkling': 2450, 'exclaimed': 2451, 'indifferently': 2452, 'contented': 2453, 'remarkably': 2454, 'historian': 2455, 'hastings': 2456, 'attract': 2457, 'homer': 2458, 'plato': 2459, 'plough': 2460, 'improved': 2461, 'invest': 2462, 'accumulate': 2463, 'hurry': 2464, 'erected': 2465, 'extravagant': 2466, 'anyhow': 2467, 'trousers': 2468, 'slippers': 2469, 'shuffling': 2470, 'sleight': 2471, 'conjuror': 2472, 'burslem': 2473, 'preface': 2474, 'follows': 2475, 'octagonal': 2476, 'shaded': 2477, 'candlesticks': 2478, 'sconces': 2479, 'profile': 2480, 'subtly': 2481, 'conceived': 2482, 'adroitly': 2483, 'elbows': 2484, 'pressing': 2485, 'looks': 2486, 'peered': 2487, 'retorted': 2488, 'imitated': 2489, 'action': 2490, 'sends': 2491, 'gliding': 2492, 'press': 2493, 'yourselves': 2494, 'eddy': 2495, 'stupor': 2496, 'earnest': 2497, 'spill': 2498, 'unhinged': 2499, 'impartiality': 2500, 'presentation': 2501, 'threshold': 2502, 'helps': 2503, 'wheel': 2504, 'bullet': 2505, 'flying': 2506, 'gets': 2507, 'creates': 2508, 'fiftieth': 2509, 'hundredth': 2510, 'vacant': 2511, 'draughty': 2512, 'silhouette': 2513, 'sawn': 2514, 'twisted': 2515, 'unfinished': 2516, 'christmas': 2517, 'aloft': 2518, 'intend': 2519, 'winked': 2520, 'reserve': 2521, 'ingenuity': 2522, 'ambush': 2523, 'motives': 2524, 'pork': 2525, 'butcher': 2526, 'whim': 2527, 'elements': 2528, 'fame': 2529, 'tricks': 2530, 'deportment': 2531, 'aware': 2532, 'trusting': 2533, 'reputations': 2534, 'furnishing': 2535, 'nursery': 2536, 'potentialities': 2537, 'minds': 2538, 'plausibility': 2539, 'practical': 2540, 'incredibleness': 2541, 'anachronism': 2542, 'preoccupied': 2543, 'discussing': 2544, 'bingen': 2545, 'stress': 2546, 'blowing': 2547, 'richmond': 2548, 'arriving': 2549, 'assembled': 2550, 'sheet': 2551, 'spoil': 2552, 'thereupon': 2553, 'attended': 2554, 'aforementioned': 2555, 'beard': 2556, 'didn': 2557, 'observation': 2558, 'volunteered': 2559, 'wooden': 2560, 'witnessed': 2561, 'midst': 2562, 'exposition': 2563, 'tableful': 2564, 'amazing': 2565, 'dirty': 2566, 'sleeves': 2567, 'greyer': 2568, 'dirt': 2569, 'limp': 2570, 'disturb': 2571, 'approval': 2572, 'wash': 2573, 'dress': 2574, 'mutton': 2575, 'starving': 2576, 'visitor': 2577, 'padding': 2578, 'footfall': 2579, 'stained': 2580, 'detested': 2581, 'eminent': 2582, 'scientist': 2583, 'game': 2584, 'amateur': 2585, 'cadger': 2586, 'hated': 2587, 'knife': 2588, 'grunt': 2589, 'gaps': 2590, 'wonderment': 2591, 'fervent': 2592, 'eke': 2593, 'income': 2594, 'crossing': 2595, 'nebuchadnezzar': 2596, 'couldn': 2597, 'cover': 2598, 'brushes': 2599, 'price': 2600, 'joined': 2601, 'ridicule': 2602, 'joyous': 2603, 'shouting': 2604, 'ordinary': 2605, 'hilariously': 2606, 'chaps': 2607, 'rosebery': 2608, 'reserved': 2609, 'treat': 2610, 'peptone': 2611, 'shilling': 2612, 'verbatim': 2613, 'fingernail': 2614, 'relieve': 2615, 'tension': 2616, 'anecdotes': 2617, 'smoked': 2618, 'cigarette': 2619, 'drank': 2620, 'regularity': 2621, 'determination': 2622, 'dash': 2623, 'chose': 2624, 'leaning': 2625, 'interruptions': 2626, 'shan': 2627, 'keenness': 2628, 'pen': 2629, 'attentively': 2630, 'speaker': 2631, 'sincere': 2632, 'intonation': 2633, 'turns': 2634, 'hearers': 2635, 'glanced': 2636, 'principles': 2637, 'finish': 2638, 'inch': 2639, 'remade': 2640, 'screws': 2641, 'drop': 2642, 'oil': 2643, 'rod': 2644, 'holds': 2645, 'pistol': 2646, 'feels': 2647, 'reel': 2648, 'traverse': 2649, 'shoot': 2650, 'position': 2651, 'dumb': 2652, 'confusedness': 2653, 'descended': 2654, 'switchback': 2655, 'anticipation': 2656, 'flapping': 2657, 'scaffolding': 2658, 'conscious': 2659, 'crawled': 2660, 'intermittent': 2661, 'darknesses': 2662, 'quarters': 2663, 'gaining': 2664, 'palpitation': 2665, 'continuous': 2666, 'deepness': 2667, 'jerking': 2668, 'streak': 2669, 'puffs': 2670, 'melting': 2671, 'flowing': 2672, 'consequently': 2673, 'attend': 2674, 'madness': 2675, 'advances': 2676, 'elusive': 2677, 'fluctuated': 2678, 'massive': 2679, 'veil': 2680, 'mattered': 2681, 'attenuated': 2682, 'interstices': 2683, 'intervening': 2684, 'substances': 2685, 'involved': 2686, 'jamming': 2687, 'bringing': 2688, 'atoms': 2689, 'obstacle': 2690, 'chemical': 2691, 'unavoidable': 2692, 'risks': 2693, 'insensibly': 2694, 'strangeness': 2695, 'sickly': 2696, 'jarring': 2697, 'petulance': 2698, 'lugged': 2699, 'reeling': 2700, 'clap': 2701, 'stunned': 2702, 'mauve': 2703, 'blossoms': 2704, 'dropping': 2705, 'shower': 2706, 'loomed': 2707, 'indistinctly': 2708, 'downpour': 2709, 'describe': 2710, 'winged': 2711, 'vertically': 2712, 'sightless': 2713, 'imparted': 2714, 'advance': 2715, 'recede': 2716, 'tore': 2717, 'threadbare': 2718, 'lightening': 2719, 'temerity': 2720, 'withdrawn': 2721, 'cruelty': 2722, 'manliness': 2723, 'developed': 2724, 'unsympathetic': 2725, 'overwhelmingly': 2726, 'powerful': 2727, 'disgusting': 2728, 'likeness': 2729, 'intricate': 2730, 'parapets': 2731, 'wooded': 2732, 'strove': 2733, 'trailing': 2734, 'summer': 2735, 'shreds': 2736, 'picked': 2737, 'unmelted': 2738, 'piled': 2739, 'bird': 2740, 'knowing': 2741, 'hawk': 2742, 'grappled': 2743, 'fiercely': 2744, 'wrist': 2745, 'knee': 2746, 'desperate': 2747, 'onset': 2748, 'panting': 2749, 'heavily': 2750, 'recovery': 2751, 'prompt': 2752, 'fearfully': 2753, 'pathway': 2754, 'tunic': 2755, 'girdled': 2756, 'waist': 2757, 'consumptive': 2758, 'hectic': 2759, 'inspired': 2760, 'gentleness': 2761, 'unscrewed': 2762, 'peculiarities': 2763, 'dresden': 2764, 'uniformly': 2765, 'curly': 2766, 'chins': 2767, 'mild': 2768, 'egotism': 2769, 'communicate': 2770, 'speaking': 2771, 'notes': 2772, 'quaintly': 2773, 'chequered': 2774, 'astonished': 2775, 'imitating': 2776, 'fools': 2777, 'incredibly': 2778, 'level': 2779, 'suspended': 2780, 'rendering': 2781, 'thunderclap': 2782, 'chain': 2783, 'applause': 2784, 'laughingly': 2785, 'plaything': 2786, 'exhibited': 2787, 'edifice': 2788, 'anticipations': 2789, 'posterity': 2790, 'merriment': 2791, 'entry': 2792, 'portals': 2793, 'yawned': 2794, 'tangled': 2795, 'neglected': 2796, 'spikes': 2797, 'measuring': 2798, 'shrubs': 2799, 'examine': 2800, 'closely': 2801, 'richly': 2802, 'observe': 2803, 'carving': 2804, 'narrowly': 2805, 'suggestions': 2806, 'badly': 2807, 'dingy': 2808, 'garlanded': 2809, 'whirl': 2810, 'proportionately': 2811, 'glazed': 2812, 'unglazed': 2813, 'admitted': 2814, 'deeply': 2815, 'channelled': 2816, 'hypertrophied': 2817, 'raspberry': 2818, 'conductors': 2819, 'signing': 2820, 'ceremony': 2821, 'peel': 2822, 'loath': 2823, 'example': 2824, 'geometrical': 2825, 'vegetarians': 2826, 'carnal': 2827, 'cravings': 2828, 'horses': 2829, 'dogs': 2830, 'season': 2831, 'floury': 2832, 'sided': 2833, 'husk': 2834, 'checked': 2835, 'resolute': 2836, 'interrogative': 2837, 'stare': 2838, 'inextinguishable': 2839, 'haired': 2840, 'intention': 2841, 'attempts': 2842, 'caused': 2843, 'immense': 2844, 'genuine': 2845, 'schoolmaster': 2846, 'persisted': 2847, 'noun': 2848, 'command': 2849, 'demonstrative': 2850, 'pronouns': 2851, 'interrogations': 2852, 'lessons': 2853, 'hosts': 2854, 'wander': 2855, 'conversational': 2856, 'disregard': 2857, 'gesticulated': 2858, 'situated': 2859, 'shifted': 2860, 'splendour': 2861, 'labyrinth': 2862, 'precipitous': 2863, 'crumpled': 2864, 'pagoda': 2865, 'nettles': 2866, 'wonderfully': 2867, 'tinted': 2868, 'intimation': 2869, 'terrace': 2870, 'cottage': 2871, 'characteristic': 2872, 'hairless': 2873, 'visage': 2874, 'girlish': 2875, 'differences': 2876, 'texture': 2877, 'mark': 2878, 'miniatures': 2879, 'precocious': 2880, 'physically': 2881, 'softness': 2882, 'differentiation': 2883, 'occupations': 2884, 'militant': 2885, 'childbearing': 2886, 'becomes': 2887, 'blessing': 2888, 'specialisation': 2889, 'remind': 2890, 'oddness': 2891, 'thread': 2892, 'miraculous': 2893, 'flaming': 2894, 'dotted': 2895, 'silvery': 2896, 'hedges': 2897, 'rights': 2898, 'facet': 2899, 'sets': 2900, 'ameliorating': 2901, 'civilising': 2902, 'projects': 2903, 'sanitation': 2904, 'attacked': 2905, 'department': 2906, 'spreads': 2907, 'horticulture': 2908, 'cultivate': 2909, 'improve': 2910, 'favourite': 2911, 'selective': 2912, 'peach': 2913, 'seedless': 2914, 'grape': 2915, 'sweeter': 2916, 'flower': 2917, 'ideals': 2918, 'tentative': 2919, 'organised': 2920, 'educated': 2921, 'operating': 2922, 'wisely': 2923, 'vegetable': 2924, 'gnats': 2925, 'weeds': 2926, 'butterflies': 2927, 'flew': 2928, 'preventive': 2929, 'evidence': 2930, 'contagious': 2931, 'processes': 2932, 'putrefaction': 2933, 'housed': 2934, 'shelters': 2935, 'gloriously': 2936, 'traffic': 2937, 'commerce': 2938, 'constitutes': 2939, 'adaptations': 2940, 'vigour': 2941, 'hardship': 2942, 'weaker': 2943, 'loyal': 2944, 'alliance': 2945, 'capable': 2946, 'restraint': 2947, 'patience': 2948, 'emotions': 2949, 'parental': 2950, 'justification': 2951, 'sentiment': 2952, 'arising': 2953, 'connubial': 2954, 'maternity': 2955, 'sorts': 2956, 'unnecessary': 2957, 'survivals': 2958, 'discords': 2959, 'slightness': 2960, 'strengthened': 2961, 'belief': 2962, 'energetic': 2963, 'vitality': 2964, 'alter': 2965, 'tendencies': 2966, 'desires': 2967, 'hindrances': 2968, 'constitution': 2969, 'surgings': 2970, 'purposeless': 2971, 'settled': 2972, 'eroticism': 2973, 'impetus': 2974, 'sing': 2975, 'fade': 2976, 'hateful': 2977, 'secret': 2978, 'succeeded': 2979, 'gibbous': 2980, 'overflow': 2981, 'noiseless': 2982, 'flitted': 2983, 'stoutly': 2984, 'conviction': 2985, 'lash': 2986, 'losing': 2987, 'grip': 2988, 'stanching': 2989, 'trickle': 2990, 'certainty': 2991, 'excessive': 2992, 'assurance': 2993, 'faced': 2994, 'mockery': 2995, 'consoled': 2996, 'imagining': 2997, 'dismayed': 2998, 'unsuspected': 2999, 'intervention': 3000, 'duplicate': 3001, 'prevented': 3002, 'tampering': 3003, 'hid': 3004, 'startling': 3005, 'gashed': 3006, 'bleeding': 3007, 'raving': 3008, 'uneven': 3009, 'malachite': 3010, 'inarticulate': 3011, 'splutter': 3012, 'flare': 3013, 'angry': 3014, 'laying': 3015, 'sorely': 3016, 'knocking': 3017, 'stumbling': 3018, 'raved': 3019, 'screaming': 3020, 'weeping': 3021, 'sparrows': 3022, 'behoves': 3023, 'materials': 3024, 'scrambled': 3025, 'stiff': 3026, 'questionings': 3027, 'conveyed': 3028, 'stolid': 3029, 'hardest': 3030, 'task': 3031, 'devil': 3032, 'begotten': 3033, 'curbed': 3034, 'advantage': 3035, 'perplexity': 3036, 'groove': 3037, 'ripped': 3038, 'midway': 3039, 'marks': 3040, 'removal': 3041, 'closer': 3042, 'highly': 3043, 'decorated': 3044, 'framed': 3045, 'discontinuous': 3046, 'handles': 3047, 'keyholes': 3048, 'infer': 3049, 'apple': 3050, 'beckoned': 3051, 'grossly': 3052, 'improper': 3053, 'chap': 3054, 'temper': 3055, 'robe': 3056, 'repugnance': 3057, 'chuckle': 3058, 'pebble': 3059, 'hammered': 3060, 'flattened': 3061, 'coil': 3062, 'outbreaks': 3063, 'occidental': 3064, 'inactive': 3065, 'aimlessly': 3066, 'wrecking': 3067, 'puzzle': 3068, 'clues': 3069, 'humour': 3070, 'situation': 3071, 'study': 3072, 'anxiety': 3073, 'tolerably': 3074, 'abstain': 3075, 'pursuit': 3076, 'exclusively': 3077, 'composed': 3078, 'concrete': 3079, 'abstract': 3080, 'tethered': 3081, 'exuberant': 3082, 'richness': 3083, 'climbed': 3084, 'abundance': 3085, 'endlessly': 3086, 'varied': 3087, 'style': 3088, 'clustering': 3089, 'thickets': 3090, 'evergreens': 3091, 'laden': 3092, 'rimmed': 3093, 'wrought': 3094, 'shafted': 3095, 'engine': 3096, 'sucked': 3097, 'connect': 3098, 'scorched': 3099, 'extensive': 3100, 'associate': 3101, 'sanitary': 3102, 'obvious': 3103, 'drains': 3104, 'bells': 3105, 'modes': 3106, 'conveyance': 3107, 'conveniences': 3108, 'visions': 3109, 'utopias': 3110, 'detail': 3111, 'arrangements': 3112, 'details': 3113, 'realities': 3114, 'africa': 3115, 'tribe': 3116, 'companies': 3117, 'telephone': 3118, 'telegraph': 3119, 'wires': 3120, 'parcels': 3121, 'delivery': 3122, 'postal': 3123, 'orders': 3124, 'willing': 3125, 'untravelled': 3126, 'apprehend': 3127, 'sepulture': 3128, 'cemeteries': 3129, 'somewhere': 3130, 'defeated': 3131, 'infirm': 3132, 'explored': 3133, 'halls': 3134, 'fabrics': 3135, 'renewal': 3136, 'undecorated': 3137, 'shops': 3138, 'workshops': 3139, 'playing': 3140, 'playful': 3141, 'interpolated': 3142, 'letters': 3143, 'cramp': 3144, 'strongly': 3145, 'deficiency': 3146, 'slightest': 3147, 'weakly': 3148, 'drowning': 3149, 'hurriedly': 3150, 'wading': 3151, 'mite': 3152, 'estimate': 3153, 'returning': 3154, 'garland': 3155, 'appreciation': 3156, 'arbour': 3157, 'friendliness': 3158, 'friendship': 3159, 'lasted': 3160, 'tire': 3161, 'expostulations': 3162, 'parting': 3163, 'frantic': 3164, 'inflicted': 3165, 'seeming': 3166, 'fond': 3167, 'showing': 3168, 'cared': 3169, 'doll': 3170, 'neighbourhood': 3171, 'tiny': 3172, 'oddest': 3173, 'threatening': 3174, 'grimaces': 3175, 'blockhead': 3176, 'insisted': 3177, 'triumphed': 3178, 'acquaintance': 3179, 'pillowed': 3180, 'slips': 3181, 'dreaming': 3182, 'disagreeably': 3183, 'drowned': 3184, 'anemones': 3185, 'flagstones': 3186, 'virtue': 3187, 'mingled': 3188, 'twice': 3189, 'quickly': 3190, 'leash': 3191, 'uncertain': 3192, 'colouring': 3193, 'grant': 3194, 'allen': 3195, 'argued': 3196, 'unsatisfying': 3197, 'deadlier': 3198, 'cooling': 3199, 'younger': 3200, 'darwin': 3201, 'forget': 3202, 'planets': 3203, 'fed': 3204, 'blocked': 3205, 'brilliancy': 3206, 'impenetrably': 3207, 'darted': 3208, 'imperfect': 3209, 'flaxen': 3210, 'fours': 3211, 'forearms': 3212, 'forming': 3213, 'ladder': 3214, 'burned': 3215, 'succeed': 3216, 'persuading': 3217, 'dawned': 3218, 'differentiated': 3219, 'heir': 3220, 'lemur': 3221, 'scheme': 3222, 'related': 3223, 'amorous': 3224, 'female': 3225, 'considered': 3226, 'bad': 3227, 'apertures': 3228, 'visibly': 3229, 'interested': 3230, 'economic': 3231, 'emergence': 3232, 'fish': 3233, 'kentucky': 3234, 'capacity': 3235, 'reflecting': 3236, 'fumbling': 3237, 'awkward': 3238, 'carriage': 3239, 'reinforced': 3240, 'sensitiveness': 3241, 'tunnelled': 3242, 'enormously': 3243, 'tunnellings': 3244, 'habitat': 3245, 'anticipate': 3246, 'temporary': 3247, 'capitalist': 3248, 'labourer': 3249, 'key': 3250, 'wildly': 3251, 'utilise': 3252, 'ornamental': 3253, 'purposes': 3254, 'metropolitan': 3255, 'electric': 3256, 'railways': 3257, 'subways': 3258, 'workrooms': 3259, 'restaurants': 3260, 'birthright': 3261, 'factories': 3262, 'spending': 3263, 'worker': 3264, 'refinement': 3265, 'rude': 3266, 'portions': 3267, 'prettier': 3268, 'shut': 3269, 'facilities': 3270, 'temptations': 3271, 'habits': 3272, 'exchange': 3273, 'intermarriage': 3274, 'retards': 3275, 'lines': 3276, 'stratification': 3277, 'haves': 3278, 'pursuing': 3279, 'nots': 3280, 'workers': 3281, 'rent': 3282, 'caverns': 3283, 'starve': 3284, 'miserable': 3285, 'rebellious': 3286, 'survivors': 3287, 'happy': 3288, 'etiolated': 3289, 'moral': 3290, 'operation': 3291, 'armed': 3292, 'perfected': 3293, 'industrial': 3294, 'cicerone': 3295, 'supposition': 3296, 'zenith': 3297, 'degeneration': 3298, 'dwindling': 3299, 'undergrounders': 3300, 'masters': 3301, 'restore': 3302, 'harshly': 3303, 'concerned': 3304, 'banishing': 3305, 'inheritance': 3306, 'clapping': 3307, 'manifestly': 3308, 'worms': 3309, 'filthily': 3310, 'sympathetic': 3311, 'influence': 3312, 'disgust': 3313, 'noiselessly': 3314, 'appearances': 3315, 'whitened': 3316, 'lemurs': 3317, 'replaced': 3318, 'shirks': 3319, 'penetrating': 3320, 'companion': 3321, 'restlessness': 3322, 'insecurity': 3323, 'afield': 3324, 'combe': 3325, 'observed': 3326, 'banstead': 3327, 'largest': 3328, 'fa': 3329, 'ade': 3330, 'oriental': 3331, 'lustre': 3332, 'tint': 3333, 'bluish': 3334, 'aspect': 3335, 'tiring': 3336, 'circuit': 3337, 'welcome': 3338, 'caresses': 3339, 'deception': 3340, 'enable': 3341, 'shirk': 3342, 'piteous': 3343, 'pull': 3344, 'opposition': 3345, 'nerved': 3346, 'roughly': 3347, 'agonised': 3348, 'smaller': 3349, 'lighter': 3350, 'acutely': 3351, 'relief': 3352, 'slender': 3353, 'loophole': 3354, 'distressing': 3355, 'pumping': 3356, 'snatched': 3357, 'retreating': 3358, 'impenetrable': 3359, 'abnormally': 3360, 'sensitive': 3361, 'pupils': 3362, 'abysmal': 3363, 'fishes': 3364, 'reflected': 3365, 'apart': 3366, 'fled': 3367, 'vanishing': 3368, 'gutters': 3369, 'tunnels': 3370, 'unaided': 3371, 'arched': 3372, 'cavern': 3373, 'spectral': 3374, 'sheltered': 3375, 'stuffy': 3376, 'halitus': 3377, 'freshly': 3378, 'shed': 3379, 'vista': 3380, 'carnivorous': 3381, 'survived': 3382, 'furnish': 3383, 'unmeaning': 3384, 'stung': 3385, 'spot': 3386, 'absurd': 3387, 'assumption': 3388, 'infinitely': 3389, 'kodak': 3390, 'weapons': 3391, 'endowed': 3392, 'store': 3393, 'astonishing': 3394, 'lank': 3395, 'odour': 3396, 'plucking': 3397, 'realisation': 3398, 'loudly': 3399, 'whispering': 3400, 'alarmed': 3401, 'eking': 3402, 'rustling': 3403, 'mistaking': 3404, 'waved': 3405, 'nauseatingly': 3406, 'chinless': 3407, 'lidless': 3408, 'pump': 3409, 'giddy': 3410, 'kicking': 3411, 'clutches': 3412, 'wretch': 3413, 'nigh': 3414, 'secured': 3415, 'boot': 3416, 'greatest': 3417, 'smelt': 3418, 'worse': 3419, 'sustaining': 3420, 'ultimate': 3421, 'impeded': 3422, 'simplicity': 3423, 'forces': 3424, 'overcome': 3425, 'sickening': 3426, 'beast': 3427, 'incomprehensible': 3428, 'remarks': 3429, 'guess': 3430, 'degree': 3431, 'villainy': 3432, 'favoured': 3433, 'resulted': 3434, 'evolution': 3435, 'carlovignan': 3436, 'kings': 3437, 'decayed': 3438, 'sufferance': 3439, 'inferred': 3440, 'maintained': 3441, 'habitual': 3442, 'horse': 3443, 'paws': 3444, 'enjoys': 3445, 'begun': 3446, 'floated': 3447, 'stirred': 3448, 'meditations': 3449, 'ours': 3450, 'ripe': 3451, 'prime': 3452, 'paralyse': 3453, 'fastness': 3454, 'base': 3455, 'realising': 3456, 'commended': 3457, 'practicable': 3458, 'dexterous': 3459, 'climbers': 3460, 'reckoned': 3461, 'moist': 3462, 'distances': 3463, 'nail': 3464, 'indoors': 3465, 'silhouetted': 3466, 'delighted': 3467, 'desired': 3468, 'darting': 3469, 'pick': 3470, 'concluded': 3471, 'eccentric': 3472, 'vases': 3473, 'utilised': 3474, 'paused': 3475, 'silently': 3476, 'mallows': 3477, 'wimbledon': 3478, 'contrived': 3479, 'stops': 3480, 'senses': 3481, 'hollowness': 3482, 'invasion': 3483, 'burrows': 3484, 'tightly': 3485, 'opposite': 3486, 'statue': 3487, 'faun': 3488, 'sore': 3489, 'lowered': 3490, 'roots': 3491, 'stumble': 3492, 'boles': 3493, 'decided': 3494, 'imperceptible': 3495, 'lifetimes': 3496, 'rearranged': 3497, 'streamer': 3498, 'scintillating': 3499, 'kindly': 3500, 'dwarfed': 3501, 'troubles': 3502, 'gravities': 3503, 'unfathomable': 3504, 'precessional': 3505, 'cycle': 3506, 'pole': 3507, 'traversed': 3508, 'revolutions': 3509, 'activity': 3510, 'traditions': 3511, 'organisations': 3512, 'nations': 3513, 'languages': 3514, 'literatures': 3515, 'aspirations': 3516, 'ancestry': 3517, 'shiver': 3518, 'starlike': 3519, 'whiled': 3520, 'overtaking': 3521, 'overflowing': 3522, 'swollen': 3523, 'ankle': 3524, 'wherewith': 3525, 'dainty': 3526, 'bottom': 3527, 'pitied': 3528, 'rill': 3529, 'discriminating': 3530, 'instinct': 3531, 'sons': 3532, 'cannibal': 3533, 'fatted': 3534, 'preyed': 3535, 'rigorous': 3536, 'punishment': 3537, 'content': 3538, 'labours': 3539, 'excuse': 3540, 'fullness': 3541, 'carlyle': 3542, 'scorn': 3543, 'wretched': 3544, 'sympathy': 3545, 'sharer': 3546, 'procure': 3547, 'torch': 3548, 'arrange': 3549, 'schemes': 3550, 'chosen': 3551, 'noon': 3552, 'estuary': 3553, 'creek': 3554, 'wandsworth': 3555, 'battersea': 3556, 'happening': 3557, 'foolishly': 3558, 'interpret': 3559, 'customary': 3560, 'miscellaneous': 3561, 'objects': 3562, 'shrouded': 3563, 'covering': 3564, 'gaunt': 3565, 'oblique': 3566, 'barrel': 3567, 'shelves': 3568, 'clearing': 3569, 'preservation': 3570, 'kensington': 3571, 'ontological': 3572, 'bacteria': 3573, 'ninety': 3574, 'hundredths': 3575, 'sureness': 3576, 'slowness': 3577, 'threaded': 3578, 'instances': 3579, 'bodily': 3580, 'urchin': 3581, 'monument': 3582, 'deal': 3583, 'ontology': 3584, 'historical': 3585, 'galleries': 3586, 'vastly': 3587, 'interesting': 3588, 'spectacle': 3589, 'transversely': 3590, 'minerals': 3591, 'saltpetre': 3592, 'nitrates': 3593, 'specialist': 3594, 'mineralogy': 3595, 'parallel': 3596, 'history': 3597, 'blackened': 3598, 'stuffed': 3599, 'desiccated': 3600, 'mummies': 3601, 'jars': 3602, 'readjustments': 3603, 'proportions': 3604, 'angle': 3605, 'globes': 3606, 'ceiling': 3607, 'originally': 3608, 'bulks': 3609, 'linger': 3610, 'vaguest': 3611, 'solve': 3612, 'area': 3613, 'puzzling': 3614, 'intent': 3615, 'diminution': 3616, 'apprehensions': 3617, 'academic': 3618, 'projected': 3619, 'grasping': 3620, 'correctly': 3621, 'snapped': 3622, 'strain': 3623, 'rejoined': 3624, 'kill': 3625, 'slake': 3626, 'thirst': 3627, 'murder': 3628, 'military': 3629, 'chapel': 3630, 'rags': 3631, 'semblance': 3632, 'warped': 3633, 'boards': 3634, 'clasps': 3635, 'moralised': 3636, 'keenest': 3637, 'enormous': 3638, 'wilderness': 3639, 'transactions': 3640, 'papers': 3641, 'carpeting': 3642, 'composite': 3643, 'whistling': 3644, 'leal': 3645, 'cancan': 3646, 'skirt': 3647, 'tail': 3648, 'inventive': 3649, 'wear': 3650, 'immemorial': 3651, 'unlikelier': 3652, 'chance': 3653, 'paraffin': 3654, 'wax': 3655, 'volatile': 3656, 'sepia': 3657, 'painting': 3658, 'fossil': 3659, 'belemnite': 3660, 'perished': 3661, 'fossilised': 3662, 'throw': 3663, 'inflammable': 3664, 'explosives': 3665, 'helpful': 3666, 'rusting': 3667, 'hatchet': 3668, 'guns': 3669, 'powder': 3670, 'shattered': 3671, 'idols': 3672, 'polynesian': 3673, 'mexican': 3674, 'grecian': 3675, 'wrote': 3676, 'nose': 3677, 'steatite': 3678, 'america': 3679, 'exhibits': 3680, 'tin': 3681, 'merest': 3682, 'accident': 3683, 'dynamite': 3684, 'eureka': 3685, 'dummies': 3686, 'chances': 3687, 'court': 3688, 'consider': 3689, 'defences': 3690, 'refrained': 3691, 'forcing': 3692, 'inadequate': 3693, 'ere': 3694, 'purposed': 3695, 'pushing': 3696, 'dried': 3697, 'sleepiness': 3698, 'fearing': 3699, 'singular': 3700, 'impending': 3701, 'served': 3702, 'warning': 3703, 'safer': 3704, 'abandon': 3705, 'firewood': 3706, 'reluctantly': 3707, 'amaze': 3708, 'friends': 3709, 'atrocious': 3710, 'burn': 3711, 'focused': 3712, 'dewdrops': 3713, 'blacken': 3714, 'smoulder': 3715, 'fermentation': 3716, 'licking': 3717, 'herself': 3718, 'struggles': 3719, 'plunged': 3720, 'crowded': 3721, 'adjacent': 3722, 'rustle': 3723, 'vessels': 3724, 'tug': 3725, 'prepared': 3726, 'fright': 3727, 'split': 3728, 'flared': 3729, 'knelt': 3730, 'rapidly': 3731, 'build': 3732, 'encamp': 3733, 'bole': 3734, 'collecting': 3735, 'forms': 3736, 'blinded': 3737, 'grind': 3738, 'whoop': 3739, 'casting': 3740, 'choking': 3741, 'smoky': 3742, 'replenishing': 3743, 'exertion': 3744, 'nod': 3745, 'bitterness': 3746, 'nipping': 3747, 'succulent': 3748, 'giving': 3749, 'bone': 3750, 'accompany': 3751, 'fighting': 3752, 'pitch': 3753, 'battered': 3754, 'incessant': 3755, 'stream': 3756, 'agape': 3757, 'spark': 3758, 'roar': 3759, 'explosive': 3760, 'outflanked': 3761, 'weird': 3762, 'tumulus': 3763, 'surmounted': 3764, 'writhing': 3765, 'encircling': 3766, 'moans': 3767, 'helplessness': 3768, 'quivering': 3769, 'somewhat': 3770, 'happen': 3771, 'uncanny': 3772, 'streamed': 3773, 'tatters': 3774, 'canopy': 3775, 'belonged': 3776, 'universe': 3777, 'fists': 3778, 'persuaded': 3779, 'screamed': 3780, 'rush': 3781, 'streaming': 3782, 'whitening': 3783, 'blackening': 3784, 'stumps': 3785, 'diminishing': 3786, 'relieved': 3787, 'massacre': 3788, 'abominations': 3789, 'island': 3790, 'haze': 3791, 'bearings': 3792, 'remnant': 3793, 'souls': 3794, 'clearer': 3795, 'tied': 3796, 'limped': 3797, 'pulsated': 3798, 'internally': 3799, 'intensest': 3800, 'sorrow': 3801, 'fireside': 3802, 'thoughts': 3803, 'longing': 3804, 'conclusions': 3805, 'bitterly': 3806, 'magnificent': 3807, 'saved': 3808, 'cupolas': 3809, 'enemies': 3810, 'hopes': 3811, 'wealth': 3812, 'toiler': 3813, 'unemployed': 3814, 'versatility': 3815, 'compensation': 3816, 'environment': 3817, 'partake': 3818, 'drifted': 3819, 'feeding': 3820, 'retained': 3821, 'initiative': 3822, 'forbidden': 3823, 'mortal': 3824, 'grief': 3825, 'tranquil': 3826, 'sleepy': 3827, 'theorising': 3828, 'napping': 3829, 'stretching': 3830, 'apartment': 3831, 'elaborate': 3832, 'preparations': 3833, 'siege': 3834, 'inclination': 3835, 'stepped': 3836, 'murmuring': 3837, 'depart': 3838, 'persistent': 3839, 'studs': 3840, 'butt': 3841, 'ring': 3842, 'described': 3843, 'sickness': 3844, 'properly': 3845, 'vibrated': 3846, 'unheeding': 3847, 'amazed': 3848, 'reversing': 3849, 'indicators': 3850, 'seconds': 3851, 'prodigious': 3852, 'indicative': 3853, 'brooded': 3854, 'comet': 3855, 'broader': 3856, 'momentary': 3857, 'glowed': 3858, 'reverted': 3859, 'slowing': 3860, 'tidal': 3861, 'outlines': 3862, 'indian': 3863, 'starless': 3864, 'scarlet': 3865, 'hull': 3866, 'lichen': 3867, 'breakers': 3868, 'waves': 3869, 'oily': 3870, 'swell': 3871, 'gentle': 3872, 'broke': 3873, 'oppression': 3874, 'mountaineering': 3875, 'rarefied': 3876, 'scream': 3877, 'butterfly': 3878, 'slanting': 3879, 'dismal': 3880, 'firmly': 3881, 'yonder': 3882, 'uncertainly': 3883, 'antenn': 3884, 'carters': 3885, 'whips': 3886, 'waving': 3887, 'stalked': 3888, 'gleaming': 3889, 'corrugated': 3890, 'ornamented': 3891, 'bosses': 3892, 'greenish': 3893, 'blotched': 3894, 'sinister': 3895, 'apparition': 3896, 'tickling': 3897, 'fly': 3898, 'brush': 3899, 'qualm': 3900, 'antenna': 3901, 'alive': 3902, 'algal': 3903, 'foliated': 3904, 'desolation': 3905, 'northward': 3906, 'stony': 3907, 'poisonous': 3908, 'lichenous': 3909, 'hurts': 3910, 'lungs': 3911, 'earthy': 3912, 'crustacea': 3913, 'fascination': 3914, 'obscure': 3915, 'tenth': 3916, 'multitude': 3917, 'crabs': 3918, 'livid': 3919, 'liverworts': 3920, 'lifeless': 3921, 'sable': 3922, 'ice': 3923, 'expanse': 3924, 'ocean': 3925, 'bloody': 3926, 'flopping': 3927, 'bank': 3928, 'deceived': 3929, 'outline': 3930, 'concavity': 3931, 'bay': 3932, 'aghast': 3933, 'transit': 3934, 'freshening': 3935, 'gusts': 3936, 'showering': 3937, 'bleating': 3938, 'birds': 3939, 'insects': 3940, 'background': 3941, 'thickened': 3942, 'peaks': 3943, 'marrow': 3944, 'bow': 3945, 'shoal': 3946, 'football': 3947, 'bigger': 3948, 'trailed': 3949, 'weltering': 3950, 'sustained': 3951, 'clambered': 3952, 'zero': 3953, 'flapped': 3954, 'slowed': 3955, 'inversion': 3956, 'glided': 3957, 'foremost': 3958, 'hillyer': 3959, 'shakily': 3960, 'pall': 3961, 'mall': 3962, 'gazette': 3963, 'timepiece': 3964, 'dined': 3965, 'speculating': 3966, 'destinies': 3967, 'stroke': 3968, 'nervously': 3969, 'creak': 3970, 'scrape': 3971, 'absorbed': 3972, 'contemplation': 3973, 'writer': 3974, 'stories': 3975, 'mute': 3976, 'inquiry': 3977, 'scars': 3978, 'plenty': 3979, 'cabs': 3980, 'station': 3981, 'precious': 3982, 'ugly': 3983, 'ebony': 3984, 'smears': 3985, 'bits': 3986, 'hesitation': 3987, 'overwork': 3988, 'cab': 3989, 'fantastic': 3990, 'substantial': 3991, 'bough': 3992, 'shaken': 3993, 'camera': 3994, 'knapsack': 3995, 'busy': 3996, 'awfully': 3997, 'prove': 3998, 'hilt': 3999, 'forgive': 4000, 'consented': 4001, 'comprehending': 4002, 'slam': 4003, 'barely': 4004, 'handle': 4005, 'exclamation': 4006, 'truncated': 4007, 'click': 4008, 'ghostly': 4009, 'whirling': 4010, 'phantasm': 4011, 'skylight': 4012, 'disappointing': 4013, 'photographs': 4014, 'knows': 4015, 'drinking': 4016, 'hairy': 4017, 'savages': 4018, 'unpolished': 4019, 'abysses': 4020, 'cretaceous': 4021, 'saurians': 4022, 'reptilian': 4023, 'wandering': 4024, 'plesiosaurus': 4025, 'haunted': 4026, 'oolitic': 4027, 'coral': 4028, 'reef': 4029, 'saline': 4030, 'seas': 4031, 'riddles': 4032, 'wearisome': 4033, 'solved': 4034, 'manhood': 4035, 'fragmentary': 4036, 'discord': 4037, 'culminating': 4038, 'discussed': 4039, 'cheerlessly': 4040, 'advancement': 4041, 'makers': 4042, 'casual': 4043, 'brittle': 4044, 'various': 4045, 'org': 4046, 'replace': 4047, 'apply': 4048, 'creation': 4049, 'modified': 4050, 'indicate': 4051, 'abide': 4052, 'cease': 4053, 'pglaf': 4054, 'compilation': 4055, 'unprotected': 4056, 'prevent': 4057, 'sharing': 4058, 'attached': 4059, 'share': 4060, 'govern': 4061, 'countries': 4062, 'downloading': 4063, 'whenever': 4064, 'accessed': 4065, 'derived': 4066, 'texts': 4067, 'indicating': 4068, 'appearing': 4069, 'imposed': 4070, 'linked': 4071, 'detach': 4072, 'remove': 4073, 'containing': 4074, 'perform': 4075, 'redistribute': 4076, 'binary': 4077, 'compressed': 4078, 'nonproprietary': 4079, 'processing': 4080, 'version': 4081, 'exporting': 4082, 'request': 4083, 'include': 4084, 'viewing': 4085, 'gross': 4086, 'profits': 4087, 'derive': 4088, 'calculate': 4089, 'owed': 4090, 'legally': 4091, 'address': 4092, 'notifies': 4093, 'e': 4094, 'mail': 4095, 'discontinue': 4096, 'reported': 4097, 'manager': 4098, 'employees': 4099, 'expend': 4100, 'identify': 4101, 'transcribe': 4102, 'proofread': 4103, 'stored': 4104, 'defects': 4105, 'inaccurate': 4106, 'corrupt': 4107, 'data': 4108, 'transcription': 4109, 'infringement': 4110, 'virus': 4111, 'codes': 4112, 'party': 4113, 'disclaim': 4114, 'remedies': 4115, 'negligence': 4116, 'contract': 4117, 'distributor': 4118, 'liable': 4119, 'direct': 4120, 'indirect': 4121, 'consequential': 4122, 'punitive': 4123, 'incidental': 4124, 'receiving': 4125, 'sending': 4126, 'elect': 4127, 'opportunity': 4128, 'demand': 4129, 'opportunities': 4130, \"'as\": 4131, \"is'\": 4132, 'merchantability': 4133, 'fitness': 4134, 'allow': 4135, 'disclaimers': 4136, 'exclusion': 4137, 'violates': 4138, 'interpreted': 4139, 'maximum': 4140, 'unenforceability': 4141, 'provision': 4142, 'void': 4143, 'indemnify': 4144, 'agent': 4145, 'employee': 4146, 'production': 4147, 'harmless': 4148, 'directly': 4149, 'indirectly': 4150, 'b': 4151, 'alteration': 4152, 'additions': 4153, 'deletions': 4154, 'synonymous': 4155, 'obsolete': 4156, 'hundreds': 4157, 'assistance': 4158, 'critical': 4159, \"tm's\": 4160, 'goals': 4161, 'ensuring': 4162, 'profit': 4163, 'corporation': 4164, 'organized': 4165, 'mississippi': 4166, 'granted': 4167, 'deductible': 4168, 'office': 4169, 'depends': 4170, 'licensed': 4171, 'accessible': 4172, 'important': 4173, 'maintaining': 4174, 'regulating': 4175, 'charities': 4176, 'charitable': 4177, 'paperwork': 4178, 'locations': 4179, 'solicitation': 4180, 'prohibition': 4181, 'accepting': 4182, 'unsolicited': 4183, 'donors': 4184, 'gratefully': 4185, 'statements': 4186, 'treatment': 4187, 'pages': 4188, 'donation': 4189, 'originator': 4190, 'network': 4191, 'pg': 4192, 'includes': 4193, 'produce': 4194, 'subscribe': 4195, 'newsletter': 4196, 'h': 4197, 'epilogue': 4198, 'trammels': 4199, 'instantaneous': 4200, 'accession': 4201, 'newcomb': 4202, 'repeats': 4203, 'limits': 4204, 'sir': 4205, 'existences': 4206, 'interrupted': 4207, 'tolerance': 4208, 'scholars': 4209, 'strictly': 4210, 'humbug': 4211, 'affair': 4212, 'beautifully': 4213, 'reverses': 4214, 'represents': 4215, 'fill': 4216, 'presume': 4217, 'explore': 4218, 'heavens': 4219, 'funny': 4220, 'fuss': 4221, 'wont': 4222, 'exclamatory': 4223, 'phases': 4224, 'resorted': 4225, 'irreverent': 4226, 'special': 4227, 'correspondent': 4228, 'nodding': 4229, 'poured': 4230, 'apologise': 4231, 'argue': 4232, 'snail': 4233, 'misty': 4234, 'futurity': 4235, 'developments': 4236, 'glimmer': 4237, 'upset': 4238, 'impatient': 4239, 'denser': 4240, 'frantically': 4241, 'naked': 4242, 'buskins': 4243, 'withdrew': 4244, 'culture': 4245, 'shadowy': 4246, 'thirsty': 4247, 'ichthyosaurus': 4248, 'conveying': 4249, 'repeated': 4250, 'verb': 4251, 'hunger': 4252, 'single': 4253, 'household': 4254, 'rotundity': 4255, 'plainly': 4256, 'harvest': 4257, 'breed': 4258, 'subjugation': 4259, 'adjustment': 4260, 'biological': 4261, 'source': 4262, 'languor': 4263, 'chilled': 4264, 'towered': 4265, 'hopelessly': 4266, 'desertion': 4267, 'rapped': 4268, 'behaved': 4269, 'ashamed': 4270, 'furtively': 4271, 'feature': 4272, 'suggestive': 4273, 'importations': 4274, 'kissed': 4275, 'cling': 4276, 'fearless': 4277, 'whence': 4278, 'overcrowded': 4279, 'catastrophes': 4280, 'suffered': 4281, 'swim': 4282, 'instinctive': 4283, 'suffocated': 4284, 'topic': 4285, 'health': 4286, 'oppressed': 4287, 'mysteries': 4288, 'exploring': 4289, 'ached': 4290, 'arroused': 4291, 'joint': 4292, 'beings': 4293, 'hurried': 4294, 'haul': 4295, 'soil': 4296, 'daylit': 4297, 'becoming': 4298, 'reacquainted': 4299, 'delay': 4300, 'reminds': 4301, 'hush': 4302, 'declaration': 4303, 'deepened': 4304, 'waded': 4305, 'minus': 4306, 'brow': 4307, 'dense': 4308, 'wrapped': 4309, 'milky': 4310, 'dismissed': 4311, 'dozed': 4312, 'peaked': 4313, 'unreasonable': 4314, 'flood': 4315, 'torment': 4316, 'strings': 4317, 'deadened': 4318, 'preoccupation': 4319, 'geology': 4320, 'deliquesced': 4321, 'train': 4322, 'sloped': 4323, 'slit': 4324, 'revived': 4325, 'longed': 4326, 'disinclination': 4327, 'rotting': 4328, 'pistols': 4329, 'rotted': 4330, 'yielding': 4331, 'lignite': 4332, 'turfed': 4333, 'shrubby': 4334, 'feverish': 4335, 'scrub': 4336, 'blast': 4337, 'decadence': 4338, 'play': 4339, 'avoid': 4340, 'scratched': 4341, 'uvring': 4342, 'breathed': 4343, 'heaped': 4344, 'overpowered': 4345, 'exultation': 4346, 'fence': 4347, 'crippling': 4348, 'uprush': 4349, 'trouser': 4350, 'stab': 4351, 'blots': 4352, 'appeals': 4353, 'perfection': 4354, 'wit': 4355, 'fatigues': 4356, 'oiled': 4357, 'records': 4358, 'stretch': 4359, 'sullen': 4360, 'drag': 4361, 'reverse': 4362, 'descending': 4363, 'lichens': 4364, 'flecked': 4365, 'fringes': 4366, 'indefinable': 4367, 'sandbank': 4368, 'twinkle': 4369, 'ripple': 4370, 'terrible': 4371, 'contours': 4372, 'ebbed': 4373, 'spun': 4374, 'clatter': 4375, 'sniffed': 4376, 'hatched': 4377, 'assertion': 4378, 'enhance': 4379, 'ceum': 4380, 'leant': 4381, 'hanged': 4382, 'translucent': 4383, 'credible': 4384, 'elbow': 4385, 'hoax': 4386, 'publisher': 4387, 'rubbed': 4388, 'everybody': 4389, 'performances': 4390, 'subject': 4391, 'paragraphs': 4392, 'unlink': 4393, 'convert': 4394, 'periodic': 4395, 'types': 4396, 'walks': 4397, 'financial': 4398, 'internal': 4399, 'ein': 4400, 'identification': 4401, 'lake': 4402, 'confirmation': 4403, 'offers': 4404, 'swamp': 4405, 'methods': 4406, 'credit': 4407, 'whatsoever': 4408, 'author': 4409, 'release': 4410, 'universally': 4411, 'simon': 4412, 'mystic': 4413, 'unalterable': 4414, 'dear': 4415, 'convince': 4416, 'driver': 4417, 'german': 4418, 'communistic': 4419, 'anecdote': 4420, 'delicately': 4421, 'unaccountable': 4422, 'trickery': 4423, 'diluted': 4424, 'lucid': 4425, 'distrusted': 4426, 'eggshell': 4427, 'linn': 4428, 'drawing': 4429, 'host': 4430, 'asks': 4431, 'jocular': 4432, 'actually': 4433, 'footsore': 4434, 'wine': 4435, 'drained': 4436, 'faltering': 4437, 'wool': 4438, 'hettie': 4439, 'greasy': 4440, 'ringing': 4441, 'adjoining': 4442, 'echoed': 4443, 'tricked': 4444, 'watchett': 4445, 'rocket': 4446, 'slowest': 4447, 'poignant': 4448, 'hysterical': 4449, 'wintry': 4450, 'cheerful': 4451, 'pitiless': 4452, 'overset': 4453, 'rebounding': 4454, 'hospitality': 4455, 'lessening': 4456, 'panic': 4457, 'leather': 4458, 'regained': 4459, 'liquid': 4460, 'addressed': 4461, 'childlike': 4462, 'mouths': 4463, 'someone': 4464, 'weedless': 4465, 'waxen': 4466, 'tempered': 4467, 'frequented': 4468, 'leisure': 4469, 'dilapidated': 4470, 'silky': 4471, 'frugivorous': 4472, 'uncivil': 4473, 'griffins': 4474, 'burnished': 4475, 'ruddy': 4476, 'ideal': 4477, 'stamped': 4478, 'triumphs': 4479, 'economical': 4480, 'shop': 4481, 'altered': 4482, 'adorn': 4483, 'delicious': 4484, 'abandoned': 4485, 'cursed': 4486, 'attachment': 4487, 'sobbing': 4488, 'frightened': 4489, 'reasoning': 4490, 'maddened': 4491, 'equal': 4492, 'beaten': 4493, 'banged': 4494, 'powdery': 4495, 'sit': 4496, 'figurative': 4497, 'simplest': 4498, 'difficulties': 4499, 'creative': 4500, 'waterless': 4501, 'moderate': 4502, 'appropriate': 4503, 'miniature': 4504, 'slumbering': 4505, 'amused': 4506, 'parent': 4507, 'contrast': 4508, 'blundered': 4509, 'ruined': 4510, 'withal': 4511, 'male': 4512, 'amuse': 4513, 'utopian': 4514, 'books': 4515, 'answer': 4516, 'pallid': 4517, 'zoological': 4518, 'definite': 4519, 'appalled': 4520, 'chinese': 4521, 'danced': 4522, 'strangely': 4523, 'amazement': 4524, 'reassure': 4525, 'thudding': 4526, 'strangest': 4527, 'bewilderment': 4528, 'tugged': 4529, 'climb': 4530, 'blinding': 4531, 'discoveries': 4532, 'service': 4533, 'nemesis': 4534, 'defend': 4535, 'shuddered': 4536, 'deceptively': 4537, 'floral': 4538, 'preternaturally': 4539, 'terrestrial': 4540, 'prejudice': 4541, 'battering': 4542, 'ragged': 4543, 'tiled': 4544, 'intervals': 4545, 'artificially': 4546, 'signal': 4547, 'technical': 4548, 'useful': 4549, 'fortunate': 4550, 'hermetically': 4551, 'accordingly': 4552, 'centuries': 4553, 'selecting': 4554, 'refreshed': 4555, 'thus': 4556, 'loaded': 4557, 'insidious': 4558, 'temperate': 4559, 'tropical': 4560, 'overhead': 4561, 'lifted': 4562, 'rolled': 4563, 'elude': 4564, 'coiling': 4565, 'searched': 4566, 'overwhelming': 4567, 'fertile': 4568, 'gay': 4569, 'grieved': 4570, 'refreshing': 4571, 'awoke': 4572, 'meek': 4573, 'chuckled': 4574, 'calmly': 4575, 'palpitating': 4576, 'alternations': 4577, 'cautiously': 4578, 'perpetual': 4579, 'wan': 4580, 'lurid': 4581, 'appalling': 4582, 'ebb': 4583, 'bitter': 4584, 'assailed': 4585, 'overcame': 4586, 'fitfully': 4587, 'slackened': 4588, 'previously': 4589, 'trembled': 4590, 'washed': 4591, 'gyn': 4592, 'eluded': 4593, 'glimmering': 4594, 'gaudy': 4595, 'instability': 4596, 'magazines': 4597, 'pane': 4598, 'servant': 4599, 'jurassic': 4600, 'triassic': 4601, 'https': 4602, 'rules': 4603, 'redistribution': 4604, 'commercial': 4605, 'reading': 4606, 'hypertext': 4607, 'alternate': 4608, 'invalidity': 4609, 'remaining': 4610, 'exists': 4611, 'revenue': 4612, \"state's\": 4613, 'city': 4614, 'outdated': 4615, 'send': 4616, 'card': 4617, 'michael': 4618, 'volunteer': 4619, 'facility': 4620, 'title': 4621, 'glasses': 4622, 'precision': 4623, 'fecundity': 4624, 'misconception': 4625, 'plane': 4626, 'abstractions': 4627, 'pensive': 4628, 'duration': 4629, 'cheerfulness': 4630, 'record': 4631, 'barometer': 4632, 'surely': 4633, 'respect': 4634, 'determines': 4635, 'anachronisms': 4636, 'basis': 4637, 'hearthrug': 4638, 'fireplace': 4639, 'alert': 4640, 'quack': 4641, 'lend': 4642, 'everyone': 4643, 'uncut': 4644, 'inspiration': 4645, 'psychology': 4646, 'delightfully': 4647, 'crystal': 4648, 'frankness': 4649, 'scepticism': 4650, 'unavoidably': 4651, 'detained': 4652, 'says': 4653, 'plight': 4654, 'tramps': 4655, 'articulation': 4656, 'draught': 4657, 'cheeks': 4658, 'socks': 4659, 'headlines': 4660, 'upstairs': 4661, 'inquired': 4662, 'caricature': 4663, 'hadn': 4664, 'arteries': 4665, 'potter': 4666, 'tramp': 4667, 'eyelashes': 4668, 'nervousness': 4669, 'career': 4670, 'smash': 4671, 'wing': 4672, 'spring': 4673, 'exhilaration': 4674, 'intermission': 4675, 'nerves': 4676, 'skin': 4677, 'fine': 4678, 'invisible': 4679, 'hover': 4680, 'slain': 4681, 'storm': 4682, 'nothingness': 4683, 'courses': 4684, 'swoop': 4685, 'noticing': 4686, 'alarming': 4687, 'ninepins': 4688, 'happily': 4689, 'communication': 4690, 'vain': 4691, 'bowed': 4692, 'petals': 4693, 'transverse': 4694, 'likewise': 4695, 'hungry': 4696, 'fractured': 4697, 'picturesque': 4698, 'diet': 4699, 'staple': 4700, 'amusement': 4701, 'toy': 4702, 'satisfied': 4703, 'devices': 4704, 'confusing': 4705, 'recorded': 4706, 'stinging': 4707, 'communism': 4708, 'limb': 4709, 'alike': 4710, 'parents': 4711, 'opinion': 4712, 'disappears': 4713, 'reality': 4714, 'crimson': 4715, 'steel': 4716, 'obelisk': 4717, 'feebleness': 4718, 'climax': 4719, 'stage': 4720, 'persistently': 4721, 'eddies': 4722, 'leapt': 4723, 'changes': 4724, 'paradise': 4725, 'decision': 4726, 'failure': 4727, 'outlet': 4728, 'peace': 4729, 'inactivity': 4730, 'stationary': 4731, 'complacency': 4732, 'thereby': 4733, 'deer': 4734, 'shin': 4735, 'cunning': 4736, 'bathe': 4737, 'soiled': 4738, 'counsel': 4739, 'sloth': 4740, 'frames': 4741, 'insult': 4742, 'mistaken': 4743, 'lies': 4744, 'monomania': 4745, 'although': 4746, 'avoidance': 4747, 'footing': 4748, 'verbs': 4749, 'propositions': 4750, 'ferns': 4751, 'depth': 4752, 'walk': 4753, 'conceive': 4754, 'tombs': 4755, 'explorings': 4756, 'endure': 4757, 'apartments': 4758, 'metalwork': 4759, 'sort': 4760, 'downstream': 4761, 'swimmer': 4762, 'gift': 4763, 'smiles': 4764, 'hers': 4765, 'plaintively': 4766, 'flirtation': 4767, 'observing': 4768, 'droves': 4769, 'multitudes': 4770, 'chamber': 4771, 'sunrise': 4772, 'cheerless': 4773, 'doubted': 4774, 'keenly': 4775, 'dated': 4776, 'substitute': 4777, 'spellbound': 4778, 'eyeballs': 4779, 'overcoming': 4780, 'controlled': 4781, 'shudder': 4782, 'cat': 4783, 'retina': 4784, 'ramifications': 4785, 'multiply': 4786, 'intrusion': 4787, 'frequent': 4788, 'arrears': 4789, 'theirs': 4790, 'imagined': 4791, 'troublesome': 4792, 'doubts': 4793, 'disappointed': 4794, 'unendurable': 4795, 'bodies': 4796, 'duty': 4797, 'expeditions': 4798, 'disconcerted': 4799, 'proceed': 4800, 'glancing': 4801, 'projection': 4802, 'discomfort': 4803, 'meal': 4804, 'novelty': 4805, 'clothing': 4806, 'discordantly': 4807, 'trophy': 4808, 'clean': 4809, 'malign': 4810, 'loathed': 4811, 'relationship': 4812, 'intolerable': 4813, 'organism': 4814, 'reversed': 4815, 'anew': 4816, 'exposed': 4817, 'eighteen': 4818, 'decoration': 4819, 'narrative': 4820, 'sharpened': 4821, 'acacias': 4822, 'hide': 4823, 'asleep': 4824, 'moonrise': 4825, 'groupings': 4826, 'yore': 4827, 'southward': 4828, 'sirius': 4829, 'describes': 4830, 'forbidding': 4831, 'monkey': 4832, 'selfishness': 4833, 'pursue': 4834, 'ram': 4835, 'dwelling': 4836, 'megatherium': 4837, 'brontosaurus': 4838, 'treasures': 4839, 'reeds': 4840, 'footsteps': 4841, 'gunpowder': 4842, 'doubtless': 4843, 'recognition': 4844, 'footnote': 4845, 'whimper': 4846, 'encounter': 4847, 'flags': 4848, 'ambition': 4849, 'optics': 4850, 'chemistry': 4851, 'damp': 4852, 'unmistakable': 4853, 'elated': 4854, 'sword': 4855, 'rifles': 4856, 'fresher': 4857, 'joy': 4858, 'essay': 4859, 'needed': 4860, 'litter': 4861, 'onward': 4862, 'irritable': 4863, 'climate': 4864, 'districts': 4865, 'lightning': 4866, 'grimly': 4867, 'fizzed': 4868, 'breathe': 4869, 'fainted': 4870, 'sweat': 4871, 'carbuncles': 4872, 'bonfire': 4873, 'moreover': 4874, 'soul': 4875, 'stepping': 4876, 'thrice': 4877, 'banks': 4878, 'unsolved': 4879, 'useless': 4880, 'disjointed': 4881, 'mother': 4882, 'invent': 4883, 'dozing': 4884, 'catching': 4885, 'sunsetting': 4886, 'grooves': 4887, 'surrender': 4888, 'suppressing': 4889, 'cleaned': 4890, 'clang': 4891, 'trapped': 4892, 'gleefully': 4893, 'fitted': 4894, 'scale': 4895, 'ear': 4896, 'threadlike': 4897, 'dozens': 4898, 'unfrozen': 4899, 'curve': 4900, 'whisper': 4901, 'fainting': 4902, 'flowed': 4903, 'mrs': 4904, 'calmer': 4905, 'around': 4906, 'stagnant': 4907, 'begrimed': 4908, 'adventures': 4909, 'prophecy': 4910, 'fiction': 4911, 'grate': 4912, 'carpet': 4913, 'audience': 4914, 'sixth': 4915, 'sigh': 4916, 'puffing': 4917, 'specimen': 4918, 'fit': 4919, 'awry': 4920, 'sober': 4921, 'meddle': 4922, 'shake': 4923, 'engagement': 4924, 'lifetime': 4925, 'named': 4926, 'zip': 4927, 'renamed': 4928, 'charges': 4929, 'taxes': 4930, 'despite': 4931, 'provisions': 4932, 'indemnity': 4933, 'ut': 4934, 'irs': 4935, 'international': 4936, 'staff': 4937, 'addresses': 4938, 'hart': 4939}\n"
          ]
        }
      ],
      "source": [
        "# El índice para cada palabra\n",
        "# El sistema las ordena de las más populares a las menos populares\n",
        "print(tok.word_index)"
      ]
    },
    {
      "cell_type": "code",
      "execution_count": 141,
      "metadata": {
        "id": "nUDkjy80c77h",
        "colab": {
          "base_uri": "https://localhost:8080/"
        },
        "outputId": "19f43468-7d9b-49a8-b004-ac7461cefc92"
      },
      "outputs": [
        {
          "output_type": "stream",
          "name": "stdout",
          "text": [
            "defaultdict(<class 'int'>, {'project': 325, 'gutenberg': 323, 'ebook': 45, 'the': 8106, 'of': 4694, 'time': 682, 'machine': 296, 'by': 457, 'h': 3, 'this': 648, 'wells': 33, 'is': 421, 'for': 827, 'use': 77, 'anyone': 25, 'anywhere': 11, 'in': 2155, 'united': 56, 'states': 62, 'and': 4641, 'most': 117, 'other': 180, 'parts': 20, 'world': 127, 'at': 791, 'no': 322, 'cost': 12, 'with': 947, 'almost': 97, 'restrictions': 4, 'whatsoever': 2, 'may': 152, 'you': 626, 'copy': 45, 'it': 1308, 'give': 30, 'away': 127, 'or': 589, 're': 12, 'under': 143, 'terms': 92, 'license': 61, 'included': 9, 'online': 13, 'www': 10, 'if': 203, 'are': 234, 'not': 492, 'located': 28, 'will': 160, 'have': 462, 'to': 2761, 'check': 14, 'laws': 29, 'country': 28, 'where': 123, 'before': 174, 'using': 22, 'title': 1, 'author': 2, 'release': 2, 'july': 4, 'date': 23, 'recently': 4, 'updated': 6, 'october': 4, 'language': 21, 'english': 12, 'character': 13, 'set': 85, 'encoding': 4, 'utf': 4, 'start': 20, 'an': 322, 'invention': 6, 'contents': 7, 'i': 3477, 'introduction': 5, 'ii': 4, 'iii': 4, 'traveller': 201, 'returns': 9, 'iv': 4, 'travelling': 47, 'v': 4, 'golden': 23, 'age': 52, 'vi': 4, 'sunset': 27, 'mankind': 20, 'vii': 5, 'a': 3099, 'sudden': 40, 'shock': 7, 'viii': 4, 'explanation': 28, 'ix': 4, 'morlocks': 165, 'x': 4, 'when': 201, 'night': 124, 'came': 360, 'xi': 4, 'palace': 60, 'green': 102, 'porcelain': 42, 'xii': 4, 'darkness': 93, 'xiii': 4, 'trap': 14, 'white': 216, 'sphinx': 79, 'xiv': 4, 'further': 31, 'vision': 7, 'xv': 4, 's': 231, 'return': 34, 'xvi': 4, 'after': 123, 'story': 52, 'epilogue': 3, 'so': 341, 'be': 405, 'convenient': 20, 'speak': 20, 'him': 117, 'was': 1845, 'expounding': 8, 'recondite': 4, 'matter': 19, 'us': 116, 'his': 426, 'eyes': 102, 'grey': 36, 'pale': 41, 'shone': 30, 'twinkled': 4, 'usually': 12, 'face': 118, 'flushed': 5, 'animated': 6, 'burnt': 18, 'fire': 98, 'brightly': 15, 'soft': 54, 'radiance': 4, 'incandescent': 4, 'lights': 4, 'lilies': 4, 'silver': 24, 'caught': 34, 'bubbles': 4, 'that': 1631, 'flashed': 16, 'passed': 39, 'our': 198, 'glasses': 1, 'being': 54, 'chairs': 4, 'patents': 4, 'embraced': 4, 'caressed': 6, 'rather': 61, 'than': 139, 'submitted': 4, 'sat': 70, 'upon': 399, 'there': 351, 'luxurious': 4, 'dinner': 41, 'atmosphere': 8, 'thought': 178, 'runs': 4, 'gracefully': 4, 'free': 30, 'trammels': 3, 'precision': 1, 'put': 120, 'he': 321, 'way': 124, 'marking': 7, 'points': 11, 'lean': 8, 'forefinger': 5, 'as': 923, 'we': 278, 'lazily': 4, 'admired': 4, 'earnestness': 4, 'over': 192, 'new': 93, 'paradox': 18, 'fecundity': 1, 'me': 865, 'follow': 31, 'must': 207, 'carefully': 19, 'shall': 28, 'controvert': 4, 'one': 391, 'two': 100, 'ideas': 10, 'universally': 2, 'accepted': 24, 'instance': 33, 'geometry': 11, 'they': 360, 'taught': 6, 'school': 4, 'founded': 4, 'on': 543, 'misconception': 1, 'large': 55, 'thing': 215, 'expect': 15, 'begin': 16, 'said': 261, 'filby': 41, 'argumentative': 4, 'person': 22, 'red': 90, 'hair': 16, 'do': 118, 'mean': 18, 'ask': 7, 'accept': 8, 'anything': 26, 'without': 76, 'reasonable': 12, 'ground': 58, 'soon': 68, 'admit': 13, 'much': 89, 'need': 29, 'from': 497, 'know': 94, 'course': 42, 'mathematical': 10, 'line': 39, 'thickness': 19, 'nil': 4, 'has': 84, 'real': 25, 'existence': 12, 'neither': 8, 'plane': 1, 'mere': 59, 'things': 109, 'these': 256, 'abstractions': 1, 'all': 450, 'right': 64, 'psychologist': 63, 'length': 32, 'having': 18, 'only': 163, 'nor': 29, 'breadth': 12, 'can': 97, 'cube': 11, 'object': 18, 'solid': 9, 'body': 17, 'exist': 5, 'people': 170, 'think': 124, 'but': 555, 'wait': 16, 'moment': 96, 'instantaneous': 3, 'don': 45, 't': 91, 'does': 20, 'last': 148, 'any': 278, 'became': 25, 'pensive': 1, 'clearly': 37, 'proceeded': 15, 'extension': 4, 'four': 56, 'directions': 8, 'duration': 1, 'through': 173, 'natural': 24, 'infirmity': 4, 'flesh': 12, 'which': 358, 'explain': 28, 'incline': 8, 'overlook': 7, 'fact': 24, 'really': 36, 'dimensions': 51, 'three': 89, 'call': 16, 'planes': 8, 'space': 90, 'fourth': 22, 'however': 49, 'tendency': 17, 'draw': 4, 'unreal': 6, 'distinction': 4, 'between': 61, 'former': 8, 'latter': 16, 'because': 44, 'happens': 4, 'consciousness': 8, 'moves': 7, 'intermittently': 4, 'direction': 21, 'along': 79, 'beginning': 21, 'end': 90, 'lives': 5, 'very': 269, 'young': 19, 'man': 223, 'making': 23, 'spasmodic': 8, 'efforts': 23, 'relight': 4, 'cigar': 15, 'lamp': 49, 'now': 244, 'remarkable': 10, 'extensively': 4, 'overlooked': 8, 'continued': 10, 'slight': 19, 'accession': 3, 'cheerfulness': 1, 'what': 262, 'meant': 12, 'dimension': 25, 'though': 73, 'some': 331, 'who': 111, 'talk': 8, 'about': 271, 'another': 120, 'looking': 79, 'difference': 18, 'except': 36, 'foolish': 19, 'got': 84, 'hold': 21, 'wrong': 22, 'side': 49, 'idea': 35, 'heard': 70, 'say': 70, 'provincial': 14, 'mayor': 13, 'simply': 37, 'mathematicians': 4, 'spoken': 8, 'always': 34, 'definable': 4, 'reference': 8, 'each': 53, 'angles': 8, 'others': 37, 'philosophical': 7, 'been': 260, 'asking': 4, 'why': 46, 'particularly': 20, 'even': 173, 'tried': 67, 'construct': 4, 'dimensional': 10, 'newcomb': 3, 'simon': 2, 'professor': 4, 'york': 4, 'society': 12, 'month': 8, 'ago': 17, 'how': 176, 'flat': 8, 'surface': 25, 'represent': 8, 'figure': 42, 'similarly': 4, 'models': 4, 'could': 316, 'master': 4, 'perspective': 4, 'see': 161, 'murmured': 4, 'knitting': 4, 'brows': 4, 'lapsed': 4, 'into': 411, 'introspective': 4, 'state': 36, 'lips': 17, 'moving': 33, 'repeats': 3, 'mystic': 2, 'words': 18, 'yes': 6, 'brightening': 4, 'quite': 37, 'transitory': 6, 'manner': 12, 'well': 110, 'mind': 100, 'telling': 32, 'work': 190, 'my': 1462, 'results': 6, 'curious': 11, 'here': 108, 'portrait': 4, 'eight': 43, 'years': 64, 'old': 113, 'fifteen': 8, 'seventeen': 8, 'twenty': 12, 'evidently': 19, 'sections': 8, 'were': 515, 'representations': 8, 'dimensioned': 4, 'fixed': 8, 'unalterable': 2, 'scientific': 7, 'pause': 18, 'required': 8, 'proper': 10, 'assimilation': 4, 'kind': 76, 'popular': 4, 'diagram': 4, 'weather': 12, 'record': 1, 'trace': 24, 'finger': 9, 'shows': 4, 'movement': 13, 'barometer': 1, 'yesterday': 5, 'high': 26, 'fell': 58, 'then': 286, 'morning': 52, 'rose': 51, 'again': 206, 'gently': 18, 'upward': 5, 'surely': 1, 'did': 140, 'mercury': 7, 'generally': 8, 'recognised': 17, 'certainly': 25, 'traced': 4, 'such': 137, 'therefore': 8, 'conclude': 4, 'medical': 70, 'staring': 12, 'hard': 27, 'coal': 4, 'regarded': 8, 'something': 58, 'different': 27, 'cannot': 67, 'move': 51, 'smiled': 15, 'sure': 28, 'freely': 28, 'left': 81, 'go': 65, 'backward': 9, 'forward': 29, 'enough': 83, 'men': 48, 'done': 32, 'up': 270, 'down': 299, 'gravitation': 8, 'limits': 3, 'exactly': 37, 'balloons': 4, 'save': 35, 'jumping': 4, 'inequalities': 4, 'had': 1203, 'freedom': 13, 'vertical': 6, 'still': 175, 'little': 399, 'far': 77, 'easier': 3, 'get': 79, 'present': 20, 'sir': 3, 'dear': 2, 'just': 54, 'whole': 47, 'gone': 54, 'getting': 21, 'existences': 3, 'mental': 10, 'immaterial': 4, 'passing': 16, 'uniform': 12, 'velocity': 20, 'cradle': 4, 'grave': 5, 'should': 87, 'travel': 31, 'began': 141, 'fifty': 8, 'miles': 16, 'above': 81, 'earth': 68, 'great': 149, 'difficulty': 14, 'interrupted': 3, 'germ': 4, 'discovery': 6, 'am': 37, 'recalling': 4, 'incident': 4, 'vividly': 11, 'back': 135, 'instant': 7, 'its': 242, 'occurrence': 4, 'become': 23, 'absent': 4, 'minded': 12, 'jump': 6, 'means': 35, 'staying': 8, 'more': 202, 'savage': 16, 'animal': 37, 'six': 4, 'feet': 71, 'civilised': 5, 'better': 30, 'off': 107, 'respect': 1, 'against': 115, 'balloon': 4, 'hope': 28, 'ultimately': 8, 'able': 12, 'stop': 25, 'accelerate': 4, 'drift': 12, 'turn': 6, 'oh': 4, 'reason': 16, 'black': 106, 'show': 15, 'argument': 4, 'never': 67, 'convince': 2, 'possibly': 33, 'investigations': 4, 'long': 123, 'vague': 18, 'inkling': 4, 'exclaimed': 4, 'indifferently': 4, 'driver': 2, 'determines': 1, 'himself': 15, 'contented': 4, 'laughter': 13, 'experimental': 8, 'verification': 11, 'remarkably': 4, 'would': 217, 'historian': 4, 'suggested': 17, 'might': 112, 'verify': 8, 'account': 19, 'battle': 11, 'hastings': 4, 'attract': 4, 'attention': 25, 'ancestors': 6, 'tolerance': 3, 'anachronisms': 1, 'greek': 7, 'homer': 4, 'plato': 4, 'case': 22, 'plough': 4, 'scholars': 3, 'german': 2, 'improved': 4, 'future': 75, 'invest': 4, 'money': 16, 'leave': 28, 'accumulate': 4, 'interest': 25, 'hurry': 4, 'ahead': 8, 'discover': 16, 'erected': 4, 'strictly': 3, 'communistic': 2, 'basis': 1, 'wild': 20, 'extravagant': 4, 'theories': 11, 'seemed': 240, 'talked': 8, 'until': 71, 'cried': 18, 'going': 45, 'experiment': 12, 'brain': 5, 'weary': 10, 'let': 31, 'your': 55, 'anyhow': 4, 'humbug': 3, 'round': 122, 'smiling': 14, 'faintly': 8, 'hands': 94, 'deep': 18, 'trousers': 4, 'pockets': 7, 'walked': 32, 'slowly': 25, 'out': 264, 'room': 47, 'slippers': 4, 'shuffling': 4, 'passage': 16, 'laboratory': 57, 'looked': 101, 'wonder': 15, 'sleight': 4, 'hand': 177, 'trick': 24, 'tell': 44, 'conjuror': 4, 'seen': 70, 'burslem': 4, 'finished': 8, 'preface': 4, 'anecdote': 2, 'collapsed': 5, 'held': 24, 'glittering': 8, 'metallic': 18, 'framework': 5, 'scarcely': 14, 'larger': 35, 'small': 53, 'clock': 14, 'delicately': 2, 'made': 122, 'ivory': 23, 'transparent': 7, 'crystalline': 6, 'substance': 13, 'explicit': 8, 'follows': 4, 'unless': 16, 'absolutely': 36, 'unaccountable': 2, 'took': 101, 'octagonal': 4, 'tables': 16, 'scattered': 11, 'front': 21, 'legs': 16, 'hearthrug': 1, 'table': 54, 'placed': 11, 'mechanism': 17, 'drew': 22, 'chair': 24, 'shaded': 4, 'bright': 57, 'light': 143, 'model': 23, 'perhaps': 134, 'also': 24, 'dozen': 12, 'candles': 12, 'brass': 20, 'candlesticks': 4, 'mantel': 12, 'several': 34, 'sconces': 4, 'brilliantly': 6, 'illuminated': 6, 'low': 13, 'arm': 27, 'nearest': 8, 'fireplace': 1, 'behind': 58, 'shoulder': 24, 'watched': 20, 'profile': 4, 'stood': 79, 'alert': 1, 'incredible': 23, 'appears': 6, 'subtly': 4, 'conceived': 4, 'adroitly': 4, 'played': 8, 'conditions': 38, 'affair': 3, 'resting': 8, 'elbows': 4, 'pressing': 4, 'together': 28, 'apparatus': 12, 'plan': 6, 'notice': 18, 'looks': 4, 'singularly': 14, 'askew': 8, 'odd': 49, 'twinkling': 7, 'appearance': 11, 'bar': 31, 'pointed': 18, 'part': 91, 'lever': 57, 'peered': 4, 'beautifully': 3, 'make': 90, 'retorted': 4, 'imitated': 4, 'action': 4, 'want': 22, 'understand': 48, 'pressed': 18, 'sends': 4, 'gliding': 4, 'reverses': 3, 'motion': 25, 'saddle': 20, 'represents': 3, 'seat': 16, 'presently': 81, 'press': 4, 'pass': 19, 'vanish': 8, 'disappear': 5, 'look': 64, 'good': 40, 'too': 163, 'satisfy': 8, 'yourselves': 4, 'trickery': 2, 'waste': 20, 'told': 50, 'm': 22, 'quack': 1, 'minute': 67, 'changed': 18, 'forth': 46, 'towards': 160, 'suddenly': 59, 'lend': 1, 'turning': 12, 'individual': 17, 'own': 120, 'sent': 8, 'interminable': 5, 'voyage': 5, 'saw': 301, 'certain': 74, 'breath': 16, 'wind': 17, 'flame': 15, 'jumped': 5, 'blown': 14, 'swung': 8, 'indistinct': 16, 'ghost': 14, 'second': 47, 'eddy': 4, 'vanished': 35, 'bare': 16, 'silent': 39, 'everyone': 1, 'damned': 11, 'recovered': 8, 'stupor': 4, 'laughed': 20, 'cheerfully': 9, 'reminiscence': 8, 'went': 168, 'tobacco': 8, 'jar': 8, 'fill': 3, 'pipe': 15, 'stared': 27, 'earnest': 4, 'seriously': 12, 'believe': 33, 'travelled': 38, 'stooping': 8, 'spill': 4, 'turned': 64, 'lighting': 6, 'unhinged': 4, 'helped': 8, 'uncut': 1, 'big': 60, 'nearly': 33, 'indicated': 8, 'journey': 10, 'past': 62, 'interval': 18, 'inspiration': 1, 'presume': 3, 'moved': 25, 'since': 47, 'visible': 10, 'first': 156, 'thursday': 19, 'serious': 14, 'objections': 5, 'remarked': 13, 'air': 70, 'impartiality': 4, 'bit': 8, 'below': 31, 'presentation': 4, 'threshold': 4, 'diluted': 2, 'reassured': 6, 'simple': 18, 'point': 28, 'psychology': 1, 'plain': 27, 'helps': 4, 'delightfully': 1, 'appreciate': 9, 'spoke': 22, 'wheel': 4, 'spinning': 8, 'bullet': 4, 'flying': 4, 'times': 42, 'hundred': 49, 'faster': 18, 'gets': 4, 'while': 74, 'impression': 21, 'creates': 4, 'fiftieth': 4, 'hundredth': 4, 'laughing': 21, 'vacant': 4, 'asked': 16, 'plausible': 13, 'sounds': 24, 'tonight': 9, 'tomorrow': 7, 'common': 20, 'sense': 40, 'like': 256, 'itself': 32, 'taking': 9, 'therewith': 10, 'led': 20, 'draughty': 4, 'corridor': 11, 'remember': 33, 'flickering': 22, 'queer': 40, 'broad': 16, 'head': 76, 'silhouette': 4, 'dance': 21, 'shadows': 28, 'followed': 52, 'puzzled': 23, 'incredulous': 9, 'beheld': 8, 'edition': 5, 'nickel': 8, 'filed': 8, 'sawn': 4, 'rock': 7, 'crystal': 1, 'complete': 14, 'twisted': 4, 'bars': 40, 'lay': 50, 'unfinished': 4, 'bench': 13, 'beside': 29, 'sheets': 16, 'drawings': 8, 'quartz': 6, 'perfectly': 16, 'showed': 24, 'christmas': 4, 'holding': 20, 'aloft': 4, 'intend': 4, 'explore': 3, 'life': 51, 'none': 22, 'knew': 50, 'take': 27, 'eye': 24, 'winked': 4, 'solemnly': 9, 'believed': 8, 'those': 66, 'clever': 8, 'felt': 174, 'suspected': 11, 'subtle': 12, 'reserve': 4, 'ingenuity': 4, 'ambush': 4, 'lucid': 2, 'frankness': 1, 'shown': 7, 'explained': 8, 'less': 55, 'scepticism': 1, 'perceived': 17, 'motives': 4, 'pork': 4, 'butcher': 4, 'touch': 13, 'whim': 4, 'among': 121, 'elements': 4, 'distrusted': 2, 'fame': 4, 'tricks': 4, 'mistake': 8, 'easily': 10, 'deportment': 4, 'somehow': 22, 'aware': 4, 'trusting': 4, 'their': 314, 'reputations': 4, 'judgment': 8, 'furnishing': 4, 'nursery': 4, 'eggshell': 2, 'china': 5, 'next': 46, 'potentialities': 4, 'ran': 59, 'doubt': 37, 'minds': 4, 'plausibility': 4, 'practical': 4, 'incredibleness': 4, 'possibilities': 7, 'anachronism': 4, 'utter': 8, 'confusion': 20, 'preoccupied': 4, 'discussing': 4, 'whom': 16, 'met': 37, 'friday': 11, 'linn': 2, 'similar': 8, 'bingen': 4, 'laid': 8, 'considerable': 20, 'stress': 4, 'blowing': 4, 'candle': 5, 'richmond': 4, 'suppose': 31, 'constant': 12, 'guests': 8, 'arriving': 4, 'late': 24, 'found': 163, 'five': 16, 'already': 68, 'assembled': 4, 'drawing': 2, 'standing': 36, 'sheet': 4, 'paper': 21, 'watch': 35, 'half': 73, 'seven': 24, 'd': 6, 'naming': 7, 'host': 2, 've': 12, 'come': 109, 'detained': 1, 'unavoidably': 1, 'asks': 2, 'note': 8, 'lead': 8, 'll': 17, 'says': 1, 'comes': 23, 'pity': 7, 'seems': 6, 'spoil': 4, 'editor': 55, 'known': 9, 'daily': 10, 'thereupon': 4, 'doctor': 9, 'rang': 11, 'bell': 9, 'besides': 11, 'myself': 165, 'attended': 4, 'previous': 12, 'blank': 12, 'aforementioned': 4, 'journalist': 26, 'quiet': 20, 'shy': 8, 'beard': 4, 'didn': 4, 'observation': 4, 'opened': 35, 'mouth': 28, 'evening': 38, 'speculation': 8, 'absence': 14, 'jocular': 2, 'spirit': 14, 'wanted': 24, 'volunteered': 4, 'wooden': 4, 'ingenious': 8, 'witnessed': 4, 'day': 114, 'week': 13, 'midst': 4, 'exposition': 4, 'door': 52, 'noise': 9, 'facing': 15, 'wider': 8, 'cry': 7, 'gave': 34, 'surprise': 15, 'heavens': 3, 'tableful': 4, 'amazing': 4, 'plight': 1, 'dusty': 12, 'coat': 15, 'dirty': 4, 'smeared': 8, 'sleeves': 4, 'disordered': 5, 'greyer': 4, 'either': 36, 'dust': 45, 'dirt': 4, 'colour': 32, 'actually': 2, 'faded': 9, 'ghastly': 7, 'chin': 7, 'brown': 31, 'cut': 31, 'healed': 8, 'expression': 11, 'haggard': 8, 'drawn': 11, 'intense': 20, 'suffering': 9, 'hesitated': 25, 'doorway': 19, 'dazzled': 10, 'limp': 4, 'footsore': 2, 'tramps': 1, 'silence': 8, 'expecting': 7, 'word': 18, 'painfully': 6, 'wine': 2, 'filled': 7, 'glass': 41, 'champagne': 8, 'pushed': 25, 'drained': 2, 'smile': 16, 'flickered': 10, 'across': 82, 'seem': 26, 'hear': 24, 'disturb': 4, 'faltering': 2, 'articulation': 1, 'stopped': 31, 'draught': 1, 'grew': 88, 'brighter': 17, 'faint': 35, 'cheeks': 1, 'glance': 10, 'faces': 24, 'dull': 12, 'approval': 4, 'warm': 21, 'comfortable': 6, 'feeling': 73, 'wash': 4, 'dress': 4, 'mutton': 4, 'starving': 4, 'meat': 26, 'rare': 25, 'visitor': 4, 'hoped': 12, 'question': 29, 'funny': 3, 'staircase': 6, 'lameness': 5, 'padding': 4, 'sound': 38, 'footfall': 4, 'place': 93, 'nothing': 49, 'them': 273, 'pair': 6, 'tattered': 10, 'blood': 23, 'stained': 4, 'socks': 1, 'closed': 11, 'till': 20, 'remembered': 16, 'detested': 4, 'fuss': 3, 'wool': 2, 'gathering': 8, 'behaviour': 7, 'eminent': 4, 'scientist': 4, 'thinking': 26, 'wont': 3, 'headlines': 1, 'brought': 15, 'game': 4, 'doing': 16, 'amateur': 4, 'cadger': 4, 'read': 22, 'interpretation': 12, 'limping': 7, 'upstairs': 1, 'else': 9, 'noticed': 28, 'recover': 12, 'completely': 8, 'hated': 4, 'servants': 8, 'waiting': 24, 'hot': 21, 'plate': 5, 'knife': 4, 'fork': 8, 'grunt': 4, 'suit': 5, 'resumed': 11, 'exclamatory': 3, 'conversation': 6, 'gaps': 4, 'wonderment': 4, 'fervent': 4, 'curiosity': 13, 'friend': 12, 'eke': 4, 'modest': 8, 'income': 4, 'crossing': 4, 'nebuchadnezzar': 4, 'phases': 3, 'inquired': 1, 'assured': 29, 'feel': 52, 'business': 18, 'meeting': 5, 'frankly': 6, 'raised': 9, 'couldn': 4, 'cover': 4, 'rolling': 8, 'home': 23, 'resorted': 3, 'caricature': 1, 'hadn': 1, 'clothes': 16, 'brushes': 4, 'price': 4, 'joined': 4, 'easy': 17, 'heaping': 8, 'ridicule': 4, 'both': 20, 'joyous': 4, 'irreverent': 3, 'special': 3, 'correspondent': 3, 'reports': 8, 'saying': 8, 'shouting': 4, 'dressed': 7, 'ordinary': 4, 'remained': 16, 'change': 27, 'startled': 13, 'hilariously': 4, 'chaps': 4, 'middle': 8, 'rosebery': 4, 'lot': 8, 'reserved': 4, 'quietly': 11, 'treat': 4, 'stick': 8, 'eat': 6, 'won': 5, 'peptone': 4, 'arteries': 1, 'full': 99, 'nodding': 3, 'shilling': 4, 'verbatim': 4, 'fingernail': 4, 'started': 22, 'convulsively': 8, 'poured': 3, 'rest': 26, 'uncomfortable': 6, 'questions': 8, 'kept': 22, 'rising': 26, 'dare': 10, 'same': 138, 'relieve': 4, 'tension': 4, 'anecdotes': 4, 'hettie': 2, 'potter': 1, 'devoted': 12, 'displayed': 20, 'appetite': 12, 'tramp': 1, 'smoked': 4, 'cigarette': 4, 'eyelashes': 1, 'clumsy': 10, 'usual': 7, 'drank': 4, 'regularity': 4, 'determination': 4, 'sheer': 6, 'nervousness': 1, 'apologise': 3, 'reached': 20, 'smoking': 18, 'greasy': 2, 'plates': 6, 'ringing': 2, 'adjoining': 2, 'dash': 4, 'chose': 4, 'leaning': 4, 'argue': 3, 'happened': 36, 'refrain': 7, 'interruptions': 4, 'lying': 12, 'true': 15, 'every': 46, 'o': 10, 'lived': 21, 'days': 66, 'human': 72, 'ever': 49, 'worn': 23, 'shan': 4, 'sleep': 28, 'bed': 5, 'agreed': 10, 'echoed': 2, 'afterwards': 10, 'writing': 18, 'keenness': 4, 'inadequacy': 9, 'pen': 4, 'ink': 8, 'express': 11, 'quality': 5, 'attentively': 4, 'speaker': 4, 'sincere': 4, 'circle': 12, 'intonation': 4, 'voice': 13, 'turns': 4, 'hearers': 4, 'shadow': 25, 'lighted': 8, 'knees': 12, 'downward': 11, 'glanced': 4, 'ceased': 19, 'principles': 4, 'actual': 13, 'incomplete': 8, 'workshop': 6, 'truly': 7, 'cracked': 12, 'rail': 12, 'bent': 10, 'finish': 4, 'expected': 7, 'putting': 13, 'inch': 4, 'short': 25, 'remade': 4, 'ten': 18, 'today': 13, 'machines': 16, 'career': 1, 'tap': 8, 'screws': 4, 'drop': 4, 'oil': 4, 'rod': 4, 'suicide': 5, 'holds': 4, 'pistol': 4, 'skull': 14, 'feels': 4, 'starting': 13, 'stopping': 13, 'immediately': 7, 'reel': 4, 'nightmare': 5, 'sensation': 10, 'falling': 16, 'intellect': 7, 'tricked': 2, 'noted': 9, 'teeth': 16, 'gripped': 12, 'thud': 12, 'hazy': 18, 'dark': 86, 'watchett': 2, 'apparently': 24, 'seeing': 9, 'garden': 16, 'her': 243, 'traverse': 4, 'she': 142, 'shoot': 4, 'rocket': 2, 'extreme': 14, 'position': 4, 'fainter': 8, 'eddying': 12, 'murmur': 15, 'ears': 21, 'strange': 108, 'dumb': 4, 'confusedness': 4, 'descended': 4, 'afraid': 20, 'convey': 23, 'peculiar': 35, 'sensations': 13, 'excessively': 9, 'unpleasant': 14, 'switchback': 4, 'helpless': 19, 'headlong': 16, 'horrible': 30, 'anticipation': 4, 'imminent': 10, 'smash': 1, 'pace': 16, 'flapping': 4, 'wing': 1, 'dim': 47, 'suggestion': 18, 'fall': 21, 'sun': 103, 'hopping': 11, 'swiftly': 32, 'sky': 100, 'leaping': 12, 'supposed': 6, 'destroyed': 8, 'open': 42, 'scaffolding': 4, 'fast': 19, 'conscious': 4, 'snail': 3, 'slowest': 2, 'crawled': 4, 'dashed': 10, 'succession': 10, 'painful': 16, 'intermittent': 4, 'darknesses': 4, 'moon': 53, 'quarters': 4, 'glimpse': 16, 'circling': 12, 'stars': 30, 'gaining': 4, 'palpitation': 4, 'merged': 6, 'continuous': 4, 'greyness': 7, 'wonderful': 12, 'deepness': 4, 'blue': 26, 'splendid': 28, 'luminous': 9, 'early': 20, 'twilight': 21, 'jerking': 4, 'streak': 4, 'brilliant': 8, 'arch': 6, 'fluctuating': 6, 'band': 10, 'misty': 3, 'landscape': 9, 'hillside': 21, 'house': 37, 'stands': 8, 'growing': 44, 'trees': 31, 'changing': 8, 'puffs': 4, 'vapour': 11, 'spread': 16, 'shivered': 21, 'buildings': 34, 'huge': 49, 'rise': 16, 'fair': 17, 'dreams': 5, 'melting': 4, 'flowing': 4, 'dials': 13, 'registered': 10, 'speed': 5, 'raced': 8, 'belt': 5, 'swayed': 12, 'solstice': 6, 'consequently': 4, 'year': 16, 'snow': 8, 'brief': 8, 'spring': 1, 'poignant': 2, 'hysterical': 2, 'exhilaration': 1, 'indeed': 57, 'swaying': 12, 'unable': 7, 'confused': 8, 'attend': 4, 'madness': 4, 'flung': 15, 'futurity': 3, 'scarce': 15, 'fresh': 12, 'series': 8, 'impressions': 8, 'dread': 16, 'possession': 16, 'developments': 3, 'humanity': 31, 'advances': 4, 'rudimentary': 6, 'civilisation': 20, 'appear': 11, 'elusive': 4, 'fluctuated': 4, 'architecture': 8, 'massive': 4, 'yet': 67, 'built': 16, 'glimmer': 3, 'mist': 5, 'richer': 8, 'flow': 6, 'remain': 8, 'wintry': 2, 'intermission': 1, 'veil': 4, 'risk': 14, 'possibility': 14, 'finding': 12, 'occupied': 6, 'mattered': 4, 'attenuated': 4, 'slipping': 8, 'interstices': 4, 'intervening': 4, 'substances': 4, 'involved': 4, 'jamming': 4, 'molecule': 6, 'whatever': 5, 'bringing': 4, 'atoms': 4, 'intimate': 8, 'contact': 15, 'obstacle': 4, 'profound': 16, 'chemical': 4, 'reaction': 8, 'reaching': 12, 'explosion': 12, 'result': 5, 'blow': 16, 'possible': 19, 'unknown': 23, 'occurred': 17, 'unavoidable': 4, 'risks': 4, 'inevitable': 14, 'longer': 24, 'cheerful': 2, 'insensibly': 4, 'absolute': 24, 'strangeness': 4, 'everything': 18, 'sickly': 4, 'jarring': 4, 'prolonged': 8, 'upset': 3, 'nerves': 1, 'gust': 6, 'petulance': 4, 'resolved': 16, 'forthwith': 5, 'impatient': 3, 'fool': 8, 'lugged': 4, 'incontinently': 17, 'reeling': 4, 'clap': 4, 'thunder': 5, 'stunned': 4, 'pitiless': 2, 'hail': 19, 'hissing': 6, 'sitting': 9, 'turf': 19, 'overset': 2, 'lawn': 26, 'surrounded': 12, 'rhododendron': 8, 'bushes': 48, 'mauve': 4, 'purple': 15, 'blossoms': 4, 'dropping': 4, 'shower': 4, 'beating': 12, 'hailstones': 5, 'dancing': 15, 'rebounding': 2, 'hung': 35, 'cloud': 11, 'drove': 30, 'smoke': 20, 'wet': 9, 'skin': 1, 'fine': 1, 'hospitality': 2, 'innumerable': 16, 'colossal': 12, 'carved': 8, 'stone': 24, 'loomed': 4, 'indistinctly': 4, 'beyond': 19, 'rhododendrons': 5, 'downpour': 4, 'invisible': 1, 'describe': 4, 'columns': 7, 'thinner': 5, 'distinctly': 6, 'birch': 7, 'tree': 26, 'touched': 20, 'marble': 12, 'shape': 20, 'winged': 4, 'wings': 8, 'instead': 22, 'carried': 17, 'vertically': 4, 'sides': 16, 'hover': 1, 'appeared': 39, 'pedestal': 33, 'bronze': 60, 'thick': 38, 'verdigris': 5, 'chanced': 8, 'sightless': 4, 'greatly': 13, 'imparted': 4, 'disease': 9, 'hour': 15, 'advance': 4, 'recede': 4, 'denser': 3, 'tore': 4, 'curtain': 8, 'threadbare': 4, 'lightening': 4, 'promise': 8, 'crouching': 6, 'temerity': 4, 'altogether': 43, 'withdrawn': 4, 'cruelty': 4, 'grown': 8, 'passion': 16, 'race': 26, 'lost': 32, 'manliness': 4, 'developed': 4, 'inhuman': 17, 'unsympathetic': 4, 'overwhelmingly': 4, 'powerful': 4, 'dreadful': 9, 'disgusting': 4, 'likeness': 4, 'foul': 16, 'creature': 42, 'slain': 1, 'vast': 47, 'shapes': 10, 'intricate': 4, 'parapets': 4, 'tall': 15, 'wooded': 4, 'dimly': 10, 'creeping': 37, 'lessening': 2, 'storm': 1, 'seized': 9, 'panic': 2, 'fear': 78, 'frantically': 3, 'strove': 4, 'readjust': 6, 'shafts': 9, 'smote': 8, 'thunderstorm': 9, 'swept': 12, 'aside': 8, 'trailing': 4, 'garments': 12, 'summer': 4, 'shreds': 4, 'whirled': 7, 'nothingness': 1, 'clear': 43, 'distinct': 20, 'shining': 16, 'picked': 4, 'unmelted': 4, 'piled': 4, 'courses': 1, 'naked': 3, 'bird': 4, 'knowing': 4, 'hawk': 4, 'swoop': 1, 'frenzy': 10, 'breathing': 23, 'grappled': 4, 'fiercely': 4, 'wrist': 4, 'knee': 4, 'desperate': 4, 'onset': 4, 'struck': 49, 'violently': 20, 'panting': 4, 'heavily': 4, 'attitude': 7, 'mount': 6, 'recovery': 4, 'prompt': 4, 'retreat': 9, 'courage': 8, 'curiously': 8, 'fearfully': 4, 'remote': 30, 'circular': 11, 'opening': 8, 'wall': 17, 'nearer': 21, 'group': 12, 'figures': 23, 'clad': 19, 'rich': 16, 'robes': 8, 'directed': 5, 'voices': 17, 'approaching': 9, 'coming': 51, 'heads': 17, 'shoulders': 5, 'running': 55, 'emerged': 16, 'pathway': 4, 'leading': 8, 'straight': 23, 'tunic': 4, 'girdled': 4, 'waist': 4, 'leather': 2, 'sandals': 5, 'buskins': 3, 'distinguish': 8, 'noticing': 1, 'beautiful': 46, 'graceful': 12, 'indescribably': 7, 'frail': 13, 'reminded': 21, 'consumptive': 4, 'hectic': 4, 'beauty': 20, 'used': 24, 'sight': 20, 'regained': 2, 'confidence': 18, 'fragile': 6, 'bearing': 8, 'sign': 8, 'once': 78, 'following': 24, 'sweet': 19, 'liquid': 2, 'tongue': 6, 'exquisite': 12, 'creatures': 59, 'addressed': 2, 'oddly': 11, 'harsh': 16, 'shook': 8, 'pointing': 8, 'step': 11, 'tentacles': 8, 'alarming': 1, 'pretty': 29, 'inspired': 4, 'gentleness': 4, 'childlike': 2, 'ease': 16, 'fancy': 25, 'flinging': 17, 'ninepins': 1, 'warn': 8, 'pink': 11, 'happily': 1, 'danger': 21, 'hitherto': 14, 'forgotten': 16, 'unscrewed': 4, 'levers': 28, 'pocket': 36, 'communication': 1, 'features': 13, 'peculiarities': 4, 'dresden': 4, 'type': 11, 'prettiness': 5, 'uniformly': 4, 'curly': 4, 'sharp': 12, 'neck': 19, 'cheek': 11, 'faintest': 8, 'mouths': 2, 'thin': 12, 'chins': 4, 'mild': 4, 'egotism': 4, 'fancied': 25, 'lack': 11, 'effort': 24, 'communicate': 4, 'speaking': 4, 'cooing': 8, 'notes': 4, 'hesitating': 5, 'quaintly': 4, 'chequered': 4, 'gesture': 16, 'astonished': 4, 'imitating': 4, 'staggered': 20, 'import': 18, 'abruptly': 13, 'fools': 4, 'hardly': 10, 'anticipated': 8, 'thousand': 31, 'incredibly': 4, 'knowledge': 19, 'art': 14, 'intellectual': 34, 'level': 4, 'children': 30, 'loose': 30, 'suspended': 4, 'limbs': 12, 'disappointment': 8, 'rushed': 12, 'vain': 1, 'nodded': 6, 'vivid': 8, 'rendering': 4, 'thunderclap': 4, 'withdrew': 3, 'bowed': 1, 'carrying': 8, 'chain': 4, 'flowers': 67, 'received': 30, 'melodious': 8, 'applause': 4, 'fro': 16, 'laughingly': 4, 'smothered': 7, 'blossom': 9, 'imagine': 31, 'delicate': 14, 'countless': 6, 'culture': 3, 'created': 9, 'someone': 2, 'plaything': 4, 'exhibited': 4, 'building': 27, 'astonishment': 8, 'edifice': 4, 'fretted': 6, 'memory': 35, 'confident': 8, 'anticipations': 4, 'profoundly': 12, 'posterity': 4, 'irresistible': 8, 'merriment': 4, 'entry': 4, 'naturally': 14, 'crowd': 16, 'portals': 4, 'yawned': 4, 'shadowy': 3, 'mysterious': 5, 'general': 23, 'tangled': 4, 'neglected': 4, 'weedless': 2, 'number': 34, 'spikes': 4, 'measuring': 4, 'foot': 28, 'waxen': 2, 'petals': 1, 'variegated': 8, 'shrubs': 4, 'examine': 4, 'closely': 4, 'deserted': 16, 'richly': 4, 'observe': 4, 'carving': 4, 'narrowly': 4, 'suggestions': 4, 'ph': 8, 'nician': 8, 'decorations': 8, 'badly': 4, 'broken': 38, 'entered': 24, 'dingy': 4, 'nineteenth': 8, 'century': 8, 'grotesque': 16, 'garlanded': 4, 'mass': 20, 'coloured': 8, 'whirl': 4, 'speech': 5, 'proportionately': 4, 'hall': 51, 'roof': 10, 'windows': 22, 'partially': 12, 'glazed': 4, 'unglazed': 4, 'admitted': 4, 'tempered': 2, 'floor': 26, 'blocks': 8, 'metal': 28, 'slabs': 8, 'judged': 38, 'generations': 16, 'deeply': 4, 'channelled': 4, 'frequented': 2, 'ways': 16, 'transverse': 1, 'polished': 8, 'heaps': 19, 'fruits': 14, 'hypertrophied': 4, 'raspberry': 4, 'orange': 8, 'cushions': 5, 'conductors': 4, 'seated': 26, 'themselves': 7, 'signing': 4, 'likewise': 1, 'ceremony': 4, 'fruit': 22, 'peel': 4, 'stalks': 8, 'openings': 8, 'loath': 4, 'example': 4, 'thirsty': 3, 'hungry': 1, 'surveyed': 8, 'leisure': 2, 'dilapidated': 2, 'geometrical': 4, 'pattern': 8, 'many': 36, 'places': 16, 'curtains': 8, 'lower': 20, 'corner': 22, 'near': 36, 'fractured': 1, 'effect': 9, 'nevertheless': 8, 'extremely': 12, 'picturesque': 1, 'couple': 8, 'dining': 12, 'watching': 22, 'eating': 5, 'strong': 38, 'silky': 2, 'material': 7, 'bye': 14, 'diet': 1, 'strict': 8, 'vegetarians': 4, 'spite': 20, 'carnal': 4, 'cravings': 4, 'frugivorous': 2, 'horses': 4, 'cattle': 16, 'sheep': 8, 'dogs': 4, 'ichthyosaurus': 3, 'extinction': 6, 'delightful': 8, 'particular': 19, 'season': 4, 'floury': 4, 'sided': 4, 'husk': 4, 'especially': 7, 'staple': 1, 'later': 17, 'perceive': 7, 'distant': 11, 'checked': 4, 'determined': 29, 'resolute': 4, 'attempt': 8, 'learn': 15, 'mine': 13, 'interrogative': 4, 'gestures': 9, 'conveying': 3, 'meaning': 10, 'stare': 4, 'inextinguishable': 4, 'haired': 4, 'grasp': 7, 'intention': 4, 'repeated': 3, 'name': 17, 'chatter': 8, 'attempts': 4, 'caused': 4, 'immense': 4, 'amount': 12, 'genuine': 4, 'uncivil': 2, 'amusement': 1, 'schoolmaster': 4, 'amidst': 8, 'persisted': 4, 'score': 12, 'noun': 4, 'substantives': 7, 'least': 29, 'command': 4, 'demonstrative': 4, 'pronouns': 4, 'verb': 3, 'slow': 24, 'tired': 23, 'interrogations': 4, 'necessity': 31, 'lessons': 4, 'doses': 8, 'inclined': 9, 'indolent': 8, 'fatigued': 9, 'discovered': 22, 'hosts': 4, 'eager': 8, 'cries': 18, 'examining': 9, 'wander': 4, 'toy': 1, 'conversational': 4, 'beginnings': 8, 'ended': 12, 'speedily': 16, 'disregard': 4, 'portal': 5, 'sunlit': 8, 'hunger': 3, 'satisfied': 1, 'continually': 7, 'distance': 22, 'laugh': 8, 'gesticulated': 4, 'friendly': 12, 'devices': 1, 'calm': 16, 'scene': 8, 'lit': 46, 'glow': 8, 'setting': 14, 'confusing': 1, 'entirely': 8, 'situated': 4, 'slope': 21, 'river': 25, 'valley': 25, 'thames': 14, 'shifted': 4, 'mile': 14, 'summit': 11, 'crest': 17, 'view': 25, 'planet': 20, 'recorded': 1, 'help': 26, 'condition': 8, 'ruinous': 15, 'splendour': 4, 'hill': 64, 'heap': 15, 'granite': 11, 'bound': 12, 'masses': 19, 'aluminium': 5, 'labyrinth': 4, 'precipitous': 4, 'walls': 15, 'crumpled': 4, 'pagoda': 4, 'plants': 24, 'nettles': 4, 'wonderfully': 4, 'tinted': 4, 'leaves': 9, 'incapable': 7, 'stinging': 1, 'derelict': 8, 'remains': 12, 'structure': 12, 'determine': 5, 'destined': 9, 'experience': 16, 'intimation': 4, 'stranger': 8, 'terrace': 4, 'rested': 7, 'realised': 12, 'houses': 16, 'single': 3, 'household': 3, 'greenery': 8, 'cottage': 4, 'form': 29, 'characteristic': 4, 'disappeared': 15, 'communism': 1, 'heels': 8, 'flash': 5, 'costume': 6, 'hairless': 4, 'visage': 4, 'girlish': 4, 'rotundity': 3, 'limb': 1, 'plainly': 3, 'differences': 4, 'texture': 4, 'mark': 4, 'sexes': 12, 'alike': 1, 'miniatures': 4, 'parents': 1, 'precocious': 4, 'physically': 4, 'abundant': 29, 'opinion': 1, 'security': 32, 'living': 20, 'close': 19, 'resemblance': 8, 'strength': 26, 'softness': 4, 'woman': 12, 'institution': 7, 'family': 12, 'differentiation': 4, 'occupations': 4, 'militant': 4, 'necessities': 8, 'physical': 31, 'force': 12, 'balanced': 16, 'population': 14, 'childbearing': 4, 'becomes': 4, 'evil': 6, 'blessing': 4, 'violence': 12, 'rarely': 16, 'offspring': 8, 'secure': 19, 'efficient': 8, 'specialisation': 4, 'needs': 23, 'disappears': 1, 'remind': 4, 'reality': 1, 'musing': 8, 'attracted': 8, 'cupola': 8, 'oddness': 4, 'existing': 8, 'thread': 4, 'speculations': 5, 'top': 5, 'walking': 8, 'powers': 12, 'miraculous': 4, 'alone': 25, 'adventure': 8, 'yellow': 20, 'recognise': 8, 'corroded': 11, 'pinkish': 10, 'rust': 12, 'moss': 12, 'rests': 8, 'cast': 12, 'griffins': 2, 'horizon': 17, 'west': 21, 'flaming': 4, 'gold': 8, 'horizontal': 12, 'crimson': 1, 'burnished': 2, 'steel': 1, 'palaces': 16, 'dotted': 4, 'ruins': 34, 'silvery': 4, 'obelisk': 1, 'hedges': 4, 'signs': 24, 'proprietary': 8, 'rights': 4, 'evidences': 8, 'agriculture': 10, 'shaped': 8, 'truth': 15, 'facet': 4, 'wane': 6, 'ruddy': 2, 'realise': 8, 'consequence': 6, 'social': 31, 'engaged': 9, 'logical': 7, 'outcome': 12, 'sets': 4, 'premium': 7, 'feebleness': 1, 'ameliorating': 4, 'civilising': 4, 'process': 12, 'makes': 11, 'steadily': 19, 'climax': 1, 'triumph': 27, 'nature': 39, 'projects': 4, 'deliberately': 8, 'harvest': 3, 'sanitation': 4, 'stage': 1, 'science': 10, 'attacked': 4, 'department': 4, 'field': 5, 'spreads': 4, 'operations': 8, 'persistently': 1, 'horticulture': 4, 'destroy': 16, 'weed': 8, 'cultivate': 4, 'wholesome': 8, 'leaving': 19, 'greater': 6, 'fight': 16, 'balance': 16, 'favourite': 4, 'improve': 4, 'animals': 23, 'few': 41, 'gradually': 14, 'selective': 4, 'breeding': 6, 'peach': 4, 'seedless': 4, 'grape': 4, 'sweeter': 4, 'flower': 4, 'breed': 3, 'ideals': 4, 'tentative': 4, 'limited': 18, 'organised': 4, 'current': 19, 'eddies': 1, 'intelligent': 8, 'educated': 4, 'co': 8, 'operating': 4, 'subjugation': 3, 'wisely': 4, 'vegetable': 4, 'adjustment': 3, 'leapt': 1, 'gnats': 4, 'weeds': 4, 'fungi': 8, 'everywhere': 12, 'butterflies': 4, 'flew': 4, 'hither': 19, 'thither': 17, 'preventive': 4, 'ideal': 2, 'medicine': 7, 'attained': 10, 'stamped': 2, 'diseases': 5, 'evidence': 4, 'contagious': 4, 'during': 24, 'stay': 5, 'processes': 4, 'putrefaction': 4, 'decay': 20, 'affected': 8, 'changes': 1, 'triumphs': 2, 'effected': 9, 'housed': 4, 'shelters': 4, 'gloriously': 4, 'clothed': 8, 'toil': 6, 'struggle': 13, 'economical': 2, 'advertisement': 8, 'shop': 2, 'traffic': 4, 'commerce': 4, 'constitutes': 4, 'paradise': 1, 'increasing': 20, 'guessed': 8, 'increase': 8, 'inevitably': 8, 'adaptations': 4, 'biological': 3, 'errors': 8, 'cause': 9, 'intelligence': 24, 'vigour': 4, 'hardship': 4, 'active': 10, 'survive': 12, 'weaker': 4, 'loyal': 4, 'alliance': 4, 'capable': 4, 'self': 12, 'restraint': 4, 'patience': 4, 'decision': 1, 'emotions': 4, 'arise': 8, 'therein': 8, 'fierce': 8, 'jealousy': 8, 'tenderness': 8, 'parental': 4, 'devotion': 5, 'justification': 4, 'support': 17, 'dangers': 9, 'sentiment': 4, 'arising': 4, 'grow': 22, 'connubial': 4, 'maternity': 4, 'sorts': 4, 'unnecessary': 4, 'survivals': 4, 'discords': 4, 'refined': 12, 'pleasant': 19, 'slightness': 4, 'strengthened': 4, 'belief': 4, 'perfect': 32, 'conquest': 7, 'energetic': 4, 'vitality': 4, 'alter': 4, 'altered': 2, 'comfort': 37, 'restless': 19, 'energy': 20, 'weakness': 5, 'tendencies': 4, 'desires': 4, 'necessary': 8, 'survival': 8, 'source': 3, 'failure': 1, 'love': 8, 'hindrances': 4, 'power': 8, 'war': 5, 'solitary': 8, 'beasts': 8, 'wasting': 12, 'require': 10, 'constitution': 4, 'weak': 14, 'equipped': 10, 'outlet': 1, 'surgings': 4, 'purposeless': 4, 'settled': 4, 'harmony': 8, 'flourish': 8, 'peace': 1, 'fate': 18, 'takes': 8, 'eroticism': 4, 'languor': 3, 'impetus': 4, 'artistic': 7, 'die': 12, 'died': 8, 'adorn': 2, 'sing': 4, 'sunlight': 13, 'fade': 4, 'inactivity': 1, 'keen': 8, 'grindstone': 8, 'pain': 11, 'hateful': 4, 'mastered': 9, 'problem': 22, 'secret': 4, 'delicious': 2, 'checks': 7, 'devised': 5, 'succeeded': 4, 'numbers': 11, 'diminished': 5, 'stationary': 1, 'abandoned': 2, 'gibbous': 4, 'overflow': 4, 'north': 18, 'east': 13, 'noiseless': 4, 'owl': 8, 'flitted': 4, 'chill': 12, 'descend': 9, 'find': 58, 'tangle': 11, 'chilled': 3, 'complacency': 1, 'stoutly': 4, 'leprous': 8, 'conviction': 4, 'lash': 4, 'losing': 4, 'grip': 4, 'throat': 12, 'strides': 11, 'stanching': 4, 'trickle': 4, 'certainty': 4, 'sometimes': 22, 'excessive': 4, 'assurance': 4, 'folly': 20, 'instinctively': 5, 'removed': 14, 'reach': 10, 'covered': 17, 'minutes': 8, 'cursed': 2, 'aloud': 6, 'thereby': 1, 'answered': 5, 'stirring': 9, 'moonlit': 10, 'worst': 6, 'fears': 7, 'cold': 23, 'faced': 4, 'empty': 10, 'furiously': 8, 'hidden': 12, 'clutching': 7, 'towered': 3, 'mockery': 4, 'dismay': 5, 'consoled': 4, 'imagining': 4, 'shelter': 8, 'dismayed': 4, 'unsuspected': 4, 'whose': 20, 'intervention': 4, 'produced': 8, 'exact': 12, 'duplicate': 4, 'attachment': 2, 'method': 12, 'prevented': 4, 'tampering': 4, 'hid': 4, 'startling': 4, 'deer': 1, 'clenched': 6, 'fist': 9, 'knuckles': 5, 'gashed': 4, 'bleeding': 4, 'twigs': 9, 'sobbing': 2, 'raving': 4, 'anguish': 8, 'slipped': 12, 'uneven': 4, 'malachite': 4, 'breaking': 7, 'shin': 1, 'match': 56, 'sleeping': 24, 'inarticulate': 4, 'noises': 12, 'splutter': 4, 'flare': 4, 'matches': 61, 'bawling': 7, 'angry': 4, 'child': 13, 'laying': 4, 'shaking': 8, 'sorely': 4, 'frightened': 2, 'circumstances': 20, 'trying': 28, 'revive': 8, 'reasoning': 2, 'daylight': 32, 'knocking': 4, 'blundering': 16, 'moonlight': 9, 'terror': 13, 'stumbling': 4, 'crept': 16, 'unexpected': 6, 'loss': 13, 'maddened': 2, 'hopelessly': 3, 'raved': 4, 'screaming': 4, 'crying': 8, 'god': 7, 'fatigue': 8, 'despair': 6, 'wore': 12, 'impossible': 9, 'groping': 16, 'touching': 11, 'weeping': 4, 'wretchedness': 8, 'anger': 8, 'leaked': 8, 'misery': 5, 'slept': 21, 'woke': 6, 'sparrows': 4, 'within': 36, 'freshness': 7, 'desertion': 3, 'fairly': 12, 'overnight': 5, 'behoves': 4, 'patient': 12, 'materials': 4, 'tools': 8, 'poor': 20, 'probably': 12, 'taken': 28, 'hiding': 12, 'cunning': 1, 'scrambled': 4, 'wondering': 12, 'bathe': 1, 'stiff': 4, 'soiled': 1, 'desire': 7, 'equal': 2, 'exhausted': 10, 'emotion': 5, 'excitement': 9, 'careful': 11, 'examination': 11, 'wasted': 6, 'futile': 8, 'questionings': 4, 'conveyed': 4, 'failed': 12, 'stolid': 4, 'jest': 7, 'hardest': 4, 'task': 4, 'keep': 20, 'impulse': 8, 'devil': 4, 'begotten': 4, 'blind': 8, 'ill': 14, 'curbed': 4, 'advantage': 4, 'perplexity': 4, 'counsel': 1, 'groove': 4, 'ripped': 4, 'midway': 4, 'marks': 4, 'arrival': 10, 'struggled': 6, 'overturned': 6, 'removal': 4, 'narrow': 24, 'footprints': 5, 'sloth': 1, 'closer': 4, 'block': 16, 'highly': 4, 'decorated': 4, 'framed': 4, 'panels': 19, 'rapped': 3, 'hollow': 5, 'care': 8, 'discontinuous': 4, 'frames': 1, 'handles': 4, 'keyholes': 4, 'doors': 29, 'infer': 4, 'inside': 7, 'apple': 4, 'beckoned': 4, 'wish': 7, 'behaved': 3, 'grossly': 4, 'improper': 4, 'insult': 1, 'chap': 4, 'ashamed': 3, 'temper': 4, 'robe': 4, 'dragging': 7, 'horror': 18, 'repugnance': 4, 'beaten': 2, 'banged': 2, 'stir': 24, 'chuckle': 4, 'mistaken': 1, 'pebble': 4, 'hammered': 4, 'flattened': 4, 'coil': 4, 'powdery': 2, 'flakes': 12, 'hammering': 8, 'gusty': 8, 'outbreaks': 4, 'slopes': 12, 'furtively': 3, 'occidental': 4, 'vigil': 5, 'inactive': 4, 'hours': 8, 'aimlessly': 4, 'wrecking': 4, 'sit': 2, 'puzzle': 4, 'hopeless': 5, 'monomania': 1, 'lies': 1, 'hasty': 12, 'guesses': 12, 'clues': 4, 'humour': 4, 'situation': 4, 'spent': 6, 'study': 4, 'anxiety': 4, 'complicated': 8, 'although': 1, 'expense': 12, 'avoided': 6, 'gates': 8, 'tolerably': 4, 'avoidance': 1, 'concern': 8, 'abstain': 4, 'pursuit': 4, 'footing': 1, 'progress': 8, 'addition': 10, 'explorations': 8, 'missed': 11, 'exclusively': 4, 'composed': 4, 'concrete': 4, 'verbs': 1, 'abstract': 4, 'figurative': 2, 'sentences': 6, 'simplest': 2, 'propositions': 1, 'mystery': 21, 'tethered': 4, 'exuberant': 4, 'richness': 4, 'climbed': 4, 'abundance': 4, 'endlessly': 4, 'varied': 4, 'style': 4, 'clustering': 4, 'thickets': 4, 'evergreens': 4, 'laden': 4, 'ferns': 1, 'water': 28, 'land': 14, 'undulating': 8, 'hills': 12, 'serenity': 8, 'feature': 3, 'presence': 16, 'depth': 1, 'path': 11, 'walk': 1, 'rimmed': 4, 'wrought': 4, 'protected': 24, 'rain': 12, 'peering': 16, 'shafted': 4, 'gleam': 8, 'reflection': 17, 'engine': 4, 'flaring': 12, 'steady': 8, 'threw': 5, 'scrap': 8, 'fluttering': 8, 'sucked': 4, 'connect': 4, 'towers': 8, 'often': 16, 'flicker': 8, 'sees': 12, 'scorched': 4, 'beach': 18, 'extensive': 4, 'system': 7, 'subterranean': 9, 'ventilation': 9, 'difficult': 7, 'associate': 4, 'sanitary': 4, 'obvious': 4, 'conclusion': 9, 'learnt': 12, 'drains': 4, 'bells': 4, 'modes': 4, 'conveyance': 4, 'conveniences': 4, 'visions': 4, 'utopias': 4, 'detail': 4, 'arrangements': 4, 'details': 4, 'obtain': 14, 'contained': 6, 'imagination': 9, 'inaccessible': 9, 'amid': 9, 'realities': 4, 'conceive': 1, 'tale': 10, 'london': 14, 'negro': 8, 'central': 16, 'africa': 4, 'tribe': 4, 'railway': 8, 'companies': 4, 'movements': 11, 'telephone': 4, 'telegraph': 4, 'wires': 4, 'parcels': 4, 'delivery': 4, 'company': 12, 'postal': 4, 'orders': 4, 'willing': 4, 'untravelled': 4, 'apprehend': 4, 'gap': 12, 'wide': 8, 'sensible': 8, 'unseen': 8, 'contributed': 8, 'automatic': 8, 'organisation': 8, 'sepulture': 4, 'crematoria': 8, 'suggestive': 3, 'tombs': 1, 'cemeteries': 4, 'somewhere': 4, 'range': 8, 'explorings': 1, 'defeated': 4, 'remark': 8, 'aged': 8, 'infirm': 4, 'confess': 14, 'satisfaction': 8, 'decadent': 6, 'endure': 1, 'difficulties': 2, 'explored': 4, 'halls': 4, 'apartments': 1, 'machinery': 20, 'appliances': 9, 'fabrics': 4, 'renewal': 4, 'undecorated': 4, 'complex': 8, 'specimens': 11, 'metalwork': 1, 'vestige': 8, 'creative': 2, 'shops': 4, 'workshops': 4, 'importations': 3, 'playing': 4, 'bathing': 11, 'playful': 4, 'fashion': 10, 'waterless': 2, 'pillars': 9, 'lacked': 7, 'clue': 9, 'inscription': 8, 'excellent': 8, 'interpolated': 4, 'letters': 4, 'third': 5, 'visit': 8, 'presented': 9, 'sort': 1, 'shallow': 6, 'cramp': 4, 'drifting': 10, 'downstream': 1, 'main': 10, 'strongly': 4, 'moderate': 2, 'swimmer': 1, 'deficiency': 4, 'slightest': 4, 'rescue': 12, 'weakly': 4, 'drowning': 4, 'hurriedly': 4, 'wading': 4, 'mite': 4, 'safe': 19, 'rubbing': 7, 'estimate': 4, 'gratitude': 7, 'afternoon': 16, 'returning': 4, 'centre': 11, 'exploration': 8, 'delight': 12, 'garland': 4, 'desolate': 9, 'rate': 11, 'best': 20, 'display': 8, 'appreciation': 4, 'gift': 1, 'arbour': 4, 'chiefly': 7, 'smiles': 1, 'friendliness': 4, 'kissed': 3, 'hers': 1, 'weena': 160, 'appropriate': 2, 'friendship': 4, 'lasted': 4, 'heart': 15, 'tire': 4, 'calling': 8, 'plaintively': 1, 'problems': 11, 'carry': 20, 'miniature': 2, 'flirtation': 1, 'distress': 7, 'expostulations': 4, 'parting': 4, 'frantic': 4, 'trouble': 13, 'childish': 12, 'affection': 12, 'cling': 3, 'inflicted': 4, 'merely': 14, 'seeming': 4, 'fond': 4, 'showing': 4, 'cared': 4, 'doll': 4, 'neighbourhood': 4, 'tiny': 4, 'fearless': 3, 'oddest': 4, 'threatening': 4, 'grimaces': 4, 'dreaded': 12, 'passionate': 12, 'observing': 1, 'gathered': 8, 'droves': 1, 'enter': 7, 'tumult': 7, 'apprehension': 5, 'blockhead': 4, 'lesson': 6, 'insisted': 4, 'slumbering': 2, 'multitudes': 1, 'troubled': 5, 'triumphed': 4, 'nights': 16, 'acquaintance': 4, 'including': 38, 'pillowed': 4, 'slips': 4, 'awakened': 5, 'dawn': 11, 'dreaming': 4, 'disagreeably': 4, 'drowned': 4, 'sea': 41, 'anemones': 4, 'palps': 5, 'greyish': 8, 'chamber': 1, 'colourless': 11, 'flagstones': 4, 'virtue': 4, 'sunrise': 1, 'dying': 8, 'pallor': 8, 'mingled': 4, 'inky': 8, 'sombre': 12, 'cheerless': 1, 'ghosts': 13, 'scanned': 8, 'twice': 4, 'ape': 8, 'quickly': 4, 'leash': 4, 'uncertain': 4, 'doubted': 1, 'eastern': 8, 'colouring': 4, 'returned': 24, 'keenly': 1, 'whence': 3, 'dated': 1, 'notion': 8, 'grant': 4, 'allen': 4, 'amused': 2, 'generation': 7, 'argued': 4, 'overcrowded': 3, 'theory': 23, 'hence': 8, 'unsatisfying': 4, 'associated': 34, 'indefinite': 7, 'search': 7, 'substitute': 1, 'deadlier': 4, 'hotter': 12, 'assume': 12, 'cooling': 4, 'unfamiliar': 5, 'younger': 4, 'darwin': 4, 'forget': 4, 'planets': 4, 'parent': 2, 'occur': 8, 'catastrophes': 3, 'blaze': 15, 'renewed': 8, 'inner': 8, 'suffered': 3, 'seeking': 8, 'heat': 21, 'glare': 23, 'ruin': 13, 'fed': 4, 'clambering': 14, 'masonry': 5, 'gallery': 73, 'blocked': 4, 'fallen': 22, 'contrast': 2, 'brilliancy': 4, 'outside': 17, 'impenetrably': 4, 'blackness': 33, 'spots': 12, 'swim': 3, 'spellbound': 1, 'halted': 9, 'instinctive': 3, 'steadfastly': 12, 'glaring': 5, 'eyeballs': 1, 'overcoming': 1, 'extent': 8, 'advanced': 8, 'controlled': 1, 'darted': 4, 'sideways': 13, 'blundered': 2, 'beneath': 10, 'pile': 8, 'ruined': 2, 'imperfect': 4, 'flaxen': 4, 'whether': 8, 'fours': 4, 'forearms': 4, 'obscurity': 9, 'pillar': 5, 'shaft': 23, 'retreated': 5, 'shudder': 1, 'spider': 7, 'forming': 4, 'ladder': 4, 'burned': 4, 'fingers': 20, 'dropped': 12, 'monster': 11, 'succeed': 4, 'persuading': 4, 'dawned': 4, 'species': 20, 'differentiated': 4, 'upper': 9, 'sole': 8, 'descendants': 8, 'bleached': 12, 'obscene': 8, 'nocturnal': 8, 'heir': 4, 'ages': 8, 'underground': 21, 'suspect': 8, 'wondered': 6, 'lemur': 4, 'scheme': 4, 'related': 4, 'overworlders': 12, 'edge': 19, 'solution': 8, 'withal': 2, 'upperworld': 14, 'amorous': 4, 'sport': 8, 'male': 2, 'pursued': 7, 'female': 4, 'distressed': 7, 'considered': 4, 'bad': 4, 'apertures': 4, 'frame': 12, 'visibly': 4, 'interested': 4, 'amuse': 2, 'revolution': 8, 'sliding': 8, 'ventilating': 8, 'hint': 8, 'vaguely': 7, 'economic': 4, 'emergence': 4, 'habit': 16, 'live': 16, 'largely': 12, 'fish': 4, 'kentucky': 4, 'caves': 7, 'capacity': 4, 'reflecting': 4, 'witness': 8, 'cat': 1, 'evident': 8, 'sunshine': 5, 'fumbling': 4, 'awkward': 4, 'flight': 13, 'carriage': 4, 'reinforced': 4, 'sensitiveness': 4, 'retina': 1, 'tunnelled': 4, 'enormously': 4, 'tunnellings': 4, 'habitat': 4, 'universal': 7, 'ramifications': 1, 'artificial': 8, 'underworld': 27, 'splitting': 8, 'anticipate': 4, 'proceeding': 7, 'gradual': 8, 'widening': 12, 'temporary': 4, 'capitalist': 4, 'labourer': 4, 'key': 4, 'wildly': 4, 'utilise': 4, 'ornamental': 4, 'purposes': 4, 'metropolitan': 4, 'electric': 4, 'railways': 4, 'subways': 4, 'workrooms': 4, 'restaurants': 4, 'multiply': 1, 'increased': 11, 'industry': 5, 'birthright': 4, 'deeper': 10, 'factories': 4, 'spending': 4, 'worker': 4, 'practically': 8, 'exclusive': 8, 'due': 12, 'refinement': 4, 'education': 8, 'gulf': 8, 'rude': 4, 'closing': 12, 'portions': 4, 'prettier': 4, 'shut': 4, 'intrusion': 1, 'higher': 8, 'educational': 8, 'facilities': 4, 'temptations': 4, 'habits': 4, 'exchange': 4, 'class': 6, 'promotion': 8, 'intermarriage': 4, 'retards': 4, 'lines': 4, 'stratification': 4, 'frequent': 1, 'haves': 4, 'pursuing': 4, 'pleasure': 8, 'nots': 4, 'workers': 4, 'adapted': 12, 'labour': 5, 'pay': 12, 'rent': 4, 'caverns': 4, 'refused': 8, 'starve': 4, 'suffocated': 3, 'arrears': 1, 'constituted': 5, 'miserable': 4, 'rebellious': 4, 'permanent': 8, 'survivors': 4, 'happy': 4, 'overworld': 11, 'theirs': 1, 'etiolated': 4, 'dreamed': 7, 'moral': 4, 'operation': 4, 'imagined': 1, 'aristocracy': 11, 'armed': 4, 'perfected': 4, 'working': 8, 'industrial': 4, 'fellow': 6, 'cicerone': 4, 'utopian': 2, 'books': 2, 'supposition': 4, 'zenith': 4, 'degeneration': 4, 'dwindling': 4, 'size': 12, 'undergrounders': 4, 'called': 10, 'modification': 8, 'eloi': 27, 'doubts': 1, 'troublesome': 1, 'masters': 4, 'restore': 4, 'terribly': 6, 'disappointed': 1, 'answer': 2, 'topic': 3, 'unendurable': 1, 'harshly': 4, 'burst': 11, 'tears': 5, 'concerned': 4, 'banishing': 4, 'inheritance': 4, 'clapping': 4, 'manifestly': 4, 'shrinking': 7, 'pallid': 2, 'bodies': 1, 'worms': 4, 'preserved': 13, 'zoological': 2, 'museum': 12, 'filthily': 4, 'sympathetic': 4, 'influence': 4, 'disgust': 4, 'health': 3, 'oppressed': 3, 'definite': 2, 'noiselessly': 4, 'quarter': 8, 'appearances': 4, 'whitened': 4, 'lemurs': 4, 'vermin': 5, 'replaced': 4, 'shirks': 4, 'duty': 1, 'boldly': 12, 'penetrating': 4, 'mysteries': 3, 'companion': 4, 'horribly': 6, 'clamber': 8, 'appalled': 2, 'restlessness': 4, 'insecurity': 4, 'farther': 10, 'afield': 4, 'exploring': 3, 'expeditions': 1, 'south': 29, 'westward': 16, 'combe': 4, 'wood': 45, 'observed': 4, 'banstead': 4, 'largest': 4, 'fa': 4, 'ade': 4, 'oriental': 4, 'lustre': 4, 'tint': 4, 'bluish': 4, 'chinese': 2, 'aspect': 4, 'push': 12, 'tiring': 4, 'circuit': 4, 'welcome': 4, 'caresses': 4, 'regarding': 8, 'piece': 8, 'deception': 4, 'enable': 4, 'shirk': 4, 'descent': 11, 'danced': 2, 'strangely': 2, 'disconcerted': 1, 'kissing': 8, 'parapet': 8, 'climbing': 6, 'hooks': 9, 'hastily': 22, 'feared': 9, 'leak': 8, 'amazement': 2, 'piteous': 4, 'pull': 4, 'opposition': 4, 'nerved': 4, 'proceed': 1, 'roughly': 4, 'agonised': 4, 'reassure': 2, 'unstable': 6, 'clung': 9, 'yards': 5, 'projecting': 12, 'smaller': 4, 'lighter': 4, 'cramped': 8, 'weight': 8, 'arms': 37, 'acutely': 4, 'quick': 8, 'glancing': 1, 'aperture': 8, 'disc': 8, 'star': 16, 'projection': 1, 'thudding': 2, 'louder': 5, 'oppressive': 5, 'agony': 7, 'discomfort': 1, 'relief': 4, 'slender': 4, 'loophole': 4, 'swinging': 5, 'tunnel': 9, 'lie': 9, 'ached': 3, 'trembling': 8, 'unbroken': 6, 'distressing': 4, 'throb': 12, 'hum': 8, 'pumping': 4, 'arroused': 3, 'snatched': 4, 'striking': 8, 'retreating': 4, 'impenetrable': 4, 'abnormally': 4, 'sensitive': 4, 'pupils': 4, 'abysmal': 4, 'fishes': 4, 'reflected': 4, 'rayless': 6, 'apart': 4, 'order': 13, 'fled': 4, 'vanishing': 4, 'gutters': 4, 'tunnels': 4, 'glared': 8, 'strangest': 2, 'unaided': 4, 'arched': 4, 'cavern': 4, 'stretched': 7, 'burning': 16, 'necessarily': 5, 'dimness': 12, 'spectral': 4, 'sheltered': 4, 'stuffy': 4, 'halitus': 4, 'freshly': 4, 'shed': 4, 'vista': 4, 'meal': 1, 'carnivorous': 4, 'survived': 4, 'furnish': 4, 'joint': 3, 'heavy': 8, 'smell': 12, 'unmeaning': 4, 'lurking': 8, 'stung': 4, 'wriggling': 8, 'spot': 4, 'absurd': 4, 'assumption': 4, 'infinitely': 4, 'ourselves': 5, 'frightfully': 7, 'kodak': 4, 'examined': 13, 'weapons': 4, 'endowed': 4, 'safety': 5, 'store': 4, 'run': 8, 'economise': 7, 'box': 23, 'astonishing': 4, 'novelty': 1, 'lank': 4, 'odour': 4, 'beings': 3, 'disengaged': 8, 'plucking': 4, 'clothing': 1, 'realisation': 4, 'ignorance': 8, 'shouted': 10, 'loudly': 4, 'clutched': 6, 'whispering': 4, 'discordantly': 1, 'alarmed': 4, 'strike': 13, 'escape': 9, 'protection': 8, 'eking': 4, 'rustling': 4, 'pattering': 13, 'hurried': 3, 'mistaking': 4, 'haul': 3, 'waved': 4, 'nauseatingly': 4, 'chinless': 4, 'lidless': 4, 'blindness': 7, 'bewilderment': 2, 'pump': 4, 'giddy': 4, 'grasped': 12, 'tugged': 2, 'kicking': 4, 'clutches': 4, 'stayed': 11, 'blinking': 10, 'wretch': 4, 'nigh': 4, 'secured': 4, 'boot': 4, 'trophy': 1, 'climb': 2, 'thirty': 12, 'deadly': 8, 'nausea': 7, 'greatest': 4, 'keeping': 11, 'frightful': 7, 'faintness': 5, 'swam': 7, 'blinding': 2, 'smelt': 4, 'soil': 3, 'clean': 1, 'insensible': 5, 'worse': 4, 'sustaining': 4, 'ultimate': 4, 'discoveries': 2, 'impeded': 4, 'simplicity': 4, 'forces': 4, 'overcome': 4, 'element': 8, 'sickening': 4, 'malign': 1, 'loathed': 1, 'pit': 12, 'beast': 4, 'enemy': 6, 'incomprehensible': 4, 'remarks': 4, 'guess': 4, 'understood': 11, 'degree': 4, 'villainy': 4, 'hypothesis': 6, 'favoured': 4, 'mechanical': 10, 'resulted': 4, 'evolution': 4, 'arrived': 5, 'relationship': 1, 'carlovignan': 4, 'kings': 4, 'decayed': 4, 'futility': 5, 'possessed': 7, 'sufferance': 4, 'daylit': 3, 'intolerable': 1, 'inferred': 4, 'maintained': 4, 'habitual': 4, 'service': 2, 'horse': 4, 'paws': 4, 'enjoys': 4, 'killing': 20, 'ancient': 8, 'departed': 8, 'impressed': 8, 'organism': 1, 'reversed': 1, 'nemesis': 2, 'ones': 9, 'apace': 5, 'thousands': 25, 'thrust': 8, 'brother': 8, 'begun': 4, 'anew': 1, 'becoming': 3, 'reacquainted': 3, 'floated': 4, 'stirred': 4, 'meditations': 4, 'recall': 8, 'familiar': 24, 'differently': 6, 'ours': 4, 'ripe': 4, 'prime': 4, 'paralyse': 4, 'terrors': 5, 'defend': 2, 'delay': 3, 'fastness': 4, 'refuge': 15, 'base': 4, 'realising': 4, 'exposed': 1, 'shuddered': 2, 'wandered': 9, 'commended': 4, 'practicable': 4, 'dexterous': 4, 'climbers': 4, 'judge': 10, 'pinnacles': 8, 'reckoned': 4, 'eighteen': 1, 'moist': 4, 'distances': 4, 'deceptively': 2, 'heel': 16, 'shoes': 16, 'nail': 4, 'indoors': 4, 'lame': 5, 'silhouetted': 4, 'hugely': 5, 'delighted': 4, 'desired': 4, 'occasionally': 8, 'darting': 4, 'pick': 4, 'concluded': 4, 'eccentric': 4, 'vases': 4, 'floral': 2, 'decoration': 1, 'utilised': 4, 'purpose': 7, 'reminds': 3, 'jacket': 8, 'paused': 4, 'silently': 4, 'withered': 8, 'unlike': 8, 'mallows': 4, 'narrative': 1, 'hush': 3, 'wimbledon': 4, 'contrived': 4, 'dusk': 8, 'breeze': 10, 'stops': 4, 'expectation': 8, 'stillness': 5, 'darkling': 7, 'senses': 4, 'preternaturally': 2, 'sharpened': 1, 'hollowness': 4, 'ant': 8, 'receive': 12, 'invasion': 4, 'burrows': 4, 'declaration': 3, 'deepened': 3, 'tightly': 4, 'waded': 3, 'opposite': 4, 'statue': 4, 'faun': 4, 'minus': 3, 'acacias': 1, 'darker': 8, 'brow': 3, 'spreading': 8, 'sore': 4, 'lowered': 4, 'hide': 1, 'dense': 3, 'branches': 8, 'roots': 4, 'stumble': 4, 'boles': 4, 'excitements': 8, 'decided': 4, 'glad': 8, 'asleep': 1, 'wrapped': 3, 'moonrise': 1, 'constellations': 8, 'imperceptible': 4, 'lifetimes': 4, 'rearranged': 4, 'groupings': 1, 'milky': 3, 'streamer': 4, 'yore': 1, 'southward': 1, 'sirius': 1, 'scintillating': 4, 'kindly': 4, 'dwarfed': 4, 'troubles': 4, 'gravities': 4, 'terrestrial': 2, 'unfathomable': 4, 'precessional': 4, 'cycle': 4, 'pole': 4, 'describes': 1, 'forty': 8, 'traversed': 4, 'revolutions': 4, 'activity': 4, 'traditions': 4, 'organisations': 4, 'nations': 4, 'languages': 4, 'literatures': 4, 'aspirations': 4, 'ancestry': 4, 'shiver': 4, 'starlike': 4, 'dismissed': 3, 'whiled': 4, 'dozed': 3, 'eastward': 18, 'peaked': 3, 'overtaking': 4, 'overflowing': 4, 'approached': 13, 'unreasonable': 3, 'swollen': 4, 'ankle': 4, 'forbidding': 1, 'wherewith': 4, 'break': 7, 'dainty': 4, 'bottom': 4, 'pitied': 4, 'feeble': 8, 'rill': 4, 'flood': 3, 'food': 8, 'rats': 8, 'discriminating': 4, 'monkey': 1, 'prejudice': 2, 'instinct': 4, 'sons': 4, 'cannibal': 4, 'torment': 3, 'fatted': 4, 'preyed': 4, 'preserve': 8, 'rigorous': 4, 'punishment': 4, 'selfishness': 1, 'content': 4, 'labours': 4, 'watchword': 8, 'excuse': 4, 'fullness': 4, 'carlyle': 4, 'scorn': 4, 'wretched': 4, 'degradation': 8, 'claim': 8, 'sympathy': 4, 'perforce': 8, 'sharer': 4, 'pursue': 1, 'contrive': 5, 'immediate': 13, 'procure': 4, 'weapon': 12, 'torch': 4, 'arrange': 4, 'contrivance': 8, 'battering': 2, 'ram': 1, 'persuasion': 8, 'bring': 7, 'schemes': 4, 'chosen': 4, 'dwelling': 1, 'noon': 4, 'ragged': 2, 'vestiges': 10, 'turfy': 8, 'surprised': 11, 'estuary': 4, 'creek': 4, 'wandsworth': 4, 'battersea': 4, 'happening': 4, 'proved': 8, 'foolishly': 4, 'interpret': 4, 'valves': 7, 'customary': 4, 'tiled': 2, 'array': 16, 'miscellaneous': 4, 'objects': 4, 'shrouded': 4, 'covering': 4, 'gaunt': 4, 'skeleton': 5, 'oblique': 4, 'extinct': 5, 'megatherium': 1, 'bones': 8, 'barrel': 4, 'brontosaurus': 1, 'confirmed': 5, 'sloping': 10, 'shelves': 4, 'clearing': 4, 'cases': 11, 'tight': 12, 'preservation': 4, 'kensington': 4, 'pal': 8, 'ontological': 4, 'section': 13, 'fossils': 8, 'staved': 8, 'bacteria': 4, 'ninety': 4, 'nine': 8, 'hundredths': 4, 'sureness': 4, 'slowness': 4, 'treasures': 1, 'traces': 12, 'pieces': 12, 'threaded': 4, 'strings': 3, 'reeds': 1, 'instances': 4, 'bodily': 4, 'deadened': 3, 'footsteps': 1, 'urchin': 4, 'monument': 4, 'preoccupation': 3, 'receded': 8, 'deal': 4, 'ontology': 4, 'historical': 4, 'galleries': 4, 'library': 8, 'vastly': 4, 'interesting': 4, 'spectacle': 4, 'geology': 3, 'transversely': 4, 'minerals': 4, 'sulphur': 7, 'gunpowder': 1, 'saltpetre': 4, 'nitrates': 4, 'deliquesced': 3, 'doubtless': 1, 'train': 3, 'specialist': 4, 'mineralogy': 4, 'aisle': 8, 'parallel': 4, 'history': 4, 'recognition': 1, 'shrivelled': 7, 'blackened': 4, 'stuffed': 4, 'desiccated': 4, 'mummies': 4, 'jars': 4, 'sorry': 11, 'readjustments': 4, 'proportions': 4, 'angle': 4, 'globes': 4, 'intervals': 2, 'ceiling': 4, 'smashed': 12, 'originally': 4, 'artificially': 2, 'bulks': 4, 'linger': 4, 'puzzles': 8, 'vaguest': 4, 'solve': 4, 'sloped': 3, 'footnote': 1, 'slit': 3, 'area': 4, 'puzzling': 4, 'intent': 4, 'diminution': 4, 'apprehensions': 4, 'revived': 3, 'academic': 4, 'projected': 4, 'signal': 2, 'stand': 8, 'grasping': 4, 'whimper': 1, 'correctly': 4, 'snapped': 4, 'strain': 4, 'rejoined': 4, 'mace': 8, 'sufficient': 8, 'morlock': 15, 'encounter': 1, 'longed': 3, 'kill': 4, 'disinclination': 3, 'slake': 4, 'thirst': 4, 'murder': 4, 'suffer': 8, 'restrained': 6, 'brutes': 10, 'military': 4, 'chapel': 4, 'flags': 1, 'charred': 8, 'rags': 4, 'decaying': 5, 'semblance': 4, 'print': 8, 'warped': 4, 'boards': 4, 'clasps': 4, 'literary': 54, 'moralised': 4, 'ambition': 1, 'keenest': 4, 'enormous': 4, 'wilderness': 4, 'rotting': 3, 'testified': 5, 'transactions': 4, 'papers': 4, 'optics': 1, 'technical': 2, 'chemistry': 1, 'useful': 2, 'eagerly': 5, 'damp': 1, 'carpeting': 4, 'performed': 8, 'composite': 4, 'whistling': 4, 'leal': 4, 'cancan': 4, 'skirt': 4, 'tail': 4, 'permitted': 11, 'original': 5, 'inventive': 4, 'escaped': 8, 'wear': 4, 'immemorial': 4, 'fortunate': 2, 'unlikelier': 4, 'camphor': 35, 'sealed': 5, 'chance': 4, 'hermetically': 2, 'paraffin': 4, 'wax': 4, 'accordingly': 2, 'unmistakable': 1, 'volatile': 4, 'centuries': 2, 'sepia': 4, 'painting': 4, 'fossil': 4, 'belemnite': 4, 'perished': 4, 'fossilised': 4, 'millions': 9, 'throw': 4, 'inflammable': 4, 'explosives': 4, 'iron': 30, 'crowbar': 12, 'helpful': 4, 'elated': 1, 'rusting': 4, 'hatchet': 4, 'sword': 1, 'promised': 8, 'guns': 4, 'pistols': 3, 'rifles': 1, 'cartridges': 7, 'powder': 4, 'rotted': 3, 'shattered': 4, 'idols': 4, 'polynesian': 4, 'mexican': 4, 'grecian': 4, 'yielding': 3, 'wrote': 4, 'nose': 4, 'steatite': 4, 'america': 4, 'waned': 5, 'exhibits': 4, 'lignite': 3, 'fresher': 1, 'tin': 4, 'merest': 4, 'accident': 4, 'dynamite': 4, 'eureka': 4, 'joy': 1, 'selecting': 2, 'essay': 1, 'dummies': 4, 'chances': 4, 'non': 6, 'court': 4, 'turfed': 3, 'refreshed': 2, 'consider': 4, 'defences': 4, 'needed': 1, 'refrained': 4, 'forcing': 4, 'inadequate': 4, 'ere': 4, 'purposed': 4, 'pushing': 4, 'woods': 5, 'sticks': 15, 'dried': 4, 'grass': 20, 'litter': 1, 'loaded': 2, 'thus': 2, 'slower': 28, 'sleepiness': 4, 'shrubby': 3, 'fearing': 4, 'singular': 4, 'impending': 4, 'calamity': 5, 'served': 4, 'warning': 4, 'onward': 1, 'feverish': 3, 'irritable': 1, 'scrub': 3, 'insidious': 2, 'approach': 5, 'forest': 19, 'calculated': 8, 'safer': 4, 'abandon': 4, 'firewood': 4, 'reluctantly': 4, 'amaze': 4, 'friends': 4, 'atrocious': 4, 'temperate': 2, 'climate': 1, 'burn': 4, 'focused': 4, 'dewdrops': 4, 'tropical': 2, 'districts': 1, 'lightning': 1, 'blast': 3, 'blacken': 4, 'gives': 6, 'widespread': 6, 'vegetation': 6, 'smoulder': 4, 'fermentation': 4, 'decadence': 3, 'tongues': 7, 'licking': 4, 'play': 3, 'herself': 4, 'struggles': 4, 'plunged': 4, 'crowded': 4, 'stems': 9, 'adjacent': 4, 'curved': 8, 'accustomed': 8, 'avoid': 3, 'overhead': 2, 'crackling': 8, 'rustle': 4, 'vessels': 4, 'grimly': 1, 'tug': 4, 'fumbled': 7, 'scratched': 3, 'fizzed': 1, 'backs': 7, 'lump': 8, 'prepared': 4, 'motionless': 22, 'fright': 4, 'stooped': 7, 'breathe': 1, 'split': 4, 'flared': 4, 'knelt': 4, 'lifted': 2, 'fainted': 1, 'uvring': 3, 'sweat': 1, 'rapidly': 4, 'build': 4, 'encamp': 4, 'bole': 4, 'collecting': 4, 'carbuncles': 1, 'forms': 4, 'blinded': 4, 'grind': 4, 'whoop': 4, 'bonfire': 1, 'dry': 8, 'foliage': 8, 'casting': 4, 'choking': 4, 'smoky': 4, 'dead': 5, 'breathed': 3, 'beat': 9, 'moreover': 1, 'replenishing': 4, 'exertion': 4, 'slumbrous': 8, 'nod': 4, 'clinging': 6, 'bitterness': 4, 'death': 8, 'soul': 1, 'pulled': 8, 'heaped': 3, 'monstrous': 8, 'web': 5, 'overpowered': 3, 'nipping': 4, 'rolled': 2, 'succulent': 4, 'giving': 4, 'bone': 4, 'blows': 8, 'exultation': 3, 'accompany': 4, 'fighting': 4, 'pitch': 4, 'battered': 4, 'incessant': 4, 'stream': 4, 'reddish': 9, 'agape': 4, 'spark': 4, 'starlight': 8, 'roar': 4, 'stepping': 1, 'flames': 12, 'explosive': 4, 'outflanked': 4, 'weird': 4, 'hillock': 10, 'tumulus': 4, 'surmounted': 4, 'hawthorn': 5, 'writhing': 4, 'encircling': 4, 'fence': 3, 'crippling': 3, 'moans': 4, 'helplessness': 4, 'quivering': 4, 'elude': 2, 'somewhat': 4, 'happen': 4, 'uncanny': 4, 'coiling': 2, 'uprush': 3, 'streamed': 4, 'tatters': 4, 'canopy': 4, 'belonged': 4, 'universe': 4, 'fists': 4, 'persuaded': 4, 'screamed': 4, 'awake': 5, 'thrice': 1, 'rush': 4, 'subsiding': 8, 'streaming': 4, 'whitening': 4, 'blackening': 4, 'stumps': 4, 'diminishing': 4, 'searched': 2, 'relieved': 4, 'awful': 8, 'massacre': 4, 'abominations': 4, 'island': 4, 'haze': 4, 'bearings': 4, 'remnant': 4, 'souls': 4, 'moaning': 6, 'clearer': 4, 'tied': 4, 'limped': 4, 'ashes': 8, 'pulsated': 4, 'internally': 4, 'intensest': 4, 'overwhelming': 2, 'sorrow': 4, 'dream': 25, 'lonely': 8, 'fireside': 4, 'thoughts': 4, 'longing': 4, 'trouser': 3, 'viewed': 8, 'conclusions': 4, 'bitterly': 4, 'magnificent': 4, 'fertile': 2, 'banks': 1, 'gay': 2, 'saved': 4, 'stab': 3, 'blots': 3, 'cupolas': 4, 'enemies': 4, 'provided': 19, 'grieved': 2, 'committed': 5, 'permanency': 5, 'hopes': 4, 'property': 12, 'wealth': 4, 'toiler': 4, 'unemployed': 4, 'unsolved': 1, 'law': 19, 'versatility': 4, 'compensation': 4, 'environment': 4, 'appeals': 3, 'useless': 1, 'partake': 4, 'meet': 12, 'variety': 8, 'drifted': 4, 'perfection': 3, 'feeding': 4, 'disjointed': 1, 'mother': 1, 'retained': 4, 'initiative': 4, 'forbidden': 4, 'mortal': 4, 'wit': 3, 'invent': 1, 'fatigues': 3, 'grief': 4, 'tranquil': 4, 'sleepy': 4, 'theorising': 4, 'dozing': 1, 'catching': 1, 'refreshing': 2, 'awoke': 2, 'sunsetting': 1, 'napping': 4, 'stretching': 4, 'slid': 7, 'grooves': 1, 'apartment': 4, 'elaborate': 4, 'preparations': 4, 'siege': 4, 'meek': 2, 'surrender': 1, 'inclination': 4, 'suppressing': 1, 'stepped': 4, 'oiled': 3, 'cleaned': 1, 'clang': 1, 'trapped': 1, 'chuckled': 2, 'gleefully': 1, 'murmuring': 4, 'calmly': 2, 'fix': 7, 'depart': 4, 'abominable': 8, 'sweeping': 11, 'scramble': 5, 'persistent': 4, 'studs': 4, 'fitted': 1, 'butt': 4, 'ring': 4, 'described': 4, 'sickness': 4, 'properly': 4, 'vibrated': 4, 'unheeding': 4, 'amazed': 4, 'records': 3, 'dial': 6, 'reversing': 4, 'indicators': 4, 'seconds': 4, 'palpitating': 2, 'prodigious': 4, 'indicative': 4, 'marked': 9, 'alternations': 2, 'stretch': 3, 'brooded': 4, 'comet': 4, 'broader': 4, 'given': 8, 'dome': 8, 'glowing': 8, 'momentary': 4, 'glowed': 4, 'reverted': 4, 'sullen': 3, 'slowing': 4, 'tidal': 4, 'drag': 3, 'cautiously': 2, 'reverse': 3, 'scale': 1, 'outlines': 4, 'indian': 4, 'starless': 4, 'scarlet': 4, 'hull': 4, 'rocks': 7, 'intensely': 8, 'lichen': 4, 'perpetual': 2, 'wan': 2, 'breakers': 4, 'waves': 4, 'oily': 4, 'swell': 4, 'gentle': 4, 'eternal': 8, 'margin': 8, 'broke': 4, 'incrustation': 8, 'salt': 16, 'lurid': 2, 'oppression': 4, 'mountaineering': 4, 'rarefied': 4, 'scream': 4, 'butterfly': 4, 'slanting': 4, 'hillocks': 5, 'dismal': 4, 'firmly': 4, 'crab': 11, 'yonder': 4, 'uncertainly': 4, 'claws': 8, 'antenn': 4, 'carters': 4, 'whips': 4, 'waving': 4, 'stalked': 4, 'gleaming': 4, 'corrugated': 4, 'ornamented': 4, 'ungainly': 8, 'bosses': 4, 'greenish': 4, 'blotched': 4, 'sinister': 4, 'apparition': 4, 'crawling': 16, 'tickling': 4, 'fly': 4, 'brush': 4, 'ear': 1, 'threadlike': 1, 'qualm': 4, 'antenna': 4, 'alive': 4, 'algal': 4, 'slime': 7, 'descending': 3, 'monsters': 5, 'dozens': 1, 'foliated': 4, 'desolation': 4, 'northward': 4, 'stony': 4, 'poisonous': 4, 'lichenous': 4, 'hurts': 4, 'lungs': 4, 'appalling': 2, 'duller': 8, 'earthy': 4, 'crustacea': 4, 'fascination': 4, 'ebb': 2, 'million': 8, 'obscure': 4, 'tenth': 4, 'multitude': 4, 'crabs': 4, 'livid': 4, 'liverworts': 4, 'lichens': 3, 'lifeless': 4, 'flecked': 3, 'bitter': 2, 'assailed': 2, 'sable': 4, 'fringes': 3, 'ice': 4, 'expanse': 4, 'ocean': 4, 'bloody': 4, 'unfrozen': 1, 'indefinable': 3, 'sandbank': 3, 'flopping': 4, 'bank': 4, 'deceived': 4, 'twinkle': 3, 'outline': 4, 'concavity': 4, 'bay': 4, 'curve': 1, 'aghast': 4, 'eclipse': 7, 'disk': 5, 'transit': 4, 'freshening': 4, 'gusts': 4, 'showering': 4, 'ripple': 3, 'whisper': 1, 'bleating': 4, 'birds': 4, 'insects': 4, 'background': 4, 'thickened': 4, 'peaks': 4, 'marrow': 4, 'overcame': 2, 'bow': 4, 'sick': 7, 'shoal': 4, 'football': 4, 'bigger': 4, 'trailed': 4, 'weltering': 4, 'fitfully': 2, 'fainting': 1, 'terrible': 3, 'sustained': 4, 'clambered': 4, 'contours': 3, 'ebbed': 3, 'flowed': 1, 'spun': 3, 'zero': 4, 'slackened': 2, 'flapped': 4, 'slowed': 4, 'mrs': 1, 'inversion': 4, 'glided': 4, 'foremost': 4, 'previously': 2, 'hillyer': 4, 'shakily': 4, 'trembled': 2, 'calmer': 1, 'around': 1, 'stagnant': 1, 'begrimed': 1, 'pall': 4, 'mall': 4, 'gazette': 4, 'timepiece': 4, 'clatter': 3, 'sniffed': 3, 'washed': 2, 'dined': 4, 'adventures': 1, 'prophecy': 1, 'speculating': 4, 'destinies': 4, 'hatched': 3, 'fiction': 1, 'assertion': 3, 'stroke': 4, 'enhance': 3, 'nervously': 4, 'grate': 1, 'creak': 4, 'scrape': 4, 'carpet': 1, 'audience': 1, 'absorbed': 4, 'contemplation': 4, 'sixth': 1, 'sigh': 1, 'writer': 4, 'stories': 4, 'puffing': 1, 'mute': 4, 'inquiry': 4, 'scars': 4, 'ceum': 3, 'gyn': 2, 'leant': 3, 'specimen': 1, 'hanged': 3, 'isn': 8, 'plenty': 4, 'cabs': 4, 'station': 4, 'eluded': 2, 'precious': 4, 'fit': 1, 'squat': 8, 'ugly': 4, 'ebony': 4, 'translucent': 3, 'glimmering': 2, 'smears': 4, 'bits': 4, 'awry': 1, 'damaged': 6, 'hesitation': 4, 'overwork': 4, 'cab': 4, 'shared': 5, 'gaudy': 2, 'fantastic': 4, 'credible': 3, 'sober': 1, 'substantial': 4, 'bough': 4, 'shaken': 4, 'instability': 2, 'meddle': 1, 'camera': 4, 'knapsack': 4, 'elbow': 3, 'shake': 1, 'busy': 4, 'hoax': 3, 'awfully': 4, 'magazines': 2, 'lunch': 8, 'prove': 4, 'hilt': 4, 'forgive': 4, 'consented': 4, 'comprehending': 4, 'slam': 4, 'richardson': 8, 'publisher': 3, 'barely': 4, 'engagement': 1, 'handle': 4, 'exclamation': 4, 'truncated': 4, 'click': 4, 'ghostly': 4, 'whirling': 4, 'phantasm': 4, 'rubbed': 3, 'pane': 2, 'skylight': 4, 'servant': 2, 'disappointing': 4, 'photographs': 4, 'lifetime': 1, 'everybody': 3, 'knows': 4, 'choose': 7, 'drinking': 4, 'hairy': 4, 'savages': 4, 'unpolished': 4, 'abysses': 4, 'cretaceous': 4, 'saurians': 4, 'reptilian': 4, 'jurassic': 2, 'phrase': 20, 'wandering': 4, 'plesiosaurus': 4, 'haunted': 4, 'oolitic': 4, 'coral': 4, 'reef': 4, 'saline': 4, 'seas': 4, 'triassic': 2, 'riddles': 4, 'wearisome': 4, 'solved': 4, 'manhood': 4, 'fragmentary': 4, 'mutual': 8, 'discord': 4, 'culminating': 4, 'discussed': 4, 'cheerlessly': 4, 'advancement': 4, 'makers': 4, 'casual': 4, 'brittle': 4, 'file': 8, 'named': 1, 'zip': 1, 'files': 8, 'various': 4, 'formats': 8, 'https': 2, 'org': 4, 'editions': 15, 'replace': 4, 'renamed': 1, 'works': 112, 'creating': 13, 'u': 6, 'copyright': 55, 'owns': 8, 'foundation': 75, 'distribute': 24, 'permission': 23, 'paying': 11, 'royalties': 9, 'rules': 2, 'apply': 4, 'copying': 16, 'distributing': 28, 'tm': 201, 'electronic': 102, 'protect': 8, 'concept': 7, 'trademark': 43, 'charge': 21, 'copies': 28, 'complying': 12, 'creation': 4, 'derivative': 12, 'performances': 3, 'research': 5, 'ebooks': 24, 'modified': 4, 'printed': 8, 'subject': 3, 'redistribution': 2, 'commercial': 2, 'please': 7, 'mission': 16, 'promoting': 8, 'distribution': 24, 'agree': 31, 'comply': 21, 'available': 8, 'redistributing': 8, 'reading': 2, 'indicate': 4, 'agreement': 61, 'abide': 4, 'cease': 4, 'paid': 23, 'fee': 30, 'obtaining': 8, 'access': 40, 'refund': 33, 'entity': 12, 'paragraph': 12, 'archive': 48, 'pglaf': 4, 'compilation': 4, 'collection': 13, 'public': 12, 'domain': 8, 'unprotected': 4, 'prevent': 4, 'performing': 12, 'displaying': 16, 'based': 8, 'references': 8, 'sharing': 4, 'compliance': 14, 'format': 15, 'attached': 4, 'share': 4, 'govern': 4, 'countries': 4, 'downloading': 4, 'concerning': 8, 'status': 16, 'sentence': 7, 'links': 10, 'prominently': 8, 'whenever': 4, 'accessed': 4, 'copied': 8, 'distributed': 16, 'derived': 4, 'texts': 4, 'contain': 8, 'indicating': 4, 'posted': 16, 'holder': 13, 'fees': 12, 'charges': 1, 'providing': 16, 'appearing': 4, 'requirements': 10, 'paragraphs': 3, 'additional': 8, 'imposed': 4, 'linked': 4, 'unlink': 3, 'detach': 4, 'remove': 4, 'containing': 4, 'perform': 4, 'redistribute': 4, 'convert': 3, 'binary': 4, 'compressed': 4, 'nonproprietary': 4, 'processing': 4, 'hypertext': 2, 'provide': 24, 'vanilla': 8, 'ascii': 8, 'official': 12, 'version': 4, 'website': 13, 'user': 12, 'exporting': 4, 'request': 4, 'alternate': 2, 'include': 4, 'specified': 7, 'viewing': 4, 'royalty': 6, 'gross': 4, 'profits': 4, 'derive': 4, 'calculate': 4, 'applicable': 9, 'taxes': 1, 'owed': 4, 'owner': 16, 'donate': 9, 'payments': 8, 'prepare': 8, 'legally': 4, 'periodic': 3, 'tax': 22, 'address': 4, 'information': 21, 'donations': 49, 'notifies': 4, 'e': 4, 'mail': 4, 'receipt': 8, 'medium': 20, 'discontinue': 4, 'accordance': 7, 'replacement': 20, 'defect': 11, 'reported': 4, 'manager': 4, 'volunteers': 16, 'employees': 4, 'expend': 4, 'identify': 4, 'transcribe': 4, 'proofread': 4, 'despite': 1, 'stored': 4, 'defects': 4, 'inaccurate': 4, 'corrupt': 4, 'data': 4, 'transcription': 4, 'infringement': 4, 'defective': 12, 'computer': 7, 'virus': 4, 'codes': 4, 'damage': 5, 'equipment': 5, 'warranty': 6, 'disclaimer': 10, 'damages': 13, 'party': 4, 'disclaim': 4, 'liability': 12, 'costs': 8, 'expenses': 8, 'legal': 6, 'remedies': 4, 'negligence': 4, 'breach': 8, 'contract': 4, 'distributor': 4, 'liable': 4, 'direct': 4, 'indirect': 4, 'consequential': 4, 'punitive': 4, 'incidental': 4, 'receiving': 4, 'sending': 4, 'written': 10, 'elect': 4, 'lieu': 8, 'electronically': 8, 'opportunity': 4, 'demand': 4, 'opportunities': 4, \"'as\": 4, \"is'\": 4, 'warranties': 12, 'implied': 8, 'merchantability': 4, 'fitness': 4, 'allow': 4, 'disclaimers': 4, 'exclusion': 4, 'limitation': 12, 'types': 3, 'violates': 4, 'interpreted': 4, 'maximum': 4, 'unenforceability': 4, 'invalidity': 2, 'provision': 4, 'void': 4, 'remaining': 2, 'provisions': 1, 'indemnity': 1, 'indemnify': 4, 'agent': 4, 'employee': 4, 'production': 4, 'harmless': 4, 'directly': 4, 'indirectly': 4, 'b': 4, 'alteration': 4, 'additions': 4, 'deletions': 4, 'c': 8, 'synonymous': 4, 'readable': 8, 'widest': 8, 'computers': 5, 'obsolete': 4, 'exists': 2, 'hundreds': 4, 'walks': 3, 'financial': 3, 'assistance': 4, 'critical': 4, \"tm's\": 4, 'goals': 4, 'ensuring': 4, 'page': 6, 'profit': 4, 'corporation': 4, 'organized': 4, 'mississippi': 4, 'granted': 4, 'exempt': 8, 'internal': 3, 'revenue': 2, \"foundation's\": 8, 'ein': 3, 'federal': 5, 'identification': 3, 'contributions': 5, 'deductible': 4, \"state's\": 2, 'office': 4, 'lake': 3, 'city': 2, 'ut': 1, 'email': 5, 'depends': 4, 'licensed': 4, 'accessible': 4, 'outdated': 2, 'important': 4, 'maintaining': 4, 'irs': 1, 'regulating': 4, 'charities': 4, 'charitable': 4, 'paperwork': 4, 'solicit': 8, 'locations': 4, 'confirmation': 3, 'send': 2, 'solicitation': 4, 'prohibition': 4, 'accepting': 4, 'unsolicited': 4, 'donors': 4, 'offers': 3, 'international': 1, 'gratefully': 4, 'statements': 4, 'treatment': 4, 'swamp': 3, 'staff': 1, 'pages': 4, 'donation': 4, 'methods': 3, 'addresses': 1, 'credit': 3, 'card': 2, 'michael': 2, 'hart': 1, 'originator': 4, 'network': 4, 'volunteer': 2, 'pg': 4, 'facility': 2, 'includes': 4, 'produce': 4, 'subscribe': 4, 'newsletter': 4})\n"
          ]
        }
      ],
      "source": [
        "# Cantidad de veces quea aparece cada palabra en cada \"documento\"\n",
        "# (1 documento = 1 caso de entrada)\n",
        "print(tok.word_docs)"
      ]
    },
    {
      "cell_type": "code",
      "source": [
        "total_words = len(tok.index_word)+1"
      ],
      "metadata": {
        "id": "2Zefjqv30rxs"
      },
      "execution_count": 142,
      "outputs": []
    },
    {
      "cell_type": "markdown",
      "metadata": {
        "id": "QMVP4bj0vL2e"
      },
      "source": [
        "### 3 - Input y target"
      ]
    },
    {
      "cell_type": "code",
      "execution_count": 143,
      "metadata": {
        "id": "mx2xwdz3KloJ",
        "colab": {
          "base_uri": "https://localhost:8080/"
        },
        "outputId": "6bea55a6-d5f8-446c-9f11-29716306355d"
      },
      "outputs": [
        {
          "output_type": "execute_result",
          "data": {
            "text/plain": [
              "array([[1, 2, 3, 4],\n",
              "       [5, 6, 7, 8]])"
            ]
          },
          "metadata": {},
          "execution_count": 143
        }
      ],
      "source": [
        "# Con numpy es muy fácil realizar el slicing de vectores\n",
        "ex = np.array([[1,2,3,4],[5,6,7,8]])\n",
        "ex"
      ]
    },
    {
      "cell_type": "code",
      "execution_count": 144,
      "metadata": {
        "id": "BEod7qghvTVt",
        "colab": {
          "base_uri": "https://localhost:8080/"
        },
        "outputId": "3b4c36df-3afb-401d-c791-01ebc41620b0"
      },
      "outputs": [
        {
          "output_type": "stream",
          "name": "stdout",
          "text": [
            "Dimension: (2, 4)\n",
            "Todos los elementos: [[1 2 3 4]\n",
            " [5 6 7 8]]\n",
            "Todos los elementos menos el último: [[1 2 3]\n",
            " [5 6 7]]\n"
          ]
        }
      ],
      "source": [
        "# Con numpy es muy fácil realizar el slicing de vectores\n",
        "print(\"Dimension:\", ex.shape)\n",
        "print(\"Todos los elementos:\", ex)\n",
        "print(\"Todos los elementos menos el último:\", ex[:, :-1])"
      ]
    },
    {
      "cell_type": "code",
      "execution_count": 145,
      "metadata": {
        "id": "i95xWqtCvp8T",
        "colab": {
          "base_uri": "https://localhost:8080/"
        },
        "outputId": "912b2ae0-711d-45cc-87c7-c077c66779f4"
      },
      "outputs": [
        {
          "output_type": "stream",
          "name": "stdout",
          "text": [
            "Input: [[1 2 3]\n",
            " [5 6 7]]\n",
            "Target: [4 8]\n"
          ]
        }
      ],
      "source": [
        "input = ex[:,:-1] # todos los rows, menos la ultima col\n",
        "target = ex[:, -1] # última col de cada row\n",
        "\n",
        "print(\"Input:\", input)\n",
        "print(\"Target:\", target)"
      ]
    },
    {
      "cell_type": "code",
      "execution_count": 146,
      "metadata": {
        "id": "e1vJTG65v4Qn",
        "colab": {
          "base_uri": "https://localhost:8080/"
        },
        "outputId": "13a5a8cb-f392-474d-fbdd-a1dc4f437fd4"
      },
      "outputs": [
        {
          "output_type": "stream",
          "name": "stdout",
          "text": [
            "(30263, 3)\n",
            "(30263,)\n"
          ]
        }
      ],
      "source": [
        "arr_sequences = np.array(sequences)\n",
        "x_data = arr_sequences[:,:-1]\n",
        "y_data_int = arr_sequences[:,-1] # aún falta el oneHotEncoder\n",
        "\n",
        "print(x_data.shape)\n",
        "print(y_data_int.shape)"
      ]
    },
    {
      "cell_type": "code",
      "execution_count": 147,
      "metadata": {
        "id": "ln6kVWVlwBBs",
        "colab": {
          "base_uri": "https://localhost:8080/"
        },
        "outputId": "206aec1b-39b0-466c-8e5c-f23be2225e7f"
      },
      "outputs": [
        {
          "output_type": "execute_result",
          "data": {
            "text/plain": [
              "{1: 'the',\n",
              " 2: 'of',\n",
              " 3: 'and',\n",
              " 4: 'i',\n",
              " 5: 'a',\n",
              " 6: 'to',\n",
              " 7: 'in',\n",
              " 8: 'was',\n",
              " 9: 'that',\n",
              " 10: 'my',\n",
              " 11: 'it',\n",
              " 12: 'had',\n",
              " 13: 'as',\n",
              " 14: 'with',\n",
              " 15: 'me',\n",
              " 16: 'for',\n",
              " 17: 'at',\n",
              " 18: 'time',\n",
              " 19: 'this',\n",
              " 20: 'you',\n",
              " 21: 'or',\n",
              " 22: 'but',\n",
              " 23: 'on',\n",
              " 24: 'were',\n",
              " 25: 'from',\n",
              " 26: 'not',\n",
              " 27: 'have',\n",
              " 28: 'by',\n",
              " 29: 'all',\n",
              " 30: 'his',\n",
              " 31: 'is',\n",
              " 32: 'into',\n",
              " 33: 'be',\n",
              " 34: 'upon',\n",
              " 35: 'little',\n",
              " 36: 'one',\n",
              " 37: 'they',\n",
              " 38: 'came',\n",
              " 39: 'which',\n",
              " 40: 'there',\n",
              " 41: 'so',\n",
              " 42: 'no',\n",
              " 43: 'some',\n",
              " 44: 'project',\n",
              " 45: 'gutenberg',\n",
              " 46: 'he',\n",
              " 47: 'an',\n",
              " 48: 'their',\n",
              " 49: 'could',\n",
              " 50: 'saw',\n",
              " 51: 'down',\n",
              " 52: 'machine',\n",
              " 53: 'then',\n",
              " 54: 'any',\n",
              " 55: 'we',\n",
              " 56: 'them',\n",
              " 57: 'about',\n",
              " 58: 'up',\n",
              " 59: 'very',\n",
              " 60: 'out',\n",
              " 61: 'what',\n",
              " 62: 'said',\n",
              " 63: 'been',\n",
              " 64: 'like',\n",
              " 65: 'these',\n",
              " 66: 'now',\n",
              " 67: 'her',\n",
              " 68: 'its',\n",
              " 69: 'seemed',\n",
              " 70: 'are',\n",
              " 71: 's',\n",
              " 72: 'man',\n",
              " 73: 'would',\n",
              " 74: 'white',\n",
              " 75: 'thing',\n",
              " 76: 'again',\n",
              " 77: 'must',\n",
              " 78: 'more',\n",
              " 79: 'if',\n",
              " 80: 'tm',\n",
              " 81: 'traveller',\n",
              " 82: 'when',\n",
              " 83: 'our',\n",
              " 84: 'over',\n",
              " 85: 'work',\n",
              " 86: 'other',\n",
              " 87: 'thought',\n",
              " 88: 'hand',\n",
              " 89: 'how',\n",
              " 90: 'still',\n",
              " 91: 'before',\n",
              " 92: 'felt',\n",
              " 93: 'through',\n",
              " 94: 'even',\n",
              " 95: 'people',\n",
              " 96: 'went',\n",
              " 97: 'morlocks',\n",
              " 98: 'myself',\n",
              " 99: 'only',\n",
              " 100: 'too',\n",
              " 101: 'found',\n",
              " 102: 'will',\n",
              " 103: 'see',\n",
              " 104: 'towards',\n",
              " 105: 'weena',\n",
              " 106: 'first',\n",
              " 107: 'may',\n",
              " 108: 'great',\n",
              " 109: 'last',\n",
              " 110: 'under',\n",
              " 111: 'light',\n",
              " 112: 'she',\n",
              " 113: 'began',\n",
              " 114: 'did',\n",
              " 115: 'than',\n",
              " 116: 'same',\n",
              " 117: 'such',\n",
              " 118: 'back',\n",
              " 119: 'perhaps',\n",
              " 120: 'world',\n",
              " 121: 'away',\n",
              " 122: 'night',\n",
              " 123: 'way',\n",
              " 124: 'think',\n",
              " 125: 'where',\n",
              " 126: 'after',\n",
              " 127: 'long',\n",
              " 128: 'another',\n",
              " 129: 'round',\n",
              " 130: 'made',\n",
              " 131: 'among',\n",
              " 132: 'face',\n",
              " 133: 'put',\n",
              " 134: 'own',\n",
              " 135: 'him',\n",
              " 136: 'do',\n",
              " 137: 'most',\n",
              " 138: 'against',\n",
              " 139: 'us',\n",
              " 140: 'day',\n",
              " 141: 'old',\n",
              " 142: 'might',\n",
              " 143: 'works',\n",
              " 144: 'who',\n",
              " 145: 'things',\n",
              " 146: 'well',\n",
              " 147: 'come',\n",
              " 148: 'here',\n",
              " 149: 'strange',\n",
              " 150: 'off',\n",
              " 151: 'black',\n",
              " 152: 'sun',\n",
              " 153: 'green',\n",
              " 154: 'eyes',\n",
              " 155: 'electronic',\n",
              " 156: 'looked',\n",
              " 157: 'took',\n",
              " 158: 'two',\n",
              " 159: 'mind',\n",
              " 160: 'full',\n",
              " 161: 'sky',\n",
              " 162: 'fire',\n",
              " 163: 'almost',\n",
              " 164: 'can',\n",
              " 165: 'moment',\n",
              " 166: 'know',\n",
              " 167: 'hands',\n",
              " 168: 'darkness',\n",
              " 169: 'new',\n",
              " 170: 'place',\n",
              " 171: 'terms',\n",
              " 172: 't',\n",
              " 173: 'part',\n",
              " 174: 'red',\n",
              " 175: 'space',\n",
              " 176: 'end',\n",
              " 177: 'make',\n",
              " 178: 'much',\n",
              " 179: 'three',\n",
              " 180: 'grew',\n",
              " 181: 'should',\n",
              " 182: 'dark',\n",
              " 183: 'set',\n",
              " 184: 'has',\n",
              " 185: 'got',\n",
              " 186: 'enough',\n",
              " 187: 'across',\n",
              " 188: 'without',\n",
              " 189: 'left',\n",
              " 190: 'above',\n",
              " 191: 'presently',\n",
              " 192: 'sphinx',\n",
              " 193: 'along',\n",
              " 194: 'looking',\n",
              " 195: 'get',\n",
              " 196: 'stood',\n",
              " 197: 'fear',\n",
              " 198: 'once',\n",
              " 199: 'use',\n",
              " 200: 'far',\n",
              " 201: 'foundation',\n",
              " 202: 'kind',\n",
              " 203: 'head',\n",
              " 204: 'future',\n",
              " 205: 'gallery',\n",
              " 206: 'certain',\n",
              " 207: 'while',\n",
              " 208: 'though',\n",
              " 209: 'half',\n",
              " 210: 'feeling',\n",
              " 211: 'minute',\n",
              " 212: 'human',\n",
              " 213: 'feet',\n",
              " 214: 'until',\n",
              " 215: 'sat',\n",
              " 216: 'heard',\n",
              " 217: 'say',\n",
              " 218: 'medical',\n",
              " 219: 'seen',\n",
              " 220: 'air',\n",
              " 221: 'soon',\n",
              " 222: 'earth',\n",
              " 223: 'already',\n",
              " 224: 'days',\n",
              " 225: 'tried',\n",
              " 226: 'cannot',\n",
              " 227: 'never',\n",
              " 228: 'yet',\n",
              " 229: 'flowers',\n",
              " 230: 'those',\n",
              " 231: 'go',\n",
              " 232: 'right',\n",
              " 233: 'years',\n",
              " 234: 'look',\n",
              " 235: 'turned',\n",
              " 236: 'hill',\n",
              " 237: 'psychologist',\n",
              " 238: 'agreement',\n",
              " 239: 'states',\n",
              " 240: 'past',\n",
              " 241: 'license',\n",
              " 242: 'rather',\n",
              " 243: 'between',\n",
              " 244: 'matches',\n",
              " 245: 'palace',\n",
              " 246: 'big',\n",
              " 247: 'bronze',\n",
              " 248: 'mere',\n",
              " 249: 'suddenly',\n",
              " 250: 'ran',\n",
              " 251: 'creatures',\n",
              " 252: 'ground',\n",
              " 253: 'fell',\n",
              " 254: 'something',\n",
              " 255: 'behind',\n",
              " 256: 'find',\n",
              " 257: 'laboratory',\n",
              " 258: 'bright',\n",
              " 259: 'lever',\n",
              " 260: 'less',\n",
              " 261: 'indeed',\n",
              " 262: 'united',\n",
              " 263: 'four',\n",
              " 264: 'match',\n",
              " 265: 'large',\n",
              " 266: 'your',\n",
              " 267: 'editor',\n",
              " 268: 'running',\n",
              " 269: 'copyright',\n",
              " 270: 'soft',\n",
              " 271: 'being',\n",
              " 272: 'just',\n",
              " 273: 'gone',\n",
              " 274: 'table',\n",
              " 275: 'literary',\n",
              " 276: 'each',\n",
              " 277: 'small',\n",
              " 278: 'moon',\n",
              " 279: 'age',\n",
              " 280: 'story',\n",
              " 281: 'morning',\n",
              " 282: 'followed',\n",
              " 283: 'door',\n",
              " 284: 'feel',\n",
              " 285: 'dimensions',\n",
              " 286: 'rose',\n",
              " 287: 'move',\n",
              " 288: 'life',\n",
              " 289: 'coming',\n",
              " 290: 'hall',\n",
              " 291: 'told',\n",
              " 292: 'lay',\n",
              " 293: 'knew',\n",
              " 294: 'however',\n",
              " 295: 'lamp',\n",
              " 296: 'side',\n",
              " 297: 'men',\n",
              " 298: 'odd',\n",
              " 299: 'hundred',\n",
              " 300: 'nothing',\n",
              " 301: 'ever',\n",
              " 302: 'huge',\n",
              " 303: 'struck',\n",
              " 304: 'donations',\n",
              " 305: 'understand',\n",
              " 306: 'bushes',\n",
              " 307: 'archive',\n",
              " 308: 'travelling',\n",
              " 309: 'whole',\n",
              " 310: 'room',\n",
              " 311: 'second',\n",
              " 312: 'since',\n",
              " 313: 'every',\n",
              " 314: 'dim',\n",
              " 315: 'vast',\n",
              " 316: 'why',\n",
              " 317: 'forth',\n",
              " 318: 'next',\n",
              " 319: 'beautiful',\n",
              " 320: 'lit',\n",
              " 321: 'ebook',\n",
              " 322: 'copy',\n",
              " 323: 'don',\n",
              " 324: 'going',\n",
              " 325: 'dust',\n",
              " 326: 'wood',\n",
              " 327: 'because',\n",
              " 328: 'tell',\n",
              " 329: 'growing',\n",
              " 330: 'eight',\n",
              " 331: 'altogether',\n",
              " 332: 'clear',\n",
              " 333: 'trademark',\n",
              " 334: 'porcelain',\n",
              " 335: 'course',\n",
              " 336: 'line',\n",
              " 337: 'figure',\n",
              " 338: 'times',\n",
              " 339: 'open',\n",
              " 340: 'creature',\n",
              " 341: 'pale',\n",
              " 342: 'dinner',\n",
              " 343: 'filby',\n",
              " 344: 'glass',\n",
              " 345: 'few',\n",
              " 346: 'sea',\n",
              " 347: 'sudden',\n",
              " 348: 'good',\n",
              " 349: 'sense',\n",
              " 350: 'queer',\n",
              " 351: 'bars',\n",
              " 352: 'access',\n",
              " 353: 'passed',\n",
              " 354: 'silent',\n",
              " 355: 'appeared',\n",
              " 356: 'nature',\n",
              " 357: 'conditions',\n",
              " 358: 'travelled',\n",
              " 359: 'evening',\n",
              " 360: 'sound',\n",
              " 361: 'thick',\n",
              " 362: 'broken',\n",
              " 363: 'judged',\n",
              " 364: 'strong',\n",
              " 365: 'including',\n",
              " 366: 'clearly',\n",
              " 367: 'simply',\n",
              " 368: 'others',\n",
              " 369: 'quite',\n",
              " 370: 'exactly',\n",
              " 371: 'am',\n",
              " 372: 'animal',\n",
              " 373: 'doubt',\n",
              " 374: 'met',\n",
              " 375: 'house',\n",
              " 376: 'creeping',\n",
              " 377: 'comfort',\n",
              " 378: 'arms',\n",
              " 379: 'grey',\n",
              " 380: 'really',\n",
              " 381: 'except',\n",
              " 382: 'state',\n",
              " 383: 'done',\n",
              " 384: 'larger',\n",
              " 385: 'absolutely',\n",
              " 386: 'standing',\n",
              " 387: 'either',\n",
              " 388: 'happened',\n",
              " 389: 'pocket',\n",
              " 390: 'many',\n",
              " 391: 'near',\n",
              " 392: 'within',\n",
              " 393: 'idea',\n",
              " 394: 'save',\n",
              " 395: 'means',\n",
              " 396: 'vanished',\n",
              " 397: 'watch',\n",
              " 398: 'opened',\n",
              " 399: 'faint',\n",
              " 400: 'peculiar',\n",
              " 401: 'hung',\n",
              " 402: 'memory',\n",
              " 403: 'camphor',\n",
              " 404: 'return',\n",
              " 405: 'caught',\n",
              " 406: 'always',\n",
              " 407: 'several',\n",
              " 408: 'gave',\n",
              " 409: 'buildings',\n",
              " 410: 'intellectual',\n",
              " 411: 'number',\n",
              " 412: 'ruins',\n",
              " 413: 'associated',\n",
              " 414: 'slower',\n",
              " 415: 'wells',\n",
              " 416: 'instance',\n",
              " 417: 'moving',\n",
              " 418: 'possibly',\n",
              " 419: 'believe',\n",
              " 420: 'nearly',\n",
              " 421: 'remember',\n",
              " 422: 'pedestal',\n",
              " 423: 'blackness',\n",
              " 424: 'refund',\n",
              " 425: 'length',\n",
              " 426: 'telling',\n",
              " 427: 'walked',\n",
              " 428: 'itself',\n",
              " 429: 'colour',\n",
              " 430: 'swiftly',\n",
              " 431: 'lost',\n",
              " 432: 'security',\n",
              " 433: 'perfect',\n",
              " 434: 'daylight',\n",
              " 435: 'further',\n",
              " 436: 'follow',\n",
              " 437: 'travel',\n",
              " 438: 'let',\n",
              " 439: 'bar',\n",
              " 440: 'below',\n",
              " 441: 'suppose',\n",
              " 442: 'brown',\n",
              " 443: 'cut',\n",
              " 444: 'stopped',\n",
              " 445: 'trees',\n",
              " 446: 'humanity',\n",
              " 447: 'thousand',\n",
              " 448: 'children',\n",
              " 449: 'imagine',\n",
              " 450: 'necessity',\n",
              " 451: 'physical',\n",
              " 452: 'social',\n",
              " 453: 'agree',\n",
              " 454: 'give',\n",
              " 455: 'shone',\n",
              " 456: 'free',\n",
              " 457: 'better',\n",
              " 458: 'horrible',\n",
              " 459: 'stars',\n",
              " 460: 'drove',\n",
              " 461: 'remote',\n",
              " 462: 'loose',\n",
              " 463: 'received',\n",
              " 464: 'iron',\n",
              " 465: 'fee',\n",
              " 466: 'laws',\n",
              " 467: 'need',\n",
              " 468: 'nor',\n",
              " 469: 'forward',\n",
              " 470: 'hope',\n",
              " 471: 'beside',\n",
              " 472: 'question',\n",
              " 473: 'assured',\n",
              " 474: 'pretty',\n",
              " 475: 'determined',\n",
              " 476: 'least',\n",
              " 477: 'form',\n",
              " 478: 'abundant',\n",
              " 479: 'doors',\n",
              " 480: 'south',\n",
              " 481: 'located',\n",
              " 482: 'country',\n",
              " 483: 'explanation',\n",
              " 484: 'shall',\n",
              " 485: 'explain',\n",
              " 486: 'sure',\n",
              " 487: 'freely',\n",
              " 488: 'leave',\n",
              " 489: 'together',\n",
              " 490: 'point',\n",
              " 491: 'shadows',\n",
              " 492: 'mouth',\n",
              " 493: 'noticed',\n",
              " 494: 'sleep',\n",
              " 495: 'splendid',\n",
              " 496: 'levers',\n",
              " 497: 'foot',\n",
              " 498: 'metal',\n",
              " 499: 'trying',\n",
              " 500: 'taken',\n",
              " 501: 'water',\n",
              " 502: 'distributing',\n",
              " 503: 'copies',\n",
              " 504: 'sunset',\n",
              " 505: 'hard',\n",
              " 506: 'different',\n",
              " 507: 'arm',\n",
              " 508: 'stared',\n",
              " 509: 'plain',\n",
              " 510: 'take',\n",
              " 511: 'change',\n",
              " 512: 'building',\n",
              " 513: 'triumph',\n",
              " 514: 'underworld',\n",
              " 515: 'eloi',\n",
              " 516: 'anything',\n",
              " 517: 'high',\n",
              " 518: 'journalist',\n",
              " 519: 'seem',\n",
              " 520: 'meat',\n",
              " 521: 'thinking',\n",
              " 522: 'rest',\n",
              " 523: 'rising',\n",
              " 524: 'blue',\n",
              " 525: 'lawn',\n",
              " 526: 'tree',\n",
              " 527: 'race',\n",
              " 528: 'floor',\n",
              " 529: 'seated',\n",
              " 530: 'help',\n",
              " 531: 'strength',\n",
              " 532: 'anyone',\n",
              " 533: 'real',\n",
              " 534: 'became',\n",
              " 535: 'dimension',\n",
              " 536: 'surface',\n",
              " 537: 'certainly',\n",
              " 538: 'stop',\n",
              " 539: 'attention',\n",
              " 540: 'interest',\n",
              " 541: 'slowly',\n",
              " 542: 'motion',\n",
              " 543: 'moved',\n",
              " 544: 'hesitated',\n",
              " 545: 'pushed',\n",
              " 546: 'rare',\n",
              " 547: 'shadow',\n",
              " 548: 'short',\n",
              " 549: 'fancy',\n",
              " 550: 'fancied',\n",
              " 551: 'river',\n",
              " 552: 'valley',\n",
              " 553: 'view',\n",
              " 554: 'alone',\n",
              " 555: 'thousands',\n",
              " 556: 'dream',\n",
              " 557: 'silver',\n",
              " 558: 'accepted',\n",
              " 559: 'natural',\n",
              " 560: 'fact',\n",
              " 561: 'trace',\n",
              " 562: 'trick',\n",
              " 563: 'held',\n",
              " 564: 'chair',\n",
              " 565: 'also',\n",
              " 566: 'shoulder',\n",
              " 567: 'sounds',\n",
              " 568: 'showed',\n",
              " 569: 'eye',\n",
              " 570: 'late',\n",
              " 571: 'seven',\n",
              " 572: 'wanted',\n",
              " 573: 'hear',\n",
              " 574: 'faces',\n",
              " 575: 'waiting',\n",
              " 576: 'apparently',\n",
              " 577: 'longer',\n",
              " 578: 'absolute',\n",
              " 579: 'stone',\n",
              " 580: 'used',\n",
              " 581: 'following',\n",
              " 582: 'effort',\n",
              " 583: 'entered',\n",
              " 584: 'slow',\n",
              " 585: 'plants',\n",
              " 586: 'signs',\n",
              " 587: 'during',\n",
              " 588: 'intelligence',\n",
              " 589: 'sleeping',\n",
              " 590: 'narrow',\n",
              " 591: 'stir',\n",
              " 592: 'protected',\n",
              " 593: 'returned',\n",
              " 594: 'familiar',\n",
              " 595: 'distribute',\n",
              " 596: 'ebooks',\n",
              " 597: 'distribution',\n",
              " 598: 'provide',\n",
              " 599: 'date',\n",
              " 600: 'golden',\n",
              " 601: 'making',\n",
              " 602: 'efforts',\n",
              " 603: 'become',\n",
              " 604: 'ivory',\n",
              " 605: 'model',\n",
              " 606: 'incredible',\n",
              " 607: 'faster',\n",
              " 608: 'puzzled',\n",
              " 609: 'comes',\n",
              " 610: 'blood',\n",
              " 611: 'home',\n",
              " 612: 'worn',\n",
              " 613: 'convey',\n",
              " 614: 'unknown',\n",
              " 615: 'breathing',\n",
              " 616: 'figures',\n",
              " 617: 'straight',\n",
              " 618: 'danger',\n",
              " 619: 'general',\n",
              " 620: 'tired',\n",
              " 621: 'needs',\n",
              " 622: 'animals',\n",
              " 623: 'cold',\n",
              " 624: 'theory',\n",
              " 625: 'glare',\n",
              " 626: 'shaft',\n",
              " 627: 'box',\n",
              " 628: 'permission',\n",
              " 629: 'paid',\n",
              " 630: 'using',\n",
              " 631: 'person',\n",
              " 632: 'fourth',\n",
              " 633: 'wrong',\n",
              " 634: 'case',\n",
              " 635: 'drew',\n",
              " 636: 'want',\n",
              " 637: 'm',\n",
              " 638: 'spoke',\n",
              " 639: 'flickering',\n",
              " 640: 'none',\n",
              " 641: 'somehow',\n",
              " 642: 'read',\n",
              " 643: 'started',\n",
              " 644: 'kept',\n",
              " 645: 'instead',\n",
              " 646: 'windows',\n",
              " 647: 'fruit',\n",
              " 648: 'corner',\n",
              " 649: 'watching',\n",
              " 650: 'discovered',\n",
              " 651: 'distance',\n",
              " 652: 'grow',\n",
              " 653: 'problem',\n",
              " 654: 'sometimes',\n",
              " 655: 'fallen',\n",
              " 656: 'hastily',\n",
              " 657: 'motionless',\n",
              " 658: 'tax',\n",
              " 659: 'parts',\n",
              " 660: 'language',\n",
              " 661: 'direction',\n",
              " 662: 'beginning',\n",
              " 663: 'hold',\n",
              " 664: 'getting',\n",
              " 665: 'front',\n",
              " 666: 'impression',\n",
              " 667: 'laughing',\n",
              " 668: 'dance',\n",
              " 669: 'paper',\n",
              " 670: 'warm',\n",
              " 671: 'hot',\n",
              " 672: 'lived',\n",
              " 673: 'ears',\n",
              " 674: 'fall',\n",
              " 675: 'twilight',\n",
              " 676: 'hillside',\n",
              " 677: 'shivered',\n",
              " 678: 'nearer',\n",
              " 679: 'reminded',\n",
              " 680: 'slope',\n",
              " 681: 'west',\n",
              " 682: 'slept',\n",
              " 683: 'mystery',\n",
              " 684: 'heat',\n",
              " 685: 'underground',\n",
              " 686: 'charge',\n",
              " 687: 'comply',\n",
              " 688: 'information',\n",
              " 689: 'start',\n",
              " 690: 'mankind',\n",
              " 691: 'convenient',\n",
              " 692: 'speak',\n",
              " 693: 'does',\n",
              " 694: 'particularly',\n",
              " 695: 'present',\n",
              " 696: 'velocity',\n",
              " 697: 'wild',\n",
              " 698: 'brass',\n",
              " 699: 'watched',\n",
              " 700: 'saddle',\n",
              " 701: 'waste',\n",
              " 702: 'laughed',\n",
              " 703: 'common',\n",
              " 704: 'led',\n",
              " 705: 'holding',\n",
              " 706: 'confusion',\n",
              " 707: 'considerable',\n",
              " 708: 'quiet',\n",
              " 709: 'intense',\n",
              " 710: 'till',\n",
              " 711: 'both',\n",
              " 712: 'displayed',\n",
              " 713: 'reached',\n",
              " 714: 'afraid',\n",
              " 715: 'early',\n",
              " 716: 'civilisation',\n",
              " 717: 'smoke',\n",
              " 718: 'touched',\n",
              " 719: 'shape',\n",
              " 720: 'distinct',\n",
              " 721: 'violently',\n",
              " 722: 'beauty',\n",
              " 723: 'sight',\n",
              " 724: 'staggered',\n",
              " 725: 'mass',\n",
              " 726: 'lower',\n",
              " 727: 'spite',\n",
              " 728: 'planet',\n",
              " 729: 'living',\n",
              " 730: 'yellow',\n",
              " 731: 'decay',\n",
              " 732: 'increasing',\n",
              " 733: 'energy',\n",
              " 734: 'folly',\n",
              " 735: 'whose',\n",
              " 736: 'circumstances',\n",
              " 737: 'poor',\n",
              " 738: 'keep',\n",
              " 739: 'machinery',\n",
              " 740: 'best',\n",
              " 741: 'carry',\n",
              " 742: 'fingers',\n",
              " 743: 'species',\n",
              " 744: 'killing',\n",
              " 745: 'grass',\n",
              " 746: 'phrase',\n",
              " 747: 'medium',\n",
              " 748: 'replacement',\n",
              " 749: 'matter',\n",
              " 750: 'carefully',\n",
              " 751: 'thickness',\n",
              " 752: 'young',\n",
              " 753: 'slight',\n",
              " 754: 'foolish',\n",
              " 755: 'evidently',\n",
              " 756: 'account',\n",
              " 757: 'pass',\n",
              " 758: 'thursday',\n",
              " 759: 'doorway',\n",
              " 760: 'ceased',\n",
              " 761: 'helpless',\n",
              " 762: 'fast',\n",
              " 763: 'possible',\n",
              " 764: 'hail',\n",
              " 765: 'turf',\n",
              " 766: 'beyond',\n",
              " 767: 'clad',\n",
              " 768: 'sweet',\n",
              " 769: 'neck',\n",
              " 770: 'knowledge',\n",
              " 771: 'heaps',\n",
              " 772: 'particular',\n",
              " 773: 'masses',\n",
              " 774: 'close',\n",
              " 775: 'secure',\n",
              " 776: 'steadily',\n",
              " 777: 'leaving',\n",
              " 778: 'current',\n",
              " 779: 'hither',\n",
              " 780: 'pleasant',\n",
              " 781: 'restless',\n",
              " 782: 'panels',\n",
              " 783: 'safe',\n",
              " 784: 'edge',\n",
              " 785: 'forest',\n",
              " 786: 'provided',\n",
              " 787: 'law',\n",
              " 788: 'burnt',\n",
              " 789: 'paradox',\n",
              " 790: 'mean',\n",
              " 791: 'having',\n",
              " 792: 'object',\n",
              " 793: 'difference',\n",
              " 794: 'words',\n",
              " 795: 'pause',\n",
              " 796: 'gently',\n",
              " 797: 'vague',\n",
              " 798: 'cried',\n",
              " 799: 'deep',\n",
              " 800: 'metallic',\n",
              " 801: 'notice',\n",
              " 802: 'pointed',\n",
              " 803: 'pressed',\n",
              " 804: 'changed',\n",
              " 805: 'interval',\n",
              " 806: 'simple',\n",
              " 807: 'word',\n",
              " 808: 'business',\n",
              " 809: 'smoking',\n",
              " 810: 'writing',\n",
              " 811: 'ten',\n",
              " 812: 'thud',\n",
              " 813: 'hazy',\n",
              " 814: 'suggestion',\n",
              " 815: 'everything',\n",
              " 816: 'confidence',\n",
              " 817: 'import',\n",
              " 818: 'cries',\n",
              " 819: 'limited',\n",
              " 820: 'fate',\n",
              " 821: 'north',\n",
              " 822: 'horror',\n",
              " 823: 'beach',\n",
              " 824: 'eastward',\n",
              " 825: 'body',\n",
              " 826: 'tendency',\n",
              " 827: 'ago',\n",
              " 828: 'lips',\n",
              " 829: 'recognised',\n",
              " 830: 'suggested',\n",
              " 831: 'mechanism',\n",
              " 832: 'individual',\n",
              " 833: 'wind',\n",
              " 834: 'perceived',\n",
              " 835: 'll',\n",
              " 836: 'brighter',\n",
              " 837: 'easy',\n",
              " 838: 'fair',\n",
              " 839: 'occurred',\n",
              " 840: 'incontinently',\n",
              " 841: 'carried',\n",
              " 842: 'inhuman',\n",
              " 843: 'wall',\n",
              " 844: 'voices',\n",
              " 845: 'heads',\n",
              " 846: 'flinging',\n",
              " 847: 'later',\n",
              " 848: 'name',\n",
              " 849: 'crest',\n",
              " 850: 'horizon',\n",
              " 851: 'thither',\n",
              " 852: 'support',\n",
              " 853: 'covered',\n",
              " 854: 'reflection',\n",
              " 855: 'outside',\n",
              " 856: 'flashed',\n",
              " 857: 'begin',\n",
              " 858: 'hair',\n",
              " 859: 'wait',\n",
              " 860: 'call',\n",
              " 861: 'latter',\n",
              " 862: 'passing',\n",
              " 863: 'miles',\n",
              " 864: 'savage',\n",
              " 865: 'reason',\n",
              " 866: 'money',\n",
              " 867: 'discover',\n",
              " 868: 'passage',\n",
              " 869: 'unless',\n",
              " 870: 'tables',\n",
              " 871: 'legs',\n",
              " 872: 'seat',\n",
              " 873: 'breath',\n",
              " 874: 'indistinct',\n",
              " 875: 'bare',\n",
              " 876: 'asked',\n",
              " 877: 'broad',\n",
              " 878: 'sheets',\n",
              " 879: 'perfectly',\n",
              " 880: 'whom',\n",
              " 881: 'five',\n",
              " 882: 'smile',\n",
              " 883: 'remembered',\n",
              " 884: 'doing',\n",
              " 885: 'clothes',\n",
              " 886: 'remained',\n",
              " 887: 'machines',\n",
              " 888: 'falling',\n",
              " 889: 'teeth',\n",
              " 890: 'garden',\n",
              " 891: 'headlong',\n",
              " 892: 'pace',\n",
              " 893: 'painful',\n",
              " 894: 'glimpse',\n",
              " 895: 'spread',\n",
              " 896: 'rise',\n",
              " 897: 'year',\n",
              " 898: 'dread',\n",
              " 899: 'possession',\n",
              " 900: 'built',\n",
              " 901: 'profound',\n",
              " 902: 'blow',\n",
              " 903: 'resolved',\n",
              " 904: 'innumerable',\n",
              " 905: 'sides',\n",
              " 906: 'passion',\n",
              " 907: 'foul',\n",
              " 908: 'shining',\n",
              " 909: 'rich',\n",
              " 910: 'emerged',\n",
              " 911: 'harsh',\n",
              " 912: 'ease',\n",
              " 913: 'forgotten',\n",
              " 914: 'gesture',\n",
              " 915: 'fro',\n",
              " 916: 'crowd',\n",
              " 917: 'deserted',\n",
              " 918: 'grotesque',\n",
              " 919: 'generations',\n",
              " 920: 'ways',\n",
              " 921: 'places',\n",
              " 922: 'cattle',\n",
              " 923: 'speedily',\n",
              " 924: 'calm',\n",
              " 925: 'experience',\n",
              " 926: 'houses',\n",
              " 927: 'balanced',\n",
              " 928: 'rarely',\n",
              " 929: 'palaces',\n",
              " 930: 'destroy',\n",
              " 931: 'fight',\n",
              " 932: 'balance',\n",
              " 933: 'blundering',\n",
              " 934: 'crept',\n",
              " 935: 'groping',\n",
              " 936: 'block',\n",
              " 937: 'presence',\n",
              " 938: 'peering',\n",
              " 939: 'often',\n",
              " 940: 'central',\n",
              " 941: 'afternoon',\n",
              " 942: 'nights',\n",
              " 943: 'habit',\n",
              " 944: 'live',\n",
              " 945: 'westward',\n",
              " 946: 'star',\n",
              " 947: 'burning',\n",
              " 948: 'heel',\n",
              " 949: 'shoes',\n",
              " 950: 'array',\n",
              " 951: 'salt',\n",
              " 952: 'crawling',\n",
              " 953: 'copying',\n",
              " 954: 'mission',\n",
              " 955: 'displaying',\n",
              " 956: 'status',\n",
              " 957: 'distributed',\n",
              " 958: 'posted',\n",
              " 959: 'providing',\n",
              " 960: 'owner',\n",
              " 961: 'volunteers',\n",
              " 962: 'brightly',\n",
              " 963: 'expect',\n",
              " 964: 'proceeded',\n",
              " 965: 'cigar',\n",
              " 966: 'smiled',\n",
              " 967: 'show',\n",
              " 968: 'himself',\n",
              " 969: 'wonder',\n",
              " 970: 'flame',\n",
              " 971: 'pipe',\n",
              " 972: 'facing',\n",
              " 973: 'surprise',\n",
              " 974: 'coat',\n",
              " 975: 'brought',\n",
              " 976: 'true',\n",
              " 977: 'murmur',\n",
              " 978: 'flung',\n",
              " 979: 'scarce',\n",
              " 980: 'contact',\n",
              " 981: 'purple',\n",
              " 982: 'dancing',\n",
              " 983: 'hour',\n",
              " 984: 'tall',\n",
              " 985: 'learn',\n",
              " 986: 'ruinous',\n",
              " 987: 'heap',\n",
              " 988: 'walls',\n",
              " 989: 'disappeared',\n",
              " 990: 'truth',\n",
              " 991: 'heart',\n",
              " 992: 'dreaded',\n",
              " 993: 'blaze',\n",
              " 994: 'refuge',\n",
              " 995: 'morlock',\n",
              " 996: 'sticks',\n",
              " 997: 'editions',\n",
              " 998: 'format',\n",
              " 999: 'check',\n",
              " 1000: 'trap',\n",
              " ...}"
            ]
          },
          "metadata": {},
          "execution_count": 147
        }
      ],
      "source": [
        "# Palabras del vocabulario\n",
        "tok.index_word"
      ]
    },
    {
      "cell_type": "code",
      "execution_count": 148,
      "metadata": {
        "id": "gJgVhq1zwEpf",
        "colab": {
          "base_uri": "https://localhost:8080/"
        },
        "outputId": "c8f135f7-9ef0-433b-95d4-a4f22e9e95e1"
      },
      "outputs": [
        {
          "output_type": "execute_result",
          "data": {
            "text/plain": [
              "4939"
            ]
          },
          "metadata": {},
          "execution_count": 148
        }
      ],
      "source": [
        "# Cantidad de palabras en el vocabulario\n",
        "vocab_size = len(tok.word_counts)\n",
        "vocab_size"
      ]
    },
    {
      "cell_type": "code",
      "execution_count": 149,
      "metadata": {
        "id": "wKV85M2uwKJ9"
      },
      "outputs": [],
      "source": [
        "# Transformar los datos a oneHotEncoding\n",
        "y_data = to_categorical(y_data_int, num_classes=vocab_size)"
      ]
    },
    {
      "cell_type": "code",
      "execution_count": 150,
      "metadata": {
        "id": "qWjNrNx9wM1b",
        "colab": {
          "base_uri": "https://localhost:8080/"
        },
        "outputId": "3ebb841d-5447-4a77-9c62-e1974579f3e4"
      },
      "outputs": [
        {
          "output_type": "execute_result",
          "data": {
            "text/plain": [
              "1"
            ]
          },
          "metadata": {},
          "execution_count": 150
        }
      ],
      "source": [
        "# En el caso anterior explota porque y_data_int comienza en \"1\" en vez de \"0\"\n",
        "# valor minimo:\n",
        "min(y_data_int)"
      ]
    },
    {
      "cell_type": "code",
      "execution_count": 151,
      "metadata": {
        "id": "gIg2e2WCwXbG",
        "colab": {
          "base_uri": "https://localhost:8080/"
        },
        "outputId": "41790ff3-b154-4884-b65d-be183f34d628"
      },
      "outputs": [
        {
          "output_type": "execute_result",
          "data": {
            "text/plain": [
              "(30263, 4939)"
            ]
          },
          "metadata": {},
          "execution_count": 151
        }
      ],
      "source": [
        "y_data_int_offset = y_data_int - 1\n",
        "y_data = to_categorical(y_data_int_offset, num_classes=vocab_size)\n",
        "y_data.shape"
      ]
    },
    {
      "cell_type": "code",
      "source": [
        "X = sequences[:, :-1] # todos los rows, menos la ultima col\n",
        "y = sequences[:, -1] # última col de cada row\n",
        "\n",
        "print(f'\\nTamaño de entrada: {X.shape}')\n",
        "print(f'Tamaño de salida: {y.shape}')"
      ],
      "metadata": {
        "colab": {
          "base_uri": "https://localhost:8080/"
        },
        "id": "YQIiAOLD06d-",
        "outputId": "5a143628-8d57-4426-e952-4721ee422397"
      },
      "execution_count": 152,
      "outputs": [
        {
          "output_type": "stream",
          "name": "stdout",
          "text": [
            "\n",
            "Tamaño de entrada: (30263, 3)\n",
            "Tamaño de salida: (30263,)\n"
          ]
        }
      ]
    },
    {
      "cell_type": "code",
      "source": [
        "arr_sequences = np.array(sequences)\n",
        "x_data = arr_sequences[:,:-1]\n",
        "y_data_int = arr_sequences[:,-1] # aún falta el oneHotEncoder\n",
        "y = to_categorical(y-1, num_classes = total_words)\n",
        "\n",
        "print(x_data.shape)\n",
        "print(y_data_int.shape)"
      ],
      "metadata": {
        "colab": {
          "base_uri": "https://localhost:8080/"
        },
        "id": "BK4fS1Pv08s-",
        "outputId": "92ce9544-53d2-47f4-a726-206fd4da5a7e"
      },
      "execution_count": 153,
      "outputs": [
        {
          "output_type": "stream",
          "name": "stdout",
          "text": [
            "(30263, 3)\n",
            "(30263,)\n"
          ]
        }
      ]
    },
    {
      "cell_type": "code",
      "source": [
        "y.shape"
      ],
      "metadata": {
        "colab": {
          "base_uri": "https://localhost:8080/"
        },
        "id": "6K_Hqikw0_N4",
        "outputId": "a4bc66d7-175b-4fbd-989b-bf2224c8e3ce"
      },
      "execution_count": 154,
      "outputs": [
        {
          "output_type": "execute_result",
          "data": {
            "text/plain": [
              "(30263, 4940)"
            ]
          },
          "metadata": {},
          "execution_count": 154
        }
      ]
    },
    {
      "cell_type": "markdown",
      "metadata": {
        "id": "GmJWNyxQwfCE"
      },
      "source": [
        "### 4 - Entrenar el modelo"
      ]
    },
    {
      "cell_type": "code",
      "execution_count": 155,
      "metadata": {
        "id": "0cOmNZT_weK2"
      },
      "outputs": [],
      "source": [
        "# largo de la secuencia de entrada\n",
        "input_seq_len = X.shape[1]\n",
        "# Largo del vector de salida\n",
        "output_size = total_words"
      ]
    },
    {
      "cell_type": "code",
      "execution_count": 156,
      "metadata": {
        "id": "qtwITjgnwlgp",
        "colab": {
          "base_uri": "https://localhost:8080/"
        },
        "outputId": "e566fa43-d8c4-483f-c10e-9aeb0cc9330a"
      },
      "outputs": [
        {
          "output_type": "execute_result",
          "data": {
            "text/plain": [
              "4939"
            ]
          },
          "metadata": {},
          "execution_count": 156
        }
      ],
      "source": [
        "# Largo del vector de salida --> vocab_size\n",
        "output_size = vocab_size\n",
        "output_size"
      ]
    },
    {
      "cell_type": "code",
      "execution_count": 157,
      "metadata": {
        "id": "jzTZRXrrwrvi",
        "colab": {
          "base_uri": "https://localhost:8080/"
        },
        "outputId": "2f06913b-59a3-4d69-8596-b0930bd7f337"
      },
      "outputs": [
        {
          "output_type": "stream",
          "name": "stdout",
          "text": [
            "Model: \"sequential_5\"\n",
            "_________________________________________________________________\n",
            " Layer (type)                Output Shape              Param #   \n",
            "=================================================================\n",
            " embedding_4 (Embedding)     (None, 3, 5)              24700     \n",
            "                                                                 \n",
            " lstm_12 (LSTM)              (None, 3, 64)             17920     \n",
            "                                                                 \n",
            " dropout_8 (Dropout)         (None, 3, 64)             0         \n",
            "                                                                 \n",
            " lstm_13 (LSTM)              (None, 64)                33024     \n",
            "                                                                 \n",
            " dense_8 (Dense)             (None, 32)                2080      \n",
            "                                                                 \n",
            " dense_9 (Dense)             (None, 4939)              162987    \n",
            "                                                                 \n",
            "=================================================================\n",
            "Total params: 240,711\n",
            "Trainable params: 240,711\n",
            "Non-trainable params: 0\n",
            "_________________________________________________________________\n"
          ]
        }
      ],
      "source": [
        "model = Sequential()\n",
        "\n",
        "# Embedding:\n",
        "# input_seq_len = 3 --> ingreso 3 palabras\n",
        "# input_dim = vocab_size --> 1628 palabras distintas\n",
        "# output_dim = 5 --> crear embeddings de tamaño 3 (tamaño variable y ajustable)\n",
        "model.add(Embedding(input_dim = total_words, output_dim = 5, input_length = input_seq_len))\n",
        "\n",
        "model.add(LSTM(64, return_sequences=True))\n",
        "model.add(Dropout(0.2))\n",
        "model.add(LSTM(64)) # La última capa LSTM no lleva return_sequences\n",
        "model.add(Dense(32, activation='relu'))\n",
        "\n",
        "# Predicción de clasificación con softmax\n",
        "# La salida vuelve al espacio de 1628 palabras posibles\n",
        "model.add(Dense(output_size, activation='softmax'))\n",
        "\n",
        "# Clasificación multiple categórica --> loss = categorical_crossentropy\n",
        "model.compile(loss='categorical_crossentropy', optimizer='adam', metrics=['accuracy'])\n",
        "\n",
        "model.summary()"
      ]
    },
    {
      "cell_type": "code",
      "source": [
        "model2 = Sequential()\n",
        "\n",
        "# Embedding:\n",
        "# input_seq_len = 3 --> ingreso 3 palabras\n",
        "# input_dim = vocab_size --> 1628 palabras distintas\n",
        "# output_dim = 5 --> crear embeddings de tamaño 3 (tamaño variable y ajustable)\n",
        "model2.add(Embedding(input_dim = total_words, output_dim = 5, input_length = input_seq_len))\n",
        "\n",
        "model2.add(LSTM(128, return_sequences=True))\n",
        "model2.add(Dropout(0.2))\n",
        "model2.add(LSTM(128, return_sequences=True))\n",
        "model2.add(Dropout(0.2))\n",
        "model2.add(LSTM(128, return_sequences=True))\n",
        "model2.add(Dropout(0.2))\n",
        "model2.add(LSTM(128)) # La última capa LSTM no lleva return_sequences\n",
        "model2.add(Dense(64, activation='relu'))\n",
        "\n",
        "# Predicción de clasificación con softmax\n",
        "# La salida vuelve al espacio de 1628 palabras posibles\n",
        "model2.add(Dense(output_size, activation='softmax'))\n",
        "\n",
        "# Clasificación multiple categórica --> loss = categorical_crossentropy\n",
        "model2.compile(loss='categorical_crossentropy', optimizer='adam', metrics=['accuracy'])\n",
        "\n",
        "model2.summary()"
      ],
      "metadata": {
        "colab": {
          "base_uri": "https://localhost:8080/"
        },
        "id": "F9Q-OaHCz_kL",
        "outputId": "ae3ced46-c8ec-4676-b5fb-971975fa7a90"
      },
      "execution_count": 158,
      "outputs": [
        {
          "output_type": "stream",
          "name": "stdout",
          "text": [
            "Model: \"sequential_6\"\n",
            "_________________________________________________________________\n",
            " Layer (type)                Output Shape              Param #   \n",
            "=================================================================\n",
            " embedding_5 (Embedding)     (None, 3, 5)              24700     \n",
            "                                                                 \n",
            " lstm_14 (LSTM)              (None, 3, 128)            68608     \n",
            "                                                                 \n",
            " dropout_9 (Dropout)         (None, 3, 128)            0         \n",
            "                                                                 \n",
            " lstm_15 (LSTM)              (None, 3, 128)            131584    \n",
            "                                                                 \n",
            " dropout_10 (Dropout)        (None, 3, 128)            0         \n",
            "                                                                 \n",
            " lstm_16 (LSTM)              (None, 3, 128)            131584    \n",
            "                                                                 \n",
            " dropout_11 (Dropout)        (None, 3, 128)            0         \n",
            "                                                                 \n",
            " lstm_17 (LSTM)              (None, 128)               131584    \n",
            "                                                                 \n",
            " dense_10 (Dense)            (None, 64)                8256      \n",
            "                                                                 \n",
            " dense_11 (Dense)            (None, 4939)              321035    \n",
            "                                                                 \n",
            "=================================================================\n",
            "Total params: 817,351\n",
            "Trainable params: 817,351\n",
            "Non-trainable params: 0\n",
            "_________________________________________________________________\n"
          ]
        }
      ]
    },
    {
      "cell_type": "code",
      "source": [
        "model3 = Sequential()\n",
        "\n",
        "# Embedding:\n",
        "# input_seq_len = 3 --> ingreso 3 palabras\n",
        "# input_dim = vocab_size --> 1628 palabras distintas\n",
        "# output_dim = 5 --> crear embeddings de tamaño 3 (tamaño variable y ajustable)\n",
        "model3.add(Embedding(input_dim = total_words,\n",
        "                    output_dim = 5,\n",
        "                    input_length = input_seq_len))\n",
        "\n",
        "model3.add(LSTM(64, return_sequences=True))\n",
        "model3.add(Dropout(0.2))\n",
        "model3.add(LSTM(64, return_sequences=True))\n",
        "model3.add(Dropout(0.2))\n",
        "model3.add(LSTM(64, return_sequences=True))\n",
        "model3.add(Dropout(0.2))\n",
        "model3.add(LSTM(64)) # La última capa LSTM no lleva return_sequences\n",
        "model3.add(Dense(32, activation='relu'))\n",
        "\n",
        "# Predicción de clasificación con softmax\n",
        "# La salida vuelve al espacio de 1628 palabras posibles\n",
        "model3.add(Dense(output_size, activation='softmax'))\n",
        "\n",
        "# Clasificación multiple categórica --> loss = categorical_crossentropy\n",
        "model3.compile(loss='categorical_crossentropy', optimizer='adam', metrics=['accuracy'])\n",
        "\n",
        "model3.summary()"
      ],
      "metadata": {
        "colab": {
          "base_uri": "https://localhost:8080/"
        },
        "id": "U11UJoRX43gK",
        "outputId": "c2f246ce-6638-4e57-c51d-a78d746901b8"
      },
      "execution_count": 171,
      "outputs": [
        {
          "output_type": "stream",
          "name": "stdout",
          "text": [
            "Model: \"sequential_7\"\n",
            "_________________________________________________________________\n",
            " Layer (type)                Output Shape              Param #   \n",
            "=================================================================\n",
            " embedding_6 (Embedding)     (None, 3, 5)              24700     \n",
            "                                                                 \n",
            " lstm_18 (LSTM)              (None, 3, 64)             17920     \n",
            "                                                                 \n",
            " dropout_12 (Dropout)        (None, 3, 64)             0         \n",
            "                                                                 \n",
            " lstm_19 (LSTM)              (None, 3, 64)             33024     \n",
            "                                                                 \n",
            " dropout_13 (Dropout)        (None, 3, 64)             0         \n",
            "                                                                 \n",
            " lstm_20 (LSTM)              (None, 3, 64)             33024     \n",
            "                                                                 \n",
            " dropout_14 (Dropout)        (None, 3, 64)             0         \n",
            "                                                                 \n",
            " lstm_21 (LSTM)              (None, 64)                33024     \n",
            "                                                                 \n",
            " dense_12 (Dense)            (None, 32)                2080      \n",
            "                                                                 \n",
            " dense_13 (Dense)            (None, 4939)              162987    \n",
            "                                                                 \n",
            "=================================================================\n",
            "Total params: 306,759\n",
            "Trainable params: 306,759\n",
            "Non-trainable params: 0\n",
            "_________________________________________________________________\n"
          ]
        }
      ]
    },
    {
      "cell_type": "code",
      "source": [
        "hist = model.fit(x_data, y_data, epochs=10, validation_split=0.2)"
      ],
      "metadata": {
        "colab": {
          "base_uri": "https://localhost:8080/"
        },
        "id": "U73w60qO1muC",
        "outputId": "df9719ac-b558-40f6-ff60-b052d8cad4b3"
      },
      "execution_count": 159,
      "outputs": [
        {
          "output_type": "stream",
          "name": "stdout",
          "text": [
            "Epoch 1/10\n",
            "757/757 [==============================] - 19s 18ms/step - loss: 6.8213 - accuracy: 0.0652 - val_loss: 7.2344 - val_accuracy: 0.0740\n",
            "Epoch 2/10\n",
            "757/757 [==============================] - 10s 13ms/step - loss: 6.3798 - accuracy: 0.0673 - val_loss: 7.3134 - val_accuracy: 0.0740\n",
            "Epoch 3/10\n",
            "757/757 [==============================] - 14s 18ms/step - loss: 6.2498 - accuracy: 0.0673 - val_loss: 7.5187 - val_accuracy: 0.0740\n",
            "Epoch 4/10\n",
            "757/757 [==============================] - 8s 11ms/step - loss: 6.1314 - accuracy: 0.0785 - val_loss: 7.6062 - val_accuracy: 0.0881\n",
            "Epoch 5/10\n",
            "757/757 [==============================] - 10s 13ms/step - loss: 5.9580 - accuracy: 0.0948 - val_loss: 7.6280 - val_accuracy: 0.0933\n",
            "Epoch 6/10\n",
            "757/757 [==============================] - 10s 13ms/step - loss: 5.8253 - accuracy: 0.0995 - val_loss: 7.7699 - val_accuracy: 0.0952\n",
            "Epoch 7/10\n",
            "757/757 [==============================] - 8s 10ms/step - loss: 5.7137 - accuracy: 0.1025 - val_loss: 8.0734 - val_accuracy: 0.0919\n",
            "Epoch 8/10\n",
            "757/757 [==============================] - 9s 12ms/step - loss: 5.6130 - accuracy: 0.1039 - val_loss: 8.1638 - val_accuracy: 0.0953\n",
            "Epoch 9/10\n",
            "757/757 [==============================] - 8s 11ms/step - loss: 5.5291 - accuracy: 0.1069 - val_loss: 8.4928 - val_accuracy: 0.0966\n",
            "Epoch 10/10\n",
            "757/757 [==============================] - 10s 13ms/step - loss: 5.4505 - accuracy: 0.1085 - val_loss: 8.5071 - val_accuracy: 0.0942\n"
          ]
        }
      ]
    },
    {
      "cell_type": "code",
      "execution_count": 168,
      "metadata": {
        "id": "oQq1PHDkxDvN",
        "colab": {
          "base_uri": "https://localhost:8080/"
        },
        "outputId": "af5ea0b1-2840-42d6-c0ea-c4e7d49e3a1a"
      },
      "outputs": [
        {
          "output_type": "stream",
          "name": "stdout",
          "text": [
            "Epoch 1/10\n",
            "757/757 [==============================] - 13s 17ms/step - loss: 5.3213 - accuracy: 0.1145 - val_loss: 8.4292 - val_accuracy: 0.0975\n",
            "Epoch 2/10\n",
            "757/757 [==============================] - 12s 16ms/step - loss: 5.2463 - accuracy: 0.1160 - val_loss: 8.5629 - val_accuracy: 0.0925\n",
            "Epoch 3/10\n",
            "757/757 [==============================] - 12s 15ms/step - loss: 5.1741 - accuracy: 0.1199 - val_loss: 8.7036 - val_accuracy: 0.0942\n",
            "Epoch 4/10\n",
            "757/757 [==============================] - 12s 16ms/step - loss: 5.1049 - accuracy: 0.1202 - val_loss: 8.7885 - val_accuracy: 0.0917\n",
            "Epoch 5/10\n",
            "757/757 [==============================] - 14s 18ms/step - loss: 5.0335 - accuracy: 0.1238 - val_loss: 9.0428 - val_accuracy: 0.0927\n",
            "Epoch 6/10\n",
            "757/757 [==============================] - 15s 20ms/step - loss: 4.9715 - accuracy: 0.1243 - val_loss: 9.1507 - val_accuracy: 0.0904\n",
            "Epoch 7/10\n",
            "757/757 [==============================] - 12s 16ms/step - loss: 4.8988 - accuracy: 0.1254 - val_loss: 9.2748 - val_accuracy: 0.0932\n",
            "Epoch 8/10\n",
            "757/757 [==============================] - 14s 19ms/step - loss: 4.8302 - accuracy: 0.1288 - val_loss: 9.4985 - val_accuracy: 0.0910\n",
            "Epoch 9/10\n",
            "757/757 [==============================] - 13s 17ms/step - loss: 4.7581 - accuracy: 0.1285 - val_loss: 9.7489 - val_accuracy: 0.0917\n",
            "Epoch 10/10\n",
            "757/757 [==============================] - 12s 15ms/step - loss: 4.6954 - accuracy: 0.1317 - val_loss: 9.8429 - val_accuracy: 0.0871\n"
          ]
        }
      ],
      "source": [
        "hist2 = model2.fit(x_data, y_data, epochs=10, validation_split=0.2)"
      ]
    },
    {
      "cell_type": "code",
      "source": [
        "hist3 = model3.fit(x_data, y_data, epochs=10, validation_split=0.2)"
      ],
      "metadata": {
        "colab": {
          "base_uri": "https://localhost:8080/"
        },
        "id": "m6qQ_s8048_Y",
        "outputId": "496497c1-2927-4e27-b910-45b82054f1de"
      },
      "execution_count": 172,
      "outputs": [
        {
          "output_type": "stream",
          "name": "stdout",
          "text": [
            "Epoch 1/10\n",
            "757/757 [==============================] - 26s 23ms/step - loss: 6.8163 - accuracy: 0.0667 - val_loss: 7.2263 - val_accuracy: 0.0740\n",
            "Epoch 2/10\n",
            "757/757 [==============================] - 13s 17ms/step - loss: 6.4390 - accuracy: 0.0673 - val_loss: 7.4219 - val_accuracy: 0.0740\n",
            "Epoch 3/10\n",
            "757/757 [==============================] - 13s 17ms/step - loss: 6.3948 - accuracy: 0.0673 - val_loss: 7.5861 - val_accuracy: 0.0740\n",
            "Epoch 4/10\n",
            "757/757 [==============================] - 14s 18ms/step - loss: 6.3705 - accuracy: 0.0673 - val_loss: 7.8002 - val_accuracy: 0.0740\n",
            "Epoch 5/10\n",
            "757/757 [==============================] - 12s 16ms/step - loss: 6.3493 - accuracy: 0.0673 - val_loss: 7.9355 - val_accuracy: 0.0738\n",
            "Epoch 6/10\n",
            "757/757 [==============================] - 17s 22ms/step - loss: 6.3018 - accuracy: 0.0673 - val_loss: 7.8140 - val_accuracy: 0.0730\n",
            "Epoch 7/10\n",
            "757/757 [==============================] - 13s 17ms/step - loss: 6.1879 - accuracy: 0.0822 - val_loss: 7.8450 - val_accuracy: 0.0838\n",
            "Epoch 8/10\n",
            "757/757 [==============================] - 13s 17ms/step - loss: 6.0115 - accuracy: 0.0922 - val_loss: 7.9959 - val_accuracy: 0.0899\n",
            "Epoch 9/10\n",
            "757/757 [==============================] - 23s 31ms/step - loss: 5.8427 - accuracy: 0.0973 - val_loss: 8.1589 - val_accuracy: 0.0894\n",
            "Epoch 10/10\n",
            "757/757 [==============================] - 16s 21ms/step - loss: 5.7192 - accuracy: 0.0976 - val_loss: 8.3151 - val_accuracy: 0.0867\n"
          ]
        }
      ]
    },
    {
      "cell_type": "code",
      "execution_count": 161,
      "metadata": {
        "id": "q_orBXOrCsNn",
        "colab": {
          "base_uri": "https://localhost:8080/",
          "height": 430
        },
        "outputId": "f84c03c1-3910-41b4-c1d0-0a15dae26180"
      },
      "outputs": [
        {
          "output_type": "display_data",
          "data": {
            "text/plain": [
              "<Figure size 640x480 with 1 Axes>"
            ],
            "image/png": "[encoded data removed]"
          },
          "metadata": {}
        }
      ],
      "source": [
        "import matplotlib.pyplot as plt\n",
        "import seaborn as sns\n",
        "\n",
        "# Entrenamiento\n",
        "epoch_count = range(1, len(hist.history['accuracy']) + 1)\n",
        "sns.lineplot(x=epoch_count,  y=hist.history['accuracy'], label='train')\n",
        "sns.lineplot(x=epoch_count,  y=hist.history['val_accuracy'], label='valid')\n",
        "plt.show()"
      ]
    },
    {
      "cell_type": "code",
      "source": [
        "# Entrenamiento\n",
        "epoch_count = range(1, len(hist2.history['accuracy']) + 1)\n",
        "sns.lineplot(x=epoch_count,  y=hist2.history['accuracy'], label='train')\n",
        "sns.lineplot(x=epoch_count,  y=hist2.history['val_accuracy'], label='valid')\n",
        "plt.show()"
      ],
      "metadata": {
        "colab": {
          "base_uri": "https://localhost:8080/",
          "height": 430
        },
        "id": "RgZxg0S736jQ",
        "outputId": "f00d70f0-848c-4b9f-e472-9bb4feb7a5bd"
      },
      "execution_count": 169,
      "outputs": [
        {
          "output_type": "display_data",
          "data": {
            "text/plain": [
              "<Figure size 640x480 with 1 Axes>"
            ],
            "image/png": "[encoded data removed]"
          },
          "metadata": {}
        }
      ]
    },
    {
      "cell_type": "code",
      "source": [
        "# Entrenamiento\n",
        "epoch_count = range(1, len(hist3.history['accuracy']) + 1)\n",
        "sns.lineplot(x=epoch_count,  y=hist3.history['accuracy'], label='train')\n",
        "sns.lineplot(x=epoch_count,  y=hist3.history['val_accuracy'], label='valid')\n",
        "plt.show()"
      ],
      "metadata": {
        "colab": {
          "base_uri": "https://localhost:8080/",
          "height": 430
        },
        "id": "ZUjemGsn5AtY",
        "outputId": "4156fa6c-02c0-409f-e7b7-d841e4bb16d4"
      },
      "execution_count": 173,
      "outputs": [
        {
          "output_type": "display_data",
          "data": {
            "text/plain": [
              "<Figure size 640x480 with 1 Axes>"
            ],
            "image/png": "[encoded data removed]"
          },
          "metadata": {}
        }
      ]
    },
    {
      "cell_type": "markdown",
      "metadata": {
        "id": "KN6Fg_BsxJe6"
      },
      "source": [
        "### 5 - Predicción de próxima palabra"
      ]
    },
    {
      "cell_type": "code",
      "execution_count": 174,
      "metadata": {
        "id": "iy_AXWQWzeeE"
      },
      "outputs": [],
      "source": [
        "# Keras pad_sequences\n",
        "# https://www.tensorflow.org/api_docs/python/tf/keras/preprocessing/sequence/pad_sequences\n",
        "# Si la secuencia de entrada supera al input_seq_len (3) se trunca\n",
        "# Si la secuencia es más corta se agregna ceros al comienzo"
      ]
    },
    {
      "cell_type": "code",
      "execution_count": 175,
      "metadata": {
        "id": "IBvKHFPmzpy2"
      },
      "outputs": [],
      "source": [
        "def model_response(human_text):\n",
        "\n",
        "    # Encodeamos\n",
        "    encoded = tok.texts_to_sequences([human_text])[0]\n",
        "    # Si tienen distinto largo\n",
        "    encoded = pad_sequences([encoded], maxlen=3, padding='pre')\n",
        "\n",
        "    # Predicción softmax\n",
        "    y_hat = model.predict(encoded).argmax(axis=-1)\n",
        "\n",
        "    # Debemos buscar en el vocabulario la palabra\n",
        "    # que corresopnde al indice (y_hat) predicho por le modelo\n",
        "    out_word = ''\n",
        "    for word, index in tok.word_index.items():\n",
        "        if index == y_hat:\n",
        "            out_word = word\n",
        "            break\n",
        "\n",
        "    # Agrego la palabra a la frase predicha\n",
        "    return human_text + ' ' + out_word"
      ]
    },
    {
      "cell_type": "code",
      "source": [
        "model_response(\"the universe\")"
      ],
      "metadata": {
        "colab": {
          "base_uri": "https://localhost:8080/",
          "height": 55
        },
        "id": "SzW69lLR5moN",
        "outputId": "111ff6f3-f7dd-4c91-f570-b68789efa5fe"
      },
      "execution_count": 176,
      "outputs": [
        {
          "output_type": "stream",
          "name": "stdout",
          "text": [
            "1/1 [==============================] - 0s 22ms/step\n"
          ]
        },
        {
          "output_type": "execute_result",
          "data": {
            "text/plain": [
              "'the universe of'"
            ],
            "application/vnd.google.colaboratory.intrinsic+json": {
              "type": "string"
            }
          },
          "metadata": {},
          "execution_count": 176
        }
      ]
    },
    {
      "cell_type": "code",
      "source": [
        "model_response(\"the time\")"
      ],
      "metadata": {
        "colab": {
          "base_uri": "https://localhost:8080/",
          "height": 55
        },
        "id": "7KhjDWri5rb0",
        "outputId": "dd31e099-cd62-487a-b1ec-d6f806fbb734"
      },
      "execution_count": 187,
      "outputs": [
        {
          "output_type": "stream",
          "name": "stdout",
          "text": [
            "1/1 [==============================] - 0s 21ms/step\n"
          ]
        },
        {
          "output_type": "execute_result",
          "data": {
            "text/plain": [
              "'the time of'"
            ],
            "application/vnd.google.colaboratory.intrinsic+json": {
              "type": "string"
            }
          },
          "metadata": {},
          "execution_count": 187
        }
      ]
    },
    {
      "cell_type": "code",
      "source": [
        "model_response(\"time far\")"
      ],
      "metadata": {
        "colab": {
          "base_uri": "https://localhost:8080/",
          "height": 55
        },
        "id": "PUUTB8tL6IyO",
        "outputId": "3fd1480d-80f4-47cb-fce2-c60d6b70856e"
      },
      "execution_count": 199,
      "outputs": [
        {
          "output_type": "stream",
          "name": "stdout",
          "text": [
            "1/1 [==============================] - 0s 25ms/step\n"
          ]
        },
        {
          "output_type": "execute_result",
          "data": {
            "text/plain": [
              "'time far not'"
            ],
            "application/vnd.google.colaboratory.intrinsic+json": {
              "type": "string"
            }
          },
          "metadata": {},
          "execution_count": 199
        }
      ]
    },
    {
      "cell_type": "markdown",
      "metadata": {
        "id": "mCeMWWupxN1-"
      },
      "source": [
        "### 6 - Generación de secuencias nuevas"
      ]
    },
    {
      "cell_type": "code",
      "execution_count": 201,
      "metadata": {
        "id": "bwbS_pfhxvB3"
      },
      "outputs": [],
      "source": [
        "def generate_seq(model, tokenizer, seed_text, max_length, n_words):\n",
        "    \"\"\"\n",
        "        Exec model sequence prediction\n",
        "\n",
        "        Args:\n",
        "            model (keras): modelo entrenado\n",
        "            tokenizer (keras tokenizer): tonenizer utilizado en el preprocesamiento\n",
        "            seed_text (string): texto de entrada (input_seq)\n",
        "            max_length (int): máxima longitud de la sequencia de entrada\n",
        "            n_words (int): números de palabras a agregar a la sequencia de entrada\n",
        "        returns:\n",
        "            output_text (string): sentencia con las \"n_words\" agregadas\n",
        "    \"\"\"\n",
        "    output_text = seed_text\n",
        "\t# generate a fixed number of words\n",
        "    for _ in range(n_words):\n",
        "\t\t# Encodeamos\n",
        "        encoded = tokenizer.texts_to_sequences([output_text])[0]\n",
        "\t\t# Si tienen distinto largo\n",
        "        encoded = pad_sequences([encoded], maxlen=max_length, padding='pre')\n",
        "\n",
        "\t\t# Predicción softmax\n",
        "        y_hat = model.predict(encoded).argmax(axis=-1)\n",
        "\t\t# Vamos concatenando las predicciones\n",
        "        out_word = ''\n",
        "\n",
        "        # Debemos buscar en el vocabulario la palabra\n",
        "        # que corresopnde al indice (y_hat) predicho por le modelo\n",
        "        for word, index in tokenizer.word_index.items():\n",
        "            if index == y_hat:\n",
        "                out_word = word\n",
        "                break\n",
        "\n",
        "\t\t# Agrego las palabras a la frase predicha\n",
        "        output_text += ' ' + out_word\n",
        "    return output_text"
      ]
    },
    {
      "cell_type": "code",
      "execution_count": 204,
      "metadata": {
        "id": "JoFqRC5pxzqS",
        "colab": {
          "base_uri": "https://localhost:8080/",
          "height": 73
        },
        "outputId": "5dab62ad-acec-4826-bae1-eceae81fc426"
      },
      "outputs": [
        {
          "output_type": "stream",
          "name": "stdout",
          "text": [
            "1/1 [==============================] - 0s 21ms/step\n",
            "1/1 [==============================] - 0s 23ms/step\n"
          ]
        },
        {
          "output_type": "execute_result",
          "data": {
            "text/plain": [
              "'the time of '"
            ],
            "application/vnd.google.colaboratory.intrinsic+json": {
              "type": "string"
            }
          },
          "metadata": {},
          "execution_count": 204
        }
      ],
      "source": [
        "input_text='the time'\n",
        "\n",
        "generate_seq(model, tok, input_text, max_length=3, n_words=2)"
      ]
    },
    {
      "cell_type": "code",
      "source": [
        "input_text='universe'\n",
        "\n",
        "generate_seq(model, tok, input_text, max_length=3, n_words=2)"
      ],
      "metadata": {
        "colab": {
          "base_uri": "https://localhost:8080/",
          "height": 73
        },
        "id": "eu1sL4s26p2t",
        "outputId": "cb0cb321-658f-47dd-86a7-dfb0df69d4dd"
      },
      "execution_count": 205,
      "outputs": [
        {
          "output_type": "stream",
          "name": "stdout",
          "text": [
            "1/1 [==============================] - 0s 31ms/step\n",
            "1/1 [==============================] - 0s 22ms/step\n"
          ]
        },
        {
          "output_type": "execute_result",
          "data": {
            "text/plain": [
              "'universe  '"
            ],
            "application/vnd.google.colaboratory.intrinsic+json": {
              "type": "string"
            }
          },
          "metadata": {},
          "execution_count": 205
        }
      ]
    },
    {
      "cell_type": "markdown",
      "metadata": {
        "id": "T2SHmXbgxQH9"
      },
      "source": [
        "### 7 - Conclusiones\n",
        "El modelo entrenado no logra realizar predicciones adecuadas, los resultados y las respuestas resultan vacias y no aporta a la continuacion del texto ingresado. Se trató de implementar variaciones en los modelos de entranamiento pero ningun logró un buen resultado.\n",
        "\n",
        "Para este ejercicio se usaron embeddings personalizados para entrenar los distintos modelos planteados, es posible que se requieran un texto mas claro y extenso para entrenar los modelos y así poder tener mejores inferencias y mas vocabularios disponibles, combinaciónes de palabras u oraciones, etc."
      ]
    }
  ],
  "metadata": {
    "accelerator": "GPU",
    "colab": {
      "provenance": []
    },
    "kernelspec": {
      "display_name": "Python 3",
      "name": "python3"
    },
    "language_info": {
      "name": "python"
    }
  },
  "nbformat": 4,
  "nbformat_minor": 0
}