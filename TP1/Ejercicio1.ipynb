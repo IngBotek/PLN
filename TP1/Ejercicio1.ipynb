{
  "nbformat": 4,
  "nbformat_minor": 0,
  "metadata": {
    "colab": {
      "provenance": []
    },
    "kernelspec": {
      "name": "python3",
      "display_name": "Python 3"
    },
    "language_info": {
      "name": "python"
    }
  },
  "cells": [
    {
      "cell_type": "markdown",
      "source": [
        "<img src=\"https://github.com/FIUBA-Posgrado-Inteligencia-Artificial/procesamiento_lenguaje_natural/raw/main/logoFIUBA.jpg\" width=\"500\" align=\"center\">\n",
        "\n",
        "\n",
        "# Procesamiento de lenguaje natural\n",
        "## Vectorización"
      ],
      "metadata": {
        "id": "XWAecFM91GrL"
      }
    },
    {
      "cell_type": "code",
      "execution_count": null,
      "metadata": {
        "id": "j4m0vVZWzEbk"
      },
      "outputs": [],
      "source": [
        "import numpy as np"
      ]
    },
    {
      "cell_type": "markdown",
      "source": [],
      "metadata": {
        "id": "jIaK8qzw1Vn7"
      }
    },
    {
      "cell_type": "code",
      "source": [
        "def cosine_similarity(a, b):\n",
        "    return np.dot(a, b) / (np.linalg.norm(a) * (np.linalg.norm(b)))"
      ],
      "metadata": {
        "id": "OEQqOhs71M8x"
      },
      "execution_count": null,
      "outputs": []
    },
    {
      "cell_type": "markdown",
      "source": [
        "##DATOS"
      ],
      "metadata": {
        "id": "x27JbESP1sH_"
      }
    },
    {
      "cell_type": "code",
      "source": [
        "corpus = np.array(['que dia es hoy', 'martes el dia de hoy es martes', 'martes muchas gracias'])"
      ],
      "metadata": {
        "id": "cVdNY19b1q6k"
      },
      "execution_count": null,
      "outputs": []
    },
    {
      "cell_type": "markdown",
      "source": [
        "### 1 - Obtener el vocabulario del corpus (los términos utilizados)\n",
        "- Cada documento transformarlo en una lista de términos\n",
        "- Armar un vector de términos no repetidos de todos los documentos"
      ],
      "metadata": {
        "id": "vWQUjli_13GO"
      }
    },
    {
      "cell_type": "code",
      "source": [
        "def palabras_en_lista(corpus):\n",
        "    palabras = []\n",
        "    for elemento in corpus:\n",
        "        terminos = elemento.split()\n",
        "        for palabra in terminos:\n",
        "          # Lista de palabras\n",
        "          palabras.append(palabra)\n",
        "    # Nos quedamos con una lista de elementos únicos\n",
        "    vocabulario = set(palabras)\n",
        "    return vocabulario"
      ],
      "metadata": {
        "id": "NXZpRSeE18eJ"
      },
      "execution_count": null,
      "outputs": []
    },
    {
      "cell_type": "code",
      "source": [
        "\n",
        "vocabulario = palabras_en_lista(corpus)\n",
        "print('\\nVOCABULARIO DEL CORPUS: ', vocabulario)"
      ],
      "metadata": {
        "colab": {
          "base_uri": "https://localhost:8080/"
        },
        "id": "eS18v8_A3Wv5",
        "outputId": "e91220e9-e0ec-4709-b2ed-cc36f3f580f7"
      },
      "execution_count": null,
      "outputs": [
        {
          "output_type": "stream",
          "name": "stdout",
          "text": [
            "\n",
            "VOCABULARIO DEL CORPUS:  {'hoy', 'gracias', 'es', 'dia', 'martes', 'de', 'muchas', 'el', 'que'}\n"
          ]
        }
      ]
    },
    {
      "cell_type": "markdown",
      "source": [
        "### 2- OneHot encoding\n",
        "Data una lista de textos, devolver una matriz con la representación oneHotEncoding de estos"
      ],
      "metadata": {
        "id": "z2-UIv-J33w1"
      }
    },
    {
      "cell_type": "code",
      "source": [
        "# One Hot Encoding\n",
        "def one_hot_encoding(vocabulario):\n",
        "    matriz_one_hot = []\n",
        "    # Creamos una lista con las palabras únicas extraidas del corpus, posteriormente para cada elemento del corpus\n",
        "    # vamos a traducirlo en un vector de 1's y 0's\n",
        "    palabras_unicas = list(vocabulario)\n",
        "    # Para cada elemento (documento) del corpus:\n",
        "    for doc in corpus:\n",
        "        doc_terms = doc.split()\n",
        "        doc_encoding = []\n",
        "        for term in doc_terms:\n",
        "            index = palabras_unicas.index(term)\n",
        "            # Cuando en la función palabras_en_lista hacemos vocabulario = set(palabras), creamos una lista aleatoria\n",
        "            # de elementos únicos. Bajo esa alaeatoriedad encodeamos.\n",
        "            doc_encoding.append(np.eye(len(palabras_unicas))[index])\n",
        "        matriz_one_hot.append(np.array(doc_encoding))\n",
        "    return matriz_one_hot\n",
        "\n"
      ],
      "metadata": {
        "id": "eSAsSdS633M5"
      },
      "execution_count": null,
      "outputs": []
    },
    {
      "cell_type": "code",
      "source": [
        "# Codificamos\n",
        "matriz_one_hot = one_hot_encoding(vocabulario)"
      ],
      "metadata": {
        "id": "ZWBLX2lk8916"
      },
      "execution_count": null,
      "outputs": []
    },
    {
      "cell_type": "code",
      "source": [
        "# Print\n",
        "i = 0\n",
        "for doc in corpus:\n",
        "  print('\\nDocumento:', doc)\n",
        "  print(\"Equivalnte one hot: \\n\", matriz_one_hot[i])\n",
        "  i += 1"
      ],
      "metadata": {
        "colab": {
          "base_uri": "https://localhost:8080/"
        },
        "id": "vEXJVr6Q9cxc",
        "outputId": "a7ad4d42-ba55-492b-abfd-20793513244c"
      },
      "execution_count": null,
      "outputs": [
        {
          "output_type": "stream",
          "name": "stdout",
          "text": [
            "\n",
            "Documento: que dia es hoy\n",
            "Equivalnte one hot: \n",
            " [[0. 0. 0. 0. 0. 0. 0. 0. 1.]\n",
            " [0. 0. 0. 1. 0. 0. 0. 0. 0.]\n",
            " [0. 0. 1. 0. 0. 0. 0. 0. 0.]\n",
            " [1. 0. 0. 0. 0. 0. 0. 0. 0.]]\n",
            "\n",
            "Documento: martes el dia de hoy es martes\n",
            "Equivalnte one hot: \n",
            " [[0. 0. 0. 0. 1. 0. 0. 0. 0.]\n",
            " [0. 0. 0. 0. 0. 0. 0. 1. 0.]\n",
            " [0. 0. 0. 1. 0. 0. 0. 0. 0.]\n",
            " [0. 0. 0. 0. 0. 1. 0. 0. 0.]\n",
            " [1. 0. 0. 0. 0. 0. 0. 0. 0.]\n",
            " [0. 0. 1. 0. 0. 0. 0. 0. 0.]\n",
            " [0. 0. 0. 0. 1. 0. 0. 0. 0.]]\n",
            "\n",
            "Documento: martes muchas gracias\n",
            "Equivalnte one hot: \n",
            " [[0. 0. 0. 0. 1. 0. 0. 0. 0.]\n",
            " [0. 0. 0. 0. 0. 0. 1. 0. 0.]\n",
            " [0. 1. 0. 0. 0. 0. 0. 0. 0.]]\n"
          ]
        }
      ]
    },
    {
      "cell_type": "markdown",
      "source": [],
      "metadata": {
        "id": "R2BqeEP808jv"
      }
    },
    {
      "cell_type": "markdown",
      "source": [
        "### 3- Vectores de frecuencia\n",
        "Data una lista de textos, devolver una matriz con la representación de frecuencia de estos"
      ],
      "metadata": {
        "id": "YK4BwjMF-tcH"
      }
    },
    {
      "cell_type": "code",
      "source": [
        "def freq_vector(matriz_one_hot):\n",
        "    freq = []\n",
        "    for doc in matriz_one_hot:\n",
        "        one_hot = np.sum(doc, axis=0).astype(int)\n",
        "        freq.append(one_hot)\n",
        "    return np.array(freq)"
      ],
      "metadata": {
        "id": "uUQOyjag-paH"
      },
      "execution_count": null,
      "outputs": []
    },
    {
      "cell_type": "code",
      "source": [
        "# Frecuencia de palabras\n",
        "freq = freq_vector(matriz_one_hot)\n",
        "print(freq)"
      ],
      "metadata": {
        "colab": {
          "base_uri": "https://localhost:8080/"
        },
        "id": "a1gJgb9e_0-S",
        "outputId": "1b637068-e3c0-451a-c751-e7cd9ac18639"
      },
      "execution_count": null,
      "outputs": [
        {
          "output_type": "stream",
          "name": "stdout",
          "text": [
            "[[1 0 1 1 0 0 0 0 1]\n",
            " [1 0 1 1 2 1 0 1 0]\n",
            " [0 1 0 0 1 0 1 0 0]]\n"
          ]
        }
      ]
    },
    {
      "cell_type": "markdown",
      "source": [
        "### 4- TF-IDF\n",
        "Data una lista de textos, devolver una matriz con la representacion TFIDF"
      ],
      "metadata": {
        "id": "3NseofOKCJVg"
      }
    },
    {
      "cell_type": "code",
      "source": [
        "# TF-IDF del corpus\n",
        "def tf_idf(matriz_one_hot):\n",
        "    encoded = []\n",
        "    for doc in matriz_one_hot:\n",
        "        one_hot = np.any(doc, axis=0).astype(int)\n",
        "        encoded.append(one_hot)\n",
        "    IDF = np.log10(np.divide(len(matriz_one_hot), np.sum(encoded, axis=0).astype(int)))\n",
        "    return freq_vector(matriz_one_hot) * IDF"
      ],
      "metadata": {
        "id": "Vl9q-pLJCG_4"
      },
      "execution_count": null,
      "outputs": []
    },
    {
      "cell_type": "code",
      "source": [
        "TF_IDF = tf_idf(matriz_one_hot)\n",
        "print(TF_IDF)"
      ],
      "metadata": {
        "colab": {
          "base_uri": "https://localhost:8080/"
        },
        "id": "U56KYckwCfTr",
        "outputId": "d9a4e7b5-af3b-4717-9187-db07b0d03984"
      },
      "execution_count": null,
      "outputs": [
        {
          "output_type": "stream",
          "name": "stdout",
          "text": [
            "[[0.17609126 0.         0.17609126 0.17609126 0.         0.\n",
            "  0.         0.         0.47712125]\n",
            " [0.17609126 0.         0.17609126 0.17609126 0.35218252 0.47712125\n",
            "  0.         0.47712125 0.        ]\n",
            " [0.         0.47712125 0.         0.         0.17609126 0.\n",
            "  0.47712125 0.         0.        ]]\n"
          ]
        }
      ]
    },
    {
      "cell_type": "markdown",
      "source": [
        "### 5 - Comparación de documentos\n",
        "Realizar una funcion que reciba el corpus y el índice de un documento y devuelva los documentos ordenados por la similitud coseno"
      ],
      "metadata": {
        "id": "f2ypU7pVCPGZ"
      }
    },
    {
      "cell_type": "code",
      "source": [
        "# Similitud coseno\n",
        "def compare_docs(corpus, idx):\n",
        "    vocabulario = palabras_en_lista(corpus)\n",
        "    matriz_one_hot = one_hot_encoding(vocabulario)\n",
        "    TF_IDF = tf_idf(matriz_one_hot)\n",
        "    doc = TF_IDF[idx]\n",
        "    # Vector de similitudes\n",
        "    similar = []\n",
        "\n",
        "    for i, doc_i in enumerate(TF_IDF):\n",
        "        if i != idx:\n",
        "            similarity =  cosine_similarity(doc, doc_i)\n",
        "            similar.append((i, similarity))\n",
        "    # Ordenamos\n",
        "    similar.sort(key=lambda x: x[1], reverse=True)\n",
        "\n",
        "\n",
        "    # Print\n",
        "    for doc_idx, similarity in similar:\n",
        "        print(f\"Documento {idx} ({corpus[idx]}) con {doc_idx} ({corpus[doc_idx]}) = {similarity:.4f}\")\n",
        "\n",
        "    ordered_docs = [corpus[i] for i, _ in similar]\n",
        "    print(f\"Documentos ordenados por similitud coseno con el documento {idx}: {ordered_docs}\\n\")\n",
        "    return ordered_docs"
      ],
      "metadata": {
        "id": "-7FwVI5jCRJU"
      },
      "execution_count": null,
      "outputs": []
    },
    {
      "cell_type": "code",
      "source": [
        "print('\\nSimilitud coseno por documento: \\n')\n",
        "for doc in range(3):\n",
        "    ordered_docs = compare_docs(corpus, doc)"
      ],
      "metadata": {
        "colab": {
          "base_uri": "https://localhost:8080/"
        },
        "id": "MC335_LADVsG",
        "outputId": "7dfc6157-2cd5-44f8-d7d7-dcd62f7b9a90"
      },
      "execution_count": null,
      "outputs": [
        {
          "output_type": "stream",
          "name": "stdout",
          "text": [
            "\n",
            "Similitud coseno por documento: \n",
            "\n",
            "Documento 0 (que dia es hoy) con 1 (martes el dia de hoy es martes) = 0.2003\n",
            "Documento 0 (que dia es hoy) con 2 (martes muchas gracias) = 0.0000\n",
            "Documentos ordenados por similitud coseno con el documento 0: ['martes el dia de hoy es martes', 'martes muchas gracias']\n",
            "\n",
            "Documento 1 (martes el dia de hoy es martes) con 0 (que dia es hoy) = 0.2003\n",
            "Documento 1 (martes el dia de hoy es martes) con 2 (martes muchas gracias) = 0.1085\n",
            "Documentos ordenados por similitud coseno con el documento 1: ['que dia es hoy', 'martes muchas gracias']\n",
            "\n",
            "Documento 2 (martes muchas gracias) con 1 (martes el dia de hoy es martes) = 0.1085\n",
            "Documento 2 (martes muchas gracias) con 0 (que dia es hoy) = 0.0000\n",
            "Documentos ordenados por similitud coseno con el documento 2: ['martes el dia de hoy es martes', 'que dia es hoy']\n",
            "\n"
          ]
        }
      ]
    }
  ]
}